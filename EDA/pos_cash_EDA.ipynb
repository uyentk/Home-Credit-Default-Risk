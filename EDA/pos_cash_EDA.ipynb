{
  "cells": [
    {
      "cell_type": "code",
      "execution_count": 1,
      "metadata": {
        "id": "3-UjQPTVq7Fu"
      },
      "outputs": [],
      "source": [
        "import pandas as pd\n",
        "import numpy as np\n",
        "import matplotlib.pyplot as plt\n",
        "import seaborn as sns"
      ]
    },
    {
      "cell_type": "code",
      "execution_count": 31,
      "metadata": {
        "id": "-88ctVWOZcN6"
      },
      "outputs": [],
      "source": [
        "def reduce_memory_usage(df):\n",
        "  \n",
        "    start_mem = df.memory_usage().sum() / 1024**2\n",
        "    print('Memory usage of dataframe is {:.2f} MB'.format(start_mem))\n",
        "    \n",
        "    for col in df.columns:\n",
        "        col_type = df[col].dtype\n",
        "        \n",
        "        if col_type != object:\n",
        "            c_min = df[col].min()\n",
        "            c_max = df[col].max()\n",
        "            if str(col_type)[:3] == 'int':\n",
        "                if c_min > np.iinfo(np.int8).min and c_max < np.iinfo(np.int8).max:\n",
        "                    df[col] = df[col].astype(np.int8)\n",
        "                elif c_min > np.iinfo(np.int16).min and c_max < np.iinfo(np.int16).max:\n",
        "                    df[col] = df[col].astype(np.int16)\n",
        "                elif c_min > np.iinfo(np.int32).min and c_max < np.iinfo(np.int32).max:\n",
        "                    df[col] = df[col].astype(np.int32)\n",
        "                elif c_min > np.iinfo(np.int64).min and c_max < np.iinfo(np.int64).max:\n",
        "                    df[col] = df[col].astype(np.int64)  \n",
        "            else:\n",
        "                if c_min > np.finfo(np.float16).min and c_max < np.finfo(np.float16).max:\n",
        "                    df[col] = df[col].astype(np.float16)\n",
        "                elif c_min > np.finfo(np.float32).min and c_max < np.finfo(np.float32).max:\n",
        "                    df[col] = df[col].astype(np.float32)\n",
        "                else:\n",
        "                    df[col] = df[col].astype(np.float64)\n",
        "\n",
        "    end_mem = df.memory_usage().sum() / 1024**2\n",
        "    print('Memory usage after optimization is: {:.2f} MB'.format(end_mem))\n",
        "    print('Decreased by {:.1f}%'.format(100 * (start_mem - end_mem) / start_mem))\n",
        "    \n",
        "    return df"
      ]
    },
    {
      "cell_type": "code",
      "execution_count": 35,
      "metadata": {
        "id": "QOhUEP4CaVRq"
      },
      "outputs": [],
      "source": [
        "class correlation_matrix:\n",
        "    '''\n",
        "    Class to plot heatmap of Correlation Matrix and print Top Correlated Features with Target.\n",
        "    Contains three methods:\n",
        "        1. init method\n",
        "        2. plot_correlation_matrix method\n",
        "        3. target_top_corr method\n",
        "    '''\n",
        "    \n",
        "    def __init__(self, data, columns_to_drop, figsize = (25,23), mask_upper = True, tight_layout = True, \n",
        "                  linewidth = 0.1, fontsize = 10, cmap = 'Blues'):  \n",
        "        '''  \n",
        "        Function to initialize the class members. \n",
        "        \n",
        "        Inputs:\n",
        "            data: DataFrame\n",
        "                The DataFrame from which to build correlation matrix\n",
        "            columns_to_drop: list\n",
        "                Columns which have to be dropped while building the correlation matrix (for example the Loan ID)\n",
        "            figsize: tuple, default = (25,23)\n",
        "                Size of the figure to be plotted\n",
        "            mask_upper: bool, default = True\n",
        "                Whether to plot only the lower triangle of heatmap or plot full.\n",
        "            tight_layout: bool, default = True\n",
        "                Whether to keep tight layout or not\n",
        "            linewidth: float/int, default = 0.1\n",
        "                The linewidth to use for heatmap\n",
        "            fontsize: int, default = 10\n",
        "                The font size for the X and Y tick labels\n",
        "            cmap: str, default = 'Blues'\n",
        "                The colormap to be used for heatmap\n",
        "\n",
        "        Returns:\n",
        "            None\n",
        "        '''\n",
        "        \n",
        "        self.data = data\n",
        "        self.columns_to_drop = columns_to_drop\n",
        "        self.figsize = figsize\n",
        "        self.mask_upper = mask_upper\n",
        "        self.tight_layout = tight_layout\n",
        "        self.linewidth = linewidth\n",
        "        self.fontsize = fontsize\n",
        "        self.cmap = cmap \n",
        "                 \n",
        "    def plot_correlation_matrix(self):\n",
        "        '''\n",
        "        Function to plot the Correlation Matrix Heatmap\n",
        "        \n",
        "        Inputs:\n",
        "            self\n",
        "        \n",
        "        Returns:\n",
        "            None\n",
        "        '''\n",
        "        \n",
        "        print('-' * 100)\n",
        "        #building the correlation dataframe\n",
        "        self.corr_data = self.data.drop(self.columns_to_drop + ['TARGET'], axis = 1).corr()\n",
        "\n",
        "        if self.mask_upper:\n",
        "            #masking the heatmap to show only lower triangle. This is to save the RAM.\n",
        "            mask_array = np.ones(self.corr_data.shape)\n",
        "            mask_array = np.triu(mask_array)\n",
        "        else:\n",
        "            mask_array = np.zeros(self.corr_data.shape)\n",
        "\n",
        "        plt.figure(figsize = self.figsize, tight_layout = self.tight_layout)\n",
        "        sns.heatmap(self.corr_data, annot = False, mask = mask_array, linewidth = self.linewidth, cmap = self.cmap)\n",
        "        plt.xticks(rotation = 90, fontsize = self.fontsize)\n",
        "        plt.yticks(fontsize = self.fontsize)\n",
        "        plt.title(\"Correlation Heatmap for Numerical features\")\n",
        "        plt.show()\n",
        "        print(\"-\"*100)"
      ]
    },
    {
      "cell_type": "code",
      "execution_count": 40,
      "metadata": {
        "id": "HbJyUQ6JcAQ5"
      },
      "outputs": [],
      "source": [
        "def plot_continuous_variables(data, column_name, plots = ['distplot', 'CDF', 'box', 'violin'], scale_limits = None, figsize = (20,8), histogram = True, log_scale = False):\n",
        "    \n",
        "    '''\n",
        "    Function to plot continuous variables distribution\n",
        "    \n",
        "    Inputs:\n",
        "        data: DataFrame\n",
        "            The DataFrame from which to plot.\n",
        "        column_name: str\n",
        "            Column's name whose distribution is to be plotted.\n",
        "        plots: list, default = ['distplot', 'CDF', box', 'violin']\n",
        "            List of plots to plot for Continuous Variable.\n",
        "        scale_limits: tuple (left, right), default = None\n",
        "            To control the limits of values to be plotted in case of outliers.\n",
        "        figsize: tuple, default = (20,8)\n",
        "            Size of the figure to be plotted.\n",
        "        histogram: bool, default = True\n",
        "            Whether to plot histogram along with distplot or not.\n",
        "        log_scale: bool, default = False\n",
        "            Whether to use log-scale for variables with outlying points.\n",
        "    '''\n",
        "\n",
        "    data_to_plot = data.copy()\n",
        "    if scale_limits:\n",
        "        #taking only the data within the specified limits\n",
        "        data_to_plot[column_name] = data[column_name][(data[column_name] > scale_limits[0]) & (data[column_name] < scale_limits[1])]\n",
        "\n",
        "    number_of_subplots = len(plots)\n",
        "    plt.figure(figsize = figsize)\n",
        "    sns.set_style('whitegrid')\n",
        "    \n",
        "    for i, ele in enumerate(plots):\n",
        "        plt.subplot(1, number_of_subplots, i + 1)\n",
        "        plt.subplots_adjust(wspace=0.25)\n",
        "        \n",
        "        if ele == 'CDF':\n",
        "            #making the percentile DataFrame for both positive and negative Class Labels\n",
        "            percentile_values_0 = data_to_plot[data_to_plot.TARGET == 0][[column_name]].dropna().sort_values(by = column_name)\n",
        "            percentile_values_0['Percentile'] = [ele / (len(percentile_values_0)-1) for ele in range(len(percentile_values_0))]\n",
        "            \n",
        "            percentile_values_1 = data_to_plot[data_to_plot.TARGET == 1][[column_name]].dropna().sort_values(by = column_name)\n",
        "            percentile_values_1['Percentile'] = [ele / (len(percentile_values_1)-1) for ele in range(len(percentile_values_1))]\n",
        "            \n",
        "            plt.plot(percentile_values_0[column_name], percentile_values_0['Percentile'], color = 'red', label = 'Non-Defaulters')\n",
        "            plt.plot(percentile_values_1[column_name], percentile_values_1['Percentile'], color = 'black', label = 'Defaulters')\n",
        "            plt.xlabel(column_name)\n",
        "            plt.ylabel('Probability')\n",
        "            plt.title('CDF of {}'.format(column_name))\n",
        "            plt.legend(fontsize = 'medium')\n",
        "            if log_scale:\n",
        "                plt.xscale('log')\n",
        "                plt.xlabel(column_name + ' - (log-scale)')\n",
        "            \n",
        "        if ele == 'distplot':  \n",
        "            sns.distplot(data_to_plot[column_name][data['TARGET'] == 0].dropna(),\n",
        "                         label='Non-Defaulters', hist = False, color='red')\n",
        "            sns.distplot(data_to_plot[column_name][data['TARGET'] == 1].dropna(),\n",
        "                         label='Defaulters', hist = False, color='black')\n",
        "            plt.xlabel(column_name)\n",
        "            plt.ylabel('Probability Density')\n",
        "            plt.legend(fontsize='medium')\n",
        "            plt.title(\"Dist-Plot of {}\".format(column_name))\n",
        "            if log_scale:\n",
        "                plt.xscale('log')\n",
        "                plt.xlabel(f'{column_name} (log scale)')\n",
        "\n",
        "        if ele == 'violin':  \n",
        "            sns.violinplot(x='TARGET', y=column_name, data=data_to_plot)\n",
        "            plt.title(\"Violin-Plot of {}\".format(column_name))\n",
        "            if log_scale:\n",
        "                plt.yscale('log')\n",
        "                plt.ylabel(f'{column_name} (log Scale)')\n",
        "\n",
        "        if ele == 'box':  \n",
        "            sns.boxplot(x='TARGET', y=column_name, data=data_to_plot)\n",
        "            plt.title(\"Box-Plot of {}\".format(column_name))\n",
        "            if log_scale:\n",
        "                plt.yscale('log')\n",
        "                plt.ylabel(f'{column_name} (log Scale)')\n",
        "\n",
        "    plt.show()"
      ]
    },
    {
      "cell_type": "code",
      "execution_count": 29,
      "metadata": {
        "id": "66mRl0NJYoIs"
      },
      "outputs": [],
      "source": [
        "def missing_data(df):\n",
        "   total = df.isnull().sum().sort_values(ascending = False)\n",
        "   percent = (df.isnull().sum()/df.isnull().count()*100).sort_values(ascending = False)\n",
        "   return pd.concat([total, percent], axis=1, keys=['Total', 'Percent'])"
      ]
    },
    {
      "cell_type": "code",
      "execution_count": 2,
      "metadata": {
        "colab": {
          "base_uri": "https://localhost:8080/"
        },
        "id": "riINZ27RVPYO",
        "outputId": "3e320fe9-2700-4982-a9f0-b7b23dbdf040"
      },
      "outputs": [
        {
          "name": "stdout",
          "output_type": "stream",
          "text": [
            "Mounted at /content/drive\n"
          ]
        }
      ],
      "source": [
        "import gdown\n",
        "from google.colab import drive\n",
        "drive.mount('/content/drive')"
      ]
    },
    {
      "cell_type": "markdown",
      "metadata": {
        "id": "OQLaCh4ocxZR"
      },
      "source": [
        "## POS_CASH_balance.csv"
      ]
    },
    {
      "cell_type": "markdown",
      "metadata": {
        "id": "IzoftYPQrIMG"
      },
      "source": [
        "**POS_CASH_balance.csv**\n",
        "*   Monthly balance snapshots of previous POS (point of sales) and cash loans that the applicant had with Home Credit.\n",
        "*   This table has one row for each month of history of every previous credit in Home Credit (consumer credit and cash loans) related to loans in our sample."
      ]
    },
    {
      "cell_type": "markdown",
      "metadata": {
        "id": "KYU4QkXJA8a1"
      },
      "source": [
        "**POS_CASH_balance.csv FEATURE DESCRIPTION**\n",
        "\n",
        "**SK_ID_PREV:** The ID of previous credit in Home Credit related to loan in our sample\n",
        "\n",
        "**SK_ID_CURR:** ID of loan in our sample\n",
        "\n",
        "**MONTHS_BALANCE:** Month of balance relative to application date\n",
        "\n",
        "**CNT_INSTALMENT:** Term of previous credit (can change over time)\n",
        "\n",
        "**CNT_INSTALMENT_FUTURE:** Installments left to pay on the previous credit\n",
        "\n",
        "**NAME_CONTRACT_STATUS:** Contract status during the month\n",
        "\n",
        "**SK_DPD:** DPD (days past due) during the month of previous credit\n",
        "\n",
        "**SK_DPD_DEF:** DPD during the month with tolerance (debts with low loan amounts are ignored) of the previous credit"
      ]
    },
    {
      "cell_type": "code",
      "execution_count": 33,
      "metadata": {
        "colab": {
          "base_uri": "https://localhost:8080/"
        },
        "id": "n3nwd9lBZl6s",
        "outputId": "a9e95a62-62f6-488b-dd84-7d1c9ec77ba1"
      },
      "outputs": [
        {
          "name": "stdout",
          "output_type": "stream",
          "text": [
            "Memory usage of dataframe is 610.43 MB\n",
            "Memory usage after optimization is: 238.45 MB\n",
            "Decreased by 60.9%\n"
          ]
        }
      ],
      "source": [
        "pos_cash = reduce_memory_usage(pd.read_csv('/content/drive/MyDrive/Colab/POS_CASH_balance.csv'))"
      ]
    },
    {
      "cell_type": "code",
      "execution_count": 4,
      "metadata": {
        "colab": {
          "base_uri": "https://localhost:8080/",
          "height": 363
        },
        "id": "Y5tGUHx-WTnu",
        "outputId": "a225fb7a-9ad1-4e66-ebc0-7d9791c8df5b"
      },
      "outputs": [
        {
          "data": {
            "text/html": [
              "\n",
              "  <div id=\"df-449187f0-35bc-4809-afe3-509690fef043\">\n",
              "    <div class=\"colab-df-container\">\n",
              "      <div>\n",
              "<style scoped>\n",
              "    .dataframe tbody tr th:only-of-type {\n",
              "        vertical-align: middle;\n",
              "    }\n",
              "\n",
              "    .dataframe tbody tr th {\n",
              "        vertical-align: top;\n",
              "    }\n",
              "\n",
              "    .dataframe thead th {\n",
              "        text-align: right;\n",
              "    }\n",
              "</style>\n",
              "<table border=\"1\" class=\"dataframe\">\n",
              "  <thead>\n",
              "    <tr style=\"text-align: right;\">\n",
              "      <th></th>\n",
              "      <th>SK_ID_PREV</th>\n",
              "      <th>SK_ID_CURR</th>\n",
              "      <th>MONTHS_BALANCE</th>\n",
              "      <th>CNT_INSTALMENT</th>\n",
              "      <th>CNT_INSTALMENT_FUTURE</th>\n",
              "      <th>NAME_CONTRACT_STATUS</th>\n",
              "      <th>SK_DPD</th>\n",
              "      <th>SK_DPD_DEF</th>\n",
              "    </tr>\n",
              "  </thead>\n",
              "  <tbody>\n",
              "    <tr>\n",
              "      <th>0</th>\n",
              "      <td>1803195</td>\n",
              "      <td>182943</td>\n",
              "      <td>-31</td>\n",
              "      <td>48.0</td>\n",
              "      <td>45.0</td>\n",
              "      <td>Active</td>\n",
              "      <td>0</td>\n",
              "      <td>0</td>\n",
              "    </tr>\n",
              "    <tr>\n",
              "      <th>1</th>\n",
              "      <td>1715348</td>\n",
              "      <td>367990</td>\n",
              "      <td>-33</td>\n",
              "      <td>36.0</td>\n",
              "      <td>35.0</td>\n",
              "      <td>Active</td>\n",
              "      <td>0</td>\n",
              "      <td>0</td>\n",
              "    </tr>\n",
              "    <tr>\n",
              "      <th>2</th>\n",
              "      <td>1784872</td>\n",
              "      <td>397406</td>\n",
              "      <td>-32</td>\n",
              "      <td>12.0</td>\n",
              "      <td>9.0</td>\n",
              "      <td>Active</td>\n",
              "      <td>0</td>\n",
              "      <td>0</td>\n",
              "    </tr>\n",
              "    <tr>\n",
              "      <th>3</th>\n",
              "      <td>1903291</td>\n",
              "      <td>269225</td>\n",
              "      <td>-35</td>\n",
              "      <td>48.0</td>\n",
              "      <td>42.0</td>\n",
              "      <td>Active</td>\n",
              "      <td>0</td>\n",
              "      <td>0</td>\n",
              "    </tr>\n",
              "    <tr>\n",
              "      <th>4</th>\n",
              "      <td>2341044</td>\n",
              "      <td>334279</td>\n",
              "      <td>-35</td>\n",
              "      <td>36.0</td>\n",
              "      <td>35.0</td>\n",
              "      <td>Active</td>\n",
              "      <td>0</td>\n",
              "      <td>0</td>\n",
              "    </tr>\n",
              "    <tr>\n",
              "      <th>5</th>\n",
              "      <td>2207092</td>\n",
              "      <td>342166</td>\n",
              "      <td>-32</td>\n",
              "      <td>12.0</td>\n",
              "      <td>12.0</td>\n",
              "      <td>Active</td>\n",
              "      <td>0</td>\n",
              "      <td>0</td>\n",
              "    </tr>\n",
              "    <tr>\n",
              "      <th>6</th>\n",
              "      <td>1110516</td>\n",
              "      <td>204376</td>\n",
              "      <td>-38</td>\n",
              "      <td>48.0</td>\n",
              "      <td>43.0</td>\n",
              "      <td>Active</td>\n",
              "      <td>0</td>\n",
              "      <td>0</td>\n",
              "    </tr>\n",
              "    <tr>\n",
              "      <th>7</th>\n",
              "      <td>1387235</td>\n",
              "      <td>153211</td>\n",
              "      <td>-35</td>\n",
              "      <td>36.0</td>\n",
              "      <td>36.0</td>\n",
              "      <td>Active</td>\n",
              "      <td>0</td>\n",
              "      <td>0</td>\n",
              "    </tr>\n",
              "    <tr>\n",
              "      <th>8</th>\n",
              "      <td>1220500</td>\n",
              "      <td>112740</td>\n",
              "      <td>-31</td>\n",
              "      <td>12.0</td>\n",
              "      <td>12.0</td>\n",
              "      <td>Active</td>\n",
              "      <td>0</td>\n",
              "      <td>0</td>\n",
              "    </tr>\n",
              "    <tr>\n",
              "      <th>9</th>\n",
              "      <td>2371489</td>\n",
              "      <td>274851</td>\n",
              "      <td>-32</td>\n",
              "      <td>24.0</td>\n",
              "      <td>16.0</td>\n",
              "      <td>Active</td>\n",
              "      <td>0</td>\n",
              "      <td>0</td>\n",
              "    </tr>\n",
              "  </tbody>\n",
              "</table>\n",
              "</div>\n",
              "      <button class=\"colab-df-convert\" onclick=\"convertToInteractive('df-449187f0-35bc-4809-afe3-509690fef043')\"\n",
              "              title=\"Convert this dataframe to an interactive table.\"\n",
              "              style=\"display:none;\">\n",
              "        \n",
              "  <svg xmlns=\"http://www.w3.org/2000/svg\" height=\"24px\"viewBox=\"0 0 24 24\"\n",
              "       width=\"24px\">\n",
              "    <path d=\"M0 0h24v24H0V0z\" fill=\"none\"/>\n",
              "    <path d=\"M18.56 5.44l.94 2.06.94-2.06 2.06-.94-2.06-.94-.94-2.06-.94 2.06-2.06.94zm-11 1L8.5 8.5l.94-2.06 2.06-.94-2.06-.94L8.5 2.5l-.94 2.06-2.06.94zm10 10l.94 2.06.94-2.06 2.06-.94-2.06-.94-.94-2.06-.94 2.06-2.06.94z\"/><path d=\"M17.41 7.96l-1.37-1.37c-.4-.4-.92-.59-1.43-.59-.52 0-1.04.2-1.43.59L10.3 9.45l-7.72 7.72c-.78.78-.78 2.05 0 2.83L4 21.41c.39.39.9.59 1.41.59.51 0 1.02-.2 1.41-.59l7.78-7.78 2.81-2.81c.8-.78.8-2.07 0-2.86zM5.41 20L4 18.59l7.72-7.72 1.47 1.35L5.41 20z\"/>\n",
              "  </svg>\n",
              "      </button>\n",
              "      \n",
              "  <style>\n",
              "    .colab-df-container {\n",
              "      display:flex;\n",
              "      flex-wrap:wrap;\n",
              "      gap: 12px;\n",
              "    }\n",
              "\n",
              "    .colab-df-convert {\n",
              "      background-color: #E8F0FE;\n",
              "      border: none;\n",
              "      border-radius: 50%;\n",
              "      cursor: pointer;\n",
              "      display: none;\n",
              "      fill: #1967D2;\n",
              "      height: 32px;\n",
              "      padding: 0 0 0 0;\n",
              "      width: 32px;\n",
              "    }\n",
              "\n",
              "    .colab-df-convert:hover {\n",
              "      background-color: #E2EBFA;\n",
              "      box-shadow: 0px 1px 2px rgba(60, 64, 67, 0.3), 0px 1px 3px 1px rgba(60, 64, 67, 0.15);\n",
              "      fill: #174EA6;\n",
              "    }\n",
              "\n",
              "    [theme=dark] .colab-df-convert {\n",
              "      background-color: #3B4455;\n",
              "      fill: #D2E3FC;\n",
              "    }\n",
              "\n",
              "    [theme=dark] .colab-df-convert:hover {\n",
              "      background-color: #434B5C;\n",
              "      box-shadow: 0px 1px 3px 1px rgba(0, 0, 0, 0.15);\n",
              "      filter: drop-shadow(0px 1px 2px rgba(0, 0, 0, 0.3));\n",
              "      fill: #FFFFFF;\n",
              "    }\n",
              "  </style>\n",
              "\n",
              "      <script>\n",
              "        const buttonEl =\n",
              "          document.querySelector('#df-449187f0-35bc-4809-afe3-509690fef043 button.colab-df-convert');\n",
              "        buttonEl.style.display =\n",
              "          google.colab.kernel.accessAllowed ? 'block' : 'none';\n",
              "\n",
              "        async function convertToInteractive(key) {\n",
              "          const element = document.querySelector('#df-449187f0-35bc-4809-afe3-509690fef043');\n",
              "          const dataTable =\n",
              "            await google.colab.kernel.invokeFunction('convertToInteractive',\n",
              "                                                     [key], {});\n",
              "          if (!dataTable) return;\n",
              "\n",
              "          const docLinkHtml = 'Like what you see? Visit the ' +\n",
              "            '<a target=\"_blank\" href=https://colab.research.google.com/notebooks/data_table.ipynb>data table notebook</a>'\n",
              "            + ' to learn more about interactive tables.';\n",
              "          element.innerHTML = '';\n",
              "          dataTable['output_type'] = 'display_data';\n",
              "          await google.colab.output.renderOutput(dataTable, element);\n",
              "          const docLink = document.createElement('div');\n",
              "          docLink.innerHTML = docLinkHtml;\n",
              "          element.appendChild(docLink);\n",
              "        }\n",
              "      </script>\n",
              "    </div>\n",
              "  </div>\n",
              "  "
            ],
            "text/plain": [
              "   SK_ID_PREV  SK_ID_CURR  MONTHS_BALANCE  CNT_INSTALMENT  \\\n",
              "0     1803195      182943             -31            48.0   \n",
              "1     1715348      367990             -33            36.0   \n",
              "2     1784872      397406             -32            12.0   \n",
              "3     1903291      269225             -35            48.0   \n",
              "4     2341044      334279             -35            36.0   \n",
              "5     2207092      342166             -32            12.0   \n",
              "6     1110516      204376             -38            48.0   \n",
              "7     1387235      153211             -35            36.0   \n",
              "8     1220500      112740             -31            12.0   \n",
              "9     2371489      274851             -32            24.0   \n",
              "\n",
              "   CNT_INSTALMENT_FUTURE NAME_CONTRACT_STATUS  SK_DPD  SK_DPD_DEF  \n",
              "0                   45.0               Active       0           0  \n",
              "1                   35.0               Active       0           0  \n",
              "2                    9.0               Active       0           0  \n",
              "3                   42.0               Active       0           0  \n",
              "4                   35.0               Active       0           0  \n",
              "5                   12.0               Active       0           0  \n",
              "6                   43.0               Active       0           0  \n",
              "7                   36.0               Active       0           0  \n",
              "8                   12.0               Active       0           0  \n",
              "9                   16.0               Active       0           0  "
            ]
          },
          "execution_count": 4,
          "metadata": {},
          "output_type": "execute_result"
        }
      ],
      "source": [
        "pos_cash.head(10)"
      ]
    },
    {
      "cell_type": "code",
      "execution_count": 5,
      "metadata": {
        "colab": {
          "base_uri": "https://localhost:8080/"
        },
        "id": "xjl_TXrQWTk4",
        "outputId": "438c831d-1deb-492f-f044-efc2674b4f76"
      },
      "outputs": [
        {
          "data": {
            "text/plain": [
              "(10001358, 8)"
            ]
          },
          "execution_count": 5,
          "metadata": {},
          "output_type": "execute_result"
        }
      ],
      "source": [
        "pos_cash.shape"
      ]
    },
    {
      "cell_type": "code",
      "execution_count": 6,
      "metadata": {
        "colab": {
          "base_uri": "https://localhost:8080/"
        },
        "id": "gHuVMQRDtstX",
        "outputId": "baa9a34f-eca3-41d6-9416-9bd6e38c5031"
      },
      "outputs": [
        {
          "data": {
            "text/plain": [
              "Index(['SK_ID_PREV', 'SK_ID_CURR', 'MONTHS_BALANCE', 'CNT_INSTALMENT',\n",
              "       'CNT_INSTALMENT_FUTURE', 'NAME_CONTRACT_STATUS', 'SK_DPD',\n",
              "       'SK_DPD_DEF'],\n",
              "      dtype='object')"
            ]
          },
          "execution_count": 6,
          "metadata": {},
          "output_type": "execute_result"
        }
      ],
      "source": [
        "pos_cash.columns"
      ]
    },
    {
      "cell_type": "code",
      "execution_count": 7,
      "metadata": {
        "colab": {
          "base_uri": "https://localhost:8080/"
        },
        "id": "iz8UQAc4WTfP",
        "outputId": "b1d5b2f5-b521-4602-bc4c-edbbe477c7d7"
      },
      "outputs": [
        {
          "name": "stdout",
          "output_type": "stream",
          "text": [
            "<class 'pandas.core.frame.DataFrame'>\n",
            "RangeIndex: 10001358 entries, 0 to 10001357\n",
            "Data columns (total 8 columns):\n",
            " #   Column                 Dtype  \n",
            "---  ------                 -----  \n",
            " 0   SK_ID_PREV             int64  \n",
            " 1   SK_ID_CURR             int64  \n",
            " 2   MONTHS_BALANCE         int64  \n",
            " 3   CNT_INSTALMENT         float64\n",
            " 4   CNT_INSTALMENT_FUTURE  float64\n",
            " 5   NAME_CONTRACT_STATUS   object \n",
            " 6   SK_DPD                 int64  \n",
            " 7   SK_DPD_DEF             int64  \n",
            "dtypes: float64(2), int64(5), object(1)\n",
            "memory usage: 610.4+ MB\n"
          ]
        }
      ],
      "source": [
        "pos_cash.info()"
      ]
    },
    {
      "cell_type": "code",
      "execution_count": 8,
      "metadata": {
        "colab": {
          "base_uri": "https://localhost:8080/",
          "height": 269
        },
        "id": "NUjaiAlo4xkp",
        "outputId": "10dc62e9-5f73-417a-ebba-f0ba1fde91fc"
      },
      "outputs": [
        {
          "data": {
            "text/html": [
              "\n",
              "  <div id=\"df-400a2194-8fd2-4fac-8858-5ac72b11bee9\">\n",
              "    <div class=\"colab-df-container\">\n",
              "      <div>\n",
              "<style scoped>\n",
              "    .dataframe tbody tr th:only-of-type {\n",
              "        vertical-align: middle;\n",
              "    }\n",
              "\n",
              "    .dataframe tbody tr th {\n",
              "        vertical-align: top;\n",
              "    }\n",
              "\n",
              "    .dataframe thead th {\n",
              "        text-align: right;\n",
              "    }\n",
              "</style>\n",
              "<table border=\"1\" class=\"dataframe\">\n",
              "  <thead>\n",
              "    <tr style=\"text-align: right;\">\n",
              "      <th></th>\n",
              "      <th>count</th>\n",
              "      <th>mean</th>\n",
              "      <th>std</th>\n",
              "      <th>min</th>\n",
              "      <th>25%</th>\n",
              "      <th>50%</th>\n",
              "      <th>75%</th>\n",
              "      <th>max</th>\n",
              "    </tr>\n",
              "  </thead>\n",
              "  <tbody>\n",
              "    <tr>\n",
              "      <th>SK_ID_PREV</th>\n",
              "      <td>10001358.0</td>\n",
              "      <td>1.903217e+06</td>\n",
              "      <td>535846.530722</td>\n",
              "      <td>1000001.0</td>\n",
              "      <td>1434405.0</td>\n",
              "      <td>1896565.0</td>\n",
              "      <td>2368963.0</td>\n",
              "      <td>2843499.0</td>\n",
              "    </tr>\n",
              "    <tr>\n",
              "      <th>SK_ID_CURR</th>\n",
              "      <td>10001358.0</td>\n",
              "      <td>2.784039e+05</td>\n",
              "      <td>102763.745090</td>\n",
              "      <td>100001.0</td>\n",
              "      <td>189550.0</td>\n",
              "      <td>278654.0</td>\n",
              "      <td>367429.0</td>\n",
              "      <td>456255.0</td>\n",
              "    </tr>\n",
              "    <tr>\n",
              "      <th>MONTHS_BALANCE</th>\n",
              "      <td>10001358.0</td>\n",
              "      <td>-3.501259e+01</td>\n",
              "      <td>26.066570</td>\n",
              "      <td>-96.0</td>\n",
              "      <td>-54.0</td>\n",
              "      <td>-28.0</td>\n",
              "      <td>-13.0</td>\n",
              "      <td>-1.0</td>\n",
              "    </tr>\n",
              "    <tr>\n",
              "      <th>CNT_INSTALMENT</th>\n",
              "      <td>9975287.0</td>\n",
              "      <td>1.708965e+01</td>\n",
              "      <td>11.995056</td>\n",
              "      <td>1.0</td>\n",
              "      <td>10.0</td>\n",
              "      <td>12.0</td>\n",
              "      <td>24.0</td>\n",
              "      <td>92.0</td>\n",
              "    </tr>\n",
              "    <tr>\n",
              "      <th>CNT_INSTALMENT_FUTURE</th>\n",
              "      <td>9975271.0</td>\n",
              "      <td>1.048384e+01</td>\n",
              "      <td>11.109058</td>\n",
              "      <td>0.0</td>\n",
              "      <td>3.0</td>\n",
              "      <td>7.0</td>\n",
              "      <td>14.0</td>\n",
              "      <td>85.0</td>\n",
              "    </tr>\n",
              "    <tr>\n",
              "      <th>SK_DPD</th>\n",
              "      <td>10001358.0</td>\n",
              "      <td>1.160693e+01</td>\n",
              "      <td>132.714043</td>\n",
              "      <td>0.0</td>\n",
              "      <td>0.0</td>\n",
              "      <td>0.0</td>\n",
              "      <td>0.0</td>\n",
              "      <td>4231.0</td>\n",
              "    </tr>\n",
              "    <tr>\n",
              "      <th>SK_DPD_DEF</th>\n",
              "      <td>10001358.0</td>\n",
              "      <td>6.544684e-01</td>\n",
              "      <td>32.762491</td>\n",
              "      <td>0.0</td>\n",
              "      <td>0.0</td>\n",
              "      <td>0.0</td>\n",
              "      <td>0.0</td>\n",
              "      <td>3595.0</td>\n",
              "    </tr>\n",
              "  </tbody>\n",
              "</table>\n",
              "</div>\n",
              "      <button class=\"colab-df-convert\" onclick=\"convertToInteractive('df-400a2194-8fd2-4fac-8858-5ac72b11bee9')\"\n",
              "              title=\"Convert this dataframe to an interactive table.\"\n",
              "              style=\"display:none;\">\n",
              "        \n",
              "  <svg xmlns=\"http://www.w3.org/2000/svg\" height=\"24px\"viewBox=\"0 0 24 24\"\n",
              "       width=\"24px\">\n",
              "    <path d=\"M0 0h24v24H0V0z\" fill=\"none\"/>\n",
              "    <path d=\"M18.56 5.44l.94 2.06.94-2.06 2.06-.94-2.06-.94-.94-2.06-.94 2.06-2.06.94zm-11 1L8.5 8.5l.94-2.06 2.06-.94-2.06-.94L8.5 2.5l-.94 2.06-2.06.94zm10 10l.94 2.06.94-2.06 2.06-.94-2.06-.94-.94-2.06-.94 2.06-2.06.94z\"/><path d=\"M17.41 7.96l-1.37-1.37c-.4-.4-.92-.59-1.43-.59-.52 0-1.04.2-1.43.59L10.3 9.45l-7.72 7.72c-.78.78-.78 2.05 0 2.83L4 21.41c.39.39.9.59 1.41.59.51 0 1.02-.2 1.41-.59l7.78-7.78 2.81-2.81c.8-.78.8-2.07 0-2.86zM5.41 20L4 18.59l7.72-7.72 1.47 1.35L5.41 20z\"/>\n",
              "  </svg>\n",
              "      </button>\n",
              "      \n",
              "  <style>\n",
              "    .colab-df-container {\n",
              "      display:flex;\n",
              "      flex-wrap:wrap;\n",
              "      gap: 12px;\n",
              "    }\n",
              "\n",
              "    .colab-df-convert {\n",
              "      background-color: #E8F0FE;\n",
              "      border: none;\n",
              "      border-radius: 50%;\n",
              "      cursor: pointer;\n",
              "      display: none;\n",
              "      fill: #1967D2;\n",
              "      height: 32px;\n",
              "      padding: 0 0 0 0;\n",
              "      width: 32px;\n",
              "    }\n",
              "\n",
              "    .colab-df-convert:hover {\n",
              "      background-color: #E2EBFA;\n",
              "      box-shadow: 0px 1px 2px rgba(60, 64, 67, 0.3), 0px 1px 3px 1px rgba(60, 64, 67, 0.15);\n",
              "      fill: #174EA6;\n",
              "    }\n",
              "\n",
              "    [theme=dark] .colab-df-convert {\n",
              "      background-color: #3B4455;\n",
              "      fill: #D2E3FC;\n",
              "    }\n",
              "\n",
              "    [theme=dark] .colab-df-convert:hover {\n",
              "      background-color: #434B5C;\n",
              "      box-shadow: 0px 1px 3px 1px rgba(0, 0, 0, 0.15);\n",
              "      filter: drop-shadow(0px 1px 2px rgba(0, 0, 0, 0.3));\n",
              "      fill: #FFFFFF;\n",
              "    }\n",
              "  </style>\n",
              "\n",
              "      <script>\n",
              "        const buttonEl =\n",
              "          document.querySelector('#df-400a2194-8fd2-4fac-8858-5ac72b11bee9 button.colab-df-convert');\n",
              "        buttonEl.style.display =\n",
              "          google.colab.kernel.accessAllowed ? 'block' : 'none';\n",
              "\n",
              "        async function convertToInteractive(key) {\n",
              "          const element = document.querySelector('#df-400a2194-8fd2-4fac-8858-5ac72b11bee9');\n",
              "          const dataTable =\n",
              "            await google.colab.kernel.invokeFunction('convertToInteractive',\n",
              "                                                     [key], {});\n",
              "          if (!dataTable) return;\n",
              "\n",
              "          const docLinkHtml = 'Like what you see? Visit the ' +\n",
              "            '<a target=\"_blank\" href=https://colab.research.google.com/notebooks/data_table.ipynb>data table notebook</a>'\n",
              "            + ' to learn more about interactive tables.';\n",
              "          element.innerHTML = '';\n",
              "          dataTable['output_type'] = 'display_data';\n",
              "          await google.colab.output.renderOutput(dataTable, element);\n",
              "          const docLink = document.createElement('div');\n",
              "          docLink.innerHTML = docLinkHtml;\n",
              "          element.appendChild(docLink);\n",
              "        }\n",
              "      </script>\n",
              "    </div>\n",
              "  </div>\n",
              "  "
            ],
            "text/plain": [
              "                            count          mean            std        min  \\\n",
              "SK_ID_PREV             10001358.0  1.903217e+06  535846.530722  1000001.0   \n",
              "SK_ID_CURR             10001358.0  2.784039e+05  102763.745090   100001.0   \n",
              "MONTHS_BALANCE         10001358.0 -3.501259e+01      26.066570      -96.0   \n",
              "CNT_INSTALMENT          9975287.0  1.708965e+01      11.995056        1.0   \n",
              "CNT_INSTALMENT_FUTURE   9975271.0  1.048384e+01      11.109058        0.0   \n",
              "SK_DPD                 10001358.0  1.160693e+01     132.714043        0.0   \n",
              "SK_DPD_DEF             10001358.0  6.544684e-01      32.762491        0.0   \n",
              "\n",
              "                             25%        50%        75%        max  \n",
              "SK_ID_PREV             1434405.0  1896565.0  2368963.0  2843499.0  \n",
              "SK_ID_CURR              189550.0   278654.0   367429.0   456255.0  \n",
              "MONTHS_BALANCE             -54.0      -28.0      -13.0       -1.0  \n",
              "CNT_INSTALMENT              10.0       12.0       24.0       92.0  \n",
              "CNT_INSTALMENT_FUTURE        3.0        7.0       14.0       85.0  \n",
              "SK_DPD                       0.0        0.0        0.0     4231.0  \n",
              "SK_DPD_DEF                   0.0        0.0        0.0     3595.0  "
            ]
          },
          "execution_count": 8,
          "metadata": {},
          "output_type": "execute_result"
        }
      ],
      "source": [
        "pos_cash.describe().T"
      ]
    },
    {
      "cell_type": "code",
      "execution_count": 9,
      "metadata": {
        "colab": {
          "base_uri": "https://localhost:8080/"
        },
        "id": "GLn6V0ky48Co",
        "outputId": "e979ac4c-3a21-4217-a93d-32bf13f14163"
      },
      "outputs": [
        {
          "data": {
            "text/plain": [
              "0"
            ]
          },
          "execution_count": 9,
          "metadata": {},
          "output_type": "execute_result"
        }
      ],
      "source": [
        "# check duplicate\n",
        "pos_cash.duplicated().sum()"
      ]
    },
    {
      "cell_type": "code",
      "execution_count": 30,
      "metadata": {
        "colab": {
          "base_uri": "https://localhost:8080/",
          "height": 300
        },
        "id": "lKXVzFjCYq-7",
        "outputId": "a0ffc8f3-1bcd-4c0d-a706-1a06b3c56799"
      },
      "outputs": [
        {
          "data": {
            "text/html": [
              "\n",
              "  <div id=\"df-d5d65302-b5d7-440d-a1c9-16cf0a06dde6\">\n",
              "    <div class=\"colab-df-container\">\n",
              "      <div>\n",
              "<style scoped>\n",
              "    .dataframe tbody tr th:only-of-type {\n",
              "        vertical-align: middle;\n",
              "    }\n",
              "\n",
              "    .dataframe tbody tr th {\n",
              "        vertical-align: top;\n",
              "    }\n",
              "\n",
              "    .dataframe thead th {\n",
              "        text-align: right;\n",
              "    }\n",
              "</style>\n",
              "<table border=\"1\" class=\"dataframe\">\n",
              "  <thead>\n",
              "    <tr style=\"text-align: right;\">\n",
              "      <th></th>\n",
              "      <th>Total</th>\n",
              "      <th>Percent</th>\n",
              "    </tr>\n",
              "  </thead>\n",
              "  <tbody>\n",
              "    <tr>\n",
              "      <th>CNT_INSTALMENT_FUTURE</th>\n",
              "      <td>26087</td>\n",
              "      <td>0.260835</td>\n",
              "    </tr>\n",
              "    <tr>\n",
              "      <th>CNT_INSTALMENT</th>\n",
              "      <td>26071</td>\n",
              "      <td>0.260675</td>\n",
              "    </tr>\n",
              "    <tr>\n",
              "      <th>SK_ID_PREV</th>\n",
              "      <td>0</td>\n",
              "      <td>0.000000</td>\n",
              "    </tr>\n",
              "    <tr>\n",
              "      <th>SK_ID_CURR</th>\n",
              "      <td>0</td>\n",
              "      <td>0.000000</td>\n",
              "    </tr>\n",
              "    <tr>\n",
              "      <th>MONTHS_BALANCE</th>\n",
              "      <td>0</td>\n",
              "      <td>0.000000</td>\n",
              "    </tr>\n",
              "    <tr>\n",
              "      <th>NAME_CONTRACT_STATUS</th>\n",
              "      <td>0</td>\n",
              "      <td>0.000000</td>\n",
              "    </tr>\n",
              "    <tr>\n",
              "      <th>SK_DPD</th>\n",
              "      <td>0</td>\n",
              "      <td>0.000000</td>\n",
              "    </tr>\n",
              "    <tr>\n",
              "      <th>SK_DPD_DEF</th>\n",
              "      <td>0</td>\n",
              "      <td>0.000000</td>\n",
              "    </tr>\n",
              "  </tbody>\n",
              "</table>\n",
              "</div>\n",
              "      <button class=\"colab-df-convert\" onclick=\"convertToInteractive('df-d5d65302-b5d7-440d-a1c9-16cf0a06dde6')\"\n",
              "              title=\"Convert this dataframe to an interactive table.\"\n",
              "              style=\"display:none;\">\n",
              "        \n",
              "  <svg xmlns=\"http://www.w3.org/2000/svg\" height=\"24px\"viewBox=\"0 0 24 24\"\n",
              "       width=\"24px\">\n",
              "    <path d=\"M0 0h24v24H0V0z\" fill=\"none\"/>\n",
              "    <path d=\"M18.56 5.44l.94 2.06.94-2.06 2.06-.94-2.06-.94-.94-2.06-.94 2.06-2.06.94zm-11 1L8.5 8.5l.94-2.06 2.06-.94-2.06-.94L8.5 2.5l-.94 2.06-2.06.94zm10 10l.94 2.06.94-2.06 2.06-.94-2.06-.94-.94-2.06-.94 2.06-2.06.94z\"/><path d=\"M17.41 7.96l-1.37-1.37c-.4-.4-.92-.59-1.43-.59-.52 0-1.04.2-1.43.59L10.3 9.45l-7.72 7.72c-.78.78-.78 2.05 0 2.83L4 21.41c.39.39.9.59 1.41.59.51 0 1.02-.2 1.41-.59l7.78-7.78 2.81-2.81c.8-.78.8-2.07 0-2.86zM5.41 20L4 18.59l7.72-7.72 1.47 1.35L5.41 20z\"/>\n",
              "  </svg>\n",
              "      </button>\n",
              "      \n",
              "  <style>\n",
              "    .colab-df-container {\n",
              "      display:flex;\n",
              "      flex-wrap:wrap;\n",
              "      gap: 12px;\n",
              "    }\n",
              "\n",
              "    .colab-df-convert {\n",
              "      background-color: #E8F0FE;\n",
              "      border: none;\n",
              "      border-radius: 50%;\n",
              "      cursor: pointer;\n",
              "      display: none;\n",
              "      fill: #1967D2;\n",
              "      height: 32px;\n",
              "      padding: 0 0 0 0;\n",
              "      width: 32px;\n",
              "    }\n",
              "\n",
              "    .colab-df-convert:hover {\n",
              "      background-color: #E2EBFA;\n",
              "      box-shadow: 0px 1px 2px rgba(60, 64, 67, 0.3), 0px 1px 3px 1px rgba(60, 64, 67, 0.15);\n",
              "      fill: #174EA6;\n",
              "    }\n",
              "\n",
              "    [theme=dark] .colab-df-convert {\n",
              "      background-color: #3B4455;\n",
              "      fill: #D2E3FC;\n",
              "    }\n",
              "\n",
              "    [theme=dark] .colab-df-convert:hover {\n",
              "      background-color: #434B5C;\n",
              "      box-shadow: 0px 1px 3px 1px rgba(0, 0, 0, 0.15);\n",
              "      filter: drop-shadow(0px 1px 2px rgba(0, 0, 0, 0.3));\n",
              "      fill: #FFFFFF;\n",
              "    }\n",
              "  </style>\n",
              "\n",
              "      <script>\n",
              "        const buttonEl =\n",
              "          document.querySelector('#df-d5d65302-b5d7-440d-a1c9-16cf0a06dde6 button.colab-df-convert');\n",
              "        buttonEl.style.display =\n",
              "          google.colab.kernel.accessAllowed ? 'block' : 'none';\n",
              "\n",
              "        async function convertToInteractive(key) {\n",
              "          const element = document.querySelector('#df-d5d65302-b5d7-440d-a1c9-16cf0a06dde6');\n",
              "          const dataTable =\n",
              "            await google.colab.kernel.invokeFunction('convertToInteractive',\n",
              "                                                     [key], {});\n",
              "          if (!dataTable) return;\n",
              "\n",
              "          const docLinkHtml = 'Like what you see? Visit the ' +\n",
              "            '<a target=\"_blank\" href=https://colab.research.google.com/notebooks/data_table.ipynb>data table notebook</a>'\n",
              "            + ' to learn more about interactive tables.';\n",
              "          element.innerHTML = '';\n",
              "          dataTable['output_type'] = 'display_data';\n",
              "          await google.colab.output.renderOutput(dataTable, element);\n",
              "          const docLink = document.createElement('div');\n",
              "          docLink.innerHTML = docLinkHtml;\n",
              "          element.appendChild(docLink);\n",
              "        }\n",
              "      </script>\n",
              "    </div>\n",
              "  </div>\n",
              "  "
            ],
            "text/plain": [
              "                       Total   Percent\n",
              "CNT_INSTALMENT_FUTURE  26087  0.260835\n",
              "CNT_INSTALMENT         26071  0.260675\n",
              "SK_ID_PREV                 0  0.000000\n",
              "SK_ID_CURR                 0  0.000000\n",
              "MONTHS_BALANCE             0  0.000000\n",
              "NAME_CONTRACT_STATUS       0  0.000000\n",
              "SK_DPD                     0  0.000000\n",
              "SK_DPD_DEF                 0  0.000000"
            ]
          },
          "execution_count": 30,
          "metadata": {},
          "output_type": "execute_result"
        }
      ],
      "source": [
        "missing_data(pos_cash)"
      ]
    },
    {
      "cell_type": "code",
      "execution_count": 13,
      "metadata": {
        "colab": {
          "base_uri": "https://localhost:8080/"
        },
        "id": "NfW5BCd5WU0h",
        "outputId": "e06acfa5-afd9-447a-cc3b-e748dd83ef96"
      },
      "outputs": [
        {
          "data": {
            "text/plain": [
              "Active                   9151119\n",
              "Completed                 744883\n",
              "Signed                     87260\n",
              "Demand                      7065\n",
              "Returned to the store       5461\n",
              "Approved                    4917\n",
              "Amortized debt               636\n",
              "Canceled                      15\n",
              "XNA                            2\n",
              "Name: NAME_CONTRACT_STATUS, dtype: int64"
            ]
          },
          "execution_count": 13,
          "metadata": {},
          "output_type": "execute_result"
        }
      ],
      "source": [
        "pos_cash['NAME_CONTRACT_STATUS'].value_counts()"
      ]
    },
    {
      "cell_type": "code",
      "execution_count": 14,
      "metadata": {
        "colab": {
          "base_uri": "https://localhost:8080/",
          "height": 454
        },
        "id": "lSC_dHFbWUxM",
        "outputId": "ac4f8e5e-7216-4460-926b-7fd4c59ab46a"
      },
      "outputs": [
        {
          "data": {
            "image/png": "[encoded data removed]",
            "text/plain": [
              "<Figure size 1296x504 with 1 Axes>"
            ]
          },
          "metadata": {
            "needs_background": "light"
          },
          "output_type": "display_data"
        }
      ],
      "source": [
        "fig, ax = plt.subplots(figsize = (18, 7))\n",
        "sns.countplot(x = 'NAME_CONTRACT_STATUS', data = pos_cash)\n",
        "plt.show()"
      ]
    },
    {
      "cell_type": "markdown",
      "metadata": {
        "id": "kAJJNtilZIES"
      },
      "source": [
        "**Merging the TARGETS from application_train to POS_CASH_balance table.**"
      ]
    },
    {
      "cell_type": "code",
      "execution_count": 32,
      "metadata": {
        "colab": {
          "base_uri": "https://localhost:8080/"
        },
        "id": "cdb42l4KZHfy",
        "outputId": "1a2d5d88-c124-4bd6-d966-3f38ebbdb6d6"
      },
      "outputs": [
        {
          "name": "stdout",
          "output_type": "stream",
          "text": [
            "Memory usage of dataframe is 286.23 MB\n",
            "Memory usage after optimization is: 92.38 MB\n",
            "Decreased by 67.7%\n"
          ]
        }
      ],
      "source": [
        "application_train = reduce_memory_usage(pd.read_csv('/content/drive/MyDrive/Colab/application_train.csv'))"
      ]
    },
    {
      "cell_type": "code",
      "execution_count": 37,
      "metadata": {
        "colab": {
          "base_uri": "https://localhost:8080/"
        },
        "id": "SSS7_DQtakZC",
        "outputId": "54afd44f-c269-4823-d8e1-e5dfaa7aae86"
      },
      "outputs": [
        {
          "name": "stdout",
          "output_type": "stream",
          "text": [
            "----------------------------------------------------------------------------------------------------\n",
            "Merging TARGET with POS_CASH_balance Table\n",
            "----------------------------------------------------------------------------------------------------\n"
          ]
        }
      ],
      "source": [
        "print(\"-\"*100)\n",
        "print(\"Merging TARGET with POS_CASH_balance Table\")\n",
        "pos_cash_merged = application_train.iloc[:,:2].merge(pos_cash, on = 'SK_ID_CURR', how = 'left')\n",
        "print(\"-\"*100)"
      ]
    },
    {
      "cell_type": "markdown",
      "metadata": {
        "id": "OIu5pxz5abAS"
      },
      "source": [
        "**Correlation Matrix of Features**"
      ]
    },
    {
      "cell_type": "code",
      "execution_count": 38,
      "metadata": {
        "colab": {
          "base_uri": "https://localhost:8080/",
          "height": 476
        },
        "id": "6CniSrjYadV6",
        "outputId": "c5af2305-5576-4905-f42f-59adb6f6520a"
      },
      "outputs": [
        {
          "name": "stdout",
          "output_type": "stream",
          "text": [
            "----------------------------------------------------------------------------------------------------\n"
          ]
        },
        {
          "data": {
            "image/png": "[encoded data removed]",
            "text/plain": [
              "<Figure size 504x432 with 2 Axes>"
            ]
          },
          "metadata": {
            "needs_background": "light"
          },
          "output_type": "display_data"
        },
        {
          "name": "stdout",
          "output_type": "stream",
          "text": [
            "----------------------------------------------------------------------------------------------------\n"
          ]
        }
      ],
      "source": [
        "corr_mat = correlation_matrix(pos_cash_merged, ['SK_ID_CURR','SK_ID_PREV'], figsize = (7,6))\n",
        "corr_mat.plot_correlation_matrix()"
      ]
    },
    {
      "cell_type": "markdown",
      "metadata": {
        "id": "668sYQkva5is"
      },
      "source": [
        "**Comment**\n",
        "* From the heatmap of correlation matrix, we one set of moderately correlated features, which are: CNT_INSTALMENT and CNT_INSTALMENT_FUTURE.\n",
        "\n",
        "* The correlation of features with Target is very low, this shows the absence of a linear relationship between the feature and the target variable."
      ]
    },
    {
      "cell_type": "markdown",
      "metadata": {
        "id": "YI-5pxajbcRy"
      },
      "source": [
        "**Plotting Continuous Variables**\n",
        "\n",
        "Firstly we will group by the 'SK_ID_PREV' field and aggregate with mean, so that we get an averaged row for each of the previous loan that the client had."
      ]
    },
    {
      "cell_type": "markdown",
      "metadata": {
        "id": "nVwBjsPzbqGh"
      },
      "source": [
        "#### CNT_INSTALMENT_FUTURE"
      ]
    },
    {
      "cell_type": "code",
      "execution_count": null,
      "metadata": {
        "id": "EUH1H8-ibrlU"
      },
      "outputs": [],
      "source": [
        "plot_continuous_variables(pos_cash_merged, 'CNT_INSTALMENT_FUTURE', plots = ['box'], figsize = (8,8))\n",
        "del pos_cash_merged"
      ]
    },
    {
      "cell_type": "code",
      "execution_count": 39,
      "metadata": {
        "id": "dK1L7YdAbfZR"
      },
      "outputs": [],
      "source": [
        "pos_cash_merged = pos_cash_merged.groupby('SK_ID_PREV').mean()"
      ]
    },
    {
      "cell_type": "code",
      "execution_count": 41,
      "metadata": {
        "colab": {
          "base_uri": "https://localhost:8080/",
          "height": 513
        },
        "id": "kasngLKncHOe",
        "outputId": "70195ad8-c775-4ed7-b7a5-862240bb72fd"
      },
      "outputs": [
        {
          "data": {
            "image/png": "[encoded data removed]",
            "text/plain": [
              "<Figure size 576x576 with 1 Axes>"
            ]
          },
          "metadata": {
            "needs_background": "light"
          },
          "output_type": "display_data"
        }
      ],
      "source": [
        "plot_continuous_variables(pos_cash_merged, 'CNT_INSTALMENT_FUTURE', plots = ['box'], figsize = (8,8))\n",
        "del pos_cash_merged"
      ]
    },
    {
      "cell_type": "markdown",
      "metadata": {
        "id": "RrRPCwg-cM9q"
      },
      "source": [
        "**Comment**\n",
        "\n",
        "Looking at the above box-plot for CNT_INSTALMENT_FUTURE, we see that the percentile values>50% for Defaulters are usually higher than those of Non-Defaulters. Even the upper limit whisker for Defaulters is higher than that of Non-Defaulters. This suggests that the Defaulters tend to have more number of Installments remaining on their previous credits as compared to Non-Defaulters."
      ]
    },
    {
      "cell_type": "markdown",
      "metadata": {
        "id": "UvkyF1ihe7RM"
      },
      "source": [
        "#### MONTHS_BALANCE"
      ]
    },
    {
      "cell_type": "code",
      "execution_count": 15,
      "metadata": {
        "colab": {
          "base_uri": "https://localhost:8080/",
          "height": 352
        },
        "id": "FUSElP7nWUuT",
        "outputId": "fb6aa499-e017-4808-86fc-1baba3640e14"
      },
      "outputs": [
        {
          "name": "stderr",
          "output_type": "stream",
          "text": [
            "/usr/local/lib/python3.7/dist-packages/seaborn/distributions.py:2619: FutureWarning: `distplot` is a deprecated function and will be removed in a future version. Please adapt your code to use either `displot` (a figure-level function with similar flexibility) or `histplot` (an axes-level function for histograms).\n",
            "  warnings.warn(msg, FutureWarning)\n"
          ]
        },
        {
          "data": {
            "text/plain": [
              "<matplotlib.axes._subplots.AxesSubplot at 0x7f56597538d0>"
            ]
          },
          "execution_count": 15,
          "metadata": {},
          "output_type": "execute_result"
        },
        {
          "data": {
            "image/png": "[encoded data removed]",
            "text/plain": [
              "<Figure size 432x288 with 1 Axes>"
            ]
          },
          "metadata": {
            "needs_background": "light"
          },
          "output_type": "display_data"
        }
      ],
      "source": [
        "sns.distplot(pos_cash.MONTHS_BALANCE)"
      ]
    }
  ],
  "metadata": {
    "colab": {
      "collapsed_sections": [],
      "provenance": []
    },
    "kernelspec": {
      "display_name": "Python 3",
      "name": "python3"
    },
    "language_info": {
      "name": "python"
    }
  },
  "nbformat": 4,
  "nbformat_minor": 0
}
