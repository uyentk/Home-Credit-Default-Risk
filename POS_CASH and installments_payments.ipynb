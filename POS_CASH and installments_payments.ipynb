{
  "nbformat": 4,
  "nbformat_minor": 0,
  "metadata": {
    "colab": {
      "provenance": [],
      "collapsed_sections": []
    },
    "kernelspec": {
      "name": "python3",
      "display_name": "Python 3"
    },
    "language_info": {
      "name": "python"
    }
  },
  "cells": [
    {
      "cell_type": "code",
      "execution_count": null,
      "metadata": {
        "id": "3-UjQPTVq7Fu"
      },
      "outputs": [],
      "source": [
        "import pandas as pd\n",
        "import numpy as np\n",
        "import matplotlib.pyplot as plt\n",
        "import seaborn as sns"
      ]
    },
    {
      "cell_type": "markdown",
      "source": [
        "**POS_CASH_balance.csv**\n",
        "*   Monthly balance snapshots of previous POS (point of sales) and cash loans that the applicant had with Home Credit.\n",
        "*   This table has one row for each month of history of every previous credit in Home Credit (consumer credit and cash loans) related to loans in our sample."
      ],
      "metadata": {
        "id": "IzoftYPQrIMG"
      }
    },
    {
      "cell_type": "markdown",
      "source": [
        "**installments_payments.csv**\n",
        "\n",
        "\n",
        "*   Repayment history for the previously disbursed credits in Home Credit related to the loans in our sample.\n",
        "*   There is\n",
        "    *   a) one row for every payment that was made plus\n",
        "    *   b) one row each for missed payment.\n",
        "\n",
        "One row is equivalent to one payment of one installment OR one installment corresponding to one payment of one previous Home Credit credit related to loans in our sample."
      ],
      "metadata": {
        "id": "Uv4DW8L-sfez"
      }
    },
    {
      "cell_type": "markdown",
      "source": [
        "**POS_CASH_balance.csv FEATURE DESCRIPTION**\n",
        "\n",
        "**SK_ID_PREV:** The ID of previous credit in Home Credit related to loan in our sample\n",
        "\n",
        "**SK_ID_CURR:** ID of loan in our sample\n",
        "\n",
        "**MONTHS_BALANCE:** Month of balance relative to application date\n",
        "\n",
        "**CNT_INSTALMENT:** Term of previous credit (can change over time)\n",
        "\n",
        "**CNT_INSTALMENT_FUTURE:** Installments left to pay on the previous credit\n",
        "\n",
        "**NAME_CONTRACT_STATUS:** Contract status during the month\n",
        "\n",
        "**SK_DPD:** DPD (days past due) during the month of previous credit\n",
        "\n",
        "**SK_DPD_DEF:** DPD during the month with tolerance (debts with low loan amounts are ignored) of the previous credit"
      ],
      "metadata": {
        "id": "KYU4QkXJA8a1"
      }
    },
    {
      "cell_type": "markdown",
      "source": [
        "\n",
        "**installments_payments.csv FEATURE DESCRIPTION**\n",
        "\n",
        "**SK_ID_CURR:** ID of loan in our sample\n",
        "\n",
        "**NUM_INSTALMENT_VERSION:** Version of installment calendar (0 is for credit card) of previous credit. Change of installment version from month to month signifies that some parameter of payment calendar has changed\n",
        "\n",
        "**NUM_INSTALMENT_NUMBER:** On which installment we observe payment\n",
        "\n",
        "**DAYS_INSTALMENT:** When the installment of previous credit was supposed to be paid (relative to application date of current loan)\n",
        "\n",
        "**DAYS_ENTRY_PAYMENT:** When was the installments of previous credit paid actually (relative to application date of current loan)\n",
        "\n",
        "**AMT_INSTALMENT:** What was the prescribed installment amount of previous credit on this installment\n",
        "\n",
        "**AMT_PAYMENT:** What the client actually paid on previous credit on this installment"
      ],
      "metadata": {
        "id": "EgYNhre3A9Dv"
      }
    },
    {
      "cell_type": "code",
      "source": [
        "pos_cash = pd.read_csv('POS_CASH_balance.csv')\n",
        "install_payments = pd.read_csv('installments_payments.csv')"
      ],
      "metadata": {
        "id": "B1c9wtpAWTwD"
      },
      "execution_count": null,
      "outputs": []
    },
    {
      "cell_type": "markdown",
      "source": [
        "**POS_CASH_balance.csv**"
      ],
      "metadata": {
        "id": "TuPn_MmcYIp9"
      }
    },
    {
      "cell_type": "code",
      "source": [
        "pos_cash.head(10)"
      ],
      "metadata": {
        "id": "Y5tGUHx-WTnu",
        "colab": {
          "base_uri": "https://localhost:8080/",
          "height": 363
        },
        "outputId": "19f8ba83-1bcf-4f40-d2eb-8e6ed1dd8d40"
      },
      "execution_count": null,
      "outputs": [
        {
          "output_type": "execute_result",
          "data": {
            "text/plain": [
              "   SK_ID_PREV  SK_ID_CURR  MONTHS_BALANCE  CNT_INSTALMENT  \\\n",
              "0     1803195      182943             -31            48.0   \n",
              "1     1715348      367990             -33            36.0   \n",
              "2     1784872      397406             -32            12.0   \n",
              "3     1903291      269225             -35            48.0   \n",
              "4     2341044      334279             -35            36.0   \n",
              "5     2207092      342166             -32            12.0   \n",
              "6     1110516      204376             -38            48.0   \n",
              "7     1387235      153211             -35            36.0   \n",
              "8     1220500      112740             -31            12.0   \n",
              "9     2371489      274851             -32            24.0   \n",
              "\n",
              "   CNT_INSTALMENT_FUTURE NAME_CONTRACT_STATUS  SK_DPD  SK_DPD_DEF  \n",
              "0                   45.0               Active       0           0  \n",
              "1                   35.0               Active       0           0  \n",
              "2                    9.0               Active       0           0  \n",
              "3                   42.0               Active       0           0  \n",
              "4                   35.0               Active       0           0  \n",
              "5                   12.0               Active       0           0  \n",
              "6                   43.0               Active       0           0  \n",
              "7                   36.0               Active       0           0  \n",
              "8                   12.0               Active       0           0  \n",
              "9                   16.0               Active       0           0  "
            ],
            "text/html": [
              "\n",
              "  <div id=\"df-7c1b4686-9f4a-4c65-aa86-9677c8e04bce\">\n",
              "    <div class=\"colab-df-container\">\n",
              "      <div>\n",
              "<style scoped>\n",
              "    .dataframe tbody tr th:only-of-type {\n",
              "        vertical-align: middle;\n",
              "    }\n",
              "\n",
              "    .dataframe tbody tr th {\n",
              "        vertical-align: top;\n",
              "    }\n",
              "\n",
              "    .dataframe thead th {\n",
              "        text-align: right;\n",
              "    }\n",
              "</style>\n",
              "<table border=\"1\" class=\"dataframe\">\n",
              "  <thead>\n",
              "    <tr style=\"text-align: right;\">\n",
              "      <th></th>\n",
              "      <th>SK_ID_PREV</th>\n",
              "      <th>SK_ID_CURR</th>\n",
              "      <th>MONTHS_BALANCE</th>\n",
              "      <th>CNT_INSTALMENT</th>\n",
              "      <th>CNT_INSTALMENT_FUTURE</th>\n",
              "      <th>NAME_CONTRACT_STATUS</th>\n",
              "      <th>SK_DPD</th>\n",
              "      <th>SK_DPD_DEF</th>\n",
              "    </tr>\n",
              "  </thead>\n",
              "  <tbody>\n",
              "    <tr>\n",
              "      <th>0</th>\n",
              "      <td>1803195</td>\n",
              "      <td>182943</td>\n",
              "      <td>-31</td>\n",
              "      <td>48.0</td>\n",
              "      <td>45.0</td>\n",
              "      <td>Active</td>\n",
              "      <td>0</td>\n",
              "      <td>0</td>\n",
              "    </tr>\n",
              "    <tr>\n",
              "      <th>1</th>\n",
              "      <td>1715348</td>\n",
              "      <td>367990</td>\n",
              "      <td>-33</td>\n",
              "      <td>36.0</td>\n",
              "      <td>35.0</td>\n",
              "      <td>Active</td>\n",
              "      <td>0</td>\n",
              "      <td>0</td>\n",
              "    </tr>\n",
              "    <tr>\n",
              "      <th>2</th>\n",
              "      <td>1784872</td>\n",
              "      <td>397406</td>\n",
              "      <td>-32</td>\n",
              "      <td>12.0</td>\n",
              "      <td>9.0</td>\n",
              "      <td>Active</td>\n",
              "      <td>0</td>\n",
              "      <td>0</td>\n",
              "    </tr>\n",
              "    <tr>\n",
              "      <th>3</th>\n",
              "      <td>1903291</td>\n",
              "      <td>269225</td>\n",
              "      <td>-35</td>\n",
              "      <td>48.0</td>\n",
              "      <td>42.0</td>\n",
              "      <td>Active</td>\n",
              "      <td>0</td>\n",
              "      <td>0</td>\n",
              "    </tr>\n",
              "    <tr>\n",
              "      <th>4</th>\n",
              "      <td>2341044</td>\n",
              "      <td>334279</td>\n",
              "      <td>-35</td>\n",
              "      <td>36.0</td>\n",
              "      <td>35.0</td>\n",
              "      <td>Active</td>\n",
              "      <td>0</td>\n",
              "      <td>0</td>\n",
              "    </tr>\n",
              "    <tr>\n",
              "      <th>5</th>\n",
              "      <td>2207092</td>\n",
              "      <td>342166</td>\n",
              "      <td>-32</td>\n",
              "      <td>12.0</td>\n",
              "      <td>12.0</td>\n",
              "      <td>Active</td>\n",
              "      <td>0</td>\n",
              "      <td>0</td>\n",
              "    </tr>\n",
              "    <tr>\n",
              "      <th>6</th>\n",
              "      <td>1110516</td>\n",
              "      <td>204376</td>\n",
              "      <td>-38</td>\n",
              "      <td>48.0</td>\n",
              "      <td>43.0</td>\n",
              "      <td>Active</td>\n",
              "      <td>0</td>\n",
              "      <td>0</td>\n",
              "    </tr>\n",
              "    <tr>\n",
              "      <th>7</th>\n",
              "      <td>1387235</td>\n",
              "      <td>153211</td>\n",
              "      <td>-35</td>\n",
              "      <td>36.0</td>\n",
              "      <td>36.0</td>\n",
              "      <td>Active</td>\n",
              "      <td>0</td>\n",
              "      <td>0</td>\n",
              "    </tr>\n",
              "    <tr>\n",
              "      <th>8</th>\n",
              "      <td>1220500</td>\n",
              "      <td>112740</td>\n",
              "      <td>-31</td>\n",
              "      <td>12.0</td>\n",
              "      <td>12.0</td>\n",
              "      <td>Active</td>\n",
              "      <td>0</td>\n",
              "      <td>0</td>\n",
              "    </tr>\n",
              "    <tr>\n",
              "      <th>9</th>\n",
              "      <td>2371489</td>\n",
              "      <td>274851</td>\n",
              "      <td>-32</td>\n",
              "      <td>24.0</td>\n",
              "      <td>16.0</td>\n",
              "      <td>Active</td>\n",
              "      <td>0</td>\n",
              "      <td>0</td>\n",
              "    </tr>\n",
              "  </tbody>\n",
              "</table>\n",
              "</div>\n",
              "      <button class=\"colab-df-convert\" onclick=\"convertToInteractive('df-7c1b4686-9f4a-4c65-aa86-9677c8e04bce')\"\n",
              "              title=\"Convert this dataframe to an interactive table.\"\n",
              "              style=\"display:none;\">\n",
              "        \n",
              "  <svg xmlns=\"http://www.w3.org/2000/svg\" height=\"24px\"viewBox=\"0 0 24 24\"\n",
              "       width=\"24px\">\n",
              "    <path d=\"M0 0h24v24H0V0z\" fill=\"none\"/>\n",
              "    <path d=\"M18.56 5.44l.94 2.06.94-2.06 2.06-.94-2.06-.94-.94-2.06-.94 2.06-2.06.94zm-11 1L8.5 8.5l.94-2.06 2.06-.94-2.06-.94L8.5 2.5l-.94 2.06-2.06.94zm10 10l.94 2.06.94-2.06 2.06-.94-2.06-.94-.94-2.06-.94 2.06-2.06.94z\"/><path d=\"M17.41 7.96l-1.37-1.37c-.4-.4-.92-.59-1.43-.59-.52 0-1.04.2-1.43.59L10.3 9.45l-7.72 7.72c-.78.78-.78 2.05 0 2.83L4 21.41c.39.39.9.59 1.41.59.51 0 1.02-.2 1.41-.59l7.78-7.78 2.81-2.81c.8-.78.8-2.07 0-2.86zM5.41 20L4 18.59l7.72-7.72 1.47 1.35L5.41 20z\"/>\n",
              "  </svg>\n",
              "      </button>\n",
              "      \n",
              "  <style>\n",
              "    .colab-df-container {\n",
              "      display:flex;\n",
              "      flex-wrap:wrap;\n",
              "      gap: 12px;\n",
              "    }\n",
              "\n",
              "    .colab-df-convert {\n",
              "      background-color: #E8F0FE;\n",
              "      border: none;\n",
              "      border-radius: 50%;\n",
              "      cursor: pointer;\n",
              "      display: none;\n",
              "      fill: #1967D2;\n",
              "      height: 32px;\n",
              "      padding: 0 0 0 0;\n",
              "      width: 32px;\n",
              "    }\n",
              "\n",
              "    .colab-df-convert:hover {\n",
              "      background-color: #E2EBFA;\n",
              "      box-shadow: 0px 1px 2px rgba(60, 64, 67, 0.3), 0px 1px 3px 1px rgba(60, 64, 67, 0.15);\n",
              "      fill: #174EA6;\n",
              "    }\n",
              "\n",
              "    [theme=dark] .colab-df-convert {\n",
              "      background-color: #3B4455;\n",
              "      fill: #D2E3FC;\n",
              "    }\n",
              "\n",
              "    [theme=dark] .colab-df-convert:hover {\n",
              "      background-color: #434B5C;\n",
              "      box-shadow: 0px 1px 3px 1px rgba(0, 0, 0, 0.15);\n",
              "      filter: drop-shadow(0px 1px 2px rgba(0, 0, 0, 0.3));\n",
              "      fill: #FFFFFF;\n",
              "    }\n",
              "  </style>\n",
              "\n",
              "      <script>\n",
              "        const buttonEl =\n",
              "          document.querySelector('#df-7c1b4686-9f4a-4c65-aa86-9677c8e04bce button.colab-df-convert');\n",
              "        buttonEl.style.display =\n",
              "          google.colab.kernel.accessAllowed ? 'block' : 'none';\n",
              "\n",
              "        async function convertToInteractive(key) {\n",
              "          const element = document.querySelector('#df-7c1b4686-9f4a-4c65-aa86-9677c8e04bce');\n",
              "          const dataTable =\n",
              "            await google.colab.kernel.invokeFunction('convertToInteractive',\n",
              "                                                     [key], {});\n",
              "          if (!dataTable) return;\n",
              "\n",
              "          const docLinkHtml = 'Like what you see? Visit the ' +\n",
              "            '<a target=\"_blank\" href=https://colab.research.google.com/notebooks/data_table.ipynb>data table notebook</a>'\n",
              "            + ' to learn more about interactive tables.';\n",
              "          element.innerHTML = '';\n",
              "          dataTable['output_type'] = 'display_data';\n",
              "          await google.colab.output.renderOutput(dataTable, element);\n",
              "          const docLink = document.createElement('div');\n",
              "          docLink.innerHTML = docLinkHtml;\n",
              "          element.appendChild(docLink);\n",
              "        }\n",
              "      </script>\n",
              "    </div>\n",
              "  </div>\n",
              "  "
            ]
          },
          "metadata": {},
          "execution_count": 33
        }
      ]
    },
    {
      "cell_type": "code",
      "source": [
        "pos_cash.shape"
      ],
      "metadata": {
        "id": "xjl_TXrQWTk4",
        "colab": {
          "base_uri": "https://localhost:8080/"
        },
        "outputId": "98770de0-6506-4961-8911-e6cc84344a29"
      },
      "execution_count": null,
      "outputs": [
        {
          "output_type": "execute_result",
          "data": {
            "text/plain": [
              "(10001358, 8)"
            ]
          },
          "metadata": {},
          "execution_count": 34
        }
      ]
    },
    {
      "cell_type": "code",
      "source": [
        "pos_cash.columns"
      ],
      "metadata": {
        "id": "gHuVMQRDtstX",
        "colab": {
          "base_uri": "https://localhost:8080/"
        },
        "outputId": "8d1dd7b7-af4d-47ba-9326-18b1a4c6b412"
      },
      "execution_count": null,
      "outputs": [
        {
          "output_type": "execute_result",
          "data": {
            "text/plain": [
              "Index(['SK_ID_PREV', 'SK_ID_CURR', 'MONTHS_BALANCE', 'CNT_INSTALMENT',\n",
              "       'CNT_INSTALMENT_FUTURE', 'NAME_CONTRACT_STATUS', 'SK_DPD',\n",
              "       'SK_DPD_DEF'],\n",
              "      dtype='object')"
            ]
          },
          "metadata": {},
          "execution_count": 35
        }
      ]
    },
    {
      "cell_type": "code",
      "source": [
        "pos_cash.info()"
      ],
      "metadata": {
        "id": "iz8UQAc4WTfP",
        "colab": {
          "base_uri": "https://localhost:8080/"
        },
        "outputId": "92dd0c21-04e0-4835-b0cb-c05cd6d22b52"
      },
      "execution_count": null,
      "outputs": [
        {
          "output_type": "stream",
          "name": "stdout",
          "text": [
            "<class 'pandas.core.frame.DataFrame'>\n",
            "RangeIndex: 10001358 entries, 0 to 10001357\n",
            "Data columns (total 8 columns):\n",
            " #   Column                 Dtype  \n",
            "---  ------                 -----  \n",
            " 0   SK_ID_PREV             int64  \n",
            " 1   SK_ID_CURR             int64  \n",
            " 2   MONTHS_BALANCE         int64  \n",
            " 3   CNT_INSTALMENT         float64\n",
            " 4   CNT_INSTALMENT_FUTURE  float64\n",
            " 5   NAME_CONTRACT_STATUS   object \n",
            " 6   SK_DPD                 int64  \n",
            " 7   SK_DPD_DEF             int64  \n",
            "dtypes: float64(2), int64(5), object(1)\n",
            "memory usage: 610.4+ MB\n"
          ]
        }
      ]
    },
    {
      "cell_type": "markdown",
      "source": [
        "**Basic EDA**"
      ],
      "metadata": {
        "id": "ruIIAIFq4zEr"
      }
    },
    {
      "cell_type": "code",
      "source": [
        "pos_cash.describe().T"
      ],
      "metadata": {
        "colab": {
          "base_uri": "https://localhost:8080/",
          "height": 269
        },
        "id": "NUjaiAlo4xkp",
        "outputId": "c8cc4c13-27a8-45d4-cdf6-0e307dad54f4"
      },
      "execution_count": null,
      "outputs": [
        {
          "output_type": "execute_result",
          "data": {
            "text/plain": [
              "                            count          mean            std        min  \\\n",
              "SK_ID_PREV             10001358.0  1.903217e+06  535846.530722  1000001.0   \n",
              "SK_ID_CURR             10001358.0  2.784039e+05  102763.745090   100001.0   \n",
              "MONTHS_BALANCE         10001358.0 -3.501259e+01      26.066570      -96.0   \n",
              "CNT_INSTALMENT          9975287.0  1.708965e+01      11.995056        1.0   \n",
              "CNT_INSTALMENT_FUTURE   9975271.0  1.048384e+01      11.109058        0.0   \n",
              "SK_DPD                 10001358.0  1.160693e+01     132.714043        0.0   \n",
              "SK_DPD_DEF             10001358.0  6.544684e-01      32.762491        0.0   \n",
              "\n",
              "                             25%        50%        75%        max  \n",
              "SK_ID_PREV             1434405.0  1896565.0  2368963.0  2843499.0  \n",
              "SK_ID_CURR              189550.0   278654.0   367429.0   456255.0  \n",
              "MONTHS_BALANCE             -54.0      -28.0      -13.0       -1.0  \n",
              "CNT_INSTALMENT              10.0       12.0       24.0       92.0  \n",
              "CNT_INSTALMENT_FUTURE        3.0        7.0       14.0       85.0  \n",
              "SK_DPD                       0.0        0.0        0.0     4231.0  \n",
              "SK_DPD_DEF                   0.0        0.0        0.0     3595.0  "
            ],
            "text/html": [
              "\n",
              "  <div id=\"df-b1ea9ba3-e521-4cef-b48e-5b1f549363c0\">\n",
              "    <div class=\"colab-df-container\">\n",
              "      <div>\n",
              "<style scoped>\n",
              "    .dataframe tbody tr th:only-of-type {\n",
              "        vertical-align: middle;\n",
              "    }\n",
              "\n",
              "    .dataframe tbody tr th {\n",
              "        vertical-align: top;\n",
              "    }\n",
              "\n",
              "    .dataframe thead th {\n",
              "        text-align: right;\n",
              "    }\n",
              "</style>\n",
              "<table border=\"1\" class=\"dataframe\">\n",
              "  <thead>\n",
              "    <tr style=\"text-align: right;\">\n",
              "      <th></th>\n",
              "      <th>count</th>\n",
              "      <th>mean</th>\n",
              "      <th>std</th>\n",
              "      <th>min</th>\n",
              "      <th>25%</th>\n",
              "      <th>50%</th>\n",
              "      <th>75%</th>\n",
              "      <th>max</th>\n",
              "    </tr>\n",
              "  </thead>\n",
              "  <tbody>\n",
              "    <tr>\n",
              "      <th>SK_ID_PREV</th>\n",
              "      <td>10001358.0</td>\n",
              "      <td>1.903217e+06</td>\n",
              "      <td>535846.530722</td>\n",
              "      <td>1000001.0</td>\n",
              "      <td>1434405.0</td>\n",
              "      <td>1896565.0</td>\n",
              "      <td>2368963.0</td>\n",
              "      <td>2843499.0</td>\n",
              "    </tr>\n",
              "    <tr>\n",
              "      <th>SK_ID_CURR</th>\n",
              "      <td>10001358.0</td>\n",
              "      <td>2.784039e+05</td>\n",
              "      <td>102763.745090</td>\n",
              "      <td>100001.0</td>\n",
              "      <td>189550.0</td>\n",
              "      <td>278654.0</td>\n",
              "      <td>367429.0</td>\n",
              "      <td>456255.0</td>\n",
              "    </tr>\n",
              "    <tr>\n",
              "      <th>MONTHS_BALANCE</th>\n",
              "      <td>10001358.0</td>\n",
              "      <td>-3.501259e+01</td>\n",
              "      <td>26.066570</td>\n",
              "      <td>-96.0</td>\n",
              "      <td>-54.0</td>\n",
              "      <td>-28.0</td>\n",
              "      <td>-13.0</td>\n",
              "      <td>-1.0</td>\n",
              "    </tr>\n",
              "    <tr>\n",
              "      <th>CNT_INSTALMENT</th>\n",
              "      <td>9975287.0</td>\n",
              "      <td>1.708965e+01</td>\n",
              "      <td>11.995056</td>\n",
              "      <td>1.0</td>\n",
              "      <td>10.0</td>\n",
              "      <td>12.0</td>\n",
              "      <td>24.0</td>\n",
              "      <td>92.0</td>\n",
              "    </tr>\n",
              "    <tr>\n",
              "      <th>CNT_INSTALMENT_FUTURE</th>\n",
              "      <td>9975271.0</td>\n",
              "      <td>1.048384e+01</td>\n",
              "      <td>11.109058</td>\n",
              "      <td>0.0</td>\n",
              "      <td>3.0</td>\n",
              "      <td>7.0</td>\n",
              "      <td>14.0</td>\n",
              "      <td>85.0</td>\n",
              "    </tr>\n",
              "    <tr>\n",
              "      <th>SK_DPD</th>\n",
              "      <td>10001358.0</td>\n",
              "      <td>1.160693e+01</td>\n",
              "      <td>132.714043</td>\n",
              "      <td>0.0</td>\n",
              "      <td>0.0</td>\n",
              "      <td>0.0</td>\n",
              "      <td>0.0</td>\n",
              "      <td>4231.0</td>\n",
              "    </tr>\n",
              "    <tr>\n",
              "      <th>SK_DPD_DEF</th>\n",
              "      <td>10001358.0</td>\n",
              "      <td>6.544684e-01</td>\n",
              "      <td>32.762491</td>\n",
              "      <td>0.0</td>\n",
              "      <td>0.0</td>\n",
              "      <td>0.0</td>\n",
              "      <td>0.0</td>\n",
              "      <td>3595.0</td>\n",
              "    </tr>\n",
              "  </tbody>\n",
              "</table>\n",
              "</div>\n",
              "      <button class=\"colab-df-convert\" onclick=\"convertToInteractive('df-b1ea9ba3-e521-4cef-b48e-5b1f549363c0')\"\n",
              "              title=\"Convert this dataframe to an interactive table.\"\n",
              "              style=\"display:none;\">\n",
              "        \n",
              "  <svg xmlns=\"http://www.w3.org/2000/svg\" height=\"24px\"viewBox=\"0 0 24 24\"\n",
              "       width=\"24px\">\n",
              "    <path d=\"M0 0h24v24H0V0z\" fill=\"none\"/>\n",
              "    <path d=\"M18.56 5.44l.94 2.06.94-2.06 2.06-.94-2.06-.94-.94-2.06-.94 2.06-2.06.94zm-11 1L8.5 8.5l.94-2.06 2.06-.94-2.06-.94L8.5 2.5l-.94 2.06-2.06.94zm10 10l.94 2.06.94-2.06 2.06-.94-2.06-.94-.94-2.06-.94 2.06-2.06.94z\"/><path d=\"M17.41 7.96l-1.37-1.37c-.4-.4-.92-.59-1.43-.59-.52 0-1.04.2-1.43.59L10.3 9.45l-7.72 7.72c-.78.78-.78 2.05 0 2.83L4 21.41c.39.39.9.59 1.41.59.51 0 1.02-.2 1.41-.59l7.78-7.78 2.81-2.81c.8-.78.8-2.07 0-2.86zM5.41 20L4 18.59l7.72-7.72 1.47 1.35L5.41 20z\"/>\n",
              "  </svg>\n",
              "      </button>\n",
              "      \n",
              "  <style>\n",
              "    .colab-df-container {\n",
              "      display:flex;\n",
              "      flex-wrap:wrap;\n",
              "      gap: 12px;\n",
              "    }\n",
              "\n",
              "    .colab-df-convert {\n",
              "      background-color: #E8F0FE;\n",
              "      border: none;\n",
              "      border-radius: 50%;\n",
              "      cursor: pointer;\n",
              "      display: none;\n",
              "      fill: #1967D2;\n",
              "      height: 32px;\n",
              "      padding: 0 0 0 0;\n",
              "      width: 32px;\n",
              "    }\n",
              "\n",
              "    .colab-df-convert:hover {\n",
              "      background-color: #E2EBFA;\n",
              "      box-shadow: 0px 1px 2px rgba(60, 64, 67, 0.3), 0px 1px 3px 1px rgba(60, 64, 67, 0.15);\n",
              "      fill: #174EA6;\n",
              "    }\n",
              "\n",
              "    [theme=dark] .colab-df-convert {\n",
              "      background-color: #3B4455;\n",
              "      fill: #D2E3FC;\n",
              "    }\n",
              "\n",
              "    [theme=dark] .colab-df-convert:hover {\n",
              "      background-color: #434B5C;\n",
              "      box-shadow: 0px 1px 3px 1px rgba(0, 0, 0, 0.15);\n",
              "      filter: drop-shadow(0px 1px 2px rgba(0, 0, 0, 0.3));\n",
              "      fill: #FFFFFF;\n",
              "    }\n",
              "  </style>\n",
              "\n",
              "      <script>\n",
              "        const buttonEl =\n",
              "          document.querySelector('#df-b1ea9ba3-e521-4cef-b48e-5b1f549363c0 button.colab-df-convert');\n",
              "        buttonEl.style.display =\n",
              "          google.colab.kernel.accessAllowed ? 'block' : 'none';\n",
              "\n",
              "        async function convertToInteractive(key) {\n",
              "          const element = document.querySelector('#df-b1ea9ba3-e521-4cef-b48e-5b1f549363c0');\n",
              "          const dataTable =\n",
              "            await google.colab.kernel.invokeFunction('convertToInteractive',\n",
              "                                                     [key], {});\n",
              "          if (!dataTable) return;\n",
              "\n",
              "          const docLinkHtml = 'Like what you see? Visit the ' +\n",
              "            '<a target=\"_blank\" href=https://colab.research.google.com/notebooks/data_table.ipynb>data table notebook</a>'\n",
              "            + ' to learn more about interactive tables.';\n",
              "          element.innerHTML = '';\n",
              "          dataTable['output_type'] = 'display_data';\n",
              "          await google.colab.output.renderOutput(dataTable, element);\n",
              "          const docLink = document.createElement('div');\n",
              "          docLink.innerHTML = docLinkHtml;\n",
              "          element.appendChild(docLink);\n",
              "        }\n",
              "      </script>\n",
              "    </div>\n",
              "  </div>\n",
              "  "
            ]
          },
          "metadata": {},
          "execution_count": 37
        }
      ]
    },
    {
      "cell_type": "code",
      "source": [
        "# check duplicate\n",
        "pos_cash.duplicated().sum()"
      ],
      "metadata": {
        "colab": {
          "base_uri": "https://localhost:8080/"
        },
        "id": "GLn6V0ky48Co",
        "outputId": "62d8973a-899d-4aee-f189-b249f9dc7776"
      },
      "execution_count": null,
      "outputs": [
        {
          "output_type": "execute_result",
          "data": {
            "text/plain": [
              "0"
            ]
          },
          "metadata": {},
          "execution_count": 38
        }
      ]
    },
    {
      "cell_type": "code",
      "source": [
        "# NUMBER OF NULL VALUES IN EACH COLUMN\n",
        "pos_cash.isna().sum().sort_values(ascending=False)"
      ],
      "metadata": {
        "id": "Hg2fvnRuWVB_",
        "colab": {
          "base_uri": "https://localhost:8080/"
        },
        "outputId": "1beccb1d-5976-4686-ec5c-728d870c3104"
      },
      "execution_count": null,
      "outputs": [
        {
          "output_type": "execute_result",
          "data": {
            "text/plain": [
              "CNT_INSTALMENT_FUTURE    26087\n",
              "CNT_INSTALMENT           26071\n",
              "SK_ID_PREV                   0\n",
              "SK_ID_CURR                   0\n",
              "MONTHS_BALANCE               0\n",
              "NAME_CONTRACT_STATUS         0\n",
              "SK_DPD                       0\n",
              "SK_DPD_DEF                   0\n",
              "dtype: int64"
            ]
          },
          "metadata": {},
          "execution_count": 39
        }
      ]
    },
    {
      "cell_type": "code",
      "source": [
        "# PERCENTAGE OF NULL VALUES IN EACH COLUMN\n",
        "(pos_cash.isna().sum() / pos_cash.shape[0]).sort_values(ascending=False)"
      ],
      "metadata": {
        "id": "iz1Shm7IWU_o",
        "colab": {
          "base_uri": "https://localhost:8080/"
        },
        "outputId": "d43116f3-bb77-4639-f7db-2016acde1bb1"
      },
      "execution_count": null,
      "outputs": [
        {
          "output_type": "execute_result",
          "data": {
            "text/plain": [
              "CNT_INSTALMENT_FUTURE    0.002608\n",
              "CNT_INSTALMENT           0.002607\n",
              "SK_ID_PREV               0.000000\n",
              "SK_ID_CURR               0.000000\n",
              "MONTHS_BALANCE           0.000000\n",
              "NAME_CONTRACT_STATUS     0.000000\n",
              "SK_DPD                   0.000000\n",
              "SK_DPD_DEF               0.000000\n",
              "dtype: float64"
            ]
          },
          "metadata": {},
          "execution_count": 40
        }
      ]
    },
    {
      "cell_type": "markdown",
      "source": [
        "missing data < 1%"
      ],
      "metadata": {
        "id": "KOvoGSFfYhf7"
      }
    },
    {
      "cell_type": "code",
      "source": [
        "fig, ax = plt.subplots(figsize = (18, 10))\n",
        "sns.heatmap(pos_cash[['SK_ID_PREV', 'SK_ID_CURR', 'MONTHS_BALANCE', 'CNT_INSTALMENT',\\\n",
        "       'CNT_INSTALMENT_FUTURE', 'NAME_CONTRACT_STATUS', 'SK_DPD',\\\n",
        "       'SK_DPD_DEF']].corr(),cmap=\"viridis\", annot = True, fmt = \".2f\", linewidths=1, ax=ax)\n",
        "plt.show()"
      ],
      "metadata": {
        "id": "NDxmaXX_WU3Z",
        "colab": {
          "base_uri": "https://localhost:8080/",
          "height": 596
        },
        "outputId": "a606cfd1-9b49-4cdc-e9c9-c14d26e0b977"
      },
      "execution_count": null,
      "outputs": [
        {
          "output_type": "display_data",
          "data": {
            "text/plain": [
              "<Figure size 1296x720 with 2 Axes>"
            ],
            "image/png": "[encoded data removed]"
          },
          "metadata": {
            "needs_background": "light"
          }
        }
      ]
    },
    {
      "cell_type": "markdown",
      "source": [
        "không bỏ cột nào\n",
        "\n",
        "SK_ID_PREV, SK_ID_CURR tạo thành composite key\n",
        "\n",
        "CNT_INSTALLMENT và CNT_INSTALLMENT_FUTURE tuy có high correlation nhưng là biến quan trọng"
      ],
      "metadata": {
        "id": "vsvV4BH6Ypzo"
      }
    },
    {
      "cell_type": "markdown",
      "source": [
        "**Visualization**"
      ],
      "metadata": {
        "id": "dlE4r3kFYsVV"
      }
    },
    {
      "cell_type": "code",
      "source": [
        "pos_cash['NAME_CONTRACT_STATUS'].value_counts()"
      ],
      "metadata": {
        "id": "NfW5BCd5WU0h",
        "colab": {
          "base_uri": "https://localhost:8080/"
        },
        "outputId": "6539760c-2e27-4f2e-d6e5-820871b578e4"
      },
      "execution_count": null,
      "outputs": [
        {
          "output_type": "execute_result",
          "data": {
            "text/plain": [
              "Active                   9151119\n",
              "Completed                 744883\n",
              "Signed                     87260\n",
              "Demand                      7065\n",
              "Returned to the store       5461\n",
              "Approved                    4917\n",
              "Amortized debt               636\n",
              "Canceled                      15\n",
              "XNA                            2\n",
              "Name: NAME_CONTRACT_STATUS, dtype: int64"
            ]
          },
          "metadata": {},
          "execution_count": 42
        }
      ]
    },
    {
      "cell_type": "code",
      "source": [
        "fig, ax = plt.subplots(figsize = (18, 7))\n",
        "sns.countplot(x = 'NAME_CONTRACT_STATUS', data = pos_cash)\n",
        "plt.show()"
      ],
      "metadata": {
        "id": "lSC_dHFbWUxM",
        "colab": {
          "base_uri": "https://localhost:8080/",
          "height": 454
        },
        "outputId": "7be56f02-698c-4bcd-bed5-5a8a216c4b1d"
      },
      "execution_count": null,
      "outputs": [
        {
          "output_type": "display_data",
          "data": {
            "text/plain": [
              "<Figure size 1296x504 with 1 Axes>"
            ],
            "image/png": "[encoded data removed]"
          },
          "metadata": {
            "needs_background": "light"
          }
        }
      ]
    },
    {
      "cell_type": "code",
      "source": [
        "sns.distplot(pos_cash.MONTHS_BALANCE)"
      ],
      "metadata": {
        "id": "FUSElP7nWUuT",
        "colab": {
          "base_uri": "https://localhost:8080/",
          "height": 352
        },
        "outputId": "adcc8183-edf8-4fcc-ac20-b45400014f71"
      },
      "execution_count": null,
      "outputs": [
        {
          "output_type": "stream",
          "name": "stderr",
          "text": [
            "/usr/local/lib/python3.7/dist-packages/seaborn/distributions.py:2619: FutureWarning: `distplot` is a deprecated function and will be removed in a future version. Please adapt your code to use either `displot` (a figure-level function with similar flexibility) or `histplot` (an axes-level function for histograms).\n",
            "  warnings.warn(msg, FutureWarning)\n"
          ]
        },
        {
          "output_type": "execute_result",
          "data": {
            "text/plain": [
              "<matplotlib.axes._subplots.AxesSubplot at 0x7f1efb5d9650>"
            ]
          },
          "metadata": {},
          "execution_count": 44
        },
        {
          "output_type": "display_data",
          "data": {
            "text/plain": [
              "<Figure size 432x288 with 1 Axes>"
            ],
            "image/png": "[encoded data removed]"
          },
          "metadata": {
            "needs_background": "light"
          }
        }
      ]
    },
    {
      "cell_type": "code",
      "source": [
        "sns.distplot(pos_cash.CNT_INSTALMENT.fillna(0))"
      ],
      "metadata": {
        "id": "KGQmG5d5WTcO",
        "colab": {
          "base_uri": "https://localhost:8080/",
          "height": 352
        },
        "outputId": "b29f6169-ab02-4a94-f851-4432db028039"
      },
      "execution_count": null,
      "outputs": [
        {
          "output_type": "stream",
          "name": "stderr",
          "text": [
            "/usr/local/lib/python3.7/dist-packages/seaborn/distributions.py:2619: FutureWarning: `distplot` is a deprecated function and will be removed in a future version. Please adapt your code to use either `displot` (a figure-level function with similar flexibility) or `histplot` (an axes-level function for histograms).\n",
            "  warnings.warn(msg, FutureWarning)\n"
          ]
        },
        {
          "output_type": "execute_result",
          "data": {
            "text/plain": [
              "<matplotlib.axes._subplots.AxesSubplot at 0x7f1efb5396d0>"
            ]
          },
          "metadata": {},
          "execution_count": 45
        },
        {
          "output_type": "display_data",
          "data": {
            "text/plain": [
              "<Figure size 432x288 with 1 Axes>"
            ],
            "image/png": "[encoded data removed]"
          },
          "metadata": {
            "needs_background": "light"
          }
        }
      ]
    },
    {
      "cell_type": "code",
      "source": [
        "sns.distplot(pos_cash.CNT_INSTALMENT_FUTURE.fillna(0))"
      ],
      "metadata": {
        "id": "jk8DqSjqWTZJ",
        "colab": {
          "base_uri": "https://localhost:8080/",
          "height": 352
        },
        "outputId": "7ac0696a-8643-40e8-dfb1-af49f1202707"
      },
      "execution_count": null,
      "outputs": [
        {
          "output_type": "stream",
          "name": "stderr",
          "text": [
            "/usr/local/lib/python3.7/dist-packages/seaborn/distributions.py:2619: FutureWarning: `distplot` is a deprecated function and will be removed in a future version. Please adapt your code to use either `displot` (a figure-level function with similar flexibility) or `histplot` (an axes-level function for histograms).\n",
            "  warnings.warn(msg, FutureWarning)\n"
          ]
        },
        {
          "output_type": "execute_result",
          "data": {
            "text/plain": [
              "<matplotlib.axes._subplots.AxesSubplot at 0x7f1efb490350>"
            ]
          },
          "metadata": {},
          "execution_count": 46
        },
        {
          "output_type": "display_data",
          "data": {
            "text/plain": [
              "<Figure size 432x288 with 1 Axes>"
            ],
            "image/png": "[encoded data removed]"
          },
          "metadata": {
            "needs_background": "light"
          }
        }
      ]
    },
    {
      "cell_type": "markdown",
      "source": [
        "**installments_payments.csv**"
      ],
      "metadata": {
        "id": "5LjI-WZAY4fS"
      }
    },
    {
      "cell_type": "code",
      "source": [
        "install_payments.head(10)"
      ],
      "metadata": {
        "id": "fqNEdshpWTVz",
        "colab": {
          "base_uri": "https://localhost:8080/",
          "height": 363
        },
        "outputId": "d4bac394-a901-431a-8a71-a16f7e96b9a0"
      },
      "execution_count": null,
      "outputs": [
        {
          "output_type": "execute_result",
          "data": {
            "text/plain": [
              "   SK_ID_PREV  SK_ID_CURR  NUM_INSTALMENT_VERSION  NUM_INSTALMENT_NUMBER  \\\n",
              "0     1054186    161674.0                     1.0                    6.0   \n",
              "1     1330831    151639.0                     0.0                   34.0   \n",
              "2     2085231    193053.0                     2.0                    1.0   \n",
              "3     2452527    199697.0                     1.0                    3.0   \n",
              "4     2714724    167756.0                     1.0                    2.0   \n",
              "5     1137312    164489.0                     1.0                   12.0   \n",
              "6     2234264    184693.0                     4.0                   11.0   \n",
              "7     1818599    111420.0                     2.0                    4.0   \n",
              "8     2723183    112102.0                     0.0                   14.0   \n",
              "9     1413990    109741.0                     1.0                    4.0   \n",
              "\n",
              "   DAYS_INSTALMENT  DAYS_ENTRY_PAYMENT  AMT_INSTALMENT  AMT_PAYMENT  \n",
              "0          -1180.0             -1187.0        6948.360     6948.360  \n",
              "1          -2156.0             -2156.0        1716.525     1716.525  \n",
              "2            -63.0               -63.0       25425.000    25425.000  \n",
              "3          -2418.0             -2426.0       24350.130    24350.130  \n",
              "4          -1383.0             -1366.0        2165.040     2160.585  \n",
              "5          -1384.0             -1417.0        5970.375     5970.375  \n",
              "6           -349.0              -352.0       29432.295    29432.295  \n",
              "7           -968.0              -994.0       17862.165    17862.165  \n",
              "8           -197.0              -197.0          70.740       70.740  \n",
              "9           -570.0              -609.0       14308.470    14308.470  "
            ],
            "text/html": [
              "\n",
              "  <div id=\"df-94a3c811-2479-4154-b917-ee902baf8232\">\n",
              "    <div class=\"colab-df-container\">\n",
              "      <div>\n",
              "<style scoped>\n",
              "    .dataframe tbody tr th:only-of-type {\n",
              "        vertical-align: middle;\n",
              "    }\n",
              "\n",
              "    .dataframe tbody tr th {\n",
              "        vertical-align: top;\n",
              "    }\n",
              "\n",
              "    .dataframe thead th {\n",
              "        text-align: right;\n",
              "    }\n",
              "</style>\n",
              "<table border=\"1\" class=\"dataframe\">\n",
              "  <thead>\n",
              "    <tr style=\"text-align: right;\">\n",
              "      <th></th>\n",
              "      <th>SK_ID_PREV</th>\n",
              "      <th>SK_ID_CURR</th>\n",
              "      <th>NUM_INSTALMENT_VERSION</th>\n",
              "      <th>NUM_INSTALMENT_NUMBER</th>\n",
              "      <th>DAYS_INSTALMENT</th>\n",
              "      <th>DAYS_ENTRY_PAYMENT</th>\n",
              "      <th>AMT_INSTALMENT</th>\n",
              "      <th>AMT_PAYMENT</th>\n",
              "    </tr>\n",
              "  </thead>\n",
              "  <tbody>\n",
              "    <tr>\n",
              "      <th>0</th>\n",
              "      <td>1054186</td>\n",
              "      <td>161674.0</td>\n",
              "      <td>1.0</td>\n",
              "      <td>6.0</td>\n",
              "      <td>-1180.0</td>\n",
              "      <td>-1187.0</td>\n",
              "      <td>6948.360</td>\n",
              "      <td>6948.360</td>\n",
              "    </tr>\n",
              "    <tr>\n",
              "      <th>1</th>\n",
              "      <td>1330831</td>\n",
              "      <td>151639.0</td>\n",
              "      <td>0.0</td>\n",
              "      <td>34.0</td>\n",
              "      <td>-2156.0</td>\n",
              "      <td>-2156.0</td>\n",
              "      <td>1716.525</td>\n",
              "      <td>1716.525</td>\n",
              "    </tr>\n",
              "    <tr>\n",
              "      <th>2</th>\n",
              "      <td>2085231</td>\n",
              "      <td>193053.0</td>\n",
              "      <td>2.0</td>\n",
              "      <td>1.0</td>\n",
              "      <td>-63.0</td>\n",
              "      <td>-63.0</td>\n",
              "      <td>25425.000</td>\n",
              "      <td>25425.000</td>\n",
              "    </tr>\n",
              "    <tr>\n",
              "      <th>3</th>\n",
              "      <td>2452527</td>\n",
              "      <td>199697.0</td>\n",
              "      <td>1.0</td>\n",
              "      <td>3.0</td>\n",
              "      <td>-2418.0</td>\n",
              "      <td>-2426.0</td>\n",
              "      <td>24350.130</td>\n",
              "      <td>24350.130</td>\n",
              "    </tr>\n",
              "    <tr>\n",
              "      <th>4</th>\n",
              "      <td>2714724</td>\n",
              "      <td>167756.0</td>\n",
              "      <td>1.0</td>\n",
              "      <td>2.0</td>\n",
              "      <td>-1383.0</td>\n",
              "      <td>-1366.0</td>\n",
              "      <td>2165.040</td>\n",
              "      <td>2160.585</td>\n",
              "    </tr>\n",
              "    <tr>\n",
              "      <th>5</th>\n",
              "      <td>1137312</td>\n",
              "      <td>164489.0</td>\n",
              "      <td>1.0</td>\n",
              "      <td>12.0</td>\n",
              "      <td>-1384.0</td>\n",
              "      <td>-1417.0</td>\n",
              "      <td>5970.375</td>\n",
              "      <td>5970.375</td>\n",
              "    </tr>\n",
              "    <tr>\n",
              "      <th>6</th>\n",
              "      <td>2234264</td>\n",
              "      <td>184693.0</td>\n",
              "      <td>4.0</td>\n",
              "      <td>11.0</td>\n",
              "      <td>-349.0</td>\n",
              "      <td>-352.0</td>\n",
              "      <td>29432.295</td>\n",
              "      <td>29432.295</td>\n",
              "    </tr>\n",
              "    <tr>\n",
              "      <th>7</th>\n",
              "      <td>1818599</td>\n",
              "      <td>111420.0</td>\n",
              "      <td>2.0</td>\n",
              "      <td>4.0</td>\n",
              "      <td>-968.0</td>\n",
              "      <td>-994.0</td>\n",
              "      <td>17862.165</td>\n",
              "      <td>17862.165</td>\n",
              "    </tr>\n",
              "    <tr>\n",
              "      <th>8</th>\n",
              "      <td>2723183</td>\n",
              "      <td>112102.0</td>\n",
              "      <td>0.0</td>\n",
              "      <td>14.0</td>\n",
              "      <td>-197.0</td>\n",
              "      <td>-197.0</td>\n",
              "      <td>70.740</td>\n",
              "      <td>70.740</td>\n",
              "    </tr>\n",
              "    <tr>\n",
              "      <th>9</th>\n",
              "      <td>1413990</td>\n",
              "      <td>109741.0</td>\n",
              "      <td>1.0</td>\n",
              "      <td>4.0</td>\n",
              "      <td>-570.0</td>\n",
              "      <td>-609.0</td>\n",
              "      <td>14308.470</td>\n",
              "      <td>14308.470</td>\n",
              "    </tr>\n",
              "  </tbody>\n",
              "</table>\n",
              "</div>\n",
              "      <button class=\"colab-df-convert\" onclick=\"convertToInteractive('df-94a3c811-2479-4154-b917-ee902baf8232')\"\n",
              "              title=\"Convert this dataframe to an interactive table.\"\n",
              "              style=\"display:none;\">\n",
              "        \n",
              "  <svg xmlns=\"http://www.w3.org/2000/svg\" height=\"24px\"viewBox=\"0 0 24 24\"\n",
              "       width=\"24px\">\n",
              "    <path d=\"M0 0h24v24H0V0z\" fill=\"none\"/>\n",
              "    <path d=\"M18.56 5.44l.94 2.06.94-2.06 2.06-.94-2.06-.94-.94-2.06-.94 2.06-2.06.94zm-11 1L8.5 8.5l.94-2.06 2.06-.94-2.06-.94L8.5 2.5l-.94 2.06-2.06.94zm10 10l.94 2.06.94-2.06 2.06-.94-2.06-.94-.94-2.06-.94 2.06-2.06.94z\"/><path d=\"M17.41 7.96l-1.37-1.37c-.4-.4-.92-.59-1.43-.59-.52 0-1.04.2-1.43.59L10.3 9.45l-7.72 7.72c-.78.78-.78 2.05 0 2.83L4 21.41c.39.39.9.59 1.41.59.51 0 1.02-.2 1.41-.59l7.78-7.78 2.81-2.81c.8-.78.8-2.07 0-2.86zM5.41 20L4 18.59l7.72-7.72 1.47 1.35L5.41 20z\"/>\n",
              "  </svg>\n",
              "      </button>\n",
              "      \n",
              "  <style>\n",
              "    .colab-df-container {\n",
              "      display:flex;\n",
              "      flex-wrap:wrap;\n",
              "      gap: 12px;\n",
              "    }\n",
              "\n",
              "    .colab-df-convert {\n",
              "      background-color: #E8F0FE;\n",
              "      border: none;\n",
              "      border-radius: 50%;\n",
              "      cursor: pointer;\n",
              "      display: none;\n",
              "      fill: #1967D2;\n",
              "      height: 32px;\n",
              "      padding: 0 0 0 0;\n",
              "      width: 32px;\n",
              "    }\n",
              "\n",
              "    .colab-df-convert:hover {\n",
              "      background-color: #E2EBFA;\n",
              "      box-shadow: 0px 1px 2px rgba(60, 64, 67, 0.3), 0px 1px 3px 1px rgba(60, 64, 67, 0.15);\n",
              "      fill: #174EA6;\n",
              "    }\n",
              "\n",
              "    [theme=dark] .colab-df-convert {\n",
              "      background-color: #3B4455;\n",
              "      fill: #D2E3FC;\n",
              "    }\n",
              "\n",
              "    [theme=dark] .colab-df-convert:hover {\n",
              "      background-color: #434B5C;\n",
              "      box-shadow: 0px 1px 3px 1px rgba(0, 0, 0, 0.15);\n",
              "      filter: drop-shadow(0px 1px 2px rgba(0, 0, 0, 0.3));\n",
              "      fill: #FFFFFF;\n",
              "    }\n",
              "  </style>\n",
              "\n",
              "      <script>\n",
              "        const buttonEl =\n",
              "          document.querySelector('#df-94a3c811-2479-4154-b917-ee902baf8232 button.colab-df-convert');\n",
              "        buttonEl.style.display =\n",
              "          google.colab.kernel.accessAllowed ? 'block' : 'none';\n",
              "\n",
              "        async function convertToInteractive(key) {\n",
              "          const element = document.querySelector('#df-94a3c811-2479-4154-b917-ee902baf8232');\n",
              "          const dataTable =\n",
              "            await google.colab.kernel.invokeFunction('convertToInteractive',\n",
              "                                                     [key], {});\n",
              "          if (!dataTable) return;\n",
              "\n",
              "          const docLinkHtml = 'Like what you see? Visit the ' +\n",
              "            '<a target=\"_blank\" href=https://colab.research.google.com/notebooks/data_table.ipynb>data table notebook</a>'\n",
              "            + ' to learn more about interactive tables.';\n",
              "          element.innerHTML = '';\n",
              "          dataTable['output_type'] = 'display_data';\n",
              "          await google.colab.output.renderOutput(dataTable, element);\n",
              "          const docLink = document.createElement('div');\n",
              "          docLink.innerHTML = docLinkHtml;\n",
              "          element.appendChild(docLink);\n",
              "        }\n",
              "      </script>\n",
              "    </div>\n",
              "  </div>\n",
              "  "
            ]
          },
          "metadata": {},
          "execution_count": 47
        }
      ]
    },
    {
      "cell_type": "code",
      "source": [
        "install_payments.shape"
      ],
      "metadata": {
        "id": "TsnDPPZpWTJ7",
        "colab": {
          "base_uri": "https://localhost:8080/"
        },
        "outputId": "292ae1ec-b471-484a-c17c-09c96111dea5"
      },
      "execution_count": null,
      "outputs": [
        {
          "output_type": "execute_result",
          "data": {
            "text/plain": [
              "(7734185, 8)"
            ]
          },
          "metadata": {},
          "execution_count": 48
        }
      ]
    },
    {
      "cell_type": "code",
      "source": [
        "install_payments.columns"
      ],
      "metadata": {
        "id": "3wjDqhmFWTBK",
        "colab": {
          "base_uri": "https://localhost:8080/"
        },
        "outputId": "80455b34-2e2f-4cd7-891c-1d16f24bc6e7"
      },
      "execution_count": null,
      "outputs": [
        {
          "output_type": "execute_result",
          "data": {
            "text/plain": [
              "Index(['SK_ID_PREV', 'SK_ID_CURR', 'NUM_INSTALMENT_VERSION',\n",
              "       'NUM_INSTALMENT_NUMBER', 'DAYS_INSTALMENT', 'DAYS_ENTRY_PAYMENT',\n",
              "       'AMT_INSTALMENT', 'AMT_PAYMENT'],\n",
              "      dtype='object')"
            ]
          },
          "metadata": {},
          "execution_count": 49
        }
      ]
    },
    {
      "cell_type": "code",
      "source": [
        "install_payments.info()"
      ],
      "metadata": {
        "id": "wnkDBUmzWS3J",
        "colab": {
          "base_uri": "https://localhost:8080/"
        },
        "outputId": "bb40e0ba-84d5-433b-f727-ceb39276b53e"
      },
      "execution_count": null,
      "outputs": [
        {
          "output_type": "stream",
          "name": "stdout",
          "text": [
            "<class 'pandas.core.frame.DataFrame'>\n",
            "RangeIndex: 7734185 entries, 0 to 7734184\n",
            "Data columns (total 8 columns):\n",
            " #   Column                  Dtype  \n",
            "---  ------                  -----  \n",
            " 0   SK_ID_PREV              int64  \n",
            " 1   SK_ID_CURR              float64\n",
            " 2   NUM_INSTALMENT_VERSION  float64\n",
            " 3   NUM_INSTALMENT_NUMBER   float64\n",
            " 4   DAYS_INSTALMENT         float64\n",
            " 5   DAYS_ENTRY_PAYMENT      float64\n",
            " 6   AMT_INSTALMENT          float64\n",
            " 7   AMT_PAYMENT             float64\n",
            "dtypes: float64(7), int64(1)\n",
            "memory usage: 472.1 MB\n"
          ]
        }
      ]
    },
    {
      "cell_type": "markdown",
      "source": [
        "**Basic EDA**"
      ],
      "metadata": {
        "id": "3Pee1rwt5naJ"
      }
    },
    {
      "cell_type": "code",
      "source": [
        "install_payments.duplicated().sum()"
      ],
      "metadata": {
        "colab": {
          "base_uri": "https://localhost:8080/"
        },
        "id": "79xC3Kj-5xPP",
        "outputId": "0c205044-999f-4dd6-9a5d-9e1caf8eea4b"
      },
      "execution_count": null,
      "outputs": [
        {
          "output_type": "execute_result",
          "data": {
            "text/plain": [
              "0"
            ]
          },
          "metadata": {},
          "execution_count": 51
        }
      ]
    },
    {
      "cell_type": "code",
      "source": [
        "# NUMBER OF NULL VALUES IN EACH COLUMN\n",
        "install_payments.isna().sum().sort_values(ascending=False)"
      ],
      "metadata": {
        "id": "5UuZ89E7WSji",
        "colab": {
          "base_uri": "https://localhost:8080/"
        },
        "outputId": "193bae41-ed8c-41b5-cfb3-bc57044c551e"
      },
      "execution_count": null,
      "outputs": [
        {
          "output_type": "execute_result",
          "data": {
            "text/plain": [
              "DAYS_ENTRY_PAYMENT        1505\n",
              "AMT_PAYMENT               1505\n",
              "SK_ID_CURR                   1\n",
              "NUM_INSTALMENT_VERSION       1\n",
              "NUM_INSTALMENT_NUMBER        1\n",
              "DAYS_INSTALMENT              1\n",
              "AMT_INSTALMENT               1\n",
              "SK_ID_PREV                   0\n",
              "dtype: int64"
            ]
          },
          "metadata": {},
          "execution_count": 58
        }
      ]
    },
    {
      "cell_type": "code",
      "source": [
        "# PERCENTAGE OF NULL VALUES IN EACH COLUMN\n",
        "(install_payments.isna().sum() / install_payments.shape[0]).sort_values(ascending=False)"
      ],
      "metadata": {
        "id": "xDnaI9jfY_2-",
        "colab": {
          "base_uri": "https://localhost:8080/"
        },
        "outputId": "f5b331f1-14e2-4883-833a-41f3ea2ed806"
      },
      "execution_count": null,
      "outputs": [
        {
          "output_type": "execute_result",
          "data": {
            "text/plain": [
              "DAYS_ENTRY_PAYMENT        1.945906e-04\n",
              "AMT_PAYMENT               1.945906e-04\n",
              "SK_ID_CURR                1.292961e-07\n",
              "NUM_INSTALMENT_VERSION    1.292961e-07\n",
              "NUM_INSTALMENT_NUMBER     1.292961e-07\n",
              "DAYS_INSTALMENT           1.292961e-07\n",
              "AMT_INSTALMENT            1.292961e-07\n",
              "SK_ID_PREV                0.000000e+00\n",
              "dtype: float64"
            ]
          },
          "metadata": {},
          "execution_count": 59
        }
      ]
    },
    {
      "cell_type": "markdown",
      "source": [
        "Two columns: the day and the amount customers actually paid (DAYS_ENTRY_PAYMENT and AMT_PAYMENT) include the same amount of null values\n",
        "\n",
        "0.02% of clients haven't paid previous credit on this installment"
      ],
      "metadata": {
        "id": "czTFQtVCZDUL"
      }
    },
    {
      "cell_type": "markdown",
      "source": [
        "**Sumarization**"
      ],
      "metadata": {
        "id": "_VWgkkZGZF9h"
      }
    },
    {
      "cell_type": "code",
      "source": [
        "install_payments.describe().T"
      ],
      "metadata": {
        "id": "sBjrZzPMY_ze",
        "colab": {
          "base_uri": "https://localhost:8080/",
          "height": 300
        },
        "outputId": "c571a59f-c5fa-4108-ca7e-de46c18eab06"
      },
      "execution_count": null,
      "outputs": [
        {
          "output_type": "execute_result",
          "data": {
            "text/plain": [
              "                            count          mean            std       min  \\\n",
              "SK_ID_PREV              7734185.0  1.902429e+06  536334.437902    2579.0   \n",
              "SK_ID_CURR              7734184.0  2.024503e+05   60212.658010  100001.0   \n",
              "NUM_INSTALMENT_VERSION  7734184.0  8.557079e-01       1.015123       0.0   \n",
              "NUM_INSTALMENT_NUMBER   7734184.0  1.887490e+01      26.706530       1.0   \n",
              "DAYS_INSTALMENT         7734184.0 -1.042286e+03     801.013628   -2922.0   \n",
              "DAYS_ENTRY_PAYMENT      7732680.0 -1.051126e+03     800.658742   -3160.0   \n",
              "AMT_INSTALMENT          7734184.0  1.706066e+04   50812.213163       0.0   \n",
              "AMT_PAYMENT             7732680.0  1.724676e+04   55003.044500       0.0   \n",
              "\n",
              "                                25%           50%          75%          max  \n",
              "SK_ID_PREV              1431369.000  1.895347e+06  2369175.000  2843499.000  \n",
              "SK_ID_CURR               151082.000  2.017660e+05   252384.000   399998.000  \n",
              "NUM_INSTALMENT_VERSION        0.000  1.000000e+00        1.000      178.000  \n",
              "NUM_INSTALMENT_NUMBER         4.000  8.000000e+00       19.000      275.000  \n",
              "DAYS_INSTALMENT           -1654.000 -8.180000e+02     -361.000       -2.000  \n",
              "DAYS_ENTRY_PAYMENT        -1663.000 -8.270000e+02     -370.000       -2.000  \n",
              "AMT_INSTALMENT             4219.155  8.858722e+03    16690.815  3771487.845  \n",
              "AMT_PAYMENT                3387.735  8.105085e+03    16075.080  3771487.845  "
            ],
            "text/html": [
              "\n",
              "  <div id=\"df-39bb2b49-bfc3-47f0-85af-10e5c7e84e0b\">\n",
              "    <div class=\"colab-df-container\">\n",
              "      <div>\n",
              "<style scoped>\n",
              "    .dataframe tbody tr th:only-of-type {\n",
              "        vertical-align: middle;\n",
              "    }\n",
              "\n",
              "    .dataframe tbody tr th {\n",
              "        vertical-align: top;\n",
              "    }\n",
              "\n",
              "    .dataframe thead th {\n",
              "        text-align: right;\n",
              "    }\n",
              "</style>\n",
              "<table border=\"1\" class=\"dataframe\">\n",
              "  <thead>\n",
              "    <tr style=\"text-align: right;\">\n",
              "      <th></th>\n",
              "      <th>count</th>\n",
              "      <th>mean</th>\n",
              "      <th>std</th>\n",
              "      <th>min</th>\n",
              "      <th>25%</th>\n",
              "      <th>50%</th>\n",
              "      <th>75%</th>\n",
              "      <th>max</th>\n",
              "    </tr>\n",
              "  </thead>\n",
              "  <tbody>\n",
              "    <tr>\n",
              "      <th>SK_ID_PREV</th>\n",
              "      <td>7734185.0</td>\n",
              "      <td>1.902429e+06</td>\n",
              "      <td>536334.437902</td>\n",
              "      <td>2579.0</td>\n",
              "      <td>1431369.000</td>\n",
              "      <td>1.895347e+06</td>\n",
              "      <td>2369175.000</td>\n",
              "      <td>2843499.000</td>\n",
              "    </tr>\n",
              "    <tr>\n",
              "      <th>SK_ID_CURR</th>\n",
              "      <td>7734184.0</td>\n",
              "      <td>2.024503e+05</td>\n",
              "      <td>60212.658010</td>\n",
              "      <td>100001.0</td>\n",
              "      <td>151082.000</td>\n",
              "      <td>2.017660e+05</td>\n",
              "      <td>252384.000</td>\n",
              "      <td>399998.000</td>\n",
              "    </tr>\n",
              "    <tr>\n",
              "      <th>NUM_INSTALMENT_VERSION</th>\n",
              "      <td>7734184.0</td>\n",
              "      <td>8.557079e-01</td>\n",
              "      <td>1.015123</td>\n",
              "      <td>0.0</td>\n",
              "      <td>0.000</td>\n",
              "      <td>1.000000e+00</td>\n",
              "      <td>1.000</td>\n",
              "      <td>178.000</td>\n",
              "    </tr>\n",
              "    <tr>\n",
              "      <th>NUM_INSTALMENT_NUMBER</th>\n",
              "      <td>7734184.0</td>\n",
              "      <td>1.887490e+01</td>\n",
              "      <td>26.706530</td>\n",
              "      <td>1.0</td>\n",
              "      <td>4.000</td>\n",
              "      <td>8.000000e+00</td>\n",
              "      <td>19.000</td>\n",
              "      <td>275.000</td>\n",
              "    </tr>\n",
              "    <tr>\n",
              "      <th>DAYS_INSTALMENT</th>\n",
              "      <td>7734184.0</td>\n",
              "      <td>-1.042286e+03</td>\n",
              "      <td>801.013628</td>\n",
              "      <td>-2922.0</td>\n",
              "      <td>-1654.000</td>\n",
              "      <td>-8.180000e+02</td>\n",
              "      <td>-361.000</td>\n",
              "      <td>-2.000</td>\n",
              "    </tr>\n",
              "    <tr>\n",
              "      <th>DAYS_ENTRY_PAYMENT</th>\n",
              "      <td>7732680.0</td>\n",
              "      <td>-1.051126e+03</td>\n",
              "      <td>800.658742</td>\n",
              "      <td>-3160.0</td>\n",
              "      <td>-1663.000</td>\n",
              "      <td>-8.270000e+02</td>\n",
              "      <td>-370.000</td>\n",
              "      <td>-2.000</td>\n",
              "    </tr>\n",
              "    <tr>\n",
              "      <th>AMT_INSTALMENT</th>\n",
              "      <td>7734184.0</td>\n",
              "      <td>1.706066e+04</td>\n",
              "      <td>50812.213163</td>\n",
              "      <td>0.0</td>\n",
              "      <td>4219.155</td>\n",
              "      <td>8.858722e+03</td>\n",
              "      <td>16690.815</td>\n",
              "      <td>3771487.845</td>\n",
              "    </tr>\n",
              "    <tr>\n",
              "      <th>AMT_PAYMENT</th>\n",
              "      <td>7732680.0</td>\n",
              "      <td>1.724676e+04</td>\n",
              "      <td>55003.044500</td>\n",
              "      <td>0.0</td>\n",
              "      <td>3387.735</td>\n",
              "      <td>8.105085e+03</td>\n",
              "      <td>16075.080</td>\n",
              "      <td>3771487.845</td>\n",
              "    </tr>\n",
              "  </tbody>\n",
              "</table>\n",
              "</div>\n",
              "      <button class=\"colab-df-convert\" onclick=\"convertToInteractive('df-39bb2b49-bfc3-47f0-85af-10e5c7e84e0b')\"\n",
              "              title=\"Convert this dataframe to an interactive table.\"\n",
              "              style=\"display:none;\">\n",
              "        \n",
              "  <svg xmlns=\"http://www.w3.org/2000/svg\" height=\"24px\"viewBox=\"0 0 24 24\"\n",
              "       width=\"24px\">\n",
              "    <path d=\"M0 0h24v24H0V0z\" fill=\"none\"/>\n",
              "    <path d=\"M18.56 5.44l.94 2.06.94-2.06 2.06-.94-2.06-.94-.94-2.06-.94 2.06-2.06.94zm-11 1L8.5 8.5l.94-2.06 2.06-.94-2.06-.94L8.5 2.5l-.94 2.06-2.06.94zm10 10l.94 2.06.94-2.06 2.06-.94-2.06-.94-.94-2.06-.94 2.06-2.06.94z\"/><path d=\"M17.41 7.96l-1.37-1.37c-.4-.4-.92-.59-1.43-.59-.52 0-1.04.2-1.43.59L10.3 9.45l-7.72 7.72c-.78.78-.78 2.05 0 2.83L4 21.41c.39.39.9.59 1.41.59.51 0 1.02-.2 1.41-.59l7.78-7.78 2.81-2.81c.8-.78.8-2.07 0-2.86zM5.41 20L4 18.59l7.72-7.72 1.47 1.35L5.41 20z\"/>\n",
              "  </svg>\n",
              "      </button>\n",
              "      \n",
              "  <style>\n",
              "    .colab-df-container {\n",
              "      display:flex;\n",
              "      flex-wrap:wrap;\n",
              "      gap: 12px;\n",
              "    }\n",
              "\n",
              "    .colab-df-convert {\n",
              "      background-color: #E8F0FE;\n",
              "      border: none;\n",
              "      border-radius: 50%;\n",
              "      cursor: pointer;\n",
              "      display: none;\n",
              "      fill: #1967D2;\n",
              "      height: 32px;\n",
              "      padding: 0 0 0 0;\n",
              "      width: 32px;\n",
              "    }\n",
              "\n",
              "    .colab-df-convert:hover {\n",
              "      background-color: #E2EBFA;\n",
              "      box-shadow: 0px 1px 2px rgba(60, 64, 67, 0.3), 0px 1px 3px 1px rgba(60, 64, 67, 0.15);\n",
              "      fill: #174EA6;\n",
              "    }\n",
              "\n",
              "    [theme=dark] .colab-df-convert {\n",
              "      background-color: #3B4455;\n",
              "      fill: #D2E3FC;\n",
              "    }\n",
              "\n",
              "    [theme=dark] .colab-df-convert:hover {\n",
              "      background-color: #434B5C;\n",
              "      box-shadow: 0px 1px 3px 1px rgba(0, 0, 0, 0.15);\n",
              "      filter: drop-shadow(0px 1px 2px rgba(0, 0, 0, 0.3));\n",
              "      fill: #FFFFFF;\n",
              "    }\n",
              "  </style>\n",
              "\n",
              "      <script>\n",
              "        const buttonEl =\n",
              "          document.querySelector('#df-39bb2b49-bfc3-47f0-85af-10e5c7e84e0b button.colab-df-convert');\n",
              "        buttonEl.style.display =\n",
              "          google.colab.kernel.accessAllowed ? 'block' : 'none';\n",
              "\n",
              "        async function convertToInteractive(key) {\n",
              "          const element = document.querySelector('#df-39bb2b49-bfc3-47f0-85af-10e5c7e84e0b');\n",
              "          const dataTable =\n",
              "            await google.colab.kernel.invokeFunction('convertToInteractive',\n",
              "                                                     [key], {});\n",
              "          if (!dataTable) return;\n",
              "\n",
              "          const docLinkHtml = 'Like what you see? Visit the ' +\n",
              "            '<a target=\"_blank\" href=https://colab.research.google.com/notebooks/data_table.ipynb>data table notebook</a>'\n",
              "            + ' to learn more about interactive tables.';\n",
              "          element.innerHTML = '';\n",
              "          dataTable['output_type'] = 'display_data';\n",
              "          await google.colab.output.renderOutput(dataTable, element);\n",
              "          const docLink = document.createElement('div');\n",
              "          docLink.innerHTML = docLinkHtml;\n",
              "          element.appendChild(docLink);\n",
              "        }\n",
              "      </script>\n",
              "    </div>\n",
              "  </div>\n",
              "  "
            ]
          },
          "metadata": {},
          "execution_count": 54
        }
      ]
    },
    {
      "cell_type": "markdown",
      "source": [
        "That the average AMT_INSTALLMENTS (the prescribed installment amount on this installment is) smaller than AMT_PAYMENTS (the amount client actually paid on this installment) suggests:\n",
        "\n",
        "Some loans are not repayed on time"
      ],
      "metadata": {
        "id": "IVTdsXXWZI6k"
      }
    },
    {
      "cell_type": "code",
      "source": [
        "# histogram\n",
        "install_payments.iloc[:,4:6].hist(bins=20)"
      ],
      "metadata": {
        "id": "GT8HM82VY_wM",
        "colab": {
          "base_uri": "https://localhost:8080/",
          "height": 333
        },
        "outputId": "b4b45cef-3ce5-4070-cae0-ed7f3a54d2cf"
      },
      "execution_count": null,
      "outputs": [
        {
          "output_type": "execute_result",
          "data": {
            "text/plain": [
              "array([[<matplotlib.axes._subplots.AxesSubplot object at 0x7f1efb6aa190>,\n",
              "        <matplotlib.axes._subplots.AxesSubplot object at 0x7f1efb378210>]],\n",
              "      dtype=object)"
            ]
          },
          "metadata": {},
          "execution_count": 55
        },
        {
          "output_type": "display_data",
          "data": {
            "text/plain": [
              "<Figure size 432x288 with 2 Axes>"
            ],
            "image/png": "[encoded data removed]"
          },
          "metadata": {
            "needs_background": "light"
          }
        }
      ]
    },
    {
      "cell_type": "markdown",
      "source": [
        "The histogram of prescribed installment day and actually paid day also suggests late payment of the customer"
      ],
      "metadata": {
        "id": "ikNUHc8oZMaj"
      }
    },
    {
      "cell_type": "markdown",
      "source": [
        "Correlation"
      ],
      "metadata": {
        "id": "3X5lv1UmZO5b"
      }
    },
    {
      "cell_type": "code",
      "source": [
        "install_payments.corr()"
      ],
      "metadata": {
        "id": "rzb1yFeuZOii",
        "colab": {
          "base_uri": "https://localhost:8080/",
          "height": 364
        },
        "outputId": "607e9e30-16dd-48ac-cfee-fee21e1a23d2"
      },
      "execution_count": null,
      "outputs": [
        {
          "output_type": "execute_result",
          "data": {
            "text/plain": [
              "                        SK_ID_PREV  SK_ID_CURR  NUM_INSTALMENT_VERSION  \\\n",
              "SK_ID_PREV                1.000000    0.003484                0.003544   \n",
              "SK_ID_CURR                0.003484    1.000000               -0.000370   \n",
              "NUM_INSTALMENT_VERSION    0.003544   -0.000370                1.000000   \n",
              "NUM_INSTALMENT_NUMBER    -0.005596   -0.000667               -0.329795   \n",
              "DAYS_INSTALMENT           0.003641    0.002993                0.131527   \n",
              "DAYS_ENTRY_PAYMENT        0.003619    0.003025                0.129339   \n",
              "AMT_INSTALMENT            0.003078   -0.000529                0.170486   \n",
              "AMT_PAYMENT               0.002876   -0.000363                0.179050   \n",
              "\n",
              "                        NUM_INSTALMENT_NUMBER  DAYS_INSTALMENT  \\\n",
              "SK_ID_PREV                          -0.005596         0.003641   \n",
              "SK_ID_CURR                          -0.000667         0.002993   \n",
              "NUM_INSTALMENT_VERSION              -0.329795         0.131527   \n",
              "NUM_INSTALMENT_NUMBER                1.000000         0.090540   \n",
              "DAYS_INSTALMENT                      0.090540         1.000000   \n",
              "DAYS_ENTRY_PAYMENT                   0.094567         0.999490   \n",
              "AMT_INSTALMENT                      -0.089088         0.125724   \n",
              "AMT_PAYMENT                         -0.087129         0.126652   \n",
              "\n",
              "                        DAYS_ENTRY_PAYMENT  AMT_INSTALMENT  AMT_PAYMENT  \n",
              "SK_ID_PREV                        0.003619        0.003078     0.002876  \n",
              "SK_ID_CURR                        0.003025       -0.000529    -0.000363  \n",
              "NUM_INSTALMENT_VERSION            0.129339        0.170486     0.179050  \n",
              "NUM_INSTALMENT_NUMBER             0.094567       -0.089088    -0.087129  \n",
              "DAYS_INSTALMENT                   0.999490        0.125724     0.126652  \n",
              "DAYS_ENTRY_PAYMENT                1.000000        0.125305     0.126245  \n",
              "AMT_INSTALMENT                    0.125305        1.000000     0.936853  \n",
              "AMT_PAYMENT                       0.126245        0.936853     1.000000  "
            ],
            "text/html": [
              "\n",
              "  <div id=\"df-efd869e6-97a4-44fb-a5c2-98749540b52e\">\n",
              "    <div class=\"colab-df-container\">\n",
              "      <div>\n",
              "<style scoped>\n",
              "    .dataframe tbody tr th:only-of-type {\n",
              "        vertical-align: middle;\n",
              "    }\n",
              "\n",
              "    .dataframe tbody tr th {\n",
              "        vertical-align: top;\n",
              "    }\n",
              "\n",
              "    .dataframe thead th {\n",
              "        text-align: right;\n",
              "    }\n",
              "</style>\n",
              "<table border=\"1\" class=\"dataframe\">\n",
              "  <thead>\n",
              "    <tr style=\"text-align: right;\">\n",
              "      <th></th>\n",
              "      <th>SK_ID_PREV</th>\n",
              "      <th>SK_ID_CURR</th>\n",
              "      <th>NUM_INSTALMENT_VERSION</th>\n",
              "      <th>NUM_INSTALMENT_NUMBER</th>\n",
              "      <th>DAYS_INSTALMENT</th>\n",
              "      <th>DAYS_ENTRY_PAYMENT</th>\n",
              "      <th>AMT_INSTALMENT</th>\n",
              "      <th>AMT_PAYMENT</th>\n",
              "    </tr>\n",
              "  </thead>\n",
              "  <tbody>\n",
              "    <tr>\n",
              "      <th>SK_ID_PREV</th>\n",
              "      <td>1.000000</td>\n",
              "      <td>0.003484</td>\n",
              "      <td>0.003544</td>\n",
              "      <td>-0.005596</td>\n",
              "      <td>0.003641</td>\n",
              "      <td>0.003619</td>\n",
              "      <td>0.003078</td>\n",
              "      <td>0.002876</td>\n",
              "    </tr>\n",
              "    <tr>\n",
              "      <th>SK_ID_CURR</th>\n",
              "      <td>0.003484</td>\n",
              "      <td>1.000000</td>\n",
              "      <td>-0.000370</td>\n",
              "      <td>-0.000667</td>\n",
              "      <td>0.002993</td>\n",
              "      <td>0.003025</td>\n",
              "      <td>-0.000529</td>\n",
              "      <td>-0.000363</td>\n",
              "    </tr>\n",
              "    <tr>\n",
              "      <th>NUM_INSTALMENT_VERSION</th>\n",
              "      <td>0.003544</td>\n",
              "      <td>-0.000370</td>\n",
              "      <td>1.000000</td>\n",
              "      <td>-0.329795</td>\n",
              "      <td>0.131527</td>\n",
              "      <td>0.129339</td>\n",
              "      <td>0.170486</td>\n",
              "      <td>0.179050</td>\n",
              "    </tr>\n",
              "    <tr>\n",
              "      <th>NUM_INSTALMENT_NUMBER</th>\n",
              "      <td>-0.005596</td>\n",
              "      <td>-0.000667</td>\n",
              "      <td>-0.329795</td>\n",
              "      <td>1.000000</td>\n",
              "      <td>0.090540</td>\n",
              "      <td>0.094567</td>\n",
              "      <td>-0.089088</td>\n",
              "      <td>-0.087129</td>\n",
              "    </tr>\n",
              "    <tr>\n",
              "      <th>DAYS_INSTALMENT</th>\n",
              "      <td>0.003641</td>\n",
              "      <td>0.002993</td>\n",
              "      <td>0.131527</td>\n",
              "      <td>0.090540</td>\n",
              "      <td>1.000000</td>\n",
              "      <td>0.999490</td>\n",
              "      <td>0.125724</td>\n",
              "      <td>0.126652</td>\n",
              "    </tr>\n",
              "    <tr>\n",
              "      <th>DAYS_ENTRY_PAYMENT</th>\n",
              "      <td>0.003619</td>\n",
              "      <td>0.003025</td>\n",
              "      <td>0.129339</td>\n",
              "      <td>0.094567</td>\n",
              "      <td>0.999490</td>\n",
              "      <td>1.000000</td>\n",
              "      <td>0.125305</td>\n",
              "      <td>0.126245</td>\n",
              "    </tr>\n",
              "    <tr>\n",
              "      <th>AMT_INSTALMENT</th>\n",
              "      <td>0.003078</td>\n",
              "      <td>-0.000529</td>\n",
              "      <td>0.170486</td>\n",
              "      <td>-0.089088</td>\n",
              "      <td>0.125724</td>\n",
              "      <td>0.125305</td>\n",
              "      <td>1.000000</td>\n",
              "      <td>0.936853</td>\n",
              "    </tr>\n",
              "    <tr>\n",
              "      <th>AMT_PAYMENT</th>\n",
              "      <td>0.002876</td>\n",
              "      <td>-0.000363</td>\n",
              "      <td>0.179050</td>\n",
              "      <td>-0.087129</td>\n",
              "      <td>0.126652</td>\n",
              "      <td>0.126245</td>\n",
              "      <td>0.936853</td>\n",
              "      <td>1.000000</td>\n",
              "    </tr>\n",
              "  </tbody>\n",
              "</table>\n",
              "</div>\n",
              "      <button class=\"colab-df-convert\" onclick=\"convertToInteractive('df-efd869e6-97a4-44fb-a5c2-98749540b52e')\"\n",
              "              title=\"Convert this dataframe to an interactive table.\"\n",
              "              style=\"display:none;\">\n",
              "        \n",
              "  <svg xmlns=\"http://www.w3.org/2000/svg\" height=\"24px\"viewBox=\"0 0 24 24\"\n",
              "       width=\"24px\">\n",
              "    <path d=\"M0 0h24v24H0V0z\" fill=\"none\"/>\n",
              "    <path d=\"M18.56 5.44l.94 2.06.94-2.06 2.06-.94-2.06-.94-.94-2.06-.94 2.06-2.06.94zm-11 1L8.5 8.5l.94-2.06 2.06-.94-2.06-.94L8.5 2.5l-.94 2.06-2.06.94zm10 10l.94 2.06.94-2.06 2.06-.94-2.06-.94-.94-2.06-.94 2.06-2.06.94z\"/><path d=\"M17.41 7.96l-1.37-1.37c-.4-.4-.92-.59-1.43-.59-.52 0-1.04.2-1.43.59L10.3 9.45l-7.72 7.72c-.78.78-.78 2.05 0 2.83L4 21.41c.39.39.9.59 1.41.59.51 0 1.02-.2 1.41-.59l7.78-7.78 2.81-2.81c.8-.78.8-2.07 0-2.86zM5.41 20L4 18.59l7.72-7.72 1.47 1.35L5.41 20z\"/>\n",
              "  </svg>\n",
              "      </button>\n",
              "      \n",
              "  <style>\n",
              "    .colab-df-container {\n",
              "      display:flex;\n",
              "      flex-wrap:wrap;\n",
              "      gap: 12px;\n",
              "    }\n",
              "\n",
              "    .colab-df-convert {\n",
              "      background-color: #E8F0FE;\n",
              "      border: none;\n",
              "      border-radius: 50%;\n",
              "      cursor: pointer;\n",
              "      display: none;\n",
              "      fill: #1967D2;\n",
              "      height: 32px;\n",
              "      padding: 0 0 0 0;\n",
              "      width: 32px;\n",
              "    }\n",
              "\n",
              "    .colab-df-convert:hover {\n",
              "      background-color: #E2EBFA;\n",
              "      box-shadow: 0px 1px 2px rgba(60, 64, 67, 0.3), 0px 1px 3px 1px rgba(60, 64, 67, 0.15);\n",
              "      fill: #174EA6;\n",
              "    }\n",
              "\n",
              "    [theme=dark] .colab-df-convert {\n",
              "      background-color: #3B4455;\n",
              "      fill: #D2E3FC;\n",
              "    }\n",
              "\n",
              "    [theme=dark] .colab-df-convert:hover {\n",
              "      background-color: #434B5C;\n",
              "      box-shadow: 0px 1px 3px 1px rgba(0, 0, 0, 0.15);\n",
              "      filter: drop-shadow(0px 1px 2px rgba(0, 0, 0, 0.3));\n",
              "      fill: #FFFFFF;\n",
              "    }\n",
              "  </style>\n",
              "\n",
              "      <script>\n",
              "        const buttonEl =\n",
              "          document.querySelector('#df-efd869e6-97a4-44fb-a5c2-98749540b52e button.colab-df-convert');\n",
              "        buttonEl.style.display =\n",
              "          google.colab.kernel.accessAllowed ? 'block' : 'none';\n",
              "\n",
              "        async function convertToInteractive(key) {\n",
              "          const element = document.querySelector('#df-efd869e6-97a4-44fb-a5c2-98749540b52e');\n",
              "          const dataTable =\n",
              "            await google.colab.kernel.invokeFunction('convertToInteractive',\n",
              "                                                     [key], {});\n",
              "          if (!dataTable) return;\n",
              "\n",
              "          const docLinkHtml = 'Like what you see? Visit the ' +\n",
              "            '<a target=\"_blank\" href=https://colab.research.google.com/notebooks/data_table.ipynb>data table notebook</a>'\n",
              "            + ' to learn more about interactive tables.';\n",
              "          element.innerHTML = '';\n",
              "          dataTable['output_type'] = 'display_data';\n",
              "          await google.colab.output.renderOutput(dataTable, element);\n",
              "          const docLink = document.createElement('div');\n",
              "          docLink.innerHTML = docLinkHtml;\n",
              "          element.appendChild(docLink);\n",
              "        }\n",
              "      </script>\n",
              "    </div>\n",
              "  </div>\n",
              "  "
            ]
          },
          "metadata": {},
          "execution_count": 56
        }
      ]
    },
    {
      "cell_type": "code",
      "source": [
        "fig, ax = plt.subplots(figsize = (18, 10))\n",
        "sns.heatmap(install_payments[['SK_ID_PREV', 'SK_ID_CURR', 'NUM_INSTALMENT_VERSION',\\\n",
        "       'NUM_INSTALMENT_NUMBER', 'DAYS_INSTALMENT', 'DAYS_ENTRY_PAYMENT',\\\n",
        "       'AMT_INSTALMENT', 'AMT_PAYMENT']].corr(), cmap=\"viridis\", annot = True, fmt = \".2f\", linewidths=1, ax = ax)\n",
        "\n",
        "plt.show()"
      ],
      "metadata": {
        "id": "ARVbDs8LY_tg",
        "colab": {
          "base_uri": "https://localhost:8080/",
          "height": 726
        },
        "outputId": "11b2b752-8902-49e5-8ee4-10a9a67a4afb"
      },
      "execution_count": null,
      "outputs": [
        {
          "output_type": "display_data",
          "data": {
            "text/plain": [
              "<Figure size 1296x720 with 2 Axes>"
            ],
            "image/png": "[encoded data removed]"
          },
          "metadata": {
            "needs_background": "light"
          }
        }
      ]
    },
    {
      "cell_type": "markdown",
      "source": [
        "không bỏ cột nào\n",
        "\n",
        "SK_ID_PREV, SK_ID_CURR tạo thành composite key\n",
        "\n",
        "AMT_PAYMENT và AMT_INSTALLMENT tuy có high correlation nhưng là biến quan trọng,\n",
        "\n",
        "để xác định xem khách hàng có còn nợ không"
      ],
      "metadata": {
        "id": "64oop3CSZV0H"
      }
    }
  ]
}