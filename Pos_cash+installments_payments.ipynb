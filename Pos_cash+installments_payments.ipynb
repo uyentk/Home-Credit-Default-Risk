{
 "cells": [
  {
   "cell_type": "code",
   "execution_count": 1,
   "id": "a42157ad",
   "metadata": {},
   "outputs": [],
   "source": [
    "import pandas as pd\n",
    "import numpy as np\n",
    "import matplotlib.pyplot as plt\n",
    "import seaborn as sns"
   ]
  },
  {
   "cell_type": "code",
   "execution_count": 2,
   "id": "29cc6fea",
   "metadata": {},
   "outputs": [],
   "source": [
    "pos_cash = pd.read_csv('D:/Data group project DPV/POS_CASH_balance.csv')\n",
    "install_payments = pd.read_csv('D:/Data group project DPV/installments_payments.csv')"
   ]
  },
  {
   "cell_type": "code",
   "execution_count": null,
   "id": "38507f45",
   "metadata": {},
   "outputs": [],
   "source": []
  },
  {
   "cell_type": "markdown",
   "id": "c0ef1b60",
   "metadata": {},
   "source": [
    "# POS_CASH_balance_df"
   ]
  },
  {
   "cell_type": "code",
   "execution_count": 3,
   "id": "8c94fbab",
   "metadata": {},
   "outputs": [
    {
     "data": {
      "text/html": [
       "<div>\n",
       "<style scoped>\n",
       "    .dataframe tbody tr th:only-of-type {\n",
       "        vertical-align: middle;\n",
       "    }\n",
       "\n",
       "    .dataframe tbody tr th {\n",
       "        vertical-align: top;\n",
       "    }\n",
       "\n",
       "    .dataframe thead th {\n",
       "        text-align: right;\n",
       "    }\n",
       "</style>\n",
       "<table border=\"1\" class=\"dataframe\">\n",
       "  <thead>\n",
       "    <tr style=\"text-align: right;\">\n",
       "      <th></th>\n",
       "      <th>SK_ID_PREV</th>\n",
       "      <th>SK_ID_CURR</th>\n",
       "      <th>MONTHS_BALANCE</th>\n",
       "      <th>CNT_INSTALMENT</th>\n",
       "      <th>CNT_INSTALMENT_FUTURE</th>\n",
       "      <th>NAME_CONTRACT_STATUS</th>\n",
       "      <th>SK_DPD</th>\n",
       "      <th>SK_DPD_DEF</th>\n",
       "    </tr>\n",
       "  </thead>\n",
       "  <tbody>\n",
       "    <tr>\n",
       "      <th>0</th>\n",
       "      <td>1803195</td>\n",
       "      <td>182943</td>\n",
       "      <td>-31</td>\n",
       "      <td>48.0</td>\n",
       "      <td>45.0</td>\n",
       "      <td>Active</td>\n",
       "      <td>0</td>\n",
       "      <td>0</td>\n",
       "    </tr>\n",
       "    <tr>\n",
       "      <th>1</th>\n",
       "      <td>1715348</td>\n",
       "      <td>367990</td>\n",
       "      <td>-33</td>\n",
       "      <td>36.0</td>\n",
       "      <td>35.0</td>\n",
       "      <td>Active</td>\n",
       "      <td>0</td>\n",
       "      <td>0</td>\n",
       "    </tr>\n",
       "    <tr>\n",
       "      <th>2</th>\n",
       "      <td>1784872</td>\n",
       "      <td>397406</td>\n",
       "      <td>-32</td>\n",
       "      <td>12.0</td>\n",
       "      <td>9.0</td>\n",
       "      <td>Active</td>\n",
       "      <td>0</td>\n",
       "      <td>0</td>\n",
       "    </tr>\n",
       "    <tr>\n",
       "      <th>3</th>\n",
       "      <td>1903291</td>\n",
       "      <td>269225</td>\n",
       "      <td>-35</td>\n",
       "      <td>48.0</td>\n",
       "      <td>42.0</td>\n",
       "      <td>Active</td>\n",
       "      <td>0</td>\n",
       "      <td>0</td>\n",
       "    </tr>\n",
       "    <tr>\n",
       "      <th>4</th>\n",
       "      <td>2341044</td>\n",
       "      <td>334279</td>\n",
       "      <td>-35</td>\n",
       "      <td>36.0</td>\n",
       "      <td>35.0</td>\n",
       "      <td>Active</td>\n",
       "      <td>0</td>\n",
       "      <td>0</td>\n",
       "    </tr>\n",
       "  </tbody>\n",
       "</table>\n",
       "</div>"
      ],
      "text/plain": [
       "   SK_ID_PREV  SK_ID_CURR  MONTHS_BALANCE  CNT_INSTALMENT  \\\n",
       "0     1803195      182943             -31            48.0   \n",
       "1     1715348      367990             -33            36.0   \n",
       "2     1784872      397406             -32            12.0   \n",
       "3     1903291      269225             -35            48.0   \n",
       "4     2341044      334279             -35            36.0   \n",
       "\n",
       "   CNT_INSTALMENT_FUTURE NAME_CONTRACT_STATUS  SK_DPD  SK_DPD_DEF  \n",
       "0                   45.0               Active       0           0  \n",
       "1                   35.0               Active       0           0  \n",
       "2                    9.0               Active       0           0  \n",
       "3                   42.0               Active       0           0  \n",
       "4                   35.0               Active       0           0  "
      ]
     },
     "execution_count": 3,
     "metadata": {},
     "output_type": "execute_result"
    }
   ],
   "source": [
    "pos_cash.head()"
   ]
  },
  {
   "cell_type": "code",
   "execution_count": 4,
   "id": "d15a7d34",
   "metadata": {},
   "outputs": [
    {
     "data": {
      "text/plain": [
       "SK_ID_PREV                 int64\n",
       "SK_ID_CURR                 int64\n",
       "MONTHS_BALANCE             int64\n",
       "CNT_INSTALMENT           float64\n",
       "CNT_INSTALMENT_FUTURE    float64\n",
       "NAME_CONTRACT_STATUS      object\n",
       "SK_DPD                     int64\n",
       "SK_DPD_DEF                 int64\n",
       "dtype: object"
      ]
     },
     "execution_count": 4,
     "metadata": {},
     "output_type": "execute_result"
    }
   ],
   "source": [
    "pos_cash.dtypes"
   ]
  },
  {
   "cell_type": "code",
   "execution_count": 5,
   "id": "5dae7b6c",
   "metadata": {},
   "outputs": [
    {
     "name": "stdout",
     "output_type": "stream",
     "text": [
      "<class 'pandas.core.frame.DataFrame'>\n",
      "RangeIndex: 10001358 entries, 0 to 10001357\n",
      "Data columns (total 8 columns):\n",
      " #   Column                 Dtype  \n",
      "---  ------                 -----  \n",
      " 0   SK_ID_PREV             int64  \n",
      " 1   SK_ID_CURR             int64  \n",
      " 2   MONTHS_BALANCE         int64  \n",
      " 3   CNT_INSTALMENT         float64\n",
      " 4   CNT_INSTALMENT_FUTURE  float64\n",
      " 5   NAME_CONTRACT_STATUS   object \n",
      " 6   SK_DPD                 int64  \n",
      " 7   SK_DPD_DEF             int64  \n",
      "dtypes: float64(2), int64(5), object(1)\n",
      "memory usage: 610.4+ MB\n"
     ]
    }
   ],
   "source": [
    "pos_cash.info()"
   ]
  },
  {
   "cell_type": "code",
   "execution_count": 23,
   "id": "067a417d",
   "metadata": {},
   "outputs": [
    {
     "data": {
      "text/plain": [
       "CNT_INSTALMENT_FUTURE    26087\n",
       "CNT_INSTALMENT           26071\n",
       "SK_ID_PREV                   0\n",
       "SK_ID_CURR                   0\n",
       "MONTHS_BALANCE               0\n",
       "NAME_CONTRACT_STATUS         0\n",
       "SK_DPD                       0\n",
       "SK_DPD_DEF                   0\n",
       "dtype: int64"
      ]
     },
     "execution_count": 23,
     "metadata": {},
     "output_type": "execute_result"
    }
   ],
   "source": [
    "# NUMBER OF NULL VALUES IN EACH COLUMN\n",
    "pos_cash.isna().sum().sort_values(ascending=False)"
   ]
  },
  {
   "cell_type": "code",
   "execution_count": 24,
   "id": "334faeee",
   "metadata": {},
   "outputs": [
    {
     "data": {
      "text/plain": [
       "CNT_INSTALMENT_FUTURE    0.002608\n",
       "CNT_INSTALMENT           0.002607\n",
       "SK_ID_PREV               0.000000\n",
       "SK_ID_CURR               0.000000\n",
       "MONTHS_BALANCE           0.000000\n",
       "NAME_CONTRACT_STATUS     0.000000\n",
       "SK_DPD                   0.000000\n",
       "SK_DPD_DEF               0.000000\n",
       "dtype: float64"
      ]
     },
     "execution_count": 24,
     "metadata": {},
     "output_type": "execute_result"
    }
   ],
   "source": [
    "# PERCENTAGE OF NULL VALUES IN EACH COLUMN\n",
    "(pos_cash.isna().sum() / pos_cash.shape[0]).sort_values(ascending=False)"
   ]
  },
  {
   "cell_type": "markdown",
   "id": "ae1a6572",
   "metadata": {},
   "source": [
    "missing data < 1%"
   ]
  },
  {
   "cell_type": "code",
   "execution_count": 6,
   "id": "5c7e1b21",
   "metadata": {},
   "outputs": [
    {
     "data": {
      "text/html": [
       "<div>\n",
       "<style scoped>\n",
       "    .dataframe tbody tr th:only-of-type {\n",
       "        vertical-align: middle;\n",
       "    }\n",
       "\n",
       "    .dataframe tbody tr th {\n",
       "        vertical-align: top;\n",
       "    }\n",
       "\n",
       "    .dataframe thead th {\n",
       "        text-align: right;\n",
       "    }\n",
       "</style>\n",
       "<table border=\"1\" class=\"dataframe\">\n",
       "  <thead>\n",
       "    <tr style=\"text-align: right;\">\n",
       "      <th></th>\n",
       "      <th>SK_ID_PREV</th>\n",
       "      <th>SK_ID_CURR</th>\n",
       "      <th>MONTHS_BALANCE</th>\n",
       "      <th>CNT_INSTALMENT</th>\n",
       "      <th>CNT_INSTALMENT_FUTURE</th>\n",
       "      <th>SK_DPD</th>\n",
       "      <th>SK_DPD_DEF</th>\n",
       "    </tr>\n",
       "  </thead>\n",
       "  <tbody>\n",
       "    <tr>\n",
       "      <th>count</th>\n",
       "      <td>1.000136e+07</td>\n",
       "      <td>1.000136e+07</td>\n",
       "      <td>1.000136e+07</td>\n",
       "      <td>9.975287e+06</td>\n",
       "      <td>9.975271e+06</td>\n",
       "      <td>1.000136e+07</td>\n",
       "      <td>1.000136e+07</td>\n",
       "    </tr>\n",
       "    <tr>\n",
       "      <th>mean</th>\n",
       "      <td>1.903217e+06</td>\n",
       "      <td>2.784039e+05</td>\n",
       "      <td>-3.501259e+01</td>\n",
       "      <td>1.708965e+01</td>\n",
       "      <td>1.048384e+01</td>\n",
       "      <td>1.160693e+01</td>\n",
       "      <td>6.544684e-01</td>\n",
       "    </tr>\n",
       "    <tr>\n",
       "      <th>std</th>\n",
       "      <td>5.358465e+05</td>\n",
       "      <td>1.027637e+05</td>\n",
       "      <td>2.606657e+01</td>\n",
       "      <td>1.199506e+01</td>\n",
       "      <td>1.110906e+01</td>\n",
       "      <td>1.327140e+02</td>\n",
       "      <td>3.276249e+01</td>\n",
       "    </tr>\n",
       "    <tr>\n",
       "      <th>min</th>\n",
       "      <td>1.000001e+06</td>\n",
       "      <td>1.000010e+05</td>\n",
       "      <td>-9.600000e+01</td>\n",
       "      <td>1.000000e+00</td>\n",
       "      <td>0.000000e+00</td>\n",
       "      <td>0.000000e+00</td>\n",
       "      <td>0.000000e+00</td>\n",
       "    </tr>\n",
       "    <tr>\n",
       "      <th>25%</th>\n",
       "      <td>1.434405e+06</td>\n",
       "      <td>1.895500e+05</td>\n",
       "      <td>-5.400000e+01</td>\n",
       "      <td>1.000000e+01</td>\n",
       "      <td>3.000000e+00</td>\n",
       "      <td>0.000000e+00</td>\n",
       "      <td>0.000000e+00</td>\n",
       "    </tr>\n",
       "    <tr>\n",
       "      <th>50%</th>\n",
       "      <td>1.896565e+06</td>\n",
       "      <td>2.786540e+05</td>\n",
       "      <td>-2.800000e+01</td>\n",
       "      <td>1.200000e+01</td>\n",
       "      <td>7.000000e+00</td>\n",
       "      <td>0.000000e+00</td>\n",
       "      <td>0.000000e+00</td>\n",
       "    </tr>\n",
       "    <tr>\n",
       "      <th>75%</th>\n",
       "      <td>2.368963e+06</td>\n",
       "      <td>3.674290e+05</td>\n",
       "      <td>-1.300000e+01</td>\n",
       "      <td>2.400000e+01</td>\n",
       "      <td>1.400000e+01</td>\n",
       "      <td>0.000000e+00</td>\n",
       "      <td>0.000000e+00</td>\n",
       "    </tr>\n",
       "    <tr>\n",
       "      <th>max</th>\n",
       "      <td>2.843499e+06</td>\n",
       "      <td>4.562550e+05</td>\n",
       "      <td>-1.000000e+00</td>\n",
       "      <td>9.200000e+01</td>\n",
       "      <td>8.500000e+01</td>\n",
       "      <td>4.231000e+03</td>\n",
       "      <td>3.595000e+03</td>\n",
       "    </tr>\n",
       "  </tbody>\n",
       "</table>\n",
       "</div>"
      ],
      "text/plain": [
       "         SK_ID_PREV    SK_ID_CURR  MONTHS_BALANCE  CNT_INSTALMENT  \\\n",
       "count  1.000136e+07  1.000136e+07    1.000136e+07    9.975287e+06   \n",
       "mean   1.903217e+06  2.784039e+05   -3.501259e+01    1.708965e+01   \n",
       "std    5.358465e+05  1.027637e+05    2.606657e+01    1.199506e+01   \n",
       "min    1.000001e+06  1.000010e+05   -9.600000e+01    1.000000e+00   \n",
       "25%    1.434405e+06  1.895500e+05   -5.400000e+01    1.000000e+01   \n",
       "50%    1.896565e+06  2.786540e+05   -2.800000e+01    1.200000e+01   \n",
       "75%    2.368963e+06  3.674290e+05   -1.300000e+01    2.400000e+01   \n",
       "max    2.843499e+06  4.562550e+05   -1.000000e+00    9.200000e+01   \n",
       "\n",
       "       CNT_INSTALMENT_FUTURE        SK_DPD    SK_DPD_DEF  \n",
       "count           9.975271e+06  1.000136e+07  1.000136e+07  \n",
       "mean            1.048384e+01  1.160693e+01  6.544684e-01  \n",
       "std             1.110906e+01  1.327140e+02  3.276249e+01  \n",
       "min             0.000000e+00  0.000000e+00  0.000000e+00  \n",
       "25%             3.000000e+00  0.000000e+00  0.000000e+00  \n",
       "50%             7.000000e+00  0.000000e+00  0.000000e+00  \n",
       "75%             1.400000e+01  0.000000e+00  0.000000e+00  \n",
       "max             8.500000e+01  4.231000e+03  3.595000e+03  "
      ]
     },
     "execution_count": 6,
     "metadata": {},
     "output_type": "execute_result"
    }
   ],
   "source": [
    "pos_cash.describe()"
   ]
  },
  {
   "cell_type": "code",
   "execution_count": 9,
   "id": "b72d643f",
   "metadata": {
    "scrolled": false
   },
   "outputs": [
    {
     "data": {
      "text/plain": [
       "(10001358, 8)"
      ]
     },
     "execution_count": 9,
     "metadata": {},
     "output_type": "execute_result"
    }
   ],
   "source": [
    "pos_cash.shape"
   ]
  },
  {
   "cell_type": "code",
   "execution_count": 11,
   "id": "32c498ef",
   "metadata": {
    "scrolled": false
   },
   "outputs": [
    {
     "data": {
      "image/png": "[encoded data removed]",
      "text/plain": [
       "<Figure size 1296x720 with 2 Axes>"
      ]
     },
     "metadata": {
      "needs_background": "light"
     },
     "output_type": "display_data"
    }
   ],
   "source": [
    "fig, ax = plt.subplots(figsize = (18, 10))\n",
    "sns.heatmap(pos_cash[['SK_ID_PREV', 'SK_ID_CURR', 'MONTHS_BALANCE', 'CNT_INSTALMENT',\\\n",
    "       'CNT_INSTALMENT_FUTURE', 'NAME_CONTRACT_STATUS', 'SK_DPD',\\\n",
    "       'SK_DPD_DEF']].corr(),cmap=\"viridis\", annot = True, fmt = \".2f\", linewidths=1, ax=ax)\n",
    "plt.show()"
   ]
  },
  {
   "cell_type": "markdown",
   "id": "d8d7db72",
   "metadata": {},
   "source": [
    "không bỏ cột nào\n",
    "\n",
    "SK_ID_PREV, SK_ID_CURR tạo thành composite key\n",
    "\n",
    "CNT_INSTALLMENT và CNT_INSTALLMENT_FUTURE tuy có high correlation nhưng là biến quan trọng"
   ]
  },
  {
   "cell_type": "markdown",
   "id": "2f4dcf04",
   "metadata": {},
   "source": [
    "## Visualization"
   ]
  },
  {
   "cell_type": "code",
   "execution_count": 33,
   "id": "2cc24ee0",
   "metadata": {},
   "outputs": [
    {
     "data": {
      "text/plain": [
       "Active                   9151119\n",
       "Completed                 744883\n",
       "Signed                     87260\n",
       "Demand                      7065\n",
       "Returned to the store       5461\n",
       "Approved                    4917\n",
       "Amortized debt               636\n",
       "Canceled                      15\n",
       "XNA                            2\n",
       "Name: NAME_CONTRACT_STATUS, dtype: int64"
      ]
     },
     "execution_count": 33,
     "metadata": {},
     "output_type": "execute_result"
    }
   ],
   "source": [
    "pos_cash['NAME_CONTRACT_STATUS'].value_counts()"
   ]
  },
  {
   "cell_type": "code",
   "execution_count": 27,
   "id": "25316a49",
   "metadata": {},
   "outputs": [
    {
     "data": {
      "image/png": "[encoded data removed]",
      "text/plain": [
       "<Figure size 1296x504 with 1 Axes>"
      ]
     },
     "metadata": {
      "needs_background": "light"
     },
     "output_type": "display_data"
    }
   ],
   "source": [
    "fig, ax = plt.subplots(figsize = (18, 7))\n",
    "sns.countplot(x = 'NAME_CONTRACT_STATUS', data = pos_cash)\n",
    "plt.show()"
   ]
  },
  {
   "cell_type": "code",
   "execution_count": 57,
   "id": "98d26359",
   "metadata": {},
   "outputs": [
    {
     "name": "stderr",
     "output_type": "stream",
     "text": [
      "D:\\Anaconda and Python\\lib\\site-packages\\seaborn\\distributions.py:2557: FutureWarning: `distplot` is a deprecated function and will be removed in a future version. Please adapt your code to use either `displot` (a figure-level function with similar flexibility) or `histplot` (an axes-level function for histograms).\n",
      "  warnings.warn(msg, FutureWarning)\n"
     ]
    },
    {
     "data": {
      "text/plain": [
       "<AxesSubplot:xlabel='MONTHS_BALANCE', ylabel='Density'>"
      ]
     },
     "execution_count": 57,
     "metadata": {},
     "output_type": "execute_result"
    },
    {
     "data": {
      "image/png": "[encoded data removed]",
      "text/plain": [
       "<Figure size 432x288 with 1 Axes>"
      ]
     },
     "metadata": {
      "needs_background": "light"
     },
     "output_type": "display_data"
    }
   ],
   "source": [
    "sns.distplot(pos_cash.MONTHS_BALANCE)"
   ]
  },
  {
   "cell_type": "code",
   "execution_count": 58,
   "id": "4f1ade92",
   "metadata": {},
   "outputs": [
    {
     "name": "stderr",
     "output_type": "stream",
     "text": [
      "D:\\Anaconda and Python\\lib\\site-packages\\seaborn\\distributions.py:2557: FutureWarning: `distplot` is a deprecated function and will be removed in a future version. Please adapt your code to use either `displot` (a figure-level function with similar flexibility) or `histplot` (an axes-level function for histograms).\n",
      "  warnings.warn(msg, FutureWarning)\n"
     ]
    },
    {
     "data": {
      "text/plain": [
       "<AxesSubplot:xlabel='CNT_INSTALMENT', ylabel='Density'>"
      ]
     },
     "execution_count": 58,
     "metadata": {},
     "output_type": "execute_result"
    },
    {
     "data": {
      "image/png": "[encoded data removed]",
      "text/plain": [
       "<Figure size 432x288 with 1 Axes>"
      ]
     },
     "metadata": {
      "needs_background": "light"
     },
     "output_type": "display_data"
    }
   ],
   "source": [
    "sns.distplot(pos_cash.CNT_INSTALMENT.dropna())"
   ]
  },
  {
   "cell_type": "code",
   "execution_count": 59,
   "id": "ded46e0e",
   "metadata": {},
   "outputs": [
    {
     "name": "stderr",
     "output_type": "stream",
     "text": [
      "D:\\Anaconda and Python\\lib\\site-packages\\seaborn\\distributions.py:2557: FutureWarning: `distplot` is a deprecated function and will be removed in a future version. Please adapt your code to use either `displot` (a figure-level function with similar flexibility) or `histplot` (an axes-level function for histograms).\n",
      "  warnings.warn(msg, FutureWarning)\n"
     ]
    },
    {
     "data": {
      "text/plain": [
       "<AxesSubplot:xlabel='CNT_INSTALMENT_FUTURE', ylabel='Density'>"
      ]
     },
     "execution_count": 59,
     "metadata": {},
     "output_type": "execute_result"
    },
    {
     "data": {
      "image/png": "[encoded data removed]",
      "text/plain": [
       "<Figure size 432x288 with 1 Axes>"
      ]
     },
     "metadata": {
      "needs_background": "light"
     },
     "output_type": "display_data"
    }
   ],
   "source": [
    "sns.distplot(pos_cash.CNT_INSTALMENT_FUTURE.dropna())"
   ]
  },
  {
   "cell_type": "markdown",
   "id": "5fc9ed40",
   "metadata": {},
   "source": [
    "# install_payments_df"
   ]
  },
  {
   "cell_type": "code",
   "execution_count": 12,
   "id": "c98b2385",
   "metadata": {},
   "outputs": [
    {
     "data": {
      "text/html": [
       "<div>\n",
       "<style scoped>\n",
       "    .dataframe tbody tr th:only-of-type {\n",
       "        vertical-align: middle;\n",
       "    }\n",
       "\n",
       "    .dataframe tbody tr th {\n",
       "        vertical-align: top;\n",
       "    }\n",
       "\n",
       "    .dataframe thead th {\n",
       "        text-align: right;\n",
       "    }\n",
       "</style>\n",
       "<table border=\"1\" class=\"dataframe\">\n",
       "  <thead>\n",
       "    <tr style=\"text-align: right;\">\n",
       "      <th></th>\n",
       "      <th>SK_ID_PREV</th>\n",
       "      <th>SK_ID_CURR</th>\n",
       "      <th>NUM_INSTALMENT_VERSION</th>\n",
       "      <th>NUM_INSTALMENT_NUMBER</th>\n",
       "      <th>DAYS_INSTALMENT</th>\n",
       "      <th>DAYS_ENTRY_PAYMENT</th>\n",
       "      <th>AMT_INSTALMENT</th>\n",
       "      <th>AMT_PAYMENT</th>\n",
       "    </tr>\n",
       "  </thead>\n",
       "  <tbody>\n",
       "    <tr>\n",
       "      <th>0</th>\n",
       "      <td>1054186</td>\n",
       "      <td>161674</td>\n",
       "      <td>1.0</td>\n",
       "      <td>6</td>\n",
       "      <td>-1180.0</td>\n",
       "      <td>-1187.0</td>\n",
       "      <td>6948.360</td>\n",
       "      <td>6948.360</td>\n",
       "    </tr>\n",
       "    <tr>\n",
       "      <th>1</th>\n",
       "      <td>1330831</td>\n",
       "      <td>151639</td>\n",
       "      <td>0.0</td>\n",
       "      <td>34</td>\n",
       "      <td>-2156.0</td>\n",
       "      <td>-2156.0</td>\n",
       "      <td>1716.525</td>\n",
       "      <td>1716.525</td>\n",
       "    </tr>\n",
       "    <tr>\n",
       "      <th>2</th>\n",
       "      <td>2085231</td>\n",
       "      <td>193053</td>\n",
       "      <td>2.0</td>\n",
       "      <td>1</td>\n",
       "      <td>-63.0</td>\n",
       "      <td>-63.0</td>\n",
       "      <td>25425.000</td>\n",
       "      <td>25425.000</td>\n",
       "    </tr>\n",
       "    <tr>\n",
       "      <th>3</th>\n",
       "      <td>2452527</td>\n",
       "      <td>199697</td>\n",
       "      <td>1.0</td>\n",
       "      <td>3</td>\n",
       "      <td>-2418.0</td>\n",
       "      <td>-2426.0</td>\n",
       "      <td>24350.130</td>\n",
       "      <td>24350.130</td>\n",
       "    </tr>\n",
       "    <tr>\n",
       "      <th>4</th>\n",
       "      <td>2714724</td>\n",
       "      <td>167756</td>\n",
       "      <td>1.0</td>\n",
       "      <td>2</td>\n",
       "      <td>-1383.0</td>\n",
       "      <td>-1366.0</td>\n",
       "      <td>2165.040</td>\n",
       "      <td>2160.585</td>\n",
       "    </tr>\n",
       "  </tbody>\n",
       "</table>\n",
       "</div>"
      ],
      "text/plain": [
       "   SK_ID_PREV  SK_ID_CURR  NUM_INSTALMENT_VERSION  NUM_INSTALMENT_NUMBER  \\\n",
       "0     1054186      161674                     1.0                      6   \n",
       "1     1330831      151639                     0.0                     34   \n",
       "2     2085231      193053                     2.0                      1   \n",
       "3     2452527      199697                     1.0                      3   \n",
       "4     2714724      167756                     1.0                      2   \n",
       "\n",
       "   DAYS_INSTALMENT  DAYS_ENTRY_PAYMENT  AMT_INSTALMENT  AMT_PAYMENT  \n",
       "0          -1180.0             -1187.0        6948.360     6948.360  \n",
       "1          -2156.0             -2156.0        1716.525     1716.525  \n",
       "2            -63.0               -63.0       25425.000    25425.000  \n",
       "3          -2418.0             -2426.0       24350.130    24350.130  \n",
       "4          -1383.0             -1366.0        2165.040     2160.585  "
      ]
     },
     "execution_count": 12,
     "metadata": {},
     "output_type": "execute_result"
    }
   ],
   "source": [
    "install_payments.head()"
   ]
  },
  {
   "cell_type": "code",
   "execution_count": 13,
   "id": "6f70ffcb",
   "metadata": {},
   "outputs": [
    {
     "name": "stdout",
     "output_type": "stream",
     "text": [
      "<class 'pandas.core.frame.DataFrame'>\n",
      "RangeIndex: 13605401 entries, 0 to 13605400\n",
      "Data columns (total 8 columns):\n",
      " #   Column                  Dtype  \n",
      "---  ------                  -----  \n",
      " 0   SK_ID_PREV              int64  \n",
      " 1   SK_ID_CURR              int64  \n",
      " 2   NUM_INSTALMENT_VERSION  float64\n",
      " 3   NUM_INSTALMENT_NUMBER   int64  \n",
      " 4   DAYS_INSTALMENT         float64\n",
      " 5   DAYS_ENTRY_PAYMENT      float64\n",
      " 6   AMT_INSTALMENT          float64\n",
      " 7   AMT_PAYMENT             float64\n",
      "dtypes: float64(5), int64(3)\n",
      "memory usage: 830.4 MB\n"
     ]
    }
   ],
   "source": [
    "install_payments.info()"
   ]
  },
  {
   "cell_type": "code",
   "execution_count": 14,
   "id": "f35ce882",
   "metadata": {
    "scrolled": true
   },
   "outputs": [
    {
     "data": {
      "text/plain": [
       "Index(['SK_ID_PREV', 'SK_ID_CURR', 'NUM_INSTALMENT_VERSION',\n",
       "       'NUM_INSTALMENT_NUMBER', 'DAYS_INSTALMENT', 'DAYS_ENTRY_PAYMENT',\n",
       "       'AMT_INSTALMENT', 'AMT_PAYMENT'],\n",
       "      dtype='object')"
      ]
     },
     "execution_count": 14,
     "metadata": {},
     "output_type": "execute_result"
    }
   ],
   "source": [
    "install_payments.columns"
   ]
  },
  {
   "cell_type": "code",
   "execution_count": 15,
   "id": "46817c0b",
   "metadata": {},
   "outputs": [
    {
     "data": {
      "text/plain": [
       "(13605401, 8)"
      ]
     },
     "execution_count": 15,
     "metadata": {},
     "output_type": "execute_result"
    }
   ],
   "source": [
    "install_payments.shape"
   ]
  },
  {
   "cell_type": "code",
   "execution_count": 16,
   "id": "fd9978a2",
   "metadata": {},
   "outputs": [
    {
     "data": {
      "text/plain": [
       "DAYS_ENTRY_PAYMENT        2905\n",
       "AMT_PAYMENT               2905\n",
       "SK_ID_PREV                   0\n",
       "SK_ID_CURR                   0\n",
       "NUM_INSTALMENT_VERSION       0\n",
       "NUM_INSTALMENT_NUMBER        0\n",
       "DAYS_INSTALMENT              0\n",
       "AMT_INSTALMENT               0\n",
       "dtype: int64"
      ]
     },
     "execution_count": 16,
     "metadata": {},
     "output_type": "execute_result"
    }
   ],
   "source": [
    "# NUMBER OF NULL VALUES IN EACH COLUMN\n",
    "install_payments.isna().sum().sort_values(ascending=False)"
   ]
  },
  {
   "cell_type": "code",
   "execution_count": 17,
   "id": "2ec6de3f",
   "metadata": {},
   "outputs": [
    {
     "data": {
      "text/plain": [
       "DAYS_ENTRY_PAYMENT        0.000214\n",
       "AMT_PAYMENT               0.000214\n",
       "SK_ID_PREV                0.000000\n",
       "SK_ID_CURR                0.000000\n",
       "NUM_INSTALMENT_VERSION    0.000000\n",
       "NUM_INSTALMENT_NUMBER     0.000000\n",
       "DAYS_INSTALMENT           0.000000\n",
       "AMT_INSTALMENT            0.000000\n",
       "dtype: float64"
      ]
     },
     "execution_count": 17,
     "metadata": {},
     "output_type": "execute_result"
    }
   ],
   "source": [
    "# PERCENTAGE OF NULL VALUES IN EACH COLUMN\n",
    "(install_payments.isna().sum() / install_payments.shape[0]).sort_values(ascending=False)"
   ]
  },
  {
   "cell_type": "markdown",
   "id": "c906790d",
   "metadata": {},
   "source": [
    "Two columns: the day and the amount customers actually paid (DAYS_ENTRY_PAYMENT and AMT_PAYMENT) include the same amount of null values\n",
    "\n",
    "0.02% of clients haven't paid previous credit on this installment"
   ]
  },
  {
   "cell_type": "markdown",
   "id": "c745dec5",
   "metadata": {},
   "source": [
    "## Sumarization"
   ]
  },
  {
   "cell_type": "code",
   "execution_count": 18,
   "id": "a3610db4",
   "metadata": {},
   "outputs": [
    {
     "data": {
      "text/html": [
       "<div>\n",
       "<style scoped>\n",
       "    .dataframe tbody tr th:only-of-type {\n",
       "        vertical-align: middle;\n",
       "    }\n",
       "\n",
       "    .dataframe tbody tr th {\n",
       "        vertical-align: top;\n",
       "    }\n",
       "\n",
       "    .dataframe thead th {\n",
       "        text-align: right;\n",
       "    }\n",
       "</style>\n",
       "<table border=\"1\" class=\"dataframe\">\n",
       "  <thead>\n",
       "    <tr style=\"text-align: right;\">\n",
       "      <th></th>\n",
       "      <th>SK_ID_PREV</th>\n",
       "      <th>SK_ID_CURR</th>\n",
       "      <th>NUM_INSTALMENT_VERSION</th>\n",
       "      <th>NUM_INSTALMENT_NUMBER</th>\n",
       "      <th>DAYS_INSTALMENT</th>\n",
       "      <th>DAYS_ENTRY_PAYMENT</th>\n",
       "      <th>AMT_INSTALMENT</th>\n",
       "      <th>AMT_PAYMENT</th>\n",
       "    </tr>\n",
       "  </thead>\n",
       "  <tbody>\n",
       "    <tr>\n",
       "      <th>count</th>\n",
       "      <td>1.360540e+07</td>\n",
       "      <td>1.360540e+07</td>\n",
       "      <td>1.360540e+07</td>\n",
       "      <td>1.360540e+07</td>\n",
       "      <td>1.360540e+07</td>\n",
       "      <td>1.360250e+07</td>\n",
       "      <td>1.360540e+07</td>\n",
       "      <td>1.360250e+07</td>\n",
       "    </tr>\n",
       "    <tr>\n",
       "      <th>mean</th>\n",
       "      <td>1.903365e+06</td>\n",
       "      <td>2.784449e+05</td>\n",
       "      <td>8.566373e-01</td>\n",
       "      <td>1.887090e+01</td>\n",
       "      <td>-1.042270e+03</td>\n",
       "      <td>-1.051114e+03</td>\n",
       "      <td>1.705091e+04</td>\n",
       "      <td>1.723822e+04</td>\n",
       "    </tr>\n",
       "    <tr>\n",
       "      <th>std</th>\n",
       "      <td>5.362029e+05</td>\n",
       "      <td>1.027183e+05</td>\n",
       "      <td>1.035216e+00</td>\n",
       "      <td>2.666407e+01</td>\n",
       "      <td>8.009463e+02</td>\n",
       "      <td>8.005859e+02</td>\n",
       "      <td>5.057025e+04</td>\n",
       "      <td>5.473578e+04</td>\n",
       "    </tr>\n",
       "    <tr>\n",
       "      <th>min</th>\n",
       "      <td>1.000001e+06</td>\n",
       "      <td>1.000010e+05</td>\n",
       "      <td>0.000000e+00</td>\n",
       "      <td>1.000000e+00</td>\n",
       "      <td>-2.922000e+03</td>\n",
       "      <td>-4.921000e+03</td>\n",
       "      <td>0.000000e+00</td>\n",
       "      <td>0.000000e+00</td>\n",
       "    </tr>\n",
       "    <tr>\n",
       "      <th>25%</th>\n",
       "      <td>1.434191e+06</td>\n",
       "      <td>1.896390e+05</td>\n",
       "      <td>0.000000e+00</td>\n",
       "      <td>4.000000e+00</td>\n",
       "      <td>-1.654000e+03</td>\n",
       "      <td>-1.662000e+03</td>\n",
       "      <td>4.226085e+03</td>\n",
       "      <td>3.398265e+03</td>\n",
       "    </tr>\n",
       "    <tr>\n",
       "      <th>50%</th>\n",
       "      <td>1.896520e+06</td>\n",
       "      <td>2.786850e+05</td>\n",
       "      <td>1.000000e+00</td>\n",
       "      <td>8.000000e+00</td>\n",
       "      <td>-8.180000e+02</td>\n",
       "      <td>-8.270000e+02</td>\n",
       "      <td>8.884080e+03</td>\n",
       "      <td>8.125515e+03</td>\n",
       "    </tr>\n",
       "    <tr>\n",
       "      <th>75%</th>\n",
       "      <td>2.369094e+06</td>\n",
       "      <td>3.675300e+05</td>\n",
       "      <td>1.000000e+00</td>\n",
       "      <td>1.900000e+01</td>\n",
       "      <td>-3.610000e+02</td>\n",
       "      <td>-3.700000e+02</td>\n",
       "      <td>1.671021e+04</td>\n",
       "      <td>1.610842e+04</td>\n",
       "    </tr>\n",
       "    <tr>\n",
       "      <th>max</th>\n",
       "      <td>2.843499e+06</td>\n",
       "      <td>4.562550e+05</td>\n",
       "      <td>1.780000e+02</td>\n",
       "      <td>2.770000e+02</td>\n",
       "      <td>-1.000000e+00</td>\n",
       "      <td>-1.000000e+00</td>\n",
       "      <td>3.771488e+06</td>\n",
       "      <td>3.771488e+06</td>\n",
       "    </tr>\n",
       "  </tbody>\n",
       "</table>\n",
       "</div>"
      ],
      "text/plain": [
       "         SK_ID_PREV    SK_ID_CURR  NUM_INSTALMENT_VERSION  \\\n",
       "count  1.360540e+07  1.360540e+07            1.360540e+07   \n",
       "mean   1.903365e+06  2.784449e+05            8.566373e-01   \n",
       "std    5.362029e+05  1.027183e+05            1.035216e+00   \n",
       "min    1.000001e+06  1.000010e+05            0.000000e+00   \n",
       "25%    1.434191e+06  1.896390e+05            0.000000e+00   \n",
       "50%    1.896520e+06  2.786850e+05            1.000000e+00   \n",
       "75%    2.369094e+06  3.675300e+05            1.000000e+00   \n",
       "max    2.843499e+06  4.562550e+05            1.780000e+02   \n",
       "\n",
       "       NUM_INSTALMENT_NUMBER  DAYS_INSTALMENT  DAYS_ENTRY_PAYMENT  \\\n",
       "count           1.360540e+07     1.360540e+07        1.360250e+07   \n",
       "mean            1.887090e+01    -1.042270e+03       -1.051114e+03   \n",
       "std             2.666407e+01     8.009463e+02        8.005859e+02   \n",
       "min             1.000000e+00    -2.922000e+03       -4.921000e+03   \n",
       "25%             4.000000e+00    -1.654000e+03       -1.662000e+03   \n",
       "50%             8.000000e+00    -8.180000e+02       -8.270000e+02   \n",
       "75%             1.900000e+01    -3.610000e+02       -3.700000e+02   \n",
       "max             2.770000e+02    -1.000000e+00       -1.000000e+00   \n",
       "\n",
       "       AMT_INSTALMENT   AMT_PAYMENT  \n",
       "count    1.360540e+07  1.360250e+07  \n",
       "mean     1.705091e+04  1.723822e+04  \n",
       "std      5.057025e+04  5.473578e+04  \n",
       "min      0.000000e+00  0.000000e+00  \n",
       "25%      4.226085e+03  3.398265e+03  \n",
       "50%      8.884080e+03  8.125515e+03  \n",
       "75%      1.671021e+04  1.610842e+04  \n",
       "max      3.771488e+06  3.771488e+06  "
      ]
     },
     "execution_count": 18,
     "metadata": {},
     "output_type": "execute_result"
    }
   ],
   "source": [
    "install_payments.describe()"
   ]
  },
  {
   "cell_type": "markdown",
   "id": "f64ed2fe",
   "metadata": {},
   "source": [
    "That the average AMT_INSTALLMENTS (the prescribed installment amount on this installment is) smaller than AMT_PAYMENTS (the amount client actually paid on this installment) suggests:\n",
    "\n",
    "Some loans are not repayed on time"
   ]
  },
  {
   "cell_type": "code",
   "execution_count": 19,
   "id": "128c8954",
   "metadata": {},
   "outputs": [
    {
     "data": {
      "text/plain": [
       "array([[<AxesSubplot:title={'center':'DAYS_INSTALMENT'}>,\n",
       "        <AxesSubplot:title={'center':'DAYS_ENTRY_PAYMENT'}>]],\n",
       "      dtype=object)"
      ]
     },
     "execution_count": 19,
     "metadata": {},
     "output_type": "execute_result"
    },
    {
     "data": {
      "image/png": "[encoded data removed]",
      "text/plain": [
       "<Figure size 432x288 with 2 Axes>"
      ]
     },
     "metadata": {
      "needs_background": "light"
     },
     "output_type": "display_data"
    }
   ],
   "source": [
    "# histogram\n",
    "install_payments.iloc[:,4:6].hist(bins=20)"
   ]
  },
  {
   "cell_type": "markdown",
   "id": "4112181e",
   "metadata": {},
   "source": [
    "The histogram of prescribed installment day and actually paid day also suggests late payment of the customer"
   ]
  },
  {
   "cell_type": "markdown",
   "id": "2d4ab5fc",
   "metadata": {},
   "source": [
    "### Correlation"
   ]
  },
  {
   "cell_type": "code",
   "execution_count": 20,
   "id": "04281f77",
   "metadata": {},
   "outputs": [
    {
     "data": {
      "text/html": [
       "<div>\n",
       "<style scoped>\n",
       "    .dataframe tbody tr th:only-of-type {\n",
       "        vertical-align: middle;\n",
       "    }\n",
       "\n",
       "    .dataframe tbody tr th {\n",
       "        vertical-align: top;\n",
       "    }\n",
       "\n",
       "    .dataframe thead th {\n",
       "        text-align: right;\n",
       "    }\n",
       "</style>\n",
       "<table border=\"1\" class=\"dataframe\">\n",
       "  <thead>\n",
       "    <tr style=\"text-align: right;\">\n",
       "      <th></th>\n",
       "      <th>SK_ID_PREV</th>\n",
       "      <th>SK_ID_CURR</th>\n",
       "      <th>NUM_INSTALMENT_VERSION</th>\n",
       "      <th>NUM_INSTALMENT_NUMBER</th>\n",
       "      <th>DAYS_INSTALMENT</th>\n",
       "      <th>DAYS_ENTRY_PAYMENT</th>\n",
       "      <th>AMT_INSTALMENT</th>\n",
       "      <th>AMT_PAYMENT</th>\n",
       "    </tr>\n",
       "  </thead>\n",
       "  <tbody>\n",
       "    <tr>\n",
       "      <th>SK_ID_PREV</th>\n",
       "      <td>1.000000</td>\n",
       "      <td>0.002132</td>\n",
       "      <td>0.000685</td>\n",
       "      <td>-0.002095</td>\n",
       "      <td>0.003748</td>\n",
       "      <td>0.003734</td>\n",
       "      <td>0.002042</td>\n",
       "      <td>0.001887</td>\n",
       "    </tr>\n",
       "    <tr>\n",
       "      <th>SK_ID_CURR</th>\n",
       "      <td>0.002132</td>\n",
       "      <td>1.000000</td>\n",
       "      <td>0.000480</td>\n",
       "      <td>-0.000548</td>\n",
       "      <td>0.001191</td>\n",
       "      <td>0.001215</td>\n",
       "      <td>-0.000226</td>\n",
       "      <td>-0.000124</td>\n",
       "    </tr>\n",
       "    <tr>\n",
       "      <th>NUM_INSTALMENT_VERSION</th>\n",
       "      <td>0.000685</td>\n",
       "      <td>0.000480</td>\n",
       "      <td>1.000000</td>\n",
       "      <td>-0.323414</td>\n",
       "      <td>0.130244</td>\n",
       "      <td>0.128124</td>\n",
       "      <td>0.168109</td>\n",
       "      <td>0.177176</td>\n",
       "    </tr>\n",
       "    <tr>\n",
       "      <th>NUM_INSTALMENT_NUMBER</th>\n",
       "      <td>-0.002095</td>\n",
       "      <td>-0.000548</td>\n",
       "      <td>-0.323414</td>\n",
       "      <td>1.000000</td>\n",
       "      <td>0.090286</td>\n",
       "      <td>0.094305</td>\n",
       "      <td>-0.089640</td>\n",
       "      <td>-0.087664</td>\n",
       "    </tr>\n",
       "    <tr>\n",
       "      <th>DAYS_INSTALMENT</th>\n",
       "      <td>0.003748</td>\n",
       "      <td>0.001191</td>\n",
       "      <td>0.130244</td>\n",
       "      <td>0.090286</td>\n",
       "      <td>1.000000</td>\n",
       "      <td>0.999491</td>\n",
       "      <td>0.125985</td>\n",
       "      <td>0.127018</td>\n",
       "    </tr>\n",
       "    <tr>\n",
       "      <th>DAYS_ENTRY_PAYMENT</th>\n",
       "      <td>0.003734</td>\n",
       "      <td>0.001215</td>\n",
       "      <td>0.128124</td>\n",
       "      <td>0.094305</td>\n",
       "      <td>0.999491</td>\n",
       "      <td>1.000000</td>\n",
       "      <td>0.125555</td>\n",
       "      <td>0.126602</td>\n",
       "    </tr>\n",
       "    <tr>\n",
       "      <th>AMT_INSTALMENT</th>\n",
       "      <td>0.002042</td>\n",
       "      <td>-0.000226</td>\n",
       "      <td>0.168109</td>\n",
       "      <td>-0.089640</td>\n",
       "      <td>0.125985</td>\n",
       "      <td>0.125555</td>\n",
       "      <td>1.000000</td>\n",
       "      <td>0.937191</td>\n",
       "    </tr>\n",
       "    <tr>\n",
       "      <th>AMT_PAYMENT</th>\n",
       "      <td>0.001887</td>\n",
       "      <td>-0.000124</td>\n",
       "      <td>0.177176</td>\n",
       "      <td>-0.087664</td>\n",
       "      <td>0.127018</td>\n",
       "      <td>0.126602</td>\n",
       "      <td>0.937191</td>\n",
       "      <td>1.000000</td>\n",
       "    </tr>\n",
       "  </tbody>\n",
       "</table>\n",
       "</div>"
      ],
      "text/plain": [
       "                        SK_ID_PREV  SK_ID_CURR  NUM_INSTALMENT_VERSION  \\\n",
       "SK_ID_PREV                1.000000    0.002132                0.000685   \n",
       "SK_ID_CURR                0.002132    1.000000                0.000480   \n",
       "NUM_INSTALMENT_VERSION    0.000685    0.000480                1.000000   \n",
       "NUM_INSTALMENT_NUMBER    -0.002095   -0.000548               -0.323414   \n",
       "DAYS_INSTALMENT           0.003748    0.001191                0.130244   \n",
       "DAYS_ENTRY_PAYMENT        0.003734    0.001215                0.128124   \n",
       "AMT_INSTALMENT            0.002042   -0.000226                0.168109   \n",
       "AMT_PAYMENT               0.001887   -0.000124                0.177176   \n",
       "\n",
       "                        NUM_INSTALMENT_NUMBER  DAYS_INSTALMENT  \\\n",
       "SK_ID_PREV                          -0.002095         0.003748   \n",
       "SK_ID_CURR                          -0.000548         0.001191   \n",
       "NUM_INSTALMENT_VERSION              -0.323414         0.130244   \n",
       "NUM_INSTALMENT_NUMBER                1.000000         0.090286   \n",
       "DAYS_INSTALMENT                      0.090286         1.000000   \n",
       "DAYS_ENTRY_PAYMENT                   0.094305         0.999491   \n",
       "AMT_INSTALMENT                      -0.089640         0.125985   \n",
       "AMT_PAYMENT                         -0.087664         0.127018   \n",
       "\n",
       "                        DAYS_ENTRY_PAYMENT  AMT_INSTALMENT  AMT_PAYMENT  \n",
       "SK_ID_PREV                        0.003734        0.002042     0.001887  \n",
       "SK_ID_CURR                        0.001215       -0.000226    -0.000124  \n",
       "NUM_INSTALMENT_VERSION            0.128124        0.168109     0.177176  \n",
       "NUM_INSTALMENT_NUMBER             0.094305       -0.089640    -0.087664  \n",
       "DAYS_INSTALMENT                   0.999491        0.125985     0.127018  \n",
       "DAYS_ENTRY_PAYMENT                1.000000        0.125555     0.126602  \n",
       "AMT_INSTALMENT                    0.125555        1.000000     0.937191  \n",
       "AMT_PAYMENT                       0.126602        0.937191     1.000000  "
      ]
     },
     "execution_count": 20,
     "metadata": {},
     "output_type": "execute_result"
    }
   ],
   "source": [
    "install_payments.corr()"
   ]
  },
  {
   "cell_type": "code",
   "execution_count": 21,
   "id": "79613bae",
   "metadata": {},
   "outputs": [
    {
     "data": {
      "image/png": "[encoded data removed]",
      "text/plain": [
       "<Figure size 1296x720 with 2 Axes>"
      ]
     },
     "metadata": {
      "needs_background": "light"
     },
     "output_type": "display_data"
    }
   ],
   "source": [
    "fig, ax = plt.subplots(figsize = (18, 10))\n",
    "sns.heatmap(install_payments[['SK_ID_PREV', 'SK_ID_CURR', 'NUM_INSTALMENT_VERSION',\\\n",
    "       'NUM_INSTALMENT_NUMBER', 'DAYS_INSTALMENT', 'DAYS_ENTRY_PAYMENT',\\\n",
    "       'AMT_INSTALMENT', 'AMT_PAYMENT']].corr(), cmap=\"viridis\", annot = True, fmt = \".2f\", linewidths=1, ax = ax)\n",
    "\n",
    "plt.show()"
   ]
  },
  {
   "cell_type": "code",
   "execution_count": 22,
   "id": "3bdd0648",
   "metadata": {},
   "outputs": [],
   "source": [
    "# không bỏ cột nào\n",
    "\n",
    "# SK_ID_PREV, SK_ID_CURR tạo thành composite key\n",
    "\n",
    "# AMT_PAYMENT và AMT_INSTALLMENT tuy có high correlation nhưng là biến quan trọng"
   ]
  },
  {
   "cell_type": "code",
   "execution_count": null,
   "id": "33750713",
   "metadata": {},
   "outputs": [],
   "source": []
  },
  {
   "cell_type": "code",
   "execution_count": null,
   "id": "37d4c804",
   "metadata": {},
   "outputs": [],
   "source": []
  }
 ],
 "metadata": {
  "kernelspec": {
   "display_name": "Python 3",
   "language": "python",
   "name": "python3"
  },
  "language_info": {
   "codemirror_mode": {
    "name": "ipython",
    "version": 3
   },
   "file_extension": ".py",
   "mimetype": "text/x-python",
   "name": "python",
   "nbconvert_exporter": "python",
   "pygments_lexer": "ipython3",
   "version": "3.8.8"
  }
 },
 "nbformat": 4,
 "nbformat_minor": 5
}
