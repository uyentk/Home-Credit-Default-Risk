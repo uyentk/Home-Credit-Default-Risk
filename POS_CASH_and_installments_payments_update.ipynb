{
  "nbformat": 4,
  "nbformat_minor": 0,
  "metadata": {
    "colab": {
      "provenance": [],
      "collapsed_sections": []
    },
    "kernelspec": {
      "name": "python3",
      "display_name": "Python 3"
    },
    "language_info": {
      "name": "python"
    }
  },
  "cells": [
    {
      "cell_type": "code",
      "execution_count": 1,
      "metadata": {
        "id": "3-UjQPTVq7Fu"
      },
      "outputs": [],
      "source": [
        "import pandas as pd\n",
        "import numpy as np\n",
        "import matplotlib.pyplot as plt\n",
        "import seaborn as sns"
      ]
    },
    {
      "cell_type": "code",
      "source": [
        "def reduce_memory_usage(df):\n",
        "  \n",
        "    start_mem = df.memory_usage().sum() / 1024**2\n",
        "    print('Memory usage of dataframe is {:.2f} MB'.format(start_mem))\n",
        "    \n",
        "    for col in df.columns:\n",
        "        col_type = df[col].dtype\n",
        "        \n",
        "        if col_type != object:\n",
        "            c_min = df[col].min()\n",
        "            c_max = df[col].max()\n",
        "            if str(col_type)[:3] == 'int':\n",
        "                if c_min > np.iinfo(np.int8).min and c_max < np.iinfo(np.int8).max:\n",
        "                    df[col] = df[col].astype(np.int8)\n",
        "                elif c_min > np.iinfo(np.int16).min and c_max < np.iinfo(np.int16).max:\n",
        "                    df[col] = df[col].astype(np.int16)\n",
        "                elif c_min > np.iinfo(np.int32).min and c_max < np.iinfo(np.int32).max:\n",
        "                    df[col] = df[col].astype(np.int32)\n",
        "                elif c_min > np.iinfo(np.int64).min and c_max < np.iinfo(np.int64).max:\n",
        "                    df[col] = df[col].astype(np.int64)  \n",
        "            else:\n",
        "                if c_min > np.finfo(np.float16).min and c_max < np.finfo(np.float16).max:\n",
        "                    df[col] = df[col].astype(np.float16)\n",
        "                elif c_min > np.finfo(np.float32).min and c_max < np.finfo(np.float32).max:\n",
        "                    df[col] = df[col].astype(np.float32)\n",
        "                else:\n",
        "                    df[col] = df[col].astype(np.float64)\n",
        "\n",
        "    end_mem = df.memory_usage().sum() / 1024**2\n",
        "    print('Memory usage after optimization is: {:.2f} MB'.format(end_mem))\n",
        "    print('Decreased by {:.1f}%'.format(100 * (start_mem - end_mem) / start_mem))\n",
        "    \n",
        "    return df"
      ],
      "metadata": {
        "id": "-88ctVWOZcN6"
      },
      "execution_count": 31,
      "outputs": []
    },
    {
      "cell_type": "code",
      "source": [
        "class correlation_matrix:\n",
        "    '''\n",
        "    Class to plot heatmap of Correlation Matrix and print Top Correlated Features with Target.\n",
        "    Contains three methods:\n",
        "        1. init method\n",
        "        2. plot_correlation_matrix method\n",
        "        3. target_top_corr method\n",
        "    '''\n",
        "    \n",
        "    def __init__(self, data, columns_to_drop, figsize = (25,23), mask_upper = True, tight_layout = True, \n",
        "                  linewidth = 0.1, fontsize = 10, cmap = 'Blues'):  \n",
        "        '''  \n",
        "        Function to initialize the class members. \n",
        "        \n",
        "        Inputs:\n",
        "            data: DataFrame\n",
        "                The DataFrame from which to build correlation matrix\n",
        "            columns_to_drop: list\n",
        "                Columns which have to be dropped while building the correlation matrix (for example the Loan ID)\n",
        "            figsize: tuple, default = (25,23)\n",
        "                Size of the figure to be plotted\n",
        "            mask_upper: bool, default = True\n",
        "                Whether to plot only the lower triangle of heatmap or plot full.\n",
        "            tight_layout: bool, default = True\n",
        "                Whether to keep tight layout or not\n",
        "            linewidth: float/int, default = 0.1\n",
        "                The linewidth to use for heatmap\n",
        "            fontsize: int, default = 10\n",
        "                The font size for the X and Y tick labels\n",
        "            cmap: str, default = 'Blues'\n",
        "                The colormap to be used for heatmap\n",
        "\n",
        "        Returns:\n",
        "            None\n",
        "        '''\n",
        "        \n",
        "        self.data = data\n",
        "        self.columns_to_drop = columns_to_drop\n",
        "        self.figsize = figsize\n",
        "        self.mask_upper = mask_upper\n",
        "        self.tight_layout = tight_layout\n",
        "        self.linewidth = linewidth\n",
        "        self.fontsize = fontsize\n",
        "        self.cmap = cmap \n",
        "                 \n",
        "    def plot_correlation_matrix(self):\n",
        "        '''\n",
        "        Function to plot the Correlation Matrix Heatmap\n",
        "        \n",
        "        Inputs:\n",
        "            self\n",
        "        \n",
        "        Returns:\n",
        "            None\n",
        "        '''\n",
        "        \n",
        "        print('-' * 100)\n",
        "        #building the correlation dataframe\n",
        "        self.corr_data = self.data.drop(self.columns_to_drop + ['TARGET'], axis = 1).corr()\n",
        "\n",
        "        if self.mask_upper:\n",
        "            #masking the heatmap to show only lower triangle. This is to save the RAM.\n",
        "            mask_array = np.ones(self.corr_data.shape)\n",
        "            mask_array = np.triu(mask_array)\n",
        "        else:\n",
        "            mask_array = np.zeros(self.corr_data.shape)\n",
        "\n",
        "        plt.figure(figsize = self.figsize, tight_layout = self.tight_layout)\n",
        "        sns.heatmap(self.corr_data, annot = False, mask = mask_array, linewidth = self.linewidth, cmap = self.cmap)\n",
        "        plt.xticks(rotation = 90, fontsize = self.fontsize)\n",
        "        plt.yticks(fontsize = self.fontsize)\n",
        "        plt.title(\"Correlation Heatmap for Numerical features\")\n",
        "        plt.show()\n",
        "        print(\"-\"*100)"
      ],
      "metadata": {
        "id": "QOhUEP4CaVRq"
      },
      "execution_count": 35,
      "outputs": []
    },
    {
      "cell_type": "code",
      "source": [
        "def plot_continuous_variables(data, column_name, plots = ['distplot', 'CDF', 'box', 'violin'], scale_limits = None, figsize = (20,8), histogram = True, log_scale = False):\n",
        "    \n",
        "    '''\n",
        "    Function to plot continuous variables distribution\n",
        "    \n",
        "    Inputs:\n",
        "        data: DataFrame\n",
        "            The DataFrame from which to plot.\n",
        "        column_name: str\n",
        "            Column's name whose distribution is to be plotted.\n",
        "        plots: list, default = ['distplot', 'CDF', box', 'violin']\n",
        "            List of plots to plot for Continuous Variable.\n",
        "        scale_limits: tuple (left, right), default = None\n",
        "            To control the limits of values to be plotted in case of outliers.\n",
        "        figsize: tuple, default = (20,8)\n",
        "            Size of the figure to be plotted.\n",
        "        histogram: bool, default = True\n",
        "            Whether to plot histogram along with distplot or not.\n",
        "        log_scale: bool, default = False\n",
        "            Whether to use log-scale for variables with outlying points.\n",
        "    '''\n",
        "\n",
        "    data_to_plot = data.copy()\n",
        "    if scale_limits:\n",
        "        #taking only the data within the specified limits\n",
        "        data_to_plot[column_name] = data[column_name][(data[column_name] > scale_limits[0]) & (data[column_name] < scale_limits[1])]\n",
        "\n",
        "    number_of_subplots = len(plots)\n",
        "    plt.figure(figsize = figsize)\n",
        "    sns.set_style('whitegrid')\n",
        "    \n",
        "    for i, ele in enumerate(plots):\n",
        "        plt.subplot(1, number_of_subplots, i + 1)\n",
        "        plt.subplots_adjust(wspace=0.25)\n",
        "        \n",
        "        if ele == 'CDF':\n",
        "            #making the percentile DataFrame for both positive and negative Class Labels\n",
        "            percentile_values_0 = data_to_plot[data_to_plot.TARGET == 0][[column_name]].dropna().sort_values(by = column_name)\n",
        "            percentile_values_0['Percentile'] = [ele / (len(percentile_values_0)-1) for ele in range(len(percentile_values_0))]\n",
        "            \n",
        "            percentile_values_1 = data_to_plot[data_to_plot.TARGET == 1][[column_name]].dropna().sort_values(by = column_name)\n",
        "            percentile_values_1['Percentile'] = [ele / (len(percentile_values_1)-1) for ele in range(len(percentile_values_1))]\n",
        "            \n",
        "            plt.plot(percentile_values_0[column_name], percentile_values_0['Percentile'], color = 'red', label = 'Non-Defaulters')\n",
        "            plt.plot(percentile_values_1[column_name], percentile_values_1['Percentile'], color = 'black', label = 'Defaulters')\n",
        "            plt.xlabel(column_name)\n",
        "            plt.ylabel('Probability')\n",
        "            plt.title('CDF of {}'.format(column_name))\n",
        "            plt.legend(fontsize = 'medium')\n",
        "            if log_scale:\n",
        "                plt.xscale('log')\n",
        "                plt.xlabel(column_name + ' - (log-scale)')\n",
        "            \n",
        "        if ele == 'distplot':  \n",
        "            sns.distplot(data_to_plot[column_name][data['TARGET'] == 0].dropna(),\n",
        "                         label='Non-Defaulters', hist = False, color='red')\n",
        "            sns.distplot(data_to_plot[column_name][data['TARGET'] == 1].dropna(),\n",
        "                         label='Defaulters', hist = False, color='black')\n",
        "            plt.xlabel(column_name)\n",
        "            plt.ylabel('Probability Density')\n",
        "            plt.legend(fontsize='medium')\n",
        "            plt.title(\"Dist-Plot of {}\".format(column_name))\n",
        "            if log_scale:\n",
        "                plt.xscale('log')\n",
        "                plt.xlabel(f'{column_name} (log scale)')\n",
        "\n",
        "        if ele == 'violin':  \n",
        "            sns.violinplot(x='TARGET', y=column_name, data=data_to_plot)\n",
        "            plt.title(\"Violin-Plot of {}\".format(column_name))\n",
        "            if log_scale:\n",
        "                plt.yscale('log')\n",
        "                plt.ylabel(f'{column_name} (log Scale)')\n",
        "\n",
        "        if ele == 'box':  \n",
        "            sns.boxplot(x='TARGET', y=column_name, data=data_to_plot)\n",
        "            plt.title(\"Box-Plot of {}\".format(column_name))\n",
        "            if log_scale:\n",
        "                plt.yscale('log')\n",
        "                plt.ylabel(f'{column_name} (log Scale)')\n",
        "\n",
        "    plt.show()"
      ],
      "metadata": {
        "id": "HbJyUQ6JcAQ5"
      },
      "execution_count": 40,
      "outputs": []
    },
    {
      "cell_type": "code",
      "source": [
        "def missing_data(df):\n",
        "   total = df.isnull().sum().sort_values(ascending = False)\n",
        "   percent = (df.isnull().sum()/df.isnull().count()*100).sort_values(ascending = False)\n",
        "   return pd.concat([total, percent], axis=1, keys=['Total', 'Percent'])"
      ],
      "metadata": {
        "id": "66mRl0NJYoIs"
      },
      "execution_count": 29,
      "outputs": []
    },
    {
      "cell_type": "code",
      "source": [
        "import gdown\n",
        "from google.colab import drive\n",
        "drive.mount('/content/drive')"
      ],
      "metadata": {
        "colab": {
          "base_uri": "https://localhost:8080/"
        },
        "id": "riINZ27RVPYO",
        "outputId": "3e320fe9-2700-4982-a9f0-b7b23dbdf040"
      },
      "execution_count": 2,
      "outputs": [
        {
          "output_type": "stream",
          "name": "stdout",
          "text": [
            "Mounted at /content/drive\n"
          ]
        }
      ]
    },
    {
      "cell_type": "markdown",
      "source": [
        "## POS_CASH_balance.csv"
      ],
      "metadata": {
        "id": "OQLaCh4ocxZR"
      }
    },
    {
      "cell_type": "markdown",
      "source": [
        "**POS_CASH_balance.csv**\n",
        "*   Monthly balance snapshots of previous POS (point of sales) and cash loans that the applicant had with Home Credit.\n",
        "*   This table has one row for each month of history of every previous credit in Home Credit (consumer credit and cash loans) related to loans in our sample."
      ],
      "metadata": {
        "id": "IzoftYPQrIMG"
      }
    },
    {
      "cell_type": "markdown",
      "source": [
        "**POS_CASH_balance.csv FEATURE DESCRIPTION**\n",
        "\n",
        "**SK_ID_PREV:** The ID of previous credit in Home Credit related to loan in our sample\n",
        "\n",
        "**SK_ID_CURR:** ID of loan in our sample\n",
        "\n",
        "**MONTHS_BALANCE:** Month of balance relative to application date\n",
        "\n",
        "**CNT_INSTALMENT:** Term of previous credit (can change over time)\n",
        "\n",
        "**CNT_INSTALMENT_FUTURE:** Installments left to pay on the previous credit\n",
        "\n",
        "**NAME_CONTRACT_STATUS:** Contract status during the month\n",
        "\n",
        "**SK_DPD:** DPD (days past due) during the month of previous credit\n",
        "\n",
        "**SK_DPD_DEF:** DPD during the month with tolerance (debts with low loan amounts are ignored) of the previous credit"
      ],
      "metadata": {
        "id": "KYU4QkXJA8a1"
      }
    },
    {
      "cell_type": "code",
      "source": [
        "pos_cash = reduce_memory_usage(pd.read_csv('/content/drive/MyDrive/Colab/POS_CASH_balance.csv'))"
      ],
      "metadata": {
        "colab": {
          "base_uri": "https://localhost:8080/"
        },
        "id": "n3nwd9lBZl6s",
        "outputId": "a9e95a62-62f6-488b-dd84-7d1c9ec77ba1"
      },
      "execution_count": 33,
      "outputs": [
        {
          "output_type": "stream",
          "name": "stdout",
          "text": [
            "Memory usage of dataframe is 610.43 MB\n",
            "Memory usage after optimization is: 238.45 MB\n",
            "Decreased by 60.9%\n"
          ]
        }
      ]
    },
    {
      "cell_type": "code",
      "source": [
        "pos_cash.head(10)"
      ],
      "metadata": {
        "id": "Y5tGUHx-WTnu",
        "colab": {
          "base_uri": "https://localhost:8080/",
          "height": 363
        },
        "outputId": "a225fb7a-9ad1-4e66-ebc0-7d9791c8df5b"
      },
      "execution_count": 4,
      "outputs": [
        {
          "output_type": "execute_result",
          "data": {
            "text/plain": [
              "   SK_ID_PREV  SK_ID_CURR  MONTHS_BALANCE  CNT_INSTALMENT  \\\n",
              "0     1803195      182943             -31            48.0   \n",
              "1     1715348      367990             -33            36.0   \n",
              "2     1784872      397406             -32            12.0   \n",
              "3     1903291      269225             -35            48.0   \n",
              "4     2341044      334279             -35            36.0   \n",
              "5     2207092      342166             -32            12.0   \n",
              "6     1110516      204376             -38            48.0   \n",
              "7     1387235      153211             -35            36.0   \n",
              "8     1220500      112740             -31            12.0   \n",
              "9     2371489      274851             -32            24.0   \n",
              "\n",
              "   CNT_INSTALMENT_FUTURE NAME_CONTRACT_STATUS  SK_DPD  SK_DPD_DEF  \n",
              "0                   45.0               Active       0           0  \n",
              "1                   35.0               Active       0           0  \n",
              "2                    9.0               Active       0           0  \n",
              "3                   42.0               Active       0           0  \n",
              "4                   35.0               Active       0           0  \n",
              "5                   12.0               Active       0           0  \n",
              "6                   43.0               Active       0           0  \n",
              "7                   36.0               Active       0           0  \n",
              "8                   12.0               Active       0           0  \n",
              "9                   16.0               Active       0           0  "
            ],
            "text/html": [
              "\n",
              "  <div id=\"df-449187f0-35bc-4809-afe3-509690fef043\">\n",
              "    <div class=\"colab-df-container\">\n",
              "      <div>\n",
              "<style scoped>\n",
              "    .dataframe tbody tr th:only-of-type {\n",
              "        vertical-align: middle;\n",
              "    }\n",
              "\n",
              "    .dataframe tbody tr th {\n",
              "        vertical-align: top;\n",
              "    }\n",
              "\n",
              "    .dataframe thead th {\n",
              "        text-align: right;\n",
              "    }\n",
              "</style>\n",
              "<table border=\"1\" class=\"dataframe\">\n",
              "  <thead>\n",
              "    <tr style=\"text-align: right;\">\n",
              "      <th></th>\n",
              "      <th>SK_ID_PREV</th>\n",
              "      <th>SK_ID_CURR</th>\n",
              "      <th>MONTHS_BALANCE</th>\n",
              "      <th>CNT_INSTALMENT</th>\n",
              "      <th>CNT_INSTALMENT_FUTURE</th>\n",
              "      <th>NAME_CONTRACT_STATUS</th>\n",
              "      <th>SK_DPD</th>\n",
              "      <th>SK_DPD_DEF</th>\n",
              "    </tr>\n",
              "  </thead>\n",
              "  <tbody>\n",
              "    <tr>\n",
              "      <th>0</th>\n",
              "      <td>1803195</td>\n",
              "      <td>182943</td>\n",
              "      <td>-31</td>\n",
              "      <td>48.0</td>\n",
              "      <td>45.0</td>\n",
              "      <td>Active</td>\n",
              "      <td>0</td>\n",
              "      <td>0</td>\n",
              "    </tr>\n",
              "    <tr>\n",
              "      <th>1</th>\n",
              "      <td>1715348</td>\n",
              "      <td>367990</td>\n",
              "      <td>-33</td>\n",
              "      <td>36.0</td>\n",
              "      <td>35.0</td>\n",
              "      <td>Active</td>\n",
              "      <td>0</td>\n",
              "      <td>0</td>\n",
              "    </tr>\n",
              "    <tr>\n",
              "      <th>2</th>\n",
              "      <td>1784872</td>\n",
              "      <td>397406</td>\n",
              "      <td>-32</td>\n",
              "      <td>12.0</td>\n",
              "      <td>9.0</td>\n",
              "      <td>Active</td>\n",
              "      <td>0</td>\n",
              "      <td>0</td>\n",
              "    </tr>\n",
              "    <tr>\n",
              "      <th>3</th>\n",
              "      <td>1903291</td>\n",
              "      <td>269225</td>\n",
              "      <td>-35</td>\n",
              "      <td>48.0</td>\n",
              "      <td>42.0</td>\n",
              "      <td>Active</td>\n",
              "      <td>0</td>\n",
              "      <td>0</td>\n",
              "    </tr>\n",
              "    <tr>\n",
              "      <th>4</th>\n",
              "      <td>2341044</td>\n",
              "      <td>334279</td>\n",
              "      <td>-35</td>\n",
              "      <td>36.0</td>\n",
              "      <td>35.0</td>\n",
              "      <td>Active</td>\n",
              "      <td>0</td>\n",
              "      <td>0</td>\n",
              "    </tr>\n",
              "    <tr>\n",
              "      <th>5</th>\n",
              "      <td>2207092</td>\n",
              "      <td>342166</td>\n",
              "      <td>-32</td>\n",
              "      <td>12.0</td>\n",
              "      <td>12.0</td>\n",
              "      <td>Active</td>\n",
              "      <td>0</td>\n",
              "      <td>0</td>\n",
              "    </tr>\n",
              "    <tr>\n",
              "      <th>6</th>\n",
              "      <td>1110516</td>\n",
              "      <td>204376</td>\n",
              "      <td>-38</td>\n",
              "      <td>48.0</td>\n",
              "      <td>43.0</td>\n",
              "      <td>Active</td>\n",
              "      <td>0</td>\n",
              "      <td>0</td>\n",
              "    </tr>\n",
              "    <tr>\n",
              "      <th>7</th>\n",
              "      <td>1387235</td>\n",
              "      <td>153211</td>\n",
              "      <td>-35</td>\n",
              "      <td>36.0</td>\n",
              "      <td>36.0</td>\n",
              "      <td>Active</td>\n",
              "      <td>0</td>\n",
              "      <td>0</td>\n",
              "    </tr>\n",
              "    <tr>\n",
              "      <th>8</th>\n",
              "      <td>1220500</td>\n",
              "      <td>112740</td>\n",
              "      <td>-31</td>\n",
              "      <td>12.0</td>\n",
              "      <td>12.0</td>\n",
              "      <td>Active</td>\n",
              "      <td>0</td>\n",
              "      <td>0</td>\n",
              "    </tr>\n",
              "    <tr>\n",
              "      <th>9</th>\n",
              "      <td>2371489</td>\n",
              "      <td>274851</td>\n",
              "      <td>-32</td>\n",
              "      <td>24.0</td>\n",
              "      <td>16.0</td>\n",
              "      <td>Active</td>\n",
              "      <td>0</td>\n",
              "      <td>0</td>\n",
              "    </tr>\n",
              "  </tbody>\n",
              "</table>\n",
              "</div>\n",
              "      <button class=\"colab-df-convert\" onclick=\"convertToInteractive('df-449187f0-35bc-4809-afe3-509690fef043')\"\n",
              "              title=\"Convert this dataframe to an interactive table.\"\n",
              "              style=\"display:none;\">\n",
              "        \n",
              "  <svg xmlns=\"http://www.w3.org/2000/svg\" height=\"24px\"viewBox=\"0 0 24 24\"\n",
              "       width=\"24px\">\n",
              "    <path d=\"M0 0h24v24H0V0z\" fill=\"none\"/>\n",
              "    <path d=\"M18.56 5.44l.94 2.06.94-2.06 2.06-.94-2.06-.94-.94-2.06-.94 2.06-2.06.94zm-11 1L8.5 8.5l.94-2.06 2.06-.94-2.06-.94L8.5 2.5l-.94 2.06-2.06.94zm10 10l.94 2.06.94-2.06 2.06-.94-2.06-.94-.94-2.06-.94 2.06-2.06.94z\"/><path d=\"M17.41 7.96l-1.37-1.37c-.4-.4-.92-.59-1.43-.59-.52 0-1.04.2-1.43.59L10.3 9.45l-7.72 7.72c-.78.78-.78 2.05 0 2.83L4 21.41c.39.39.9.59 1.41.59.51 0 1.02-.2 1.41-.59l7.78-7.78 2.81-2.81c.8-.78.8-2.07 0-2.86zM5.41 20L4 18.59l7.72-7.72 1.47 1.35L5.41 20z\"/>\n",
              "  </svg>\n",
              "      </button>\n",
              "      \n",
              "  <style>\n",
              "    .colab-df-container {\n",
              "      display:flex;\n",
              "      flex-wrap:wrap;\n",
              "      gap: 12px;\n",
              "    }\n",
              "\n",
              "    .colab-df-convert {\n",
              "      background-color: #E8F0FE;\n",
              "      border: none;\n",
              "      border-radius: 50%;\n",
              "      cursor: pointer;\n",
              "      display: none;\n",
              "      fill: #1967D2;\n",
              "      height: 32px;\n",
              "      padding: 0 0 0 0;\n",
              "      width: 32px;\n",
              "    }\n",
              "\n",
              "    .colab-df-convert:hover {\n",
              "      background-color: #E2EBFA;\n",
              "      box-shadow: 0px 1px 2px rgba(60, 64, 67, 0.3), 0px 1px 3px 1px rgba(60, 64, 67, 0.15);\n",
              "      fill: #174EA6;\n",
              "    }\n",
              "\n",
              "    [theme=dark] .colab-df-convert {\n",
              "      background-color: #3B4455;\n",
              "      fill: #D2E3FC;\n",
              "    }\n",
              "\n",
              "    [theme=dark] .colab-df-convert:hover {\n",
              "      background-color: #434B5C;\n",
              "      box-shadow: 0px 1px 3px 1px rgba(0, 0, 0, 0.15);\n",
              "      filter: drop-shadow(0px 1px 2px rgba(0, 0, 0, 0.3));\n",
              "      fill: #FFFFFF;\n",
              "    }\n",
              "  </style>\n",
              "\n",
              "      <script>\n",
              "        const buttonEl =\n",
              "          document.querySelector('#df-449187f0-35bc-4809-afe3-509690fef043 button.colab-df-convert');\n",
              "        buttonEl.style.display =\n",
              "          google.colab.kernel.accessAllowed ? 'block' : 'none';\n",
              "\n",
              "        async function convertToInteractive(key) {\n",
              "          const element = document.querySelector('#df-449187f0-35bc-4809-afe3-509690fef043');\n",
              "          const dataTable =\n",
              "            await google.colab.kernel.invokeFunction('convertToInteractive',\n",
              "                                                     [key], {});\n",
              "          if (!dataTable) return;\n",
              "\n",
              "          const docLinkHtml = 'Like what you see? Visit the ' +\n",
              "            '<a target=\"_blank\" href=https://colab.research.google.com/notebooks/data_table.ipynb>data table notebook</a>'\n",
              "            + ' to learn more about interactive tables.';\n",
              "          element.innerHTML = '';\n",
              "          dataTable['output_type'] = 'display_data';\n",
              "          await google.colab.output.renderOutput(dataTable, element);\n",
              "          const docLink = document.createElement('div');\n",
              "          docLink.innerHTML = docLinkHtml;\n",
              "          element.appendChild(docLink);\n",
              "        }\n",
              "      </script>\n",
              "    </div>\n",
              "  </div>\n",
              "  "
            ]
          },
          "metadata": {},
          "execution_count": 4
        }
      ]
    },
    {
      "cell_type": "code",
      "source": [
        "pos_cash.shape"
      ],
      "metadata": {
        "id": "xjl_TXrQWTk4",
        "colab": {
          "base_uri": "https://localhost:8080/"
        },
        "outputId": "438c831d-1deb-492f-f044-efc2674b4f76"
      },
      "execution_count": 5,
      "outputs": [
        {
          "output_type": "execute_result",
          "data": {
            "text/plain": [
              "(10001358, 8)"
            ]
          },
          "metadata": {},
          "execution_count": 5
        }
      ]
    },
    {
      "cell_type": "code",
      "source": [
        "pos_cash.columns"
      ],
      "metadata": {
        "id": "gHuVMQRDtstX",
        "colab": {
          "base_uri": "https://localhost:8080/"
        },
        "outputId": "baa9a34f-eca3-41d6-9416-9bd6e38c5031"
      },
      "execution_count": 6,
      "outputs": [
        {
          "output_type": "execute_result",
          "data": {
            "text/plain": [
              "Index(['SK_ID_PREV', 'SK_ID_CURR', 'MONTHS_BALANCE', 'CNT_INSTALMENT',\n",
              "       'CNT_INSTALMENT_FUTURE', 'NAME_CONTRACT_STATUS', 'SK_DPD',\n",
              "       'SK_DPD_DEF'],\n",
              "      dtype='object')"
            ]
          },
          "metadata": {},
          "execution_count": 6
        }
      ]
    },
    {
      "cell_type": "code",
      "source": [
        "pos_cash.info()"
      ],
      "metadata": {
        "id": "iz8UQAc4WTfP",
        "colab": {
          "base_uri": "https://localhost:8080/"
        },
        "outputId": "b1d5b2f5-b521-4602-bc4c-edbbe477c7d7"
      },
      "execution_count": 7,
      "outputs": [
        {
          "output_type": "stream",
          "name": "stdout",
          "text": [
            "<class 'pandas.core.frame.DataFrame'>\n",
            "RangeIndex: 10001358 entries, 0 to 10001357\n",
            "Data columns (total 8 columns):\n",
            " #   Column                 Dtype  \n",
            "---  ------                 -----  \n",
            " 0   SK_ID_PREV             int64  \n",
            " 1   SK_ID_CURR             int64  \n",
            " 2   MONTHS_BALANCE         int64  \n",
            " 3   CNT_INSTALMENT         float64\n",
            " 4   CNT_INSTALMENT_FUTURE  float64\n",
            " 5   NAME_CONTRACT_STATUS   object \n",
            " 6   SK_DPD                 int64  \n",
            " 7   SK_DPD_DEF             int64  \n",
            "dtypes: float64(2), int64(5), object(1)\n",
            "memory usage: 610.4+ MB\n"
          ]
        }
      ]
    },
    {
      "cell_type": "code",
      "source": [
        "pos_cash.describe().T"
      ],
      "metadata": {
        "colab": {
          "base_uri": "https://localhost:8080/",
          "height": 269
        },
        "id": "NUjaiAlo4xkp",
        "outputId": "10dc62e9-5f73-417a-ebba-f0ba1fde91fc"
      },
      "execution_count": 8,
      "outputs": [
        {
          "output_type": "execute_result",
          "data": {
            "text/plain": [
              "                            count          mean            std        min  \\\n",
              "SK_ID_PREV             10001358.0  1.903217e+06  535846.530722  1000001.0   \n",
              "SK_ID_CURR             10001358.0  2.784039e+05  102763.745090   100001.0   \n",
              "MONTHS_BALANCE         10001358.0 -3.501259e+01      26.066570      -96.0   \n",
              "CNT_INSTALMENT          9975287.0  1.708965e+01      11.995056        1.0   \n",
              "CNT_INSTALMENT_FUTURE   9975271.0  1.048384e+01      11.109058        0.0   \n",
              "SK_DPD                 10001358.0  1.160693e+01     132.714043        0.0   \n",
              "SK_DPD_DEF             10001358.0  6.544684e-01      32.762491        0.0   \n",
              "\n",
              "                             25%        50%        75%        max  \n",
              "SK_ID_PREV             1434405.0  1896565.0  2368963.0  2843499.0  \n",
              "SK_ID_CURR              189550.0   278654.0   367429.0   456255.0  \n",
              "MONTHS_BALANCE             -54.0      -28.0      -13.0       -1.0  \n",
              "CNT_INSTALMENT              10.0       12.0       24.0       92.0  \n",
              "CNT_INSTALMENT_FUTURE        3.0        7.0       14.0       85.0  \n",
              "SK_DPD                       0.0        0.0        0.0     4231.0  \n",
              "SK_DPD_DEF                   0.0        0.0        0.0     3595.0  "
            ],
            "text/html": [
              "\n",
              "  <div id=\"df-400a2194-8fd2-4fac-8858-5ac72b11bee9\">\n",
              "    <div class=\"colab-df-container\">\n",
              "      <div>\n",
              "<style scoped>\n",
              "    .dataframe tbody tr th:only-of-type {\n",
              "        vertical-align: middle;\n",
              "    }\n",
              "\n",
              "    .dataframe tbody tr th {\n",
              "        vertical-align: top;\n",
              "    }\n",
              "\n",
              "    .dataframe thead th {\n",
              "        text-align: right;\n",
              "    }\n",
              "</style>\n",
              "<table border=\"1\" class=\"dataframe\">\n",
              "  <thead>\n",
              "    <tr style=\"text-align: right;\">\n",
              "      <th></th>\n",
              "      <th>count</th>\n",
              "      <th>mean</th>\n",
              "      <th>std</th>\n",
              "      <th>min</th>\n",
              "      <th>25%</th>\n",
              "      <th>50%</th>\n",
              "      <th>75%</th>\n",
              "      <th>max</th>\n",
              "    </tr>\n",
              "  </thead>\n",
              "  <tbody>\n",
              "    <tr>\n",
              "      <th>SK_ID_PREV</th>\n",
              "      <td>10001358.0</td>\n",
              "      <td>1.903217e+06</td>\n",
              "      <td>535846.530722</td>\n",
              "      <td>1000001.0</td>\n",
              "      <td>1434405.0</td>\n",
              "      <td>1896565.0</td>\n",
              "      <td>2368963.0</td>\n",
              "      <td>2843499.0</td>\n",
              "    </tr>\n",
              "    <tr>\n",
              "      <th>SK_ID_CURR</th>\n",
              "      <td>10001358.0</td>\n",
              "      <td>2.784039e+05</td>\n",
              "      <td>102763.745090</td>\n",
              "      <td>100001.0</td>\n",
              "      <td>189550.0</td>\n",
              "      <td>278654.0</td>\n",
              "      <td>367429.0</td>\n",
              "      <td>456255.0</td>\n",
              "    </tr>\n",
              "    <tr>\n",
              "      <th>MONTHS_BALANCE</th>\n",
              "      <td>10001358.0</td>\n",
              "      <td>-3.501259e+01</td>\n",
              "      <td>26.066570</td>\n",
              "      <td>-96.0</td>\n",
              "      <td>-54.0</td>\n",
              "      <td>-28.0</td>\n",
              "      <td>-13.0</td>\n",
              "      <td>-1.0</td>\n",
              "    </tr>\n",
              "    <tr>\n",
              "      <th>CNT_INSTALMENT</th>\n",
              "      <td>9975287.0</td>\n",
              "      <td>1.708965e+01</td>\n",
              "      <td>11.995056</td>\n",
              "      <td>1.0</td>\n",
              "      <td>10.0</td>\n",
              "      <td>12.0</td>\n",
              "      <td>24.0</td>\n",
              "      <td>92.0</td>\n",
              "    </tr>\n",
              "    <tr>\n",
              "      <th>CNT_INSTALMENT_FUTURE</th>\n",
              "      <td>9975271.0</td>\n",
              "      <td>1.048384e+01</td>\n",
              "      <td>11.109058</td>\n",
              "      <td>0.0</td>\n",
              "      <td>3.0</td>\n",
              "      <td>7.0</td>\n",
              "      <td>14.0</td>\n",
              "      <td>85.0</td>\n",
              "    </tr>\n",
              "    <tr>\n",
              "      <th>SK_DPD</th>\n",
              "      <td>10001358.0</td>\n",
              "      <td>1.160693e+01</td>\n",
              "      <td>132.714043</td>\n",
              "      <td>0.0</td>\n",
              "      <td>0.0</td>\n",
              "      <td>0.0</td>\n",
              "      <td>0.0</td>\n",
              "      <td>4231.0</td>\n",
              "    </tr>\n",
              "    <tr>\n",
              "      <th>SK_DPD_DEF</th>\n",
              "      <td>10001358.0</td>\n",
              "      <td>6.544684e-01</td>\n",
              "      <td>32.762491</td>\n",
              "      <td>0.0</td>\n",
              "      <td>0.0</td>\n",
              "      <td>0.0</td>\n",
              "      <td>0.0</td>\n",
              "      <td>3595.0</td>\n",
              "    </tr>\n",
              "  </tbody>\n",
              "</table>\n",
              "</div>\n",
              "      <button class=\"colab-df-convert\" onclick=\"convertToInteractive('df-400a2194-8fd2-4fac-8858-5ac72b11bee9')\"\n",
              "              title=\"Convert this dataframe to an interactive table.\"\n",
              "              style=\"display:none;\">\n",
              "        \n",
              "  <svg xmlns=\"http://www.w3.org/2000/svg\" height=\"24px\"viewBox=\"0 0 24 24\"\n",
              "       width=\"24px\">\n",
              "    <path d=\"M0 0h24v24H0V0z\" fill=\"none\"/>\n",
              "    <path d=\"M18.56 5.44l.94 2.06.94-2.06 2.06-.94-2.06-.94-.94-2.06-.94 2.06-2.06.94zm-11 1L8.5 8.5l.94-2.06 2.06-.94-2.06-.94L8.5 2.5l-.94 2.06-2.06.94zm10 10l.94 2.06.94-2.06 2.06-.94-2.06-.94-.94-2.06-.94 2.06-2.06.94z\"/><path d=\"M17.41 7.96l-1.37-1.37c-.4-.4-.92-.59-1.43-.59-.52 0-1.04.2-1.43.59L10.3 9.45l-7.72 7.72c-.78.78-.78 2.05 0 2.83L4 21.41c.39.39.9.59 1.41.59.51 0 1.02-.2 1.41-.59l7.78-7.78 2.81-2.81c.8-.78.8-2.07 0-2.86zM5.41 20L4 18.59l7.72-7.72 1.47 1.35L5.41 20z\"/>\n",
              "  </svg>\n",
              "      </button>\n",
              "      \n",
              "  <style>\n",
              "    .colab-df-container {\n",
              "      display:flex;\n",
              "      flex-wrap:wrap;\n",
              "      gap: 12px;\n",
              "    }\n",
              "\n",
              "    .colab-df-convert {\n",
              "      background-color: #E8F0FE;\n",
              "      border: none;\n",
              "      border-radius: 50%;\n",
              "      cursor: pointer;\n",
              "      display: none;\n",
              "      fill: #1967D2;\n",
              "      height: 32px;\n",
              "      padding: 0 0 0 0;\n",
              "      width: 32px;\n",
              "    }\n",
              "\n",
              "    .colab-df-convert:hover {\n",
              "      background-color: #E2EBFA;\n",
              "      box-shadow: 0px 1px 2px rgba(60, 64, 67, 0.3), 0px 1px 3px 1px rgba(60, 64, 67, 0.15);\n",
              "      fill: #174EA6;\n",
              "    }\n",
              "\n",
              "    [theme=dark] .colab-df-convert {\n",
              "      background-color: #3B4455;\n",
              "      fill: #D2E3FC;\n",
              "    }\n",
              "\n",
              "    [theme=dark] .colab-df-convert:hover {\n",
              "      background-color: #434B5C;\n",
              "      box-shadow: 0px 1px 3px 1px rgba(0, 0, 0, 0.15);\n",
              "      filter: drop-shadow(0px 1px 2px rgba(0, 0, 0, 0.3));\n",
              "      fill: #FFFFFF;\n",
              "    }\n",
              "  </style>\n",
              "\n",
              "      <script>\n",
              "        const buttonEl =\n",
              "          document.querySelector('#df-400a2194-8fd2-4fac-8858-5ac72b11bee9 button.colab-df-convert');\n",
              "        buttonEl.style.display =\n",
              "          google.colab.kernel.accessAllowed ? 'block' : 'none';\n",
              "\n",
              "        async function convertToInteractive(key) {\n",
              "          const element = document.querySelector('#df-400a2194-8fd2-4fac-8858-5ac72b11bee9');\n",
              "          const dataTable =\n",
              "            await google.colab.kernel.invokeFunction('convertToInteractive',\n",
              "                                                     [key], {});\n",
              "          if (!dataTable) return;\n",
              "\n",
              "          const docLinkHtml = 'Like what you see? Visit the ' +\n",
              "            '<a target=\"_blank\" href=https://colab.research.google.com/notebooks/data_table.ipynb>data table notebook</a>'\n",
              "            + ' to learn more about interactive tables.';\n",
              "          element.innerHTML = '';\n",
              "          dataTable['output_type'] = 'display_data';\n",
              "          await google.colab.output.renderOutput(dataTable, element);\n",
              "          const docLink = document.createElement('div');\n",
              "          docLink.innerHTML = docLinkHtml;\n",
              "          element.appendChild(docLink);\n",
              "        }\n",
              "      </script>\n",
              "    </div>\n",
              "  </div>\n",
              "  "
            ]
          },
          "metadata": {},
          "execution_count": 8
        }
      ]
    },
    {
      "cell_type": "code",
      "source": [
        "# check duplicate\n",
        "pos_cash.duplicated().sum()"
      ],
      "metadata": {
        "colab": {
          "base_uri": "https://localhost:8080/"
        },
        "id": "GLn6V0ky48Co",
        "outputId": "e979ac4c-3a21-4217-a93d-32bf13f14163"
      },
      "execution_count": 9,
      "outputs": [
        {
          "output_type": "execute_result",
          "data": {
            "text/plain": [
              "0"
            ]
          },
          "metadata": {},
          "execution_count": 9
        }
      ]
    },
    {
      "cell_type": "code",
      "source": [
        "missing_data(pos_cash)"
      ],
      "metadata": {
        "colab": {
          "base_uri": "https://localhost:8080/",
          "height": 300
        },
        "id": "lKXVzFjCYq-7",
        "outputId": "a0ffc8f3-1bcd-4c0d-a706-1a06b3c56799"
      },
      "execution_count": 30,
      "outputs": [
        {
          "output_type": "execute_result",
          "data": {
            "text/plain": [
              "                       Total   Percent\n",
              "CNT_INSTALMENT_FUTURE  26087  0.260835\n",
              "CNT_INSTALMENT         26071  0.260675\n",
              "SK_ID_PREV                 0  0.000000\n",
              "SK_ID_CURR                 0  0.000000\n",
              "MONTHS_BALANCE             0  0.000000\n",
              "NAME_CONTRACT_STATUS       0  0.000000\n",
              "SK_DPD                     0  0.000000\n",
              "SK_DPD_DEF                 0  0.000000"
            ],
            "text/html": [
              "\n",
              "  <div id=\"df-d5d65302-b5d7-440d-a1c9-16cf0a06dde6\">\n",
              "    <div class=\"colab-df-container\">\n",
              "      <div>\n",
              "<style scoped>\n",
              "    .dataframe tbody tr th:only-of-type {\n",
              "        vertical-align: middle;\n",
              "    }\n",
              "\n",
              "    .dataframe tbody tr th {\n",
              "        vertical-align: top;\n",
              "    }\n",
              "\n",
              "    .dataframe thead th {\n",
              "        text-align: right;\n",
              "    }\n",
              "</style>\n",
              "<table border=\"1\" class=\"dataframe\">\n",
              "  <thead>\n",
              "    <tr style=\"text-align: right;\">\n",
              "      <th></th>\n",
              "      <th>Total</th>\n",
              "      <th>Percent</th>\n",
              "    </tr>\n",
              "  </thead>\n",
              "  <tbody>\n",
              "    <tr>\n",
              "      <th>CNT_INSTALMENT_FUTURE</th>\n",
              "      <td>26087</td>\n",
              "      <td>0.260835</td>\n",
              "    </tr>\n",
              "    <tr>\n",
              "      <th>CNT_INSTALMENT</th>\n",
              "      <td>26071</td>\n",
              "      <td>0.260675</td>\n",
              "    </tr>\n",
              "    <tr>\n",
              "      <th>SK_ID_PREV</th>\n",
              "      <td>0</td>\n",
              "      <td>0.000000</td>\n",
              "    </tr>\n",
              "    <tr>\n",
              "      <th>SK_ID_CURR</th>\n",
              "      <td>0</td>\n",
              "      <td>0.000000</td>\n",
              "    </tr>\n",
              "    <tr>\n",
              "      <th>MONTHS_BALANCE</th>\n",
              "      <td>0</td>\n",
              "      <td>0.000000</td>\n",
              "    </tr>\n",
              "    <tr>\n",
              "      <th>NAME_CONTRACT_STATUS</th>\n",
              "      <td>0</td>\n",
              "      <td>0.000000</td>\n",
              "    </tr>\n",
              "    <tr>\n",
              "      <th>SK_DPD</th>\n",
              "      <td>0</td>\n",
              "      <td>0.000000</td>\n",
              "    </tr>\n",
              "    <tr>\n",
              "      <th>SK_DPD_DEF</th>\n",
              "      <td>0</td>\n",
              "      <td>0.000000</td>\n",
              "    </tr>\n",
              "  </tbody>\n",
              "</table>\n",
              "</div>\n",
              "      <button class=\"colab-df-convert\" onclick=\"convertToInteractive('df-d5d65302-b5d7-440d-a1c9-16cf0a06dde6')\"\n",
              "              title=\"Convert this dataframe to an interactive table.\"\n",
              "              style=\"display:none;\">\n",
              "        \n",
              "  <svg xmlns=\"http://www.w3.org/2000/svg\" height=\"24px\"viewBox=\"0 0 24 24\"\n",
              "       width=\"24px\">\n",
              "    <path d=\"M0 0h24v24H0V0z\" fill=\"none\"/>\n",
              "    <path d=\"M18.56 5.44l.94 2.06.94-2.06 2.06-.94-2.06-.94-.94-2.06-.94 2.06-2.06.94zm-11 1L8.5 8.5l.94-2.06 2.06-.94-2.06-.94L8.5 2.5l-.94 2.06-2.06.94zm10 10l.94 2.06.94-2.06 2.06-.94-2.06-.94-.94-2.06-.94 2.06-2.06.94z\"/><path d=\"M17.41 7.96l-1.37-1.37c-.4-.4-.92-.59-1.43-.59-.52 0-1.04.2-1.43.59L10.3 9.45l-7.72 7.72c-.78.78-.78 2.05 0 2.83L4 21.41c.39.39.9.59 1.41.59.51 0 1.02-.2 1.41-.59l7.78-7.78 2.81-2.81c.8-.78.8-2.07 0-2.86zM5.41 20L4 18.59l7.72-7.72 1.47 1.35L5.41 20z\"/>\n",
              "  </svg>\n",
              "      </button>\n",
              "      \n",
              "  <style>\n",
              "    .colab-df-container {\n",
              "      display:flex;\n",
              "      flex-wrap:wrap;\n",
              "      gap: 12px;\n",
              "    }\n",
              "\n",
              "    .colab-df-convert {\n",
              "      background-color: #E8F0FE;\n",
              "      border: none;\n",
              "      border-radius: 50%;\n",
              "      cursor: pointer;\n",
              "      display: none;\n",
              "      fill: #1967D2;\n",
              "      height: 32px;\n",
              "      padding: 0 0 0 0;\n",
              "      width: 32px;\n",
              "    }\n",
              "\n",
              "    .colab-df-convert:hover {\n",
              "      background-color: #E2EBFA;\n",
              "      box-shadow: 0px 1px 2px rgba(60, 64, 67, 0.3), 0px 1px 3px 1px rgba(60, 64, 67, 0.15);\n",
              "      fill: #174EA6;\n",
              "    }\n",
              "\n",
              "    [theme=dark] .colab-df-convert {\n",
              "      background-color: #3B4455;\n",
              "      fill: #D2E3FC;\n",
              "    }\n",
              "\n",
              "    [theme=dark] .colab-df-convert:hover {\n",
              "      background-color: #434B5C;\n",
              "      box-shadow: 0px 1px 3px 1px rgba(0, 0, 0, 0.15);\n",
              "      filter: drop-shadow(0px 1px 2px rgba(0, 0, 0, 0.3));\n",
              "      fill: #FFFFFF;\n",
              "    }\n",
              "  </style>\n",
              "\n",
              "      <script>\n",
              "        const buttonEl =\n",
              "          document.querySelector('#df-d5d65302-b5d7-440d-a1c9-16cf0a06dde6 button.colab-df-convert');\n",
              "        buttonEl.style.display =\n",
              "          google.colab.kernel.accessAllowed ? 'block' : 'none';\n",
              "\n",
              "        async function convertToInteractive(key) {\n",
              "          const element = document.querySelector('#df-d5d65302-b5d7-440d-a1c9-16cf0a06dde6');\n",
              "          const dataTable =\n",
              "            await google.colab.kernel.invokeFunction('convertToInteractive',\n",
              "                                                     [key], {});\n",
              "          if (!dataTable) return;\n",
              "\n",
              "          const docLinkHtml = 'Like what you see? Visit the ' +\n",
              "            '<a target=\"_blank\" href=https://colab.research.google.com/notebooks/data_table.ipynb>data table notebook</a>'\n",
              "            + ' to learn more about interactive tables.';\n",
              "          element.innerHTML = '';\n",
              "          dataTable['output_type'] = 'display_data';\n",
              "          await google.colab.output.renderOutput(dataTable, element);\n",
              "          const docLink = document.createElement('div');\n",
              "          docLink.innerHTML = docLinkHtml;\n",
              "          element.appendChild(docLink);\n",
              "        }\n",
              "      </script>\n",
              "    </div>\n",
              "  </div>\n",
              "  "
            ]
          },
          "metadata": {},
          "execution_count": 30
        }
      ]
    },
    {
      "cell_type": "code",
      "source": [
        "pos_cash['NAME_CONTRACT_STATUS'].value_counts()"
      ],
      "metadata": {
        "id": "NfW5BCd5WU0h",
        "colab": {
          "base_uri": "https://localhost:8080/"
        },
        "outputId": "e06acfa5-afd9-447a-cc3b-e748dd83ef96"
      },
      "execution_count": 13,
      "outputs": [
        {
          "output_type": "execute_result",
          "data": {
            "text/plain": [
              "Active                   9151119\n",
              "Completed                 744883\n",
              "Signed                     87260\n",
              "Demand                      7065\n",
              "Returned to the store       5461\n",
              "Approved                    4917\n",
              "Amortized debt               636\n",
              "Canceled                      15\n",
              "XNA                            2\n",
              "Name: NAME_CONTRACT_STATUS, dtype: int64"
            ]
          },
          "metadata": {},
          "execution_count": 13
        }
      ]
    },
    {
      "cell_type": "code",
      "source": [
        "fig, ax = plt.subplots(figsize = (18, 7))\n",
        "sns.countplot(x = 'NAME_CONTRACT_STATUS', data = pos_cash)\n",
        "plt.show()"
      ],
      "metadata": {
        "id": "lSC_dHFbWUxM",
        "colab": {
          "base_uri": "https://localhost:8080/",
          "height": 454
        },
        "outputId": "ac4f8e5e-7216-4460-926b-7fd4c59ab46a"
      },
      "execution_count": 14,
      "outputs": [
        {
          "output_type": "display_data",
          "data": {
            "text/plain": [
              "<Figure size 1296x504 with 1 Axes>"
            ],
            "image/png": "[encoded data removed]"
          },
          "metadata": {
            "needs_background": "light"
          }
        }
      ]
    },
    {
      "cell_type": "markdown",
      "source": [
        "**Merging the TARGETS from application_train to POS_CASH_balance table.**"
      ],
      "metadata": {
        "id": "kAJJNtilZIES"
      }
    },
    {
      "cell_type": "code",
      "source": [
        "application_train = reduce_memory_usage(pd.read_csv('/content/drive/MyDrive/Colab/application_train.csv'))"
      ],
      "metadata": {
        "colab": {
          "base_uri": "https://localhost:8080/"
        },
        "id": "cdb42l4KZHfy",
        "outputId": "1a2d5d88-c124-4bd6-d966-3f38ebbdb6d6"
      },
      "execution_count": 32,
      "outputs": [
        {
          "output_type": "stream",
          "name": "stdout",
          "text": [
            "Memory usage of dataframe is 286.23 MB\n",
            "Memory usage after optimization is: 92.38 MB\n",
            "Decreased by 67.7%\n"
          ]
        }
      ]
    },
    {
      "cell_type": "code",
      "source": [
        "print(\"-\"*100)\n",
        "print(\"Merging TARGET with POS_CASH_balance Table\")\n",
        "pos_cash_merged = application_train.iloc[:,:2].merge(pos_cash, on = 'SK_ID_CURR', how = 'left')\n",
        "print(\"-\"*100)"
      ],
      "metadata": {
        "colab": {
          "base_uri": "https://localhost:8080/"
        },
        "id": "SSS7_DQtakZC",
        "outputId": "54afd44f-c269-4823-d8e1-e5dfaa7aae86"
      },
      "execution_count": 37,
      "outputs": [
        {
          "output_type": "stream",
          "name": "stdout",
          "text": [
            "----------------------------------------------------------------------------------------------------\n",
            "Merging TARGET with POS_CASH_balance Table\n",
            "----------------------------------------------------------------------------------------------------\n"
          ]
        }
      ]
    },
    {
      "cell_type": "markdown",
      "source": [
        "**Correlation Matrix of Features**"
      ],
      "metadata": {
        "id": "OIu5pxz5abAS"
      }
    },
    {
      "cell_type": "code",
      "source": [
        "corr_mat = correlation_matrix(pos_cash_merged, ['SK_ID_CURR','SK_ID_PREV'], figsize = (7,6))\n",
        "corr_mat.plot_correlation_matrix()"
      ],
      "metadata": {
        "colab": {
          "base_uri": "https://localhost:8080/",
          "height": 476
        },
        "id": "6CniSrjYadV6",
        "outputId": "c5af2305-5576-4905-f42f-59adb6f6520a"
      },
      "execution_count": 38,
      "outputs": [
        {
          "output_type": "stream",
          "name": "stdout",
          "text": [
            "----------------------------------------------------------------------------------------------------\n"
          ]
        },
        {
          "output_type": "display_data",
          "data": {
            "text/plain": [
              "<Figure size 504x432 with 2 Axes>"
            ],
            "image/png": "[encoded data removed]"
          },
          "metadata": {
            "needs_background": "light"
          }
        },
        {
          "output_type": "stream",
          "name": "stdout",
          "text": [
            "----------------------------------------------------------------------------------------------------\n"
          ]
        }
      ]
    },
    {
      "cell_type": "markdown",
      "source": [
        "**Comment**\n",
        "* From the heatmap of correlation matrix, we one set of moderately correlated features, which are: CNT_INSTALMENT and CNT_INSTALMENT_FUTURE.\n",
        "\n",
        "* The correlation of features with Target is very low, this shows the absence of a linear relationship between the feature and the target variable."
      ],
      "metadata": {
        "id": "668sYQkva5is"
      }
    },
    {
      "cell_type": "markdown",
      "source": [
        "**Plotting Continuous Variables**\n",
        "\n",
        "Firstly we will group by the 'SK_ID_PREV' field and aggregate with mean, so that we get an averaged row for each of the previous loan that the client had."
      ],
      "metadata": {
        "id": "YI-5pxajbcRy"
      }
    },
    {
      "cell_type": "markdown",
      "source": [
        "#### CNT_INSTALMENT_FUTURE"
      ],
      "metadata": {
        "id": "nVwBjsPzbqGh"
      }
    },
    {
      "cell_type": "code",
      "source": [
        "plot_continuous_variables(pos_cash_merged, 'CNT_INSTALMENT_FUTURE', plots = ['box'], figsize = (8,8))\n",
        "del pos_cash_merged"
      ],
      "metadata": {
        "id": "EUH1H8-ibrlU"
      },
      "execution_count": null,
      "outputs": []
    },
    {
      "cell_type": "code",
      "source": [
        "pos_cash_merged = pos_cash_merged.groupby('SK_ID_PREV').mean()"
      ],
      "metadata": {
        "id": "dK1L7YdAbfZR"
      },
      "execution_count": 39,
      "outputs": []
    },
    {
      "cell_type": "code",
      "source": [
        "plot_continuous_variables(pos_cash_merged, 'CNT_INSTALMENT_FUTURE', plots = ['box'], figsize = (8,8))\n",
        "del pos_cash_merged"
      ],
      "metadata": {
        "colab": {
          "base_uri": "https://localhost:8080/",
          "height": 513
        },
        "id": "kasngLKncHOe",
        "outputId": "70195ad8-c775-4ed7-b7a5-862240bb72fd"
      },
      "execution_count": 41,
      "outputs": [
        {
          "output_type": "display_data",
          "data": {
            "text/plain": [
              "<Figure size 576x576 with 1 Axes>"
            ],
            "image/png": "[encoded data removed]"
          },
          "metadata": {
            "needs_background": "light"
          }
        }
      ]
    },
    {
      "cell_type": "markdown",
      "source": [
        "**Comment**\n",
        "\n",
        "Looking at the above box-plot for CNT_INSTALMENT_FUTURE, we see that the percentile values>50% for Defaulters are usually higher than those of Non-Defaulters. Even the upper limit whisker for Defaulters is higher than that of Non-Defaulters. This suggests that the Defaulters tend to have more number of Installments remaining on their previous credits as compared to Non-Defaulters."
      ],
      "metadata": {
        "id": "RrRPCwg-cM9q"
      }
    },
    {
      "cell_type": "markdown",
      "source": [
        "#### MONTHS_BALANCE"
      ],
      "metadata": {
        "id": "UvkyF1ihe7RM"
      }
    },
    {
      "cell_type": "code",
      "source": [
        "sns.distplot(pos_cash.MONTHS_BALANCE)"
      ],
      "metadata": {
        "id": "FUSElP7nWUuT",
        "colab": {
          "base_uri": "https://localhost:8080/",
          "height": 352
        },
        "outputId": "fb6aa499-e017-4808-86fc-1baba3640e14"
      },
      "execution_count": 15,
      "outputs": [
        {
          "output_type": "stream",
          "name": "stderr",
          "text": [
            "/usr/local/lib/python3.7/dist-packages/seaborn/distributions.py:2619: FutureWarning: `distplot` is a deprecated function and will be removed in a future version. Please adapt your code to use either `displot` (a figure-level function with similar flexibility) or `histplot` (an axes-level function for histograms).\n",
            "  warnings.warn(msg, FutureWarning)\n"
          ]
        },
        {
          "output_type": "execute_result",
          "data": {
            "text/plain": [
              "<matplotlib.axes._subplots.AxesSubplot at 0x7f56597538d0>"
            ]
          },
          "metadata": {},
          "execution_count": 15
        },
        {
          "output_type": "display_data",
          "data": {
            "text/plain": [
              "<Figure size 432x288 with 1 Axes>"
            ],
            "image/png": "[encoded data removed]"
          },
          "metadata": {
            "needs_background": "light"
          }
        }
      ]
    },
    {
      "cell_type": "markdown",
      "source": [
        "## Installments_payments.csv"
      ],
      "metadata": {
        "id": "9idseghYc9AH"
      }
    },
    {
      "cell_type": "markdown",
      "source": [
        "**installments_payments.csv**\n",
        "\n",
        "\n",
        "*   Repayment history for the previously disbursed credits in Home Credit related to the loans in our sample.\n",
        "*   There is\n",
        "    *   a) one row for every payment that was made plus\n",
        "    *   b) one row each for missed payment.\n",
        "\n",
        "One row is equivalent to one payment of one installment OR one installment corresponding to one payment of one previous Home Credit credit related to loans in our sample."
      ],
      "metadata": {
        "id": "Uv4DW8L-sfez"
      }
    },
    {
      "cell_type": "markdown",
      "source": [
        "\n",
        "**installments_payments.csv FEATURE DESCRIPTION**\n",
        "\n",
        "**SK_ID_CURR:** ID of loan in our sample\n",
        "\n",
        "**NUM_INSTALMENT_VERSION:** Version of installment calendar (0 is for credit card) of previous credit. Change of installment version from month to month signifies that some parameter of payment calendar has changed\n",
        "\n",
        "**NUM_INSTALMENT_NUMBER:** On which installment we observe payment\n",
        "\n",
        "**DAYS_INSTALMENT:** When the installment of previous credit was supposed to be paid (relative to application date of current loan)\n",
        "\n",
        "**DAYS_ENTRY_PAYMENT:** When was the installments of previous credit paid actually (relative to application date of current loan)\n",
        "\n",
        "**AMT_INSTALMENT:** What was the prescribed installment amount of previous credit on this installment\n",
        "\n",
        "**AMT_PAYMENT:** What the client actually paid on previous credit on this installment"
      ],
      "metadata": {
        "id": "EgYNhre3A9Dv"
      }
    },
    {
      "cell_type": "code",
      "source": [
        "install_payments = reduce_memory_usage(pd.read_csv('/content/drive/MyDrive/Colab/installments_payments.csv'))"
      ],
      "metadata": {
        "colab": {
          "base_uri": "https://localhost:8080/"
        },
        "id": "sRXaNFm3ZoI7",
        "outputId": "5b3ee8ab-10d5-45ba-828e-e4e354ef704b"
      },
      "execution_count": 34,
      "outputs": [
        {
          "output_type": "stream",
          "name": "stdout",
          "text": [
            "Memory usage of dataframe is 830.41 MB\n",
            "Memory usage after optimization is: 311.40 MB\n",
            "Decreased by 62.5%\n"
          ]
        }
      ]
    },
    {
      "cell_type": "code",
      "source": [
        "install_payments.head(10)"
      ],
      "metadata": {
        "id": "fqNEdshpWTVz",
        "colab": {
          "base_uri": "https://localhost:8080/",
          "height": 363
        },
        "outputId": "4969ae03-5b1b-4843-c05f-feace9904a2f"
      },
      "execution_count": 18,
      "outputs": [
        {
          "output_type": "execute_result",
          "data": {
            "text/plain": [
              "   SK_ID_PREV  SK_ID_CURR  NUM_INSTALMENT_VERSION  NUM_INSTALMENT_NUMBER  \\\n",
              "0     1054186      161674                     1.0                      6   \n",
              "1     1330831      151639                     0.0                     34   \n",
              "2     2085231      193053                     2.0                      1   \n",
              "3     2452527      199697                     1.0                      3   \n",
              "4     2714724      167756                     1.0                      2   \n",
              "5     1137312      164489                     1.0                     12   \n",
              "6     2234264      184693                     4.0                     11   \n",
              "7     1818599      111420                     2.0                      4   \n",
              "8     2723183      112102                     0.0                     14   \n",
              "9     1413990      109741                     1.0                      4   \n",
              "\n",
              "   DAYS_INSTALMENT  DAYS_ENTRY_PAYMENT  AMT_INSTALMENT  AMT_PAYMENT  \n",
              "0          -1180.0             -1187.0        6948.360     6948.360  \n",
              "1          -2156.0             -2156.0        1716.525     1716.525  \n",
              "2            -63.0               -63.0       25425.000    25425.000  \n",
              "3          -2418.0             -2426.0       24350.130    24350.130  \n",
              "4          -1383.0             -1366.0        2165.040     2160.585  \n",
              "5          -1384.0             -1417.0        5970.375     5970.375  \n",
              "6           -349.0              -352.0       29432.295    29432.295  \n",
              "7           -968.0              -994.0       17862.165    17862.165  \n",
              "8           -197.0              -197.0          70.740       70.740  \n",
              "9           -570.0              -609.0       14308.470    14308.470  "
            ],
            "text/html": [
              "\n",
              "  <div id=\"df-7779b74f-6cbf-4726-99b5-12cf2489ed4d\">\n",
              "    <div class=\"colab-df-container\">\n",
              "      <div>\n",
              "<style scoped>\n",
              "    .dataframe tbody tr th:only-of-type {\n",
              "        vertical-align: middle;\n",
              "    }\n",
              "\n",
              "    .dataframe tbody tr th {\n",
              "        vertical-align: top;\n",
              "    }\n",
              "\n",
              "    .dataframe thead th {\n",
              "        text-align: right;\n",
              "    }\n",
              "</style>\n",
              "<table border=\"1\" class=\"dataframe\">\n",
              "  <thead>\n",
              "    <tr style=\"text-align: right;\">\n",
              "      <th></th>\n",
              "      <th>SK_ID_PREV</th>\n",
              "      <th>SK_ID_CURR</th>\n",
              "      <th>NUM_INSTALMENT_VERSION</th>\n",
              "      <th>NUM_INSTALMENT_NUMBER</th>\n",
              "      <th>DAYS_INSTALMENT</th>\n",
              "      <th>DAYS_ENTRY_PAYMENT</th>\n",
              "      <th>AMT_INSTALMENT</th>\n",
              "      <th>AMT_PAYMENT</th>\n",
              "    </tr>\n",
              "  </thead>\n",
              "  <tbody>\n",
              "    <tr>\n",
              "      <th>0</th>\n",
              "      <td>1054186</td>\n",
              "      <td>161674</td>\n",
              "      <td>1.0</td>\n",
              "      <td>6</td>\n",
              "      <td>-1180.0</td>\n",
              "      <td>-1187.0</td>\n",
              "      <td>6948.360</td>\n",
              "      <td>6948.360</td>\n",
              "    </tr>\n",
              "    <tr>\n",
              "      <th>1</th>\n",
              "      <td>1330831</td>\n",
              "      <td>151639</td>\n",
              "      <td>0.0</td>\n",
              "      <td>34</td>\n",
              "      <td>-2156.0</td>\n",
              "      <td>-2156.0</td>\n",
              "      <td>1716.525</td>\n",
              "      <td>1716.525</td>\n",
              "    </tr>\n",
              "    <tr>\n",
              "      <th>2</th>\n",
              "      <td>2085231</td>\n",
              "      <td>193053</td>\n",
              "      <td>2.0</td>\n",
              "      <td>1</td>\n",
              "      <td>-63.0</td>\n",
              "      <td>-63.0</td>\n",
              "      <td>25425.000</td>\n",
              "      <td>25425.000</td>\n",
              "    </tr>\n",
              "    <tr>\n",
              "      <th>3</th>\n",
              "      <td>2452527</td>\n",
              "      <td>199697</td>\n",
              "      <td>1.0</td>\n",
              "      <td>3</td>\n",
              "      <td>-2418.0</td>\n",
              "      <td>-2426.0</td>\n",
              "      <td>24350.130</td>\n",
              "      <td>24350.130</td>\n",
              "    </tr>\n",
              "    <tr>\n",
              "      <th>4</th>\n",
              "      <td>2714724</td>\n",
              "      <td>167756</td>\n",
              "      <td>1.0</td>\n",
              "      <td>2</td>\n",
              "      <td>-1383.0</td>\n",
              "      <td>-1366.0</td>\n",
              "      <td>2165.040</td>\n",
              "      <td>2160.585</td>\n",
              "    </tr>\n",
              "    <tr>\n",
              "      <th>5</th>\n",
              "      <td>1137312</td>\n",
              "      <td>164489</td>\n",
              "      <td>1.0</td>\n",
              "      <td>12</td>\n",
              "      <td>-1384.0</td>\n",
              "      <td>-1417.0</td>\n",
              "      <td>5970.375</td>\n",
              "      <td>5970.375</td>\n",
              "    </tr>\n",
              "    <tr>\n",
              "      <th>6</th>\n",
              "      <td>2234264</td>\n",
              "      <td>184693</td>\n",
              "      <td>4.0</td>\n",
              "      <td>11</td>\n",
              "      <td>-349.0</td>\n",
              "      <td>-352.0</td>\n",
              "      <td>29432.295</td>\n",
              "      <td>29432.295</td>\n",
              "    </tr>\n",
              "    <tr>\n",
              "      <th>7</th>\n",
              "      <td>1818599</td>\n",
              "      <td>111420</td>\n",
              "      <td>2.0</td>\n",
              "      <td>4</td>\n",
              "      <td>-968.0</td>\n",
              "      <td>-994.0</td>\n",
              "      <td>17862.165</td>\n",
              "      <td>17862.165</td>\n",
              "    </tr>\n",
              "    <tr>\n",
              "      <th>8</th>\n",
              "      <td>2723183</td>\n",
              "      <td>112102</td>\n",
              "      <td>0.0</td>\n",
              "      <td>14</td>\n",
              "      <td>-197.0</td>\n",
              "      <td>-197.0</td>\n",
              "      <td>70.740</td>\n",
              "      <td>70.740</td>\n",
              "    </tr>\n",
              "    <tr>\n",
              "      <th>9</th>\n",
              "      <td>1413990</td>\n",
              "      <td>109741</td>\n",
              "      <td>1.0</td>\n",
              "      <td>4</td>\n",
              "      <td>-570.0</td>\n",
              "      <td>-609.0</td>\n",
              "      <td>14308.470</td>\n",
              "      <td>14308.470</td>\n",
              "    </tr>\n",
              "  </tbody>\n",
              "</table>\n",
              "</div>\n",
              "      <button class=\"colab-df-convert\" onclick=\"convertToInteractive('df-7779b74f-6cbf-4726-99b5-12cf2489ed4d')\"\n",
              "              title=\"Convert this dataframe to an interactive table.\"\n",
              "              style=\"display:none;\">\n",
              "        \n",
              "  <svg xmlns=\"http://www.w3.org/2000/svg\" height=\"24px\"viewBox=\"0 0 24 24\"\n",
              "       width=\"24px\">\n",
              "    <path d=\"M0 0h24v24H0V0z\" fill=\"none\"/>\n",
              "    <path d=\"M18.56 5.44l.94 2.06.94-2.06 2.06-.94-2.06-.94-.94-2.06-.94 2.06-2.06.94zm-11 1L8.5 8.5l.94-2.06 2.06-.94-2.06-.94L8.5 2.5l-.94 2.06-2.06.94zm10 10l.94 2.06.94-2.06 2.06-.94-2.06-.94-.94-2.06-.94 2.06-2.06.94z\"/><path d=\"M17.41 7.96l-1.37-1.37c-.4-.4-.92-.59-1.43-.59-.52 0-1.04.2-1.43.59L10.3 9.45l-7.72 7.72c-.78.78-.78 2.05 0 2.83L4 21.41c.39.39.9.59 1.41.59.51 0 1.02-.2 1.41-.59l7.78-7.78 2.81-2.81c.8-.78.8-2.07 0-2.86zM5.41 20L4 18.59l7.72-7.72 1.47 1.35L5.41 20z\"/>\n",
              "  </svg>\n",
              "      </button>\n",
              "      \n",
              "  <style>\n",
              "    .colab-df-container {\n",
              "      display:flex;\n",
              "      flex-wrap:wrap;\n",
              "      gap: 12px;\n",
              "    }\n",
              "\n",
              "    .colab-df-convert {\n",
              "      background-color: #E8F0FE;\n",
              "      border: none;\n",
              "      border-radius: 50%;\n",
              "      cursor: pointer;\n",
              "      display: none;\n",
              "      fill: #1967D2;\n",
              "      height: 32px;\n",
              "      padding: 0 0 0 0;\n",
              "      width: 32px;\n",
              "    }\n",
              "\n",
              "    .colab-df-convert:hover {\n",
              "      background-color: #E2EBFA;\n",
              "      box-shadow: 0px 1px 2px rgba(60, 64, 67, 0.3), 0px 1px 3px 1px rgba(60, 64, 67, 0.15);\n",
              "      fill: #174EA6;\n",
              "    }\n",
              "\n",
              "    [theme=dark] .colab-df-convert {\n",
              "      background-color: #3B4455;\n",
              "      fill: #D2E3FC;\n",
              "    }\n",
              "\n",
              "    [theme=dark] .colab-df-convert:hover {\n",
              "      background-color: #434B5C;\n",
              "      box-shadow: 0px 1px 3px 1px rgba(0, 0, 0, 0.15);\n",
              "      filter: drop-shadow(0px 1px 2px rgba(0, 0, 0, 0.3));\n",
              "      fill: #FFFFFF;\n",
              "    }\n",
              "  </style>\n",
              "\n",
              "      <script>\n",
              "        const buttonEl =\n",
              "          document.querySelector('#df-7779b74f-6cbf-4726-99b5-12cf2489ed4d button.colab-df-convert');\n",
              "        buttonEl.style.display =\n",
              "          google.colab.kernel.accessAllowed ? 'block' : 'none';\n",
              "\n",
              "        async function convertToInteractive(key) {\n",
              "          const element = document.querySelector('#df-7779b74f-6cbf-4726-99b5-12cf2489ed4d');\n",
              "          const dataTable =\n",
              "            await google.colab.kernel.invokeFunction('convertToInteractive',\n",
              "                                                     [key], {});\n",
              "          if (!dataTable) return;\n",
              "\n",
              "          const docLinkHtml = 'Like what you see? Visit the ' +\n",
              "            '<a target=\"_blank\" href=https://colab.research.google.com/notebooks/data_table.ipynb>data table notebook</a>'\n",
              "            + ' to learn more about interactive tables.';\n",
              "          element.innerHTML = '';\n",
              "          dataTable['output_type'] = 'display_data';\n",
              "          await google.colab.output.renderOutput(dataTable, element);\n",
              "          const docLink = document.createElement('div');\n",
              "          docLink.innerHTML = docLinkHtml;\n",
              "          element.appendChild(docLink);\n",
              "        }\n",
              "      </script>\n",
              "    </div>\n",
              "  </div>\n",
              "  "
            ]
          },
          "metadata": {},
          "execution_count": 18
        }
      ]
    },
    {
      "cell_type": "code",
      "source": [
        "install_payments.shape"
      ],
      "metadata": {
        "id": "TsnDPPZpWTJ7",
        "colab": {
          "base_uri": "https://localhost:8080/"
        },
        "outputId": "edd62519-03a1-4ed5-9b0b-4bbec389b944"
      },
      "execution_count": 19,
      "outputs": [
        {
          "output_type": "execute_result",
          "data": {
            "text/plain": [
              "(13605401, 8)"
            ]
          },
          "metadata": {},
          "execution_count": 19
        }
      ]
    },
    {
      "cell_type": "code",
      "source": [
        "install_payments.columns"
      ],
      "metadata": {
        "id": "3wjDqhmFWTBK",
        "colab": {
          "base_uri": "https://localhost:8080/"
        },
        "outputId": "01005cfa-2e96-4e56-8e85-931f6080c854"
      },
      "execution_count": 20,
      "outputs": [
        {
          "output_type": "execute_result",
          "data": {
            "text/plain": [
              "Index(['SK_ID_PREV', 'SK_ID_CURR', 'NUM_INSTALMENT_VERSION',\n",
              "       'NUM_INSTALMENT_NUMBER', 'DAYS_INSTALMENT', 'DAYS_ENTRY_PAYMENT',\n",
              "       'AMT_INSTALMENT', 'AMT_PAYMENT'],\n",
              "      dtype='object')"
            ]
          },
          "metadata": {},
          "execution_count": 20
        }
      ]
    },
    {
      "cell_type": "code",
      "source": [
        "install_payments.info()"
      ],
      "metadata": {
        "id": "wnkDBUmzWS3J",
        "colab": {
          "base_uri": "https://localhost:8080/"
        },
        "outputId": "694ea7fd-ba5a-40e3-cf61-5e4cd8a22e48"
      },
      "execution_count": 21,
      "outputs": [
        {
          "output_type": "stream",
          "name": "stdout",
          "text": [
            "<class 'pandas.core.frame.DataFrame'>\n",
            "RangeIndex: 13605401 entries, 0 to 13605400\n",
            "Data columns (total 8 columns):\n",
            " #   Column                  Dtype  \n",
            "---  ------                  -----  \n",
            " 0   SK_ID_PREV              int64  \n",
            " 1   SK_ID_CURR              int64  \n",
            " 2   NUM_INSTALMENT_VERSION  float64\n",
            " 3   NUM_INSTALMENT_NUMBER   int64  \n",
            " 4   DAYS_INSTALMENT         float64\n",
            " 5   DAYS_ENTRY_PAYMENT      float64\n",
            " 6   AMT_INSTALMENT          float64\n",
            " 7   AMT_PAYMENT             float64\n",
            "dtypes: float64(5), int64(3)\n",
            "memory usage: 830.4 MB\n"
          ]
        }
      ]
    },
    {
      "cell_type": "code",
      "source": [
        "install_payments.duplicated().sum()"
      ],
      "metadata": {
        "colab": {
          "base_uri": "https://localhost:8080/"
        },
        "id": "79xC3Kj-5xPP",
        "outputId": "938d625a-9581-4365-b781-c2f171483d83"
      },
      "execution_count": 22,
      "outputs": [
        {
          "output_type": "execute_result",
          "data": {
            "text/plain": [
              "0"
            ]
          },
          "metadata": {},
          "execution_count": 22
        }
      ]
    },
    {
      "cell_type": "code",
      "source": [
        "install_payments.describe().T"
      ],
      "metadata": {
        "id": "sBjrZzPMY_ze",
        "colab": {
          "base_uri": "https://localhost:8080/",
          "height": 300
        },
        "outputId": "0eec10cc-d8d0-41bc-968f-6a3ecc1b93e8"
      },
      "execution_count": 25,
      "outputs": [
        {
          "output_type": "execute_result",
          "data": {
            "text/plain": [
              "                             count          mean            std        min  \\\n",
              "SK_ID_PREV              13605401.0  1.903365e+06  536202.905546  1000001.0   \n",
              "SK_ID_CURR              13605401.0  2.784449e+05  102718.310411   100001.0   \n",
              "NUM_INSTALMENT_VERSION  13605401.0  8.566373e-01       1.035216        0.0   \n",
              "NUM_INSTALMENT_NUMBER   13605401.0  1.887090e+01      26.664067        1.0   \n",
              "DAYS_INSTALMENT         13605401.0 -1.042270e+03     800.946284    -2922.0   \n",
              "DAYS_ENTRY_PAYMENT      13602496.0 -1.051114e+03     800.585883    -4921.0   \n",
              "AMT_INSTALMENT          13605401.0  1.705091e+04   50570.254429        0.0   \n",
              "AMT_PAYMENT             13602496.0  1.723822e+04   54735.783981        0.0   \n",
              "\n",
              "                                25%          50%          75%          max  \n",
              "SK_ID_PREV              1434191.000  1896520.000  2369094.000  2843499.000  \n",
              "SK_ID_CURR               189639.000   278685.000   367530.000   456255.000  \n",
              "NUM_INSTALMENT_VERSION        0.000        1.000        1.000      178.000  \n",
              "NUM_INSTALMENT_NUMBER         4.000        8.000       19.000      277.000  \n",
              "DAYS_INSTALMENT           -1654.000     -818.000     -361.000       -1.000  \n",
              "DAYS_ENTRY_PAYMENT        -1662.000     -827.000     -370.000       -1.000  \n",
              "AMT_INSTALMENT             4226.085     8884.080    16710.210  3771487.845  \n",
              "AMT_PAYMENT                3398.265     8125.515    16108.425  3771487.845  "
            ],
            "text/html": [
              "\n",
              "  <div id=\"df-93b9fe49-1781-4459-92aa-d392b6e70386\">\n",
              "    <div class=\"colab-df-container\">\n",
              "      <div>\n",
              "<style scoped>\n",
              "    .dataframe tbody tr th:only-of-type {\n",
              "        vertical-align: middle;\n",
              "    }\n",
              "\n",
              "    .dataframe tbody tr th {\n",
              "        vertical-align: top;\n",
              "    }\n",
              "\n",
              "    .dataframe thead th {\n",
              "        text-align: right;\n",
              "    }\n",
              "</style>\n",
              "<table border=\"1\" class=\"dataframe\">\n",
              "  <thead>\n",
              "    <tr style=\"text-align: right;\">\n",
              "      <th></th>\n",
              "      <th>count</th>\n",
              "      <th>mean</th>\n",
              "      <th>std</th>\n",
              "      <th>min</th>\n",
              "      <th>25%</th>\n",
              "      <th>50%</th>\n",
              "      <th>75%</th>\n",
              "      <th>max</th>\n",
              "    </tr>\n",
              "  </thead>\n",
              "  <tbody>\n",
              "    <tr>\n",
              "      <th>SK_ID_PREV</th>\n",
              "      <td>13605401.0</td>\n",
              "      <td>1.903365e+06</td>\n",
              "      <td>536202.905546</td>\n",
              "      <td>1000001.0</td>\n",
              "      <td>1434191.000</td>\n",
              "      <td>1896520.000</td>\n",
              "      <td>2369094.000</td>\n",
              "      <td>2843499.000</td>\n",
              "    </tr>\n",
              "    <tr>\n",
              "      <th>SK_ID_CURR</th>\n",
              "      <td>13605401.0</td>\n",
              "      <td>2.784449e+05</td>\n",
              "      <td>102718.310411</td>\n",
              "      <td>100001.0</td>\n",
              "      <td>189639.000</td>\n",
              "      <td>278685.000</td>\n",
              "      <td>367530.000</td>\n",
              "      <td>456255.000</td>\n",
              "    </tr>\n",
              "    <tr>\n",
              "      <th>NUM_INSTALMENT_VERSION</th>\n",
              "      <td>13605401.0</td>\n",
              "      <td>8.566373e-01</td>\n",
              "      <td>1.035216</td>\n",
              "      <td>0.0</td>\n",
              "      <td>0.000</td>\n",
              "      <td>1.000</td>\n",
              "      <td>1.000</td>\n",
              "      <td>178.000</td>\n",
              "    </tr>\n",
              "    <tr>\n",
              "      <th>NUM_INSTALMENT_NUMBER</th>\n",
              "      <td>13605401.0</td>\n",
              "      <td>1.887090e+01</td>\n",
              "      <td>26.664067</td>\n",
              "      <td>1.0</td>\n",
              "      <td>4.000</td>\n",
              "      <td>8.000</td>\n",
              "      <td>19.000</td>\n",
              "      <td>277.000</td>\n",
              "    </tr>\n",
              "    <tr>\n",
              "      <th>DAYS_INSTALMENT</th>\n",
              "      <td>13605401.0</td>\n",
              "      <td>-1.042270e+03</td>\n",
              "      <td>800.946284</td>\n",
              "      <td>-2922.0</td>\n",
              "      <td>-1654.000</td>\n",
              "      <td>-818.000</td>\n",
              "      <td>-361.000</td>\n",
              "      <td>-1.000</td>\n",
              "    </tr>\n",
              "    <tr>\n",
              "      <th>DAYS_ENTRY_PAYMENT</th>\n",
              "      <td>13602496.0</td>\n",
              "      <td>-1.051114e+03</td>\n",
              "      <td>800.585883</td>\n",
              "      <td>-4921.0</td>\n",
              "      <td>-1662.000</td>\n",
              "      <td>-827.000</td>\n",
              "      <td>-370.000</td>\n",
              "      <td>-1.000</td>\n",
              "    </tr>\n",
              "    <tr>\n",
              "      <th>AMT_INSTALMENT</th>\n",
              "      <td>13605401.0</td>\n",
              "      <td>1.705091e+04</td>\n",
              "      <td>50570.254429</td>\n",
              "      <td>0.0</td>\n",
              "      <td>4226.085</td>\n",
              "      <td>8884.080</td>\n",
              "      <td>16710.210</td>\n",
              "      <td>3771487.845</td>\n",
              "    </tr>\n",
              "    <tr>\n",
              "      <th>AMT_PAYMENT</th>\n",
              "      <td>13602496.0</td>\n",
              "      <td>1.723822e+04</td>\n",
              "      <td>54735.783981</td>\n",
              "      <td>0.0</td>\n",
              "      <td>3398.265</td>\n",
              "      <td>8125.515</td>\n",
              "      <td>16108.425</td>\n",
              "      <td>3771487.845</td>\n",
              "    </tr>\n",
              "  </tbody>\n",
              "</table>\n",
              "</div>\n",
              "      <button class=\"colab-df-convert\" onclick=\"convertToInteractive('df-93b9fe49-1781-4459-92aa-d392b6e70386')\"\n",
              "              title=\"Convert this dataframe to an interactive table.\"\n",
              "              style=\"display:none;\">\n",
              "        \n",
              "  <svg xmlns=\"http://www.w3.org/2000/svg\" height=\"24px\"viewBox=\"0 0 24 24\"\n",
              "       width=\"24px\">\n",
              "    <path d=\"M0 0h24v24H0V0z\" fill=\"none\"/>\n",
              "    <path d=\"M18.56 5.44l.94 2.06.94-2.06 2.06-.94-2.06-.94-.94-2.06-.94 2.06-2.06.94zm-11 1L8.5 8.5l.94-2.06 2.06-.94-2.06-.94L8.5 2.5l-.94 2.06-2.06.94zm10 10l.94 2.06.94-2.06 2.06-.94-2.06-.94-.94-2.06-.94 2.06-2.06.94z\"/><path d=\"M17.41 7.96l-1.37-1.37c-.4-.4-.92-.59-1.43-.59-.52 0-1.04.2-1.43.59L10.3 9.45l-7.72 7.72c-.78.78-.78 2.05 0 2.83L4 21.41c.39.39.9.59 1.41.59.51 0 1.02-.2 1.41-.59l7.78-7.78 2.81-2.81c.8-.78.8-2.07 0-2.86zM5.41 20L4 18.59l7.72-7.72 1.47 1.35L5.41 20z\"/>\n",
              "  </svg>\n",
              "      </button>\n",
              "      \n",
              "  <style>\n",
              "    .colab-df-container {\n",
              "      display:flex;\n",
              "      flex-wrap:wrap;\n",
              "      gap: 12px;\n",
              "    }\n",
              "\n",
              "    .colab-df-convert {\n",
              "      background-color: #E8F0FE;\n",
              "      border: none;\n",
              "      border-radius: 50%;\n",
              "      cursor: pointer;\n",
              "      display: none;\n",
              "      fill: #1967D2;\n",
              "      height: 32px;\n",
              "      padding: 0 0 0 0;\n",
              "      width: 32px;\n",
              "    }\n",
              "\n",
              "    .colab-df-convert:hover {\n",
              "      background-color: #E2EBFA;\n",
              "      box-shadow: 0px 1px 2px rgba(60, 64, 67, 0.3), 0px 1px 3px 1px rgba(60, 64, 67, 0.15);\n",
              "      fill: #174EA6;\n",
              "    }\n",
              "\n",
              "    [theme=dark] .colab-df-convert {\n",
              "      background-color: #3B4455;\n",
              "      fill: #D2E3FC;\n",
              "    }\n",
              "\n",
              "    [theme=dark] .colab-df-convert:hover {\n",
              "      background-color: #434B5C;\n",
              "      box-shadow: 0px 1px 3px 1px rgba(0, 0, 0, 0.15);\n",
              "      filter: drop-shadow(0px 1px 2px rgba(0, 0, 0, 0.3));\n",
              "      fill: #FFFFFF;\n",
              "    }\n",
              "  </style>\n",
              "\n",
              "      <script>\n",
              "        const buttonEl =\n",
              "          document.querySelector('#df-93b9fe49-1781-4459-92aa-d392b6e70386 button.colab-df-convert');\n",
              "        buttonEl.style.display =\n",
              "          google.colab.kernel.accessAllowed ? 'block' : 'none';\n",
              "\n",
              "        async function convertToInteractive(key) {\n",
              "          const element = document.querySelector('#df-93b9fe49-1781-4459-92aa-d392b6e70386');\n",
              "          const dataTable =\n",
              "            await google.colab.kernel.invokeFunction('convertToInteractive',\n",
              "                                                     [key], {});\n",
              "          if (!dataTable) return;\n",
              "\n",
              "          const docLinkHtml = 'Like what you see? Visit the ' +\n",
              "            '<a target=\"_blank\" href=https://colab.research.google.com/notebooks/data_table.ipynb>data table notebook</a>'\n",
              "            + ' to learn more about interactive tables.';\n",
              "          element.innerHTML = '';\n",
              "          dataTable['output_type'] = 'display_data';\n",
              "          await google.colab.output.renderOutput(dataTable, element);\n",
              "          const docLink = document.createElement('div');\n",
              "          docLink.innerHTML = docLinkHtml;\n",
              "          element.appendChild(docLink);\n",
              "        }\n",
              "      </script>\n",
              "    </div>\n",
              "  </div>\n",
              "  "
            ]
          },
          "metadata": {},
          "execution_count": 25
        }
      ]
    },
    {
      "cell_type": "code",
      "source": [
        "missing_data(install_payments)"
      ],
      "metadata": {
        "colab": {
          "base_uri": "https://localhost:8080/",
          "height": 300
        },
        "id": "aerK1_4Sfdn1",
        "outputId": "c0439f27-e392-4ef5-cf7e-2d86c96ef03b"
      },
      "execution_count": 42,
      "outputs": [
        {
          "output_type": "execute_result",
          "data": {
            "text/plain": [
              "                        Total   Percent\n",
              "DAYS_ENTRY_PAYMENT       2905  0.021352\n",
              "AMT_PAYMENT              2905  0.021352\n",
              "SK_ID_PREV                  0  0.000000\n",
              "SK_ID_CURR                  0  0.000000\n",
              "NUM_INSTALMENT_VERSION      0  0.000000\n",
              "NUM_INSTALMENT_NUMBER       0  0.000000\n",
              "DAYS_INSTALMENT             0  0.000000\n",
              "AMT_INSTALMENT              0  0.000000"
            ],
            "text/html": [
              "\n",
              "  <div id=\"df-8733c369-8785-490a-9408-7960fa56e93d\">\n",
              "    <div class=\"colab-df-container\">\n",
              "      <div>\n",
              "<style scoped>\n",
              "    .dataframe tbody tr th:only-of-type {\n",
              "        vertical-align: middle;\n",
              "    }\n",
              "\n",
              "    .dataframe tbody tr th {\n",
              "        vertical-align: top;\n",
              "    }\n",
              "\n",
              "    .dataframe thead th {\n",
              "        text-align: right;\n",
              "    }\n",
              "</style>\n",
              "<table border=\"1\" class=\"dataframe\">\n",
              "  <thead>\n",
              "    <tr style=\"text-align: right;\">\n",
              "      <th></th>\n",
              "      <th>Total</th>\n",
              "      <th>Percent</th>\n",
              "    </tr>\n",
              "  </thead>\n",
              "  <tbody>\n",
              "    <tr>\n",
              "      <th>DAYS_ENTRY_PAYMENT</th>\n",
              "      <td>2905</td>\n",
              "      <td>0.021352</td>\n",
              "    </tr>\n",
              "    <tr>\n",
              "      <th>AMT_PAYMENT</th>\n",
              "      <td>2905</td>\n",
              "      <td>0.021352</td>\n",
              "    </tr>\n",
              "    <tr>\n",
              "      <th>SK_ID_PREV</th>\n",
              "      <td>0</td>\n",
              "      <td>0.000000</td>\n",
              "    </tr>\n",
              "    <tr>\n",
              "      <th>SK_ID_CURR</th>\n",
              "      <td>0</td>\n",
              "      <td>0.000000</td>\n",
              "    </tr>\n",
              "    <tr>\n",
              "      <th>NUM_INSTALMENT_VERSION</th>\n",
              "      <td>0</td>\n",
              "      <td>0.000000</td>\n",
              "    </tr>\n",
              "    <tr>\n",
              "      <th>NUM_INSTALMENT_NUMBER</th>\n",
              "      <td>0</td>\n",
              "      <td>0.000000</td>\n",
              "    </tr>\n",
              "    <tr>\n",
              "      <th>DAYS_INSTALMENT</th>\n",
              "      <td>0</td>\n",
              "      <td>0.000000</td>\n",
              "    </tr>\n",
              "    <tr>\n",
              "      <th>AMT_INSTALMENT</th>\n",
              "      <td>0</td>\n",
              "      <td>0.000000</td>\n",
              "    </tr>\n",
              "  </tbody>\n",
              "</table>\n",
              "</div>\n",
              "      <button class=\"colab-df-convert\" onclick=\"convertToInteractive('df-8733c369-8785-490a-9408-7960fa56e93d')\"\n",
              "              title=\"Convert this dataframe to an interactive table.\"\n",
              "              style=\"display:none;\">\n",
              "        \n",
              "  <svg xmlns=\"http://www.w3.org/2000/svg\" height=\"24px\"viewBox=\"0 0 24 24\"\n",
              "       width=\"24px\">\n",
              "    <path d=\"M0 0h24v24H0V0z\" fill=\"none\"/>\n",
              "    <path d=\"M18.56 5.44l.94 2.06.94-2.06 2.06-.94-2.06-.94-.94-2.06-.94 2.06-2.06.94zm-11 1L8.5 8.5l.94-2.06 2.06-.94-2.06-.94L8.5 2.5l-.94 2.06-2.06.94zm10 10l.94 2.06.94-2.06 2.06-.94-2.06-.94-.94-2.06-.94 2.06-2.06.94z\"/><path d=\"M17.41 7.96l-1.37-1.37c-.4-.4-.92-.59-1.43-.59-.52 0-1.04.2-1.43.59L10.3 9.45l-7.72 7.72c-.78.78-.78 2.05 0 2.83L4 21.41c.39.39.9.59 1.41.59.51 0 1.02-.2 1.41-.59l7.78-7.78 2.81-2.81c.8-.78.8-2.07 0-2.86zM5.41 20L4 18.59l7.72-7.72 1.47 1.35L5.41 20z\"/>\n",
              "  </svg>\n",
              "      </button>\n",
              "      \n",
              "  <style>\n",
              "    .colab-df-container {\n",
              "      display:flex;\n",
              "      flex-wrap:wrap;\n",
              "      gap: 12px;\n",
              "    }\n",
              "\n",
              "    .colab-df-convert {\n",
              "      background-color: #E8F0FE;\n",
              "      border: none;\n",
              "      border-radius: 50%;\n",
              "      cursor: pointer;\n",
              "      display: none;\n",
              "      fill: #1967D2;\n",
              "      height: 32px;\n",
              "      padding: 0 0 0 0;\n",
              "      width: 32px;\n",
              "    }\n",
              "\n",
              "    .colab-df-convert:hover {\n",
              "      background-color: #E2EBFA;\n",
              "      box-shadow: 0px 1px 2px rgba(60, 64, 67, 0.3), 0px 1px 3px 1px rgba(60, 64, 67, 0.15);\n",
              "      fill: #174EA6;\n",
              "    }\n",
              "\n",
              "    [theme=dark] .colab-df-convert {\n",
              "      background-color: #3B4455;\n",
              "      fill: #D2E3FC;\n",
              "    }\n",
              "\n",
              "    [theme=dark] .colab-df-convert:hover {\n",
              "      background-color: #434B5C;\n",
              "      box-shadow: 0px 1px 3px 1px rgba(0, 0, 0, 0.15);\n",
              "      filter: drop-shadow(0px 1px 2px rgba(0, 0, 0, 0.3));\n",
              "      fill: #FFFFFF;\n",
              "    }\n",
              "  </style>\n",
              "\n",
              "      <script>\n",
              "        const buttonEl =\n",
              "          document.querySelector('#df-8733c369-8785-490a-9408-7960fa56e93d button.colab-df-convert');\n",
              "        buttonEl.style.display =\n",
              "          google.colab.kernel.accessAllowed ? 'block' : 'none';\n",
              "\n",
              "        async function convertToInteractive(key) {\n",
              "          const element = document.querySelector('#df-8733c369-8785-490a-9408-7960fa56e93d');\n",
              "          const dataTable =\n",
              "            await google.colab.kernel.invokeFunction('convertToInteractive',\n",
              "                                                     [key], {});\n",
              "          if (!dataTable) return;\n",
              "\n",
              "          const docLinkHtml = 'Like what you see? Visit the ' +\n",
              "            '<a target=\"_blank\" href=https://colab.research.google.com/notebooks/data_table.ipynb>data table notebook</a>'\n",
              "            + ' to learn more about interactive tables.';\n",
              "          element.innerHTML = '';\n",
              "          dataTable['output_type'] = 'display_data';\n",
              "          await google.colab.output.renderOutput(dataTable, element);\n",
              "          const docLink = document.createElement('div');\n",
              "          docLink.innerHTML = docLinkHtml;\n",
              "          element.appendChild(docLink);\n",
              "        }\n",
              "      </script>\n",
              "    </div>\n",
              "  </div>\n",
              "  "
            ]
          },
          "metadata": {},
          "execution_count": 42
        }
      ]
    },
    {
      "cell_type": "markdown",
      "source": [
        "Two columns: the day and the amount customers actually paid (DAYS_ENTRY_PAYMENT and AMT_PAYMENT) include the same amount of null values\n",
        "\n",
        "0.02% of clients haven't paid previous credit on this installment"
      ],
      "metadata": {
        "id": "czTFQtVCZDUL"
      }
    },
    {
      "cell_type": "markdown",
      "source": [
        "**Merging the TARGETS from application_train to installments_payments table.**"
      ],
      "metadata": {
        "id": "aMCOk_eogGFs"
      }
    },
    {
      "cell_type": "code",
      "source": [
        "print(\"-\"*100)\n",
        "print(\"Merging TARGET with installments_payments Table\")\n",
        "installments_merged = application_train.iloc[:,:2].merge(install_payments, on = 'SK_ID_CURR', how = 'left')\n",
        "print(\"-\"*100)"
      ],
      "metadata": {
        "colab": {
          "base_uri": "https://localhost:8080/"
        },
        "id": "TeH2A93rf9Gs",
        "outputId": "843b82e7-ecab-4a8d-e167-634c5365902a"
      },
      "execution_count": 44,
      "outputs": [
        {
          "output_type": "stream",
          "name": "stdout",
          "text": [
            "----------------------------------------------------------------------------------------------------\n",
            "Merging TARGET with installments_payments Table\n",
            "----------------------------------------------------------------------------------------------------\n"
          ]
        }
      ]
    },
    {
      "cell_type": "markdown",
      "source": [
        "**Correlation Matrix of Features**"
      ],
      "metadata": {
        "id": "n8sslYXBgbjN"
      }
    },
    {
      "cell_type": "code",
      "source": [
        "corr_mat = correlation_matrix(installments_merged, ['SK_ID_CURR','SK_ID_PREV'], figsize = (8,7))\n",
        "corr_mat.plot_correlation_matrix()"
      ],
      "metadata": {
        "colab": {
          "base_uri": "https://localhost:8080/",
          "height": 548
        },
        "id": "JvIEfxiQgdvc",
        "outputId": "4d5df49f-6bfe-43f1-a180-dab197922aec"
      },
      "execution_count": 45,
      "outputs": [
        {
          "output_type": "stream",
          "name": "stdout",
          "text": [
            "----------------------------------------------------------------------------------------------------\n"
          ]
        },
        {
          "output_type": "display_data",
          "data": {
            "text/plain": [
              "<Figure size 576x504 with 2 Axes>"
            ],
            "image/png": "[encoded data removed]"
          },
          "metadata": {}
        },
        {
          "output_type": "stream",
          "name": "stdout",
          "text": [
            "----------------------------------------------------------------------------------------------------\n"
          ]
        }
      ]
    },
    {
      "cell_type": "markdown",
      "source": [
        "**Comment**\n",
        "* From the heatmap of correlation matrix, we see a couple of highly correlated features. These are:\n",
        "  * AMT_INSTALMENT and AMT_PAYMENT\n",
        "  * DAYS_INSTALMENT and DAYS_ENTRY_PAYMENT\n",
        "\n",
        "* These two sets of correlated features are understandable, as they are actually the features as to when the installment was due to be paid vs when it was paid and also the amount that was due vs the amount that was paid."
      ],
      "metadata": {
        "id": "aLEP9o53gql0"
      }
    },
    {
      "cell_type": "markdown",
      "source": [
        "**Plotting Continuous Variables**\n",
        "\n",
        "Firstly we will group by the 'SK_ID_PREV' field and aggregate with mean, so that we get an averaged row for each of the previous loan that the client had."
      ],
      "metadata": {
        "id": "Yvg-3pJ1g581"
      }
    },
    {
      "cell_type": "code",
      "source": [
        "installments_merged = installments_merged.groupby('SK_ID_PREV').mean()"
      ],
      "metadata": {
        "id": "dlflnhLug8Zc"
      },
      "execution_count": 46,
      "outputs": []
    },
    {
      "cell_type": "markdown",
      "source": [
        "#### DAYS_INSTALMENT"
      ],
      "metadata": {
        "id": "wHTw-o_NhG3N"
      }
    },
    {
      "cell_type": "code",
      "source": [
        "plot_continuous_variables(installments_merged, 'DAYS_INSTALMENT', plots = ['box'], figsize = (8,8))"
      ],
      "metadata": {
        "colab": {
          "base_uri": "https://localhost:8080/",
          "height": 513
        },
        "id": "97WvfQdchJH3",
        "outputId": "74f55f32-d0e5-4e39-cdec-833d9dbedcb8"
      },
      "execution_count": 47,
      "outputs": [
        {
          "output_type": "display_data",
          "data": {
            "text/plain": [
              "<Figure size 576x576 with 1 Axes>"
            ],
            "image/png": "[encoded data removed]"
          },
          "metadata": {}
        }
      ]
    },
    {
      "cell_type": "markdown",
      "source": [
        "#### DAYS_ENTRY_PAYMENT\n"
      ],
      "metadata": {
        "id": "oQXj6rXwhRKN"
      }
    },
    {
      "cell_type": "code",
      "source": [
        "plot_continuous_variables(installments_merged, 'DAYS_ENTRY_PAYMENT', plots = ['box'], figsize = (8,8))\n",
        "del installments_merged"
      ],
      "metadata": {
        "colab": {
          "base_uri": "https://localhost:8080/",
          "height": 513
        },
        "id": "orXlrY3IhaWT",
        "outputId": "fbb1e3fe-1004-4a77-ae00-a2f70ef81a47"
      },
      "execution_count": 48,
      "outputs": [
        {
          "output_type": "display_data",
          "data": {
            "text/plain": [
              "<Figure size 576x576 with 1 Axes>"
            ],
            "image/png": "[encoded data removed]"
          },
          "metadata": {}
        }
      ]
    },
    {
      "cell_type": "markdown",
      "source": [
        "**Comment**\n",
        "\n",
        "From the above two plots, we can see a similar pattern, where the Defaulters tend to have lesser number of days since their last payment, while Non-Defaulters have more number of days since their last payments. All quantiles of Defaulters have more recent days than those of Non-Defaulters. Thus, Non-Defaulters usually have more gap in their payments from the day of application as compared to Defaulters."
      ],
      "metadata": {
        "id": "sa0LD5-Zhdzc"
      }
    }
  ]
}