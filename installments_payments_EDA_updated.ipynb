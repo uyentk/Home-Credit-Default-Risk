{
 "cells": [
  {
   "cell_type": "code",
   "execution_count": 2,
   "metadata": {
    "id": "3-UjQPTVq7Fu"
   },
   "outputs": [],
   "source": [
    "import pandas as pd\n",
    "import numpy as np\n",
    "import matplotlib.pyplot as plt\n",
    "import seaborn as sns"
   ]
  },
  {
   "cell_type": "code",
   "execution_count": 3,
   "metadata": {
    "id": "BeInzbGfEAR8"
   },
   "outputs": [],
   "source": [
    "install_payments = pd.read_csv('D:/Data group project DPV/installments_payments.csv')\n",
    "app_train = pd.read_csv('D:/Data group project DPV/application_train.csv')"
   ]
  },
  {
   "cell_type": "markdown",
   "metadata": {
    "id": "Uv4DW8L-sfez"
   },
   "source": [
    "**installments_payments.csv**\n",
    "\n",
    "\n",
    "*   Repayment history for the previously disbursed credits in Home Credit related to the loans in our sample.\n",
    "*   There is\n",
    "    *   a) one row for every payment that was made plus\n",
    "    *   b) one row each for missed payment.\n",
    "\n",
    "One row is equivalent to one payment of one installment OR one installment corresponding to one payment of one previous Home Credit credit related to loans in our sample."
   ]
  },
  {
   "cell_type": "code",
   "execution_count": null,
   "metadata": {
    "id": "MSial01K8qPM"
   },
   "outputs": [],
   "source": []
  },
  {
   "cell_type": "markdown",
   "metadata": {
    "id": "EgYNhre3A9Dv"
   },
   "source": [
    "\n",
    "**installments_payments.csv FEATURE DESCRIPTION**\n",
    "\n",
    "**SK_ID_PREV:** The ID of previous credit in Home Credit related to loan in our sample\n",
    "\n",
    "**SK_ID_CURR:** ID of loan in our sample\n",
    "\n",
    "**NUM_INSTALMENT_VERSION:** Version of installment calendar (0 is for credit card) of previous credit. Change of installment version from month to month signifies that some parameter of payment calendar has changed\n",
    "\n",
    "**NUM_INSTALMENT_NUMBER:** On which installment we observe payment(lan tra thu bao nhieu)\n",
    "\n",
    "**DAYS_INSTALMENT:** When the installment of previous credit was supposed to be paid (relative to application date of current loan)(ngay phai tra)\n",
    "\n",
    "**DAYS_ENTRY_PAYMENT:** When was the installments of previous credit paid actually (relative to application date of current loan)(ngay khach hang tra)\n",
    "\n",
    "**AMT_INSTALMENT:** What was the prescribed installment amount of previous credit on this installment(luong tien phai tra)\n",
    "\n",
    "**AMT_PAYMENT:** What the client actually paid on previous credit on this installment(luong tien khach hang tra)"
   ]
  },
  {
   "cell_type": "code",
   "execution_count": 4,
   "metadata": {
    "colab": {
     "base_uri": "https://localhost:8080/",
     "height": 363
    },
    "id": "fqNEdshpWTVz",
    "outputId": "1de436f6-be4b-447d-a3b3-d377864c4108"
   },
   "outputs": [
    {
     "data": {
      "text/html": [
       "<div>\n",
       "<style scoped>\n",
       "    .dataframe tbody tr th:only-of-type {\n",
       "        vertical-align: middle;\n",
       "    }\n",
       "\n",
       "    .dataframe tbody tr th {\n",
       "        vertical-align: top;\n",
       "    }\n",
       "\n",
       "    .dataframe thead th {\n",
       "        text-align: right;\n",
       "    }\n",
       "</style>\n",
       "<table border=\"1\" class=\"dataframe\">\n",
       "  <thead>\n",
       "    <tr style=\"text-align: right;\">\n",
       "      <th></th>\n",
       "      <th>SK_ID_PREV</th>\n",
       "      <th>SK_ID_CURR</th>\n",
       "      <th>NUM_INSTALMENT_VERSION</th>\n",
       "      <th>NUM_INSTALMENT_NUMBER</th>\n",
       "      <th>DAYS_INSTALMENT</th>\n",
       "      <th>DAYS_ENTRY_PAYMENT</th>\n",
       "      <th>AMT_INSTALMENT</th>\n",
       "      <th>AMT_PAYMENT</th>\n",
       "    </tr>\n",
       "  </thead>\n",
       "  <tbody>\n",
       "    <tr>\n",
       "      <th>0</th>\n",
       "      <td>1054186</td>\n",
       "      <td>161674</td>\n",
       "      <td>1.0</td>\n",
       "      <td>6</td>\n",
       "      <td>-1180.0</td>\n",
       "      <td>-1187.0</td>\n",
       "      <td>6948.360</td>\n",
       "      <td>6948.360</td>\n",
       "    </tr>\n",
       "    <tr>\n",
       "      <th>1</th>\n",
       "      <td>1330831</td>\n",
       "      <td>151639</td>\n",
       "      <td>0.0</td>\n",
       "      <td>34</td>\n",
       "      <td>-2156.0</td>\n",
       "      <td>-2156.0</td>\n",
       "      <td>1716.525</td>\n",
       "      <td>1716.525</td>\n",
       "    </tr>\n",
       "    <tr>\n",
       "      <th>2</th>\n",
       "      <td>2085231</td>\n",
       "      <td>193053</td>\n",
       "      <td>2.0</td>\n",
       "      <td>1</td>\n",
       "      <td>-63.0</td>\n",
       "      <td>-63.0</td>\n",
       "      <td>25425.000</td>\n",
       "      <td>25425.000</td>\n",
       "    </tr>\n",
       "    <tr>\n",
       "      <th>3</th>\n",
       "      <td>2452527</td>\n",
       "      <td>199697</td>\n",
       "      <td>1.0</td>\n",
       "      <td>3</td>\n",
       "      <td>-2418.0</td>\n",
       "      <td>-2426.0</td>\n",
       "      <td>24350.130</td>\n",
       "      <td>24350.130</td>\n",
       "    </tr>\n",
       "    <tr>\n",
       "      <th>4</th>\n",
       "      <td>2714724</td>\n",
       "      <td>167756</td>\n",
       "      <td>1.0</td>\n",
       "      <td>2</td>\n",
       "      <td>-1383.0</td>\n",
       "      <td>-1366.0</td>\n",
       "      <td>2165.040</td>\n",
       "      <td>2160.585</td>\n",
       "    </tr>\n",
       "    <tr>\n",
       "      <th>5</th>\n",
       "      <td>1137312</td>\n",
       "      <td>164489</td>\n",
       "      <td>1.0</td>\n",
       "      <td>12</td>\n",
       "      <td>-1384.0</td>\n",
       "      <td>-1417.0</td>\n",
       "      <td>5970.375</td>\n",
       "      <td>5970.375</td>\n",
       "    </tr>\n",
       "    <tr>\n",
       "      <th>6</th>\n",
       "      <td>2234264</td>\n",
       "      <td>184693</td>\n",
       "      <td>4.0</td>\n",
       "      <td>11</td>\n",
       "      <td>-349.0</td>\n",
       "      <td>-352.0</td>\n",
       "      <td>29432.295</td>\n",
       "      <td>29432.295</td>\n",
       "    </tr>\n",
       "    <tr>\n",
       "      <th>7</th>\n",
       "      <td>1818599</td>\n",
       "      <td>111420</td>\n",
       "      <td>2.0</td>\n",
       "      <td>4</td>\n",
       "      <td>-968.0</td>\n",
       "      <td>-994.0</td>\n",
       "      <td>17862.165</td>\n",
       "      <td>17862.165</td>\n",
       "    </tr>\n",
       "    <tr>\n",
       "      <th>8</th>\n",
       "      <td>2723183</td>\n",
       "      <td>112102</td>\n",
       "      <td>0.0</td>\n",
       "      <td>14</td>\n",
       "      <td>-197.0</td>\n",
       "      <td>-197.0</td>\n",
       "      <td>70.740</td>\n",
       "      <td>70.740</td>\n",
       "    </tr>\n",
       "    <tr>\n",
       "      <th>9</th>\n",
       "      <td>1413990</td>\n",
       "      <td>109741</td>\n",
       "      <td>1.0</td>\n",
       "      <td>4</td>\n",
       "      <td>-570.0</td>\n",
       "      <td>-609.0</td>\n",
       "      <td>14308.470</td>\n",
       "      <td>14308.470</td>\n",
       "    </tr>\n",
       "  </tbody>\n",
       "</table>\n",
       "</div>"
      ],
      "text/plain": [
       "   SK_ID_PREV  SK_ID_CURR  NUM_INSTALMENT_VERSION  NUM_INSTALMENT_NUMBER  \\\n",
       "0     1054186      161674                     1.0                      6   \n",
       "1     1330831      151639                     0.0                     34   \n",
       "2     2085231      193053                     2.0                      1   \n",
       "3     2452527      199697                     1.0                      3   \n",
       "4     2714724      167756                     1.0                      2   \n",
       "5     1137312      164489                     1.0                     12   \n",
       "6     2234264      184693                     4.0                     11   \n",
       "7     1818599      111420                     2.0                      4   \n",
       "8     2723183      112102                     0.0                     14   \n",
       "9     1413990      109741                     1.0                      4   \n",
       "\n",
       "   DAYS_INSTALMENT  DAYS_ENTRY_PAYMENT  AMT_INSTALMENT  AMT_PAYMENT  \n",
       "0          -1180.0             -1187.0        6948.360     6948.360  \n",
       "1          -2156.0             -2156.0        1716.525     1716.525  \n",
       "2            -63.0               -63.0       25425.000    25425.000  \n",
       "3          -2418.0             -2426.0       24350.130    24350.130  \n",
       "4          -1383.0             -1366.0        2165.040     2160.585  \n",
       "5          -1384.0             -1417.0        5970.375     5970.375  \n",
       "6           -349.0              -352.0       29432.295    29432.295  \n",
       "7           -968.0              -994.0       17862.165    17862.165  \n",
       "8           -197.0              -197.0          70.740       70.740  \n",
       "9           -570.0              -609.0       14308.470    14308.470  "
      ]
     },
     "execution_count": 4,
     "metadata": {},
     "output_type": "execute_result"
    }
   ],
   "source": [
    "install_payments.head(10)"
   ]
  },
  {
   "cell_type": "code",
   "execution_count": 5,
   "metadata": {
    "colab": {
     "base_uri": "https://localhost:8080/",
     "height": 423
    },
    "id": "bv57op8e8qPO",
    "outputId": "4b73e16d-1087-4372-88fc-ee1ca9417984"
   },
   "outputs": [
    {
     "data": {
      "text/html": [
       "<div>\n",
       "<style scoped>\n",
       "    .dataframe tbody tr th:only-of-type {\n",
       "        vertical-align: middle;\n",
       "    }\n",
       "\n",
       "    .dataframe tbody tr th {\n",
       "        vertical-align: top;\n",
       "    }\n",
       "\n",
       "    .dataframe thead th {\n",
       "        text-align: right;\n",
       "    }\n",
       "</style>\n",
       "<table border=\"1\" class=\"dataframe\">\n",
       "  <thead>\n",
       "    <tr style=\"text-align: right;\">\n",
       "      <th></th>\n",
       "      <th>SK_ID_PREV</th>\n",
       "      <th>SK_ID_CURR</th>\n",
       "      <th>NUM_INSTALMENT_VERSION</th>\n",
       "      <th>NUM_INSTALMENT_NUMBER</th>\n",
       "      <th>DAYS_INSTALMENT</th>\n",
       "      <th>DAYS_ENTRY_PAYMENT</th>\n",
       "      <th>AMT_INSTALMENT</th>\n",
       "      <th>AMT_PAYMENT</th>\n",
       "    </tr>\n",
       "  </thead>\n",
       "  <tbody>\n",
       "    <tr>\n",
       "      <th>1478621</th>\n",
       "      <td>1369693</td>\n",
       "      <td>100001</td>\n",
       "      <td>1.0</td>\n",
       "      <td>1</td>\n",
       "      <td>-1709.0</td>\n",
       "      <td>-1715.0</td>\n",
       "      <td>3951.000</td>\n",
       "      <td>3951.000</td>\n",
       "    </tr>\n",
       "    <tr>\n",
       "      <th>1761012</th>\n",
       "      <td>1851984</td>\n",
       "      <td>100001</td>\n",
       "      <td>1.0</td>\n",
       "      <td>2</td>\n",
       "      <td>-2916.0</td>\n",
       "      <td>-2916.0</td>\n",
       "      <td>3982.050</td>\n",
       "      <td>3982.050</td>\n",
       "    </tr>\n",
       "    <tr>\n",
       "      <th>2568722</th>\n",
       "      <td>1369693</td>\n",
       "      <td>100001</td>\n",
       "      <td>1.0</td>\n",
       "      <td>2</td>\n",
       "      <td>-1679.0</td>\n",
       "      <td>-1715.0</td>\n",
       "      <td>3951.000</td>\n",
       "      <td>3951.000</td>\n",
       "    </tr>\n",
       "    <tr>\n",
       "      <th>2624024</th>\n",
       "      <td>1369693</td>\n",
       "      <td>100001</td>\n",
       "      <td>2.0</td>\n",
       "      <td>4</td>\n",
       "      <td>-1619.0</td>\n",
       "      <td>-1628.0</td>\n",
       "      <td>17397.900</td>\n",
       "      <td>17397.900</td>\n",
       "    </tr>\n",
       "    <tr>\n",
       "      <th>3435373</th>\n",
       "      <td>1851984</td>\n",
       "      <td>100001</td>\n",
       "      <td>1.0</td>\n",
       "      <td>4</td>\n",
       "      <td>-2856.0</td>\n",
       "      <td>-2856.0</td>\n",
       "      <td>3980.925</td>\n",
       "      <td>3980.925</td>\n",
       "    </tr>\n",
       "    <tr>\n",
       "      <th>3458712</th>\n",
       "      <td>1369693</td>\n",
       "      <td>100001</td>\n",
       "      <td>1.0</td>\n",
       "      <td>3</td>\n",
       "      <td>-1649.0</td>\n",
       "      <td>-1660.0</td>\n",
       "      <td>3951.000</td>\n",
       "      <td>3951.000</td>\n",
       "    </tr>\n",
       "    <tr>\n",
       "      <th>3774071</th>\n",
       "      <td>1851984</td>\n",
       "      <td>100001</td>\n",
       "      <td>1.0</td>\n",
       "      <td>3</td>\n",
       "      <td>-2886.0</td>\n",
       "      <td>-2875.0</td>\n",
       "      <td>3982.050</td>\n",
       "      <td>3982.050</td>\n",
       "    </tr>\n",
       "  </tbody>\n",
       "</table>\n",
       "</div>"
      ],
      "text/plain": [
       "         SK_ID_PREV  SK_ID_CURR  NUM_INSTALMENT_VERSION  \\\n",
       "1478621     1369693      100001                     1.0   \n",
       "1761012     1851984      100001                     1.0   \n",
       "2568722     1369693      100001                     1.0   \n",
       "2624024     1369693      100001                     2.0   \n",
       "3435373     1851984      100001                     1.0   \n",
       "3458712     1369693      100001                     1.0   \n",
       "3774071     1851984      100001                     1.0   \n",
       "\n",
       "         NUM_INSTALMENT_NUMBER  DAYS_INSTALMENT  DAYS_ENTRY_PAYMENT  \\\n",
       "1478621                      1          -1709.0             -1715.0   \n",
       "1761012                      2          -2916.0             -2916.0   \n",
       "2568722                      2          -1679.0             -1715.0   \n",
       "2624024                      4          -1619.0             -1628.0   \n",
       "3435373                      4          -2856.0             -2856.0   \n",
       "3458712                      3          -1649.0             -1660.0   \n",
       "3774071                      3          -2886.0             -2875.0   \n",
       "\n",
       "         AMT_INSTALMENT  AMT_PAYMENT  \n",
       "1478621        3951.000     3951.000  \n",
       "1761012        3982.050     3982.050  \n",
       "2568722        3951.000     3951.000  \n",
       "2624024       17397.900    17397.900  \n",
       "3435373        3980.925     3980.925  \n",
       "3458712        3951.000     3951.000  \n",
       "3774071        3982.050     3982.050  "
      ]
     },
     "execution_count": 5,
     "metadata": {},
     "output_type": "execute_result"
    }
   ],
   "source": [
    "install_payments[install_payments['SK_ID_CURR'] == 100001]"
   ]
  },
  {
   "cell_type": "code",
   "execution_count": 6,
   "metadata": {
    "colab": {
     "base_uri": "https://localhost:8080/"
    },
    "id": "TsnDPPZpWTJ7",
    "outputId": "1b0472e5-8b22-4ebf-e616-75c9f0ab794a"
   },
   "outputs": [
    {
     "data": {
      "text/plain": [
       "(13605401, 8)"
      ]
     },
     "execution_count": 6,
     "metadata": {},
     "output_type": "execute_result"
    }
   ],
   "source": [
    "install_payments.shape"
   ]
  },
  {
   "cell_type": "code",
   "execution_count": 7,
   "metadata": {
    "colab": {
     "base_uri": "https://localhost:8080/"
    },
    "id": "3wjDqhmFWTBK",
    "outputId": "327990f9-a8c4-46a4-c1a4-9499add94a0b"
   },
   "outputs": [
    {
     "data": {
      "text/plain": [
       "Index(['SK_ID_PREV', 'SK_ID_CURR', 'NUM_INSTALMENT_VERSION',\n",
       "       'NUM_INSTALMENT_NUMBER', 'DAYS_INSTALMENT', 'DAYS_ENTRY_PAYMENT',\n",
       "       'AMT_INSTALMENT', 'AMT_PAYMENT'],\n",
       "      dtype='object')"
      ]
     },
     "execution_count": 7,
     "metadata": {},
     "output_type": "execute_result"
    }
   ],
   "source": [
    "install_payments.columns"
   ]
  },
  {
   "cell_type": "code",
   "execution_count": 8,
   "metadata": {
    "colab": {
     "base_uri": "https://localhost:8080/"
    },
    "id": "wnkDBUmzWS3J",
    "outputId": "dfcc4512-d6d4-4d10-e86d-35435090154d"
   },
   "outputs": [
    {
     "name": "stdout",
     "output_type": "stream",
     "text": [
      "<class 'pandas.core.frame.DataFrame'>\n",
      "RangeIndex: 13605401 entries, 0 to 13605400\n",
      "Data columns (total 8 columns):\n",
      " #   Column                  Dtype  \n",
      "---  ------                  -----  \n",
      " 0   SK_ID_PREV              int64  \n",
      " 1   SK_ID_CURR              int64  \n",
      " 2   NUM_INSTALMENT_VERSION  float64\n",
      " 3   NUM_INSTALMENT_NUMBER   int64  \n",
      " 4   DAYS_INSTALMENT         float64\n",
      " 5   DAYS_ENTRY_PAYMENT      float64\n",
      " 6   AMT_INSTALMENT          float64\n",
      " 7   AMT_PAYMENT             float64\n",
      "dtypes: float64(5), int64(3)\n",
      "memory usage: 830.4 MB\n"
     ]
    }
   ],
   "source": [
    "install_payments.info()"
   ]
  },
  {
   "cell_type": "markdown",
   "metadata": {
    "id": "3Pee1rwt5naJ"
   },
   "source": [
    "**Basic EDA**"
   ]
  },
  {
   "cell_type": "code",
   "execution_count": 9,
   "metadata": {
    "colab": {
     "base_uri": "https://localhost:8080/"
    },
    "id": "79xC3Kj-5xPP",
    "outputId": "921e4a17-37df-49fe-982f-ebf3e9f8a7d6"
   },
   "outputs": [
    {
     "data": {
      "text/plain": [
       "0"
      ]
     },
     "execution_count": 9,
     "metadata": {},
     "output_type": "execute_result"
    }
   ],
   "source": [
    "install_payments.duplicated().sum()"
   ]
  },
  {
   "cell_type": "code",
   "execution_count": 10,
   "metadata": {
    "colab": {
     "base_uri": "https://localhost:8080/"
    },
    "id": "5UuZ89E7WSji",
    "outputId": "8cb7e2b1-6e6e-474c-d8b4-dfc006ad73f1"
   },
   "outputs": [
    {
     "data": {
      "text/plain": [
       "DAYS_ENTRY_PAYMENT        2905\n",
       "AMT_PAYMENT               2905\n",
       "SK_ID_PREV                   0\n",
       "SK_ID_CURR                   0\n",
       "NUM_INSTALMENT_VERSION       0\n",
       "NUM_INSTALMENT_NUMBER        0\n",
       "DAYS_INSTALMENT              0\n",
       "AMT_INSTALMENT               0\n",
       "dtype: int64"
      ]
     },
     "execution_count": 10,
     "metadata": {},
     "output_type": "execute_result"
    }
   ],
   "source": [
    "# NUMBER OF NULL VALUES IN EACH COLUMN\n",
    "install_payments.isna().sum().sort_values(ascending=False)"
   ]
  },
  {
   "cell_type": "code",
   "execution_count": 11,
   "metadata": {
    "colab": {
     "base_uri": "https://localhost:8080/"
    },
    "id": "xDnaI9jfY_2-",
    "outputId": "ab4c63c6-036f-4374-881d-ddc1ca678be0"
   },
   "outputs": [
    {
     "data": {
      "text/plain": [
       "DAYS_ENTRY_PAYMENT        0.000214\n",
       "AMT_PAYMENT               0.000214\n",
       "SK_ID_PREV                0.000000\n",
       "SK_ID_CURR                0.000000\n",
       "NUM_INSTALMENT_VERSION    0.000000\n",
       "NUM_INSTALMENT_NUMBER     0.000000\n",
       "DAYS_INSTALMENT           0.000000\n",
       "AMT_INSTALMENT            0.000000\n",
       "dtype: float64"
      ]
     },
     "execution_count": 11,
     "metadata": {},
     "output_type": "execute_result"
    }
   ],
   "source": [
    "# PERCENTAGE OF NULL VALUES IN EACH COLUMN\n",
    "(install_payments.isna().sum() / install_payments.shape[0]).sort_values(ascending=False)"
   ]
  },
  {
   "cell_type": "markdown",
   "metadata": {
    "id": "czTFQtVCZDUL"
   },
   "source": [
    "Two columns: the day and the amount customers actually paid (DAYS_ENTRY_PAYMENT and AMT_PAYMENT) include the same amount of null values\n",
    "\n",
    "0.02% of clients haven't paid previous credit on this installment"
   ]
  },
  {
   "cell_type": "code",
   "execution_count": 12,
   "metadata": {
    "colab": {
     "base_uri": "https://localhost:8080/",
     "height": 300
    },
    "id": "sBjrZzPMY_ze",
    "outputId": "62ddc139-bd41-45a5-fce4-f0b12dcecbb7"
   },
   "outputs": [
    {
     "data": {
      "text/html": [
       "<div>\n",
       "<style scoped>\n",
       "    .dataframe tbody tr th:only-of-type {\n",
       "        vertical-align: middle;\n",
       "    }\n",
       "\n",
       "    .dataframe tbody tr th {\n",
       "        vertical-align: top;\n",
       "    }\n",
       "\n",
       "    .dataframe thead th {\n",
       "        text-align: right;\n",
       "    }\n",
       "</style>\n",
       "<table border=\"1\" class=\"dataframe\">\n",
       "  <thead>\n",
       "    <tr style=\"text-align: right;\">\n",
       "      <th></th>\n",
       "      <th>count</th>\n",
       "      <th>mean</th>\n",
       "      <th>std</th>\n",
       "      <th>min</th>\n",
       "      <th>25%</th>\n",
       "      <th>50%</th>\n",
       "      <th>75%</th>\n",
       "      <th>max</th>\n",
       "    </tr>\n",
       "  </thead>\n",
       "  <tbody>\n",
       "    <tr>\n",
       "      <th>SK_ID_PREV</th>\n",
       "      <td>13605401.0</td>\n",
       "      <td>1.903365e+06</td>\n",
       "      <td>536202.905546</td>\n",
       "      <td>1000001.0</td>\n",
       "      <td>1434191.000</td>\n",
       "      <td>1896520.000</td>\n",
       "      <td>2369094.000</td>\n",
       "      <td>2843499.000</td>\n",
       "    </tr>\n",
       "    <tr>\n",
       "      <th>SK_ID_CURR</th>\n",
       "      <td>13605401.0</td>\n",
       "      <td>2.784449e+05</td>\n",
       "      <td>102718.310411</td>\n",
       "      <td>100001.0</td>\n",
       "      <td>189639.000</td>\n",
       "      <td>278685.000</td>\n",
       "      <td>367530.000</td>\n",
       "      <td>456255.000</td>\n",
       "    </tr>\n",
       "    <tr>\n",
       "      <th>NUM_INSTALMENT_VERSION</th>\n",
       "      <td>13605401.0</td>\n",
       "      <td>8.566373e-01</td>\n",
       "      <td>1.035216</td>\n",
       "      <td>0.0</td>\n",
       "      <td>0.000</td>\n",
       "      <td>1.000</td>\n",
       "      <td>1.000</td>\n",
       "      <td>178.000</td>\n",
       "    </tr>\n",
       "    <tr>\n",
       "      <th>NUM_INSTALMENT_NUMBER</th>\n",
       "      <td>13605401.0</td>\n",
       "      <td>1.887090e+01</td>\n",
       "      <td>26.664067</td>\n",
       "      <td>1.0</td>\n",
       "      <td>4.000</td>\n",
       "      <td>8.000</td>\n",
       "      <td>19.000</td>\n",
       "      <td>277.000</td>\n",
       "    </tr>\n",
       "    <tr>\n",
       "      <th>DAYS_INSTALMENT</th>\n",
       "      <td>13605401.0</td>\n",
       "      <td>-1.042270e+03</td>\n",
       "      <td>800.946284</td>\n",
       "      <td>-2922.0</td>\n",
       "      <td>-1654.000</td>\n",
       "      <td>-818.000</td>\n",
       "      <td>-361.000</td>\n",
       "      <td>-1.000</td>\n",
       "    </tr>\n",
       "    <tr>\n",
       "      <th>DAYS_ENTRY_PAYMENT</th>\n",
       "      <td>13602496.0</td>\n",
       "      <td>-1.051114e+03</td>\n",
       "      <td>800.585883</td>\n",
       "      <td>-4921.0</td>\n",
       "      <td>-1662.000</td>\n",
       "      <td>-827.000</td>\n",
       "      <td>-370.000</td>\n",
       "      <td>-1.000</td>\n",
       "    </tr>\n",
       "    <tr>\n",
       "      <th>AMT_INSTALMENT</th>\n",
       "      <td>13605401.0</td>\n",
       "      <td>1.705091e+04</td>\n",
       "      <td>50570.254429</td>\n",
       "      <td>0.0</td>\n",
       "      <td>4226.085</td>\n",
       "      <td>8884.080</td>\n",
       "      <td>16710.210</td>\n",
       "      <td>3771487.845</td>\n",
       "    </tr>\n",
       "    <tr>\n",
       "      <th>AMT_PAYMENT</th>\n",
       "      <td>13602496.0</td>\n",
       "      <td>1.723822e+04</td>\n",
       "      <td>54735.783981</td>\n",
       "      <td>0.0</td>\n",
       "      <td>3398.265</td>\n",
       "      <td>8125.515</td>\n",
       "      <td>16108.425</td>\n",
       "      <td>3771487.845</td>\n",
       "    </tr>\n",
       "  </tbody>\n",
       "</table>\n",
       "</div>"
      ],
      "text/plain": [
       "                             count          mean            std        min  \\\n",
       "SK_ID_PREV              13605401.0  1.903365e+06  536202.905546  1000001.0   \n",
       "SK_ID_CURR              13605401.0  2.784449e+05  102718.310411   100001.0   \n",
       "NUM_INSTALMENT_VERSION  13605401.0  8.566373e-01       1.035216        0.0   \n",
       "NUM_INSTALMENT_NUMBER   13605401.0  1.887090e+01      26.664067        1.0   \n",
       "DAYS_INSTALMENT         13605401.0 -1.042270e+03     800.946284    -2922.0   \n",
       "DAYS_ENTRY_PAYMENT      13602496.0 -1.051114e+03     800.585883    -4921.0   \n",
       "AMT_INSTALMENT          13605401.0  1.705091e+04   50570.254429        0.0   \n",
       "AMT_PAYMENT             13602496.0  1.723822e+04   54735.783981        0.0   \n",
       "\n",
       "                                25%          50%          75%          max  \n",
       "SK_ID_PREV              1434191.000  1896520.000  2369094.000  2843499.000  \n",
       "SK_ID_CURR               189639.000   278685.000   367530.000   456255.000  \n",
       "NUM_INSTALMENT_VERSION        0.000        1.000        1.000      178.000  \n",
       "NUM_INSTALMENT_NUMBER         4.000        8.000       19.000      277.000  \n",
       "DAYS_INSTALMENT           -1654.000     -818.000     -361.000       -1.000  \n",
       "DAYS_ENTRY_PAYMENT        -1662.000     -827.000     -370.000       -1.000  \n",
       "AMT_INSTALMENT             4226.085     8884.080    16710.210  3771487.845  \n",
       "AMT_PAYMENT                3398.265     8125.515    16108.425  3771487.845  "
      ]
     },
     "execution_count": 12,
     "metadata": {},
     "output_type": "execute_result"
    }
   ],
   "source": [
    "install_payments.describe().T"
   ]
  },
  {
   "cell_type": "markdown",
   "metadata": {
    "id": "IVTdsXXWZI6k"
   },
   "source": [
    "That the average AMT_INSTALLMENTS (the prescribed installment amount on this installment is) smaller than AMT_PAYMENTS (the amount client actually paid on this installment) suggests:\n",
    "\n",
    "Some loans are not repayed on time"
   ]
  },
  {
   "cell_type": "code",
   "execution_count": 13,
   "metadata": {
    "colab": {
     "base_uri": "https://localhost:8080/",
     "height": 333
    },
    "id": "GT8HM82VY_wM",
    "outputId": "8e0b0ff1-70bf-4df8-c29d-f8cc3bd6a137",
    "scrolled": true
   },
   "outputs": [
    {
     "data": {
      "text/plain": [
       "array([[<AxesSubplot:title={'center':'DAYS_INSTALMENT'}>,\n",
       "        <AxesSubplot:title={'center':'DAYS_ENTRY_PAYMENT'}>]],\n",
       "      dtype=object)"
      ]
     },
     "execution_count": 13,
     "metadata": {},
     "output_type": "execute_result"
    },
    {
     "data": {
      "image/png": "[encoded data removed]",
      "text/plain": [
       "<Figure size 432x288 with 2 Axes>"
      ]
     },
     "metadata": {
      "needs_background": "light"
     },
     "output_type": "display_data"
    }
   ],
   "source": [
    "# histogram\n",
    "install_payments.iloc[:,4:6].hist(bins=20)"
   ]
  },
  {
   "cell_type": "markdown",
   "metadata": {
    "id": "ikNUHc8oZMaj"
   },
   "source": [
    "The histogram of prescribed installment day and actually paid day also suggests late payment of the customer"
   ]
  },
  {
   "cell_type": "markdown",
   "metadata": {
    "id": "3X5lv1UmZO5b"
   },
   "source": [
    "Correlation"
   ]
  },
  {
   "cell_type": "code",
   "execution_count": 14,
   "metadata": {
    "colab": {
     "base_uri": "https://localhost:8080/",
     "height": 617
    },
    "id": "ARVbDs8LY_tg",
    "outputId": "e9e5bf63-e697-4703-b658-5e7cbe24acf1",
    "scrolled": false
   },
   "outputs": [
    {
     "data": {
      "image/png": "[encoded data removed]",
      "text/plain": [
       "<Figure size 720x576 with 2 Axes>"
      ]
     },
     "metadata": {
      "needs_background": "light"
     },
     "output_type": "display_data"
    }
   ],
   "source": [
    "fig, ax = plt.subplots(figsize = (10, 8))\n",
    "sns.heatmap(install_payments.corr(), annot = True, fmt = \".3f\", linewidths = 1, ax = ax)\n",
    "\n",
    "plt.show()"
   ]
  },
  {
   "cell_type": "code",
   "execution_count": null,
   "metadata": {},
   "outputs": [],
   "source": []
  },
  {
   "cell_type": "markdown",
   "metadata": {
    "id": "L87QErs98qPV",
    "scrolled": true
   },
   "source": [
    "**Không drop cột nào**\n",
    "\n",
    "SK_ID_CURR và SK_ID_PREV làm key\n",
    "\n",
    "AMT_INSTALMENT và AMT_PAYMENT tuy có corr cao nhưng là biến quan trọng để xác định xem curr ID có trả hết không"
   ]
  }
 ],
 "metadata": {
  "colab": {
   "collapsed_sections": [],
   "provenance": []
  },
  "kernelspec": {
   "display_name": "Python 3",
   "language": "python",
   "name": "python3"
  },
  "language_info": {
   "codemirror_mode": {
    "name": "ipython",
    "version": 3
   },
   "file_extension": ".py",
   "mimetype": "text/x-python",
   "name": "python",
   "nbconvert_exporter": "python",
   "pygments_lexer": "ipython3",
   "version": "3.8.8"
  }
 },
 "nbformat": 4,
 "nbformat_minor": 1
}
