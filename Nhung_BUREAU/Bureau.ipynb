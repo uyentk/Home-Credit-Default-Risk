{
 "cells": [
  {
   "cell_type": "code",
   "execution_count": 255,
   "id": "98f99575",
   "metadata": {},
   "outputs": [],
   "source": [
    "import numpy as np\n",
    "import pandas as pd\n",
    "import matplotlib.pyplot as plt\n",
    "import seaborn as sns\n",
    "\n",
    "\n",
    "# from scipy.stats import percentileofscore\n",
    "from prettytable import PrettyTable\n",
    "from collections import Counter"
   ]
  },
  {
   "cell_type": "code",
   "execution_count": 256,
   "id": "5d0e62c0",
   "metadata": {},
   "outputs": [],
   "source": [
    "#save output\n",
    "import sys\n",
    "import logging\n",
    "\n",
    "so = open(\"data.log\", 'w', 10)\n",
    "sys.stdout.echo = so\n",
    "sys.stderr.echo = so\n",
    "\n",
    "get_ipython().log.handlers[0].stream = so\n",
    "get_ipython().log.setLevel(logging.INFO)"
   ]
  },
  {
   "cell_type": "code",
   "execution_count": 257,
   "id": "7dedd4bb",
   "metadata": {},
   "outputs": [],
   "source": [
    "def reduce_memory_usage(df):\n",
    "    \n",
    "    start_mem = df.memory_usage().sum() / 1024**2\n",
    "    print('Memmory usage of dataframe is {:.2f} MB'.format(start_mem))\n",
    "    \n",
    "    for col in df.columns:\n",
    "        col_type = df[col].dtype\n",
    "        \n",
    "        if col_type != object:\n",
    "            c_min = df[col].min()\n",
    "            c_max = df[col].max()\n",
    "            if str(col_type)[:3] == 'int':\n",
    "                if c_min > np.iinfo(np.int8).min and c_max < np.iinfo(np.int8).max:\n",
    "                    df[col] = df[col].astype(np.int8)\n",
    "                elif c_min > np.iinfo(np.int16).min and c_max < np.iinfo(np.int16).max:\n",
    "                    df[col] = df[col].astype(np.int16)\n",
    "                elif c_min > np.iinfo(np.int32).min and c_max < np.iinfo(np.int32).max:\n",
    "                    df[col] = df[col].astype(np.int32)   \n",
    "                elif c_min > np.iinfo(np.int64).min and c_max < np.iinfo(np.int64).max:\n",
    "                    df[col] = df[col].astype(np.int64)\n",
    "            else:\n",
    "                if c_min > np.finfo(np.float16).min and c_max < np.finfo(np.float16).max:\n",
    "                    df[col] = df[col].astype(np.float16)\n",
    "                elif c_min > np.finfo(np.float32).min and c_max < np.finfo(np.float32).max:\n",
    "                    df[col] = df[col].astype(np.float32)\n",
    "                else:\n",
    "                    df[col] = df[col].astype(np.float64)\n",
    "        end_mem = df.memory_usage().sum() / 1024**2\n",
    "        print('Memory usage after optimization is {:.2f} MB'.format(end_mem))\n",
    "        print('Decreased by {:.1f}%'.format(100 * (start_mem - end_mem)/start_mem))\n",
    "        \n",
    "        return df"
   ]
  },
  {
   "cell_type": "markdown",
   "id": "b947abe9",
   "metadata": {},
   "source": [
    "### breau.csv\n",
    "- All client's previous credits provided by other financial institutions that were reported to Credit Bureau (for clients who have loan in our sample)\n",
    "- For every loan in our sample, there are as many rows as number of credits the clients had in Credit Bureau before the application data\n",
    "\n",
    "Application data from previous loans that client got from other institutions and that were reported to Credit Bureau. \n",
    "One row per client's loan in Credit Bureau"
   ]
  },
  {
   "cell_type": "markdown",
   "id": "b7ac8ff3",
   "metadata": {},
   "source": [
    "### bureau_balance.csv\n",
    "- Monthly blances of previous credits in Credit Bureau\n",
    "- This table has one row for each month of history of every previous credit reported to Credit Bureau i.e the table has (#loans in sample # of relative previous credits # months where we have some history observable for the previous credits) rows "
   ]
  },
  {
   "cell_type": "markdown",
   "id": "c30ae6df",
   "metadata": {},
   "source": [
    "# A - EDA"
   ]
  },
  {
   "cell_type": "markdown",
   "id": "93ddb002",
   "metadata": {},
   "source": [
    "## 1. Bureau"
   ]
  },
  {
   "cell_type": "code",
   "execution_count": 258,
   "id": "de3841ef",
   "metadata": {},
   "outputs": [
    {
     "name": "stdout",
     "output_type": "stream",
     "text": [
      "Memmory usage of dataframe is 222.62 MB\n",
      "Memory usage after optimization is 216.07 MB\n",
      "Decreased by 2.9%\n",
      "Memmory usage of dataframe is 624.85 MB\n",
      "Memory usage after optimization is 520.70 MB\n",
      "Decreased by 16.7%\n"
     ]
    }
   ],
   "source": [
    "bureau_data = reduce_memory_usage(pd.read_csv('bureau.csv'))\n",
    "bureau_balance = reduce_memory_usage(pd.read_csv('bureau_balance.csv'))"
   ]
  },
  {
   "cell_type": "code",
   "execution_count": 259,
   "id": "0f534e75",
   "metadata": {},
   "outputs": [
    {
     "data": {
      "text/html": [
       "<div>\n",
       "<style scoped>\n",
       "    .dataframe tbody tr th:only-of-type {\n",
       "        vertical-align: middle;\n",
       "    }\n",
       "\n",
       "    .dataframe tbody tr th {\n",
       "        vertical-align: top;\n",
       "    }\n",
       "\n",
       "    .dataframe thead th {\n",
       "        text-align: right;\n",
       "    }\n",
       "</style>\n",
       "<table border=\"1\" class=\"dataframe\">\n",
       "  <thead>\n",
       "    <tr style=\"text-align: right;\">\n",
       "      <th></th>\n",
       "      <th>SK_ID_CURR</th>\n",
       "      <th>SK_ID_BUREAU</th>\n",
       "      <th>CREDIT_ACTIVE</th>\n",
       "      <th>CREDIT_CURRENCY</th>\n",
       "      <th>DAYS_CREDIT</th>\n",
       "      <th>CREDIT_DAY_OVERDUE</th>\n",
       "      <th>DAYS_CREDIT_ENDDATE</th>\n",
       "      <th>DAYS_ENDDATE_FACT</th>\n",
       "      <th>AMT_CREDIT_MAX_OVERDUE</th>\n",
       "      <th>CNT_CREDIT_PROLONG</th>\n",
       "      <th>AMT_CREDIT_SUM</th>\n",
       "      <th>AMT_CREDIT_SUM_DEBT</th>\n",
       "      <th>AMT_CREDIT_SUM_LIMIT</th>\n",
       "      <th>AMT_CREDIT_SUM_OVERDUE</th>\n",
       "      <th>CREDIT_TYPE</th>\n",
       "      <th>DAYS_CREDIT_UPDATE</th>\n",
       "      <th>AMT_ANNUITY</th>\n",
       "    </tr>\n",
       "  </thead>\n",
       "  <tbody>\n",
       "    <tr>\n",
       "      <th>0</th>\n",
       "      <td>215354</td>\n",
       "      <td>5714462</td>\n",
       "      <td>Closed</td>\n",
       "      <td>currency 1</td>\n",
       "      <td>-497</td>\n",
       "      <td>0</td>\n",
       "      <td>-153.0</td>\n",
       "      <td>-153.0</td>\n",
       "      <td>NaN</td>\n",
       "      <td>0</td>\n",
       "      <td>91323.0</td>\n",
       "      <td>0.0</td>\n",
       "      <td>NaN</td>\n",
       "      <td>0.0</td>\n",
       "      <td>Consumer credit</td>\n",
       "      <td>-131</td>\n",
       "      <td>NaN</td>\n",
       "    </tr>\n",
       "    <tr>\n",
       "      <th>1</th>\n",
       "      <td>215354</td>\n",
       "      <td>5714463</td>\n",
       "      <td>Active</td>\n",
       "      <td>currency 1</td>\n",
       "      <td>-208</td>\n",
       "      <td>0</td>\n",
       "      <td>1075.0</td>\n",
       "      <td>NaN</td>\n",
       "      <td>NaN</td>\n",
       "      <td>0</td>\n",
       "      <td>225000.0</td>\n",
       "      <td>171342.0</td>\n",
       "      <td>NaN</td>\n",
       "      <td>0.0</td>\n",
       "      <td>Credit card</td>\n",
       "      <td>-20</td>\n",
       "      <td>NaN</td>\n",
       "    </tr>\n",
       "    <tr>\n",
       "      <th>2</th>\n",
       "      <td>215354</td>\n",
       "      <td>5714464</td>\n",
       "      <td>Active</td>\n",
       "      <td>currency 1</td>\n",
       "      <td>-203</td>\n",
       "      <td>0</td>\n",
       "      <td>528.0</td>\n",
       "      <td>NaN</td>\n",
       "      <td>NaN</td>\n",
       "      <td>0</td>\n",
       "      <td>464323.5</td>\n",
       "      <td>NaN</td>\n",
       "      <td>NaN</td>\n",
       "      <td>0.0</td>\n",
       "      <td>Consumer credit</td>\n",
       "      <td>-16</td>\n",
       "      <td>NaN</td>\n",
       "    </tr>\n",
       "    <tr>\n",
       "      <th>3</th>\n",
       "      <td>215354</td>\n",
       "      <td>5714465</td>\n",
       "      <td>Active</td>\n",
       "      <td>currency 1</td>\n",
       "      <td>-203</td>\n",
       "      <td>0</td>\n",
       "      <td>NaN</td>\n",
       "      <td>NaN</td>\n",
       "      <td>NaN</td>\n",
       "      <td>0</td>\n",
       "      <td>90000.0</td>\n",
       "      <td>NaN</td>\n",
       "      <td>NaN</td>\n",
       "      <td>0.0</td>\n",
       "      <td>Credit card</td>\n",
       "      <td>-16</td>\n",
       "      <td>NaN</td>\n",
       "    </tr>\n",
       "    <tr>\n",
       "      <th>4</th>\n",
       "      <td>215354</td>\n",
       "      <td>5714466</td>\n",
       "      <td>Active</td>\n",
       "      <td>currency 1</td>\n",
       "      <td>-629</td>\n",
       "      <td>0</td>\n",
       "      <td>1197.0</td>\n",
       "      <td>NaN</td>\n",
       "      <td>77674.5</td>\n",
       "      <td>0</td>\n",
       "      <td>2700000.0</td>\n",
       "      <td>NaN</td>\n",
       "      <td>NaN</td>\n",
       "      <td>0.0</td>\n",
       "      <td>Consumer credit</td>\n",
       "      <td>-21</td>\n",
       "      <td>NaN</td>\n",
       "    </tr>\n",
       "  </tbody>\n",
       "</table>\n",
       "</div>"
      ],
      "text/plain": [
       "   SK_ID_CURR  SK_ID_BUREAU CREDIT_ACTIVE CREDIT_CURRENCY  DAYS_CREDIT  \\\n",
       "0      215354       5714462        Closed      currency 1         -497   \n",
       "1      215354       5714463        Active      currency 1         -208   \n",
       "2      215354       5714464        Active      currency 1         -203   \n",
       "3      215354       5714465        Active      currency 1         -203   \n",
       "4      215354       5714466        Active      currency 1         -629   \n",
       "\n",
       "   CREDIT_DAY_OVERDUE  DAYS_CREDIT_ENDDATE  DAYS_ENDDATE_FACT  \\\n",
       "0                   0               -153.0             -153.0   \n",
       "1                   0               1075.0                NaN   \n",
       "2                   0                528.0                NaN   \n",
       "3                   0                  NaN                NaN   \n",
       "4                   0               1197.0                NaN   \n",
       "\n",
       "   AMT_CREDIT_MAX_OVERDUE  CNT_CREDIT_PROLONG  AMT_CREDIT_SUM  \\\n",
       "0                     NaN                   0         91323.0   \n",
       "1                     NaN                   0        225000.0   \n",
       "2                     NaN                   0        464323.5   \n",
       "3                     NaN                   0         90000.0   \n",
       "4                 77674.5                   0       2700000.0   \n",
       "\n",
       "   AMT_CREDIT_SUM_DEBT  AMT_CREDIT_SUM_LIMIT  AMT_CREDIT_SUM_OVERDUE  \\\n",
       "0                  0.0                   NaN                     0.0   \n",
       "1             171342.0                   NaN                     0.0   \n",
       "2                  NaN                   NaN                     0.0   \n",
       "3                  NaN                   NaN                     0.0   \n",
       "4                  NaN                   NaN                     0.0   \n",
       "\n",
       "       CREDIT_TYPE  DAYS_CREDIT_UPDATE  AMT_ANNUITY  \n",
       "0  Consumer credit                -131          NaN  \n",
       "1      Credit card                 -20          NaN  \n",
       "2  Consumer credit                 -16          NaN  \n",
       "3      Credit card                 -16          NaN  \n",
       "4  Consumer credit                 -21          NaN  "
      ]
     },
     "execution_count": 259,
     "metadata": {},
     "output_type": "execute_result"
    }
   ],
   "source": [
    "bureau_data.head()"
   ]
  },
  {
   "cell_type": "code",
   "execution_count": 260,
   "id": "16105f02",
   "metadata": {},
   "outputs": [
    {
     "data": {
      "text/plain": [
       "(1716428, 17)"
      ]
     },
     "execution_count": 260,
     "metadata": {},
     "output_type": "execute_result"
    }
   ],
   "source": [
    "bureau_data.shape"
   ]
  },
  {
   "cell_type": "code",
   "execution_count": 261,
   "id": "5f7d6c61",
   "metadata": {},
   "outputs": [
    {
     "data": {
      "text/plain": [
       "Index(['SK_ID_CURR', 'SK_ID_BUREAU', 'CREDIT_ACTIVE', 'CREDIT_CURRENCY',\n",
       "       'DAYS_CREDIT', 'CREDIT_DAY_OVERDUE', 'DAYS_CREDIT_ENDDATE',\n",
       "       'DAYS_ENDDATE_FACT', 'AMT_CREDIT_MAX_OVERDUE', 'CNT_CREDIT_PROLONG',\n",
       "       'AMT_CREDIT_SUM', 'AMT_CREDIT_SUM_DEBT', 'AMT_CREDIT_SUM_LIMIT',\n",
       "       'AMT_CREDIT_SUM_OVERDUE', 'CREDIT_TYPE', 'DAYS_CREDIT_UPDATE',\n",
       "       'AMT_ANNUITY'],\n",
       "      dtype='object')"
      ]
     },
     "execution_count": 261,
     "metadata": {},
     "output_type": "execute_result"
    }
   ],
   "source": [
    "bureau_data.columns"
   ]
  },
  {
   "attachments": {},
   "cell_type": "markdown",
   "id": "7009c811",
   "metadata": {},
   "source": [
    "#### Variables meaning:\n",
    "- SK_ID_CURR:\tID of loan in our sample - one loan in our sample can have 0,1,2 or more related previous credits in credit bureau \thashed\n",
    "- SK_BUREAU_ID:\tRecoded ID of previous Credit Bureau credit related to our loan (unique coding for each loan application)\thashed\n",
    "- CREDIT_ACTIVE:\tStatus of the Credit Bureau (CB) reported credits\t\n",
    "- CREDIT_CURRENCY:\tRecoded currency of the Credit Bureau credit\trecoded\n",
    "- DAYS_CREDIT:\tHow many days before current application did client apply for Credit Bureau credit\ttime only relative to the application\n",
    "- CREDIT_DAY_OVERDUE:\tNumber of days past due on CB credit at the time of application for related loan in our sample\t\n",
    "- DAYS_CREDIT_ENDDATE:\tRemaining duration of CB credit (in days) at the time of application in Home Credit\ttime only relative to the application\n",
    "- DAYS_ENDDATE_FACT:\tDays since CB credit ended at the time of application in Home Credit (only for closed credit)\ttime only relative to the application\n",
    "- AMT_CREDIT_MAX_OVERDUE:\tMaximal amount overdue on the Credit Bureau credit so far (at application date of loan in our sample)\t\n",
    "- CNT_CREDIT_PROLONG:\tHow many times was the Credit Bureau credit prolonged\t\n",
    "- AMT_CREDIT_SUM:\tCurrent credit amount for the Credit Bureau credit\t\n",
    "- AMT_CREDIT_SUM_DEBT:\tCurrent debt on Credit Bureau credit\t\n",
    "- AMT_CREDIT_SUM_LIMIT:\tCurrent credit limit of credit card reported in Credit Bureau\t\n",
    "- AMT_CREDIT_SUM_OVERDUE:\tCurrent amount overdue on Credit Bureau credit\t\n",
    "- CREDIT_TYPE:\tType of Credit Bureau credit (Car, cash,...)\t\n",
    "- DAYS_CREDIT_UPDATE:\tHow many days before loan application did last information about the Credit Bureau credit come\ttime only relative to the application\n",
    "- AMT_ANNUITY:\tAnnuity of the Credit Bureau credit"
   ]
  },
  {
   "cell_type": "code",
   "execution_count": 262,
   "id": "290391c8",
   "metadata": {},
   "outputs": [
    {
     "data": {
      "text/plain": [
       "0"
      ]
     },
     "execution_count": 262,
     "metadata": {},
     "output_type": "execute_result"
    }
   ],
   "source": [
    "bureau_data.duplicated().sum()"
   ]
  },
  {
   "cell_type": "code",
   "execution_count": 263,
   "id": "3fef6ec6",
   "metadata": {},
   "outputs": [
    {
     "data": {
      "text/html": [
       "<div>\n",
       "<style scoped>\n",
       "    .dataframe tbody tr th:only-of-type {\n",
       "        vertical-align: middle;\n",
       "    }\n",
       "\n",
       "    .dataframe tbody tr th {\n",
       "        vertical-align: top;\n",
       "    }\n",
       "\n",
       "    .dataframe thead th {\n",
       "        text-align: right;\n",
       "    }\n",
       "</style>\n",
       "<table border=\"1\" class=\"dataframe\">\n",
       "  <thead>\n",
       "    <tr style=\"text-align: right;\">\n",
       "      <th></th>\n",
       "      <th>count</th>\n",
       "      <th>mean</th>\n",
       "      <th>std</th>\n",
       "      <th>min</th>\n",
       "      <th>25%</th>\n",
       "      <th>50%</th>\n",
       "      <th>75%</th>\n",
       "      <th>max</th>\n",
       "    </tr>\n",
       "  </thead>\n",
       "  <tbody>\n",
       "    <tr>\n",
       "      <th>SK_ID_CURR</th>\n",
       "      <td>1716428.0</td>\n",
       "      <td>2.782149e+05</td>\n",
       "      <td>1.029386e+05</td>\n",
       "      <td>100001.000</td>\n",
       "      <td>188866.75</td>\n",
       "      <td>278055.0</td>\n",
       "      <td>367426.00</td>\n",
       "      <td>4.562550e+05</td>\n",
       "    </tr>\n",
       "    <tr>\n",
       "      <th>SK_ID_BUREAU</th>\n",
       "      <td>1716428.0</td>\n",
       "      <td>5.924434e+06</td>\n",
       "      <td>5.322657e+05</td>\n",
       "      <td>5000000.000</td>\n",
       "      <td>5463953.75</td>\n",
       "      <td>5926303.5</td>\n",
       "      <td>6385681.25</td>\n",
       "      <td>6.843457e+06</td>\n",
       "    </tr>\n",
       "    <tr>\n",
       "      <th>DAYS_CREDIT</th>\n",
       "      <td>1716428.0</td>\n",
       "      <td>-1.142108e+03</td>\n",
       "      <td>7.951649e+02</td>\n",
       "      <td>-2922.000</td>\n",
       "      <td>-1666.00</td>\n",
       "      <td>-987.0</td>\n",
       "      <td>-474.00</td>\n",
       "      <td>0.000000e+00</td>\n",
       "    </tr>\n",
       "    <tr>\n",
       "      <th>CREDIT_DAY_OVERDUE</th>\n",
       "      <td>1716428.0</td>\n",
       "      <td>8.181666e-01</td>\n",
       "      <td>3.654443e+01</td>\n",
       "      <td>0.000</td>\n",
       "      <td>0.00</td>\n",
       "      <td>0.0</td>\n",
       "      <td>0.00</td>\n",
       "      <td>2.792000e+03</td>\n",
       "    </tr>\n",
       "    <tr>\n",
       "      <th>DAYS_CREDIT_ENDDATE</th>\n",
       "      <td>1610875.0</td>\n",
       "      <td>5.105174e+02</td>\n",
       "      <td>4.994220e+03</td>\n",
       "      <td>-42060.000</td>\n",
       "      <td>-1138.00</td>\n",
       "      <td>-330.0</td>\n",
       "      <td>474.00</td>\n",
       "      <td>3.119900e+04</td>\n",
       "    </tr>\n",
       "    <tr>\n",
       "      <th>DAYS_ENDDATE_FACT</th>\n",
       "      <td>1082775.0</td>\n",
       "      <td>-1.017437e+03</td>\n",
       "      <td>7.140106e+02</td>\n",
       "      <td>-42023.000</td>\n",
       "      <td>-1489.00</td>\n",
       "      <td>-897.0</td>\n",
       "      <td>-425.00</td>\n",
       "      <td>0.000000e+00</td>\n",
       "    </tr>\n",
       "    <tr>\n",
       "      <th>AMT_CREDIT_MAX_OVERDUE</th>\n",
       "      <td>591940.0</td>\n",
       "      <td>3.825418e+03</td>\n",
       "      <td>2.060316e+05</td>\n",
       "      <td>0.000</td>\n",
       "      <td>0.00</td>\n",
       "      <td>0.0</td>\n",
       "      <td>0.00</td>\n",
       "      <td>1.159872e+08</td>\n",
       "    </tr>\n",
       "    <tr>\n",
       "      <th>CNT_CREDIT_PROLONG</th>\n",
       "      <td>1716428.0</td>\n",
       "      <td>6.410406e-03</td>\n",
       "      <td>9.622391e-02</td>\n",
       "      <td>0.000</td>\n",
       "      <td>0.00</td>\n",
       "      <td>0.0</td>\n",
       "      <td>0.00</td>\n",
       "      <td>9.000000e+00</td>\n",
       "    </tr>\n",
       "    <tr>\n",
       "      <th>AMT_CREDIT_SUM</th>\n",
       "      <td>1716415.0</td>\n",
       "      <td>3.549946e+05</td>\n",
       "      <td>1.149811e+06</td>\n",
       "      <td>0.000</td>\n",
       "      <td>51300.00</td>\n",
       "      <td>125518.5</td>\n",
       "      <td>315000.00</td>\n",
       "      <td>5.850000e+08</td>\n",
       "    </tr>\n",
       "    <tr>\n",
       "      <th>AMT_CREDIT_SUM_DEBT</th>\n",
       "      <td>1458759.0</td>\n",
       "      <td>1.370851e+05</td>\n",
       "      <td>6.774011e+05</td>\n",
       "      <td>-4705600.320</td>\n",
       "      <td>0.00</td>\n",
       "      <td>0.0</td>\n",
       "      <td>40153.50</td>\n",
       "      <td>1.701000e+08</td>\n",
       "    </tr>\n",
       "    <tr>\n",
       "      <th>AMT_CREDIT_SUM_LIMIT</th>\n",
       "      <td>1124648.0</td>\n",
       "      <td>6.229515e+03</td>\n",
       "      <td>4.503203e+04</td>\n",
       "      <td>-586406.115</td>\n",
       "      <td>0.00</td>\n",
       "      <td>0.0</td>\n",
       "      <td>0.00</td>\n",
       "      <td>4.705600e+06</td>\n",
       "    </tr>\n",
       "    <tr>\n",
       "      <th>AMT_CREDIT_SUM_OVERDUE</th>\n",
       "      <td>1716428.0</td>\n",
       "      <td>3.791276e+01</td>\n",
       "      <td>5.937650e+03</td>\n",
       "      <td>0.000</td>\n",
       "      <td>0.00</td>\n",
       "      <td>0.0</td>\n",
       "      <td>0.00</td>\n",
       "      <td>3.756681e+06</td>\n",
       "    </tr>\n",
       "    <tr>\n",
       "      <th>DAYS_CREDIT_UPDATE</th>\n",
       "      <td>1716428.0</td>\n",
       "      <td>-5.937483e+02</td>\n",
       "      <td>7.207473e+02</td>\n",
       "      <td>-41947.000</td>\n",
       "      <td>-908.00</td>\n",
       "      <td>-395.0</td>\n",
       "      <td>-33.00</td>\n",
       "      <td>3.720000e+02</td>\n",
       "    </tr>\n",
       "    <tr>\n",
       "      <th>AMT_ANNUITY</th>\n",
       "      <td>489637.0</td>\n",
       "      <td>1.571276e+04</td>\n",
       "      <td>3.258269e+05</td>\n",
       "      <td>0.000</td>\n",
       "      <td>0.00</td>\n",
       "      <td>0.0</td>\n",
       "      <td>13500.00</td>\n",
       "      <td>1.184534e+08</td>\n",
       "    </tr>\n",
       "  </tbody>\n",
       "</table>\n",
       "</div>"
      ],
      "text/plain": [
       "                            count          mean           std          min  \\\n",
       "SK_ID_CURR              1716428.0  2.782149e+05  1.029386e+05   100001.000   \n",
       "SK_ID_BUREAU            1716428.0  5.924434e+06  5.322657e+05  5000000.000   \n",
       "DAYS_CREDIT             1716428.0 -1.142108e+03  7.951649e+02    -2922.000   \n",
       "CREDIT_DAY_OVERDUE      1716428.0  8.181666e-01  3.654443e+01        0.000   \n",
       "DAYS_CREDIT_ENDDATE     1610875.0  5.105174e+02  4.994220e+03   -42060.000   \n",
       "DAYS_ENDDATE_FACT       1082775.0 -1.017437e+03  7.140106e+02   -42023.000   \n",
       "AMT_CREDIT_MAX_OVERDUE   591940.0  3.825418e+03  2.060316e+05        0.000   \n",
       "CNT_CREDIT_PROLONG      1716428.0  6.410406e-03  9.622391e-02        0.000   \n",
       "AMT_CREDIT_SUM          1716415.0  3.549946e+05  1.149811e+06        0.000   \n",
       "AMT_CREDIT_SUM_DEBT     1458759.0  1.370851e+05  6.774011e+05 -4705600.320   \n",
       "AMT_CREDIT_SUM_LIMIT    1124648.0  6.229515e+03  4.503203e+04  -586406.115   \n",
       "AMT_CREDIT_SUM_OVERDUE  1716428.0  3.791276e+01  5.937650e+03        0.000   \n",
       "DAYS_CREDIT_UPDATE      1716428.0 -5.937483e+02  7.207473e+02   -41947.000   \n",
       "AMT_ANNUITY              489637.0  1.571276e+04  3.258269e+05        0.000   \n",
       "\n",
       "                               25%        50%         75%           max  \n",
       "SK_ID_CURR               188866.75   278055.0   367426.00  4.562550e+05  \n",
       "SK_ID_BUREAU            5463953.75  5926303.5  6385681.25  6.843457e+06  \n",
       "DAYS_CREDIT               -1666.00     -987.0     -474.00  0.000000e+00  \n",
       "CREDIT_DAY_OVERDUE            0.00        0.0        0.00  2.792000e+03  \n",
       "DAYS_CREDIT_ENDDATE       -1138.00     -330.0      474.00  3.119900e+04  \n",
       "DAYS_ENDDATE_FACT         -1489.00     -897.0     -425.00  0.000000e+00  \n",
       "AMT_CREDIT_MAX_OVERDUE        0.00        0.0        0.00  1.159872e+08  \n",
       "CNT_CREDIT_PROLONG            0.00        0.0        0.00  9.000000e+00  \n",
       "AMT_CREDIT_SUM            51300.00   125518.5   315000.00  5.850000e+08  \n",
       "AMT_CREDIT_SUM_DEBT           0.00        0.0    40153.50  1.701000e+08  \n",
       "AMT_CREDIT_SUM_LIMIT          0.00        0.0        0.00  4.705600e+06  \n",
       "AMT_CREDIT_SUM_OVERDUE        0.00        0.0        0.00  3.756681e+06  \n",
       "DAYS_CREDIT_UPDATE         -908.00     -395.0      -33.00  3.720000e+02  \n",
       "AMT_ANNUITY                   0.00        0.0    13500.00  1.184534e+08  "
      ]
     },
     "execution_count": 263,
     "metadata": {},
     "output_type": "execute_result"
    }
   ],
   "source": [
    "bureau_data.describe().T"
   ]
  },
  {
   "cell_type": "code",
   "execution_count": 264,
   "id": "4e85c817",
   "metadata": {
    "scrolled": true
   },
   "outputs": [
    {
     "name": "stderr",
     "output_type": "stream",
     "text": [
      "/var/folders/b0/n1lz5zk51z374mpb3hyxn5n00000gp/T/ipykernel_6105/4050242966.py:8: DeprecationWarning: `np.bool` is a deprecated alias for the builtin `bool`. To silence this warning, use `bool` by itself. Doing this will not modify any behavior and is safe. If you specifically wanted the numpy scalar type, use `np.bool_` here.\n",
      "Deprecated in NumPy 1.20; for more details and guidance: https://numpy.org/devdocs/release/1.20.0-notes.html#deprecations\n",
      "  mask = np.zeros_like(numeric_df_corr, dtype = np.bool)\n"
     ]
    },
    {
     "data": {
      "text/plain": [
       "<AxesSubplot:>"
      ]
     },
     "execution_count": 264,
     "metadata": {},
     "output_type": "execute_result"
    },
    {
     "data": {
      "image/png": "[encoded data removed]",
      "text/plain": [
       "<Figure size 792x648 with 2 Axes>"
      ]
     },
     "metadata": {
      "needs_background": "light"
     },
     "output_type": "display_data"
    }
   ],
   "source": [
    "numeric_df = bureau_data._get_numeric_data()\n",
    "numeric_df.shape[1] # 14 < 17\n",
    "numeric_df_corr = numeric_df.corr()\n",
    "numeric_df_corr\n",
    "\n",
    "plt.figure(figsize = (11,9))\n",
    "# generate a mask for upper triangle\n",
    "mask = np.zeros_like(numeric_df_corr, dtype = np.bool)\n",
    "mask[np.triu_indices_from(mask)] = True\n",
    "mask[np.diag_indices_from(mask)] = False\n",
    "\n",
    "sns.heatmap(numeric_df_corr, mask = mask, annot = True, fmt = '.3f', linewidth = 0.5)"
   ]
  },
  {
   "cell_type": "code",
   "execution_count": 265,
   "id": "af5ea4f0",
   "metadata": {},
   "outputs": [
    {
     "data": {
      "text/html": [
       "<div>\n",
       "<style scoped>\n",
       "    .dataframe tbody tr th:only-of-type {\n",
       "        vertical-align: middle;\n",
       "    }\n",
       "\n",
       "    .dataframe tbody tr th {\n",
       "        vertical-align: top;\n",
       "    }\n",
       "\n",
       "    .dataframe thead th {\n",
       "        text-align: right;\n",
       "    }\n",
       "</style>\n",
       "<table border=\"1\" class=\"dataframe\">\n",
       "  <thead>\n",
       "    <tr style=\"text-align: right;\">\n",
       "      <th></th>\n",
       "      <th>SK_ID_CURR</th>\n",
       "      <th>SK_ID_BUREAU</th>\n",
       "      <th>DAYS_CREDIT</th>\n",
       "      <th>CREDIT_DAY_OVERDUE</th>\n",
       "      <th>DAYS_CREDIT_ENDDATE</th>\n",
       "      <th>DAYS_ENDDATE_FACT</th>\n",
       "      <th>AMT_CREDIT_MAX_OVERDUE</th>\n",
       "      <th>CNT_CREDIT_PROLONG</th>\n",
       "      <th>AMT_CREDIT_SUM</th>\n",
       "      <th>AMT_CREDIT_SUM_DEBT</th>\n",
       "      <th>AMT_CREDIT_SUM_LIMIT</th>\n",
       "      <th>AMT_CREDIT_SUM_OVERDUE</th>\n",
       "      <th>DAYS_CREDIT_UPDATE</th>\n",
       "      <th>AMT_ANNUITY</th>\n",
       "    </tr>\n",
       "  </thead>\n",
       "  <tbody>\n",
       "    <tr>\n",
       "      <th>SK_ID_CURR</th>\n",
       "      <td>1.000000</td>\n",
       "      <td>0.000135</td>\n",
       "      <td>0.000266</td>\n",
       "      <td>0.000283</td>\n",
       "      <td>0.000456</td>\n",
       "      <td>-0.000648</td>\n",
       "      <td>0.001329</td>\n",
       "      <td>-0.000388</td>\n",
       "      <td>0.001179</td>\n",
       "      <td>-0.000790</td>\n",
       "      <td>-0.000304</td>\n",
       "      <td>-0.000014</td>\n",
       "      <td>0.000510</td>\n",
       "      <td>-0.002727</td>\n",
       "    </tr>\n",
       "    <tr>\n",
       "      <th>SK_ID_BUREAU</th>\n",
       "      <td>0.000135</td>\n",
       "      <td>1.000000</td>\n",
       "      <td>0.013015</td>\n",
       "      <td>-0.002628</td>\n",
       "      <td>0.009107</td>\n",
       "      <td>0.017890</td>\n",
       "      <td>0.002290</td>\n",
       "      <td>-0.000740</td>\n",
       "      <td>0.007962</td>\n",
       "      <td>0.005732</td>\n",
       "      <td>-0.003986</td>\n",
       "      <td>-0.000499</td>\n",
       "      <td>0.019398</td>\n",
       "      <td>0.001799</td>\n",
       "    </tr>\n",
       "    <tr>\n",
       "      <th>DAYS_CREDIT</th>\n",
       "      <td>0.000266</td>\n",
       "      <td>0.013015</td>\n",
       "      <td>1.000000</td>\n",
       "      <td>-0.027266</td>\n",
       "      <td>0.225682</td>\n",
       "      <td>0.875359</td>\n",
       "      <td>-0.014724</td>\n",
       "      <td>-0.030460</td>\n",
       "      <td>0.050883</td>\n",
       "      <td>0.135397</td>\n",
       "      <td>0.025140</td>\n",
       "      <td>-0.000383</td>\n",
       "      <td>0.688771</td>\n",
       "      <td>0.005676</td>\n",
       "    </tr>\n",
       "    <tr>\n",
       "      <th>CREDIT_DAY_OVERDUE</th>\n",
       "      <td>0.000283</td>\n",
       "      <td>-0.002628</td>\n",
       "      <td>-0.027266</td>\n",
       "      <td>1.000000</td>\n",
       "      <td>-0.007352</td>\n",
       "      <td>-0.008637</td>\n",
       "      <td>0.001249</td>\n",
       "      <td>0.002756</td>\n",
       "      <td>-0.003292</td>\n",
       "      <td>-0.002355</td>\n",
       "      <td>-0.000345</td>\n",
       "      <td>0.090951</td>\n",
       "      <td>-0.018461</td>\n",
       "      <td>-0.000339</td>\n",
       "    </tr>\n",
       "    <tr>\n",
       "      <th>DAYS_CREDIT_ENDDATE</th>\n",
       "      <td>0.000456</td>\n",
       "      <td>0.009107</td>\n",
       "      <td>0.225682</td>\n",
       "      <td>-0.007352</td>\n",
       "      <td>1.000000</td>\n",
       "      <td>0.248825</td>\n",
       "      <td>0.000577</td>\n",
       "      <td>0.113683</td>\n",
       "      <td>0.055424</td>\n",
       "      <td>0.081298</td>\n",
       "      <td>0.095421</td>\n",
       "      <td>0.001077</td>\n",
       "      <td>0.248525</td>\n",
       "      <td>0.000475</td>\n",
       "    </tr>\n",
       "    <tr>\n",
       "      <th>DAYS_ENDDATE_FACT</th>\n",
       "      <td>-0.000648</td>\n",
       "      <td>0.017890</td>\n",
       "      <td>0.875359</td>\n",
       "      <td>-0.008637</td>\n",
       "      <td>0.248825</td>\n",
       "      <td>1.000000</td>\n",
       "      <td>0.000999</td>\n",
       "      <td>0.012017</td>\n",
       "      <td>0.059096</td>\n",
       "      <td>0.019609</td>\n",
       "      <td>0.019476</td>\n",
       "      <td>-0.000332</td>\n",
       "      <td>0.751294</td>\n",
       "      <td>0.006274</td>\n",
       "    </tr>\n",
       "    <tr>\n",
       "      <th>AMT_CREDIT_MAX_OVERDUE</th>\n",
       "      <td>0.001329</td>\n",
       "      <td>0.002290</td>\n",
       "      <td>-0.014724</td>\n",
       "      <td>0.001249</td>\n",
       "      <td>0.000577</td>\n",
       "      <td>0.000999</td>\n",
       "      <td>1.000000</td>\n",
       "      <td>0.001523</td>\n",
       "      <td>0.081663</td>\n",
       "      <td>0.014007</td>\n",
       "      <td>-0.000112</td>\n",
       "      <td>0.015036</td>\n",
       "      <td>-0.000749</td>\n",
       "      <td>0.001578</td>\n",
       "    </tr>\n",
       "    <tr>\n",
       "      <th>CNT_CREDIT_PROLONG</th>\n",
       "      <td>-0.000388</td>\n",
       "      <td>-0.000740</td>\n",
       "      <td>-0.030460</td>\n",
       "      <td>0.002756</td>\n",
       "      <td>0.113683</td>\n",
       "      <td>0.012017</td>\n",
       "      <td>0.001523</td>\n",
       "      <td>1.000000</td>\n",
       "      <td>-0.008345</td>\n",
       "      <td>-0.001366</td>\n",
       "      <td>0.073805</td>\n",
       "      <td>0.000002</td>\n",
       "      <td>0.017864</td>\n",
       "      <td>-0.000465</td>\n",
       "    </tr>\n",
       "    <tr>\n",
       "      <th>AMT_CREDIT_SUM</th>\n",
       "      <td>0.001179</td>\n",
       "      <td>0.007962</td>\n",
       "      <td>0.050883</td>\n",
       "      <td>-0.003292</td>\n",
       "      <td>0.055424</td>\n",
       "      <td>0.059096</td>\n",
       "      <td>0.081663</td>\n",
       "      <td>-0.008345</td>\n",
       "      <td>1.000000</td>\n",
       "      <td>0.683419</td>\n",
       "      <td>0.003756</td>\n",
       "      <td>0.006342</td>\n",
       "      <td>0.104629</td>\n",
       "      <td>0.049146</td>\n",
       "    </tr>\n",
       "    <tr>\n",
       "      <th>AMT_CREDIT_SUM_DEBT</th>\n",
       "      <td>-0.000790</td>\n",
       "      <td>0.005732</td>\n",
       "      <td>0.135397</td>\n",
       "      <td>-0.002355</td>\n",
       "      <td>0.081298</td>\n",
       "      <td>0.019609</td>\n",
       "      <td>0.014007</td>\n",
       "      <td>-0.001366</td>\n",
       "      <td>0.683419</td>\n",
       "      <td>1.000000</td>\n",
       "      <td>-0.018215</td>\n",
       "      <td>0.008046</td>\n",
       "      <td>0.141235</td>\n",
       "      <td>0.025507</td>\n",
       "    </tr>\n",
       "    <tr>\n",
       "      <th>AMT_CREDIT_SUM_LIMIT</th>\n",
       "      <td>-0.000304</td>\n",
       "      <td>-0.003986</td>\n",
       "      <td>0.025140</td>\n",
       "      <td>-0.000345</td>\n",
       "      <td>0.095421</td>\n",
       "      <td>0.019476</td>\n",
       "      <td>-0.000112</td>\n",
       "      <td>0.073805</td>\n",
       "      <td>0.003756</td>\n",
       "      <td>-0.018215</td>\n",
       "      <td>1.000000</td>\n",
       "      <td>-0.000687</td>\n",
       "      <td>0.046028</td>\n",
       "      <td>0.004392</td>\n",
       "    </tr>\n",
       "    <tr>\n",
       "      <th>AMT_CREDIT_SUM_OVERDUE</th>\n",
       "      <td>-0.000014</td>\n",
       "      <td>-0.000499</td>\n",
       "      <td>-0.000383</td>\n",
       "      <td>0.090951</td>\n",
       "      <td>0.001077</td>\n",
       "      <td>-0.000332</td>\n",
       "      <td>0.015036</td>\n",
       "      <td>0.000002</td>\n",
       "      <td>0.006342</td>\n",
       "      <td>0.008046</td>\n",
       "      <td>-0.000687</td>\n",
       "      <td>1.000000</td>\n",
       "      <td>0.003528</td>\n",
       "      <td>0.000344</td>\n",
       "    </tr>\n",
       "    <tr>\n",
       "      <th>DAYS_CREDIT_UPDATE</th>\n",
       "      <td>0.000510</td>\n",
       "      <td>0.019398</td>\n",
       "      <td>0.688771</td>\n",
       "      <td>-0.018461</td>\n",
       "      <td>0.248525</td>\n",
       "      <td>0.751294</td>\n",
       "      <td>-0.000749</td>\n",
       "      <td>0.017864</td>\n",
       "      <td>0.104629</td>\n",
       "      <td>0.141235</td>\n",
       "      <td>0.046028</td>\n",
       "      <td>0.003528</td>\n",
       "      <td>1.000000</td>\n",
       "      <td>0.008418</td>\n",
       "    </tr>\n",
       "    <tr>\n",
       "      <th>AMT_ANNUITY</th>\n",
       "      <td>-0.002727</td>\n",
       "      <td>0.001799</td>\n",
       "      <td>0.005676</td>\n",
       "      <td>-0.000339</td>\n",
       "      <td>0.000475</td>\n",
       "      <td>0.006274</td>\n",
       "      <td>0.001578</td>\n",
       "      <td>-0.000465</td>\n",
       "      <td>0.049146</td>\n",
       "      <td>0.025507</td>\n",
       "      <td>0.004392</td>\n",
       "      <td>0.000344</td>\n",
       "      <td>0.008418</td>\n",
       "      <td>1.000000</td>\n",
       "    </tr>\n",
       "  </tbody>\n",
       "</table>\n",
       "</div>"
      ],
      "text/plain": [
       "                        SK_ID_CURR  SK_ID_BUREAU  DAYS_CREDIT  \\\n",
       "SK_ID_CURR                1.000000      0.000135     0.000266   \n",
       "SK_ID_BUREAU              0.000135      1.000000     0.013015   \n",
       "DAYS_CREDIT               0.000266      0.013015     1.000000   \n",
       "CREDIT_DAY_OVERDUE        0.000283     -0.002628    -0.027266   \n",
       "DAYS_CREDIT_ENDDATE       0.000456      0.009107     0.225682   \n",
       "DAYS_ENDDATE_FACT        -0.000648      0.017890     0.875359   \n",
       "AMT_CREDIT_MAX_OVERDUE    0.001329      0.002290    -0.014724   \n",
       "CNT_CREDIT_PROLONG       -0.000388     -0.000740    -0.030460   \n",
       "AMT_CREDIT_SUM            0.001179      0.007962     0.050883   \n",
       "AMT_CREDIT_SUM_DEBT      -0.000790      0.005732     0.135397   \n",
       "AMT_CREDIT_SUM_LIMIT     -0.000304     -0.003986     0.025140   \n",
       "AMT_CREDIT_SUM_OVERDUE   -0.000014     -0.000499    -0.000383   \n",
       "DAYS_CREDIT_UPDATE        0.000510      0.019398     0.688771   \n",
       "AMT_ANNUITY              -0.002727      0.001799     0.005676   \n",
       "\n",
       "                        CREDIT_DAY_OVERDUE  DAYS_CREDIT_ENDDATE  \\\n",
       "SK_ID_CURR                        0.000283             0.000456   \n",
       "SK_ID_BUREAU                     -0.002628             0.009107   \n",
       "DAYS_CREDIT                      -0.027266             0.225682   \n",
       "CREDIT_DAY_OVERDUE                1.000000            -0.007352   \n",
       "DAYS_CREDIT_ENDDATE              -0.007352             1.000000   \n",
       "DAYS_ENDDATE_FACT                -0.008637             0.248825   \n",
       "AMT_CREDIT_MAX_OVERDUE            0.001249             0.000577   \n",
       "CNT_CREDIT_PROLONG                0.002756             0.113683   \n",
       "AMT_CREDIT_SUM                   -0.003292             0.055424   \n",
       "AMT_CREDIT_SUM_DEBT              -0.002355             0.081298   \n",
       "AMT_CREDIT_SUM_LIMIT             -0.000345             0.095421   \n",
       "AMT_CREDIT_SUM_OVERDUE            0.090951             0.001077   \n",
       "DAYS_CREDIT_UPDATE               -0.018461             0.248525   \n",
       "AMT_ANNUITY                      -0.000339             0.000475   \n",
       "\n",
       "                        DAYS_ENDDATE_FACT  AMT_CREDIT_MAX_OVERDUE  \\\n",
       "SK_ID_CURR                      -0.000648                0.001329   \n",
       "SK_ID_BUREAU                     0.017890                0.002290   \n",
       "DAYS_CREDIT                      0.875359               -0.014724   \n",
       "CREDIT_DAY_OVERDUE              -0.008637                0.001249   \n",
       "DAYS_CREDIT_ENDDATE              0.248825                0.000577   \n",
       "DAYS_ENDDATE_FACT                1.000000                0.000999   \n",
       "AMT_CREDIT_MAX_OVERDUE           0.000999                1.000000   \n",
       "CNT_CREDIT_PROLONG               0.012017                0.001523   \n",
       "AMT_CREDIT_SUM                   0.059096                0.081663   \n",
       "AMT_CREDIT_SUM_DEBT              0.019609                0.014007   \n",
       "AMT_CREDIT_SUM_LIMIT             0.019476               -0.000112   \n",
       "AMT_CREDIT_SUM_OVERDUE          -0.000332                0.015036   \n",
       "DAYS_CREDIT_UPDATE               0.751294               -0.000749   \n",
       "AMT_ANNUITY                      0.006274                0.001578   \n",
       "\n",
       "                        CNT_CREDIT_PROLONG  AMT_CREDIT_SUM  \\\n",
       "SK_ID_CURR                       -0.000388        0.001179   \n",
       "SK_ID_BUREAU                     -0.000740        0.007962   \n",
       "DAYS_CREDIT                      -0.030460        0.050883   \n",
       "CREDIT_DAY_OVERDUE                0.002756       -0.003292   \n",
       "DAYS_CREDIT_ENDDATE               0.113683        0.055424   \n",
       "DAYS_ENDDATE_FACT                 0.012017        0.059096   \n",
       "AMT_CREDIT_MAX_OVERDUE            0.001523        0.081663   \n",
       "CNT_CREDIT_PROLONG                1.000000       -0.008345   \n",
       "AMT_CREDIT_SUM                   -0.008345        1.000000   \n",
       "AMT_CREDIT_SUM_DEBT              -0.001366        0.683419   \n",
       "AMT_CREDIT_SUM_LIMIT              0.073805        0.003756   \n",
       "AMT_CREDIT_SUM_OVERDUE            0.000002        0.006342   \n",
       "DAYS_CREDIT_UPDATE                0.017864        0.104629   \n",
       "AMT_ANNUITY                      -0.000465        0.049146   \n",
       "\n",
       "                        AMT_CREDIT_SUM_DEBT  AMT_CREDIT_SUM_LIMIT  \\\n",
       "SK_ID_CURR                        -0.000790             -0.000304   \n",
       "SK_ID_BUREAU                       0.005732             -0.003986   \n",
       "DAYS_CREDIT                        0.135397              0.025140   \n",
       "CREDIT_DAY_OVERDUE                -0.002355             -0.000345   \n",
       "DAYS_CREDIT_ENDDATE                0.081298              0.095421   \n",
       "DAYS_ENDDATE_FACT                  0.019609              0.019476   \n",
       "AMT_CREDIT_MAX_OVERDUE             0.014007             -0.000112   \n",
       "CNT_CREDIT_PROLONG                -0.001366              0.073805   \n",
       "AMT_CREDIT_SUM                     0.683419              0.003756   \n",
       "AMT_CREDIT_SUM_DEBT                1.000000             -0.018215   \n",
       "AMT_CREDIT_SUM_LIMIT              -0.018215              1.000000   \n",
       "AMT_CREDIT_SUM_OVERDUE             0.008046             -0.000687   \n",
       "DAYS_CREDIT_UPDATE                 0.141235              0.046028   \n",
       "AMT_ANNUITY                        0.025507              0.004392   \n",
       "\n",
       "                        AMT_CREDIT_SUM_OVERDUE  DAYS_CREDIT_UPDATE  \\\n",
       "SK_ID_CURR                           -0.000014            0.000510   \n",
       "SK_ID_BUREAU                         -0.000499            0.019398   \n",
       "DAYS_CREDIT                          -0.000383            0.688771   \n",
       "CREDIT_DAY_OVERDUE                    0.090951           -0.018461   \n",
       "DAYS_CREDIT_ENDDATE                   0.001077            0.248525   \n",
       "DAYS_ENDDATE_FACT                    -0.000332            0.751294   \n",
       "AMT_CREDIT_MAX_OVERDUE                0.015036           -0.000749   \n",
       "CNT_CREDIT_PROLONG                    0.000002            0.017864   \n",
       "AMT_CREDIT_SUM                        0.006342            0.104629   \n",
       "AMT_CREDIT_SUM_DEBT                   0.008046            0.141235   \n",
       "AMT_CREDIT_SUM_LIMIT                 -0.000687            0.046028   \n",
       "AMT_CREDIT_SUM_OVERDUE                1.000000            0.003528   \n",
       "DAYS_CREDIT_UPDATE                    0.003528            1.000000   \n",
       "AMT_ANNUITY                           0.000344            0.008418   \n",
       "\n",
       "                        AMT_ANNUITY  \n",
       "SK_ID_CURR                -0.002727  \n",
       "SK_ID_BUREAU               0.001799  \n",
       "DAYS_CREDIT                0.005676  \n",
       "CREDIT_DAY_OVERDUE        -0.000339  \n",
       "DAYS_CREDIT_ENDDATE        0.000475  \n",
       "DAYS_ENDDATE_FACT          0.006274  \n",
       "AMT_CREDIT_MAX_OVERDUE     0.001578  \n",
       "CNT_CREDIT_PROLONG        -0.000465  \n",
       "AMT_CREDIT_SUM             0.049146  \n",
       "AMT_CREDIT_SUM_DEBT        0.025507  \n",
       "AMT_CREDIT_SUM_LIMIT       0.004392  \n",
       "AMT_CREDIT_SUM_OVERDUE     0.000344  \n",
       "DAYS_CREDIT_UPDATE         0.008418  \n",
       "AMT_ANNUITY                1.000000  "
      ]
     },
     "execution_count": 265,
     "metadata": {},
     "output_type": "execute_result"
    }
   ],
   "source": [
    "numeric_df_corr"
   ]
  },
  {
   "cell_type": "code",
   "execution_count": 266,
   "id": "efa8b610",
   "metadata": {},
   "outputs": [
    {
     "data": {
      "text/plain": [
       "SK_ID_CURR                 305811\n",
       "SK_ID_BUREAU              1716428\n",
       "CREDIT_ACTIVE                   4\n",
       "CREDIT_CURRENCY                 4\n",
       "DAYS_CREDIT                  2923\n",
       "CREDIT_DAY_OVERDUE            942\n",
       "DAYS_CREDIT_ENDDATE         14096\n",
       "DAYS_ENDDATE_FACT            2917\n",
       "AMT_CREDIT_MAX_OVERDUE      68251\n",
       "CNT_CREDIT_PROLONG             10\n",
       "AMT_CREDIT_SUM             236708\n",
       "AMT_CREDIT_SUM_DEBT        226537\n",
       "AMT_CREDIT_SUM_LIMIT        51726\n",
       "AMT_CREDIT_SUM_OVERDUE       1616\n",
       "CREDIT_TYPE                    15\n",
       "DAYS_CREDIT_UPDATE           2982\n",
       "AMT_ANNUITY                 40321\n",
       "dtype: int64"
      ]
     },
     "execution_count": 266,
     "metadata": {},
     "output_type": "execute_result"
    }
   ],
   "source": [
    "# Count number of distinct elements in specified axis\n",
    "bureau_data.nunique()"
   ]
  },
  {
   "cell_type": "code",
   "execution_count": 267,
   "id": "5a6c095b",
   "metadata": {},
   "outputs": [
    {
     "data": {
      "text/plain": [
       "AMT_ANNUITY               1226791\n",
       "AMT_CREDIT_MAX_OVERDUE    1124488\n",
       "DAYS_ENDDATE_FACT          633653\n",
       "AMT_CREDIT_SUM_LIMIT       591780\n",
       "AMT_CREDIT_SUM_DEBT        257669\n",
       "DAYS_CREDIT_ENDDATE        105553\n",
       "AMT_CREDIT_SUM                 13\n",
       "CREDIT_ACTIVE                   0\n",
       "CREDIT_CURRENCY                 0\n",
       "DAYS_CREDIT                     0\n",
       "CREDIT_DAY_OVERDUE              0\n",
       "SK_ID_BUREAU                    0\n",
       "CNT_CREDIT_PROLONG              0\n",
       "AMT_CREDIT_SUM_OVERDUE          0\n",
       "CREDIT_TYPE                     0\n",
       "DAYS_CREDIT_UPDATE              0\n",
       "SK_ID_CURR                      0\n",
       "dtype: int64"
      ]
     },
     "execution_count": 267,
     "metadata": {},
     "output_type": "execute_result"
    }
   ],
   "source": [
    "bureau_data.isnull().sum().sort_values(ascending = False)"
   ]
  },
  {
   "cell_type": "code",
   "execution_count": null,
   "id": "dbde78d1",
   "metadata": {},
   "outputs": [],
   "source": []
  },
  {
   "cell_type": "code",
   "execution_count": null,
   "id": "1fb747b7",
   "metadata": {},
   "outputs": [],
   "source": []
  },
  {
   "cell_type": "code",
   "execution_count": null,
   "id": "52ef472e",
   "metadata": {},
   "outputs": [],
   "source": []
  },
  {
   "cell_type": "code",
   "execution_count": null,
   "id": "b002e78f",
   "metadata": {},
   "outputs": [],
   "source": []
  },
  {
   "cell_type": "code",
   "execution_count": null,
   "id": "6e5f57f9",
   "metadata": {},
   "outputs": [],
   "source": []
  },
  {
   "cell_type": "code",
   "execution_count": null,
   "id": "d2450f5d",
   "metadata": {},
   "outputs": [],
   "source": []
  },
  {
   "cell_type": "markdown",
   "id": "ac24ba27",
   "metadata": {},
   "source": [
    "#### 1.1 CREDIT_ACTIVE\n",
    "CREDIT_ACTIVE: Status of the Credit Bureau (CB) reported credits"
   ]
  },
  {
   "cell_type": "code",
   "execution_count": 268,
   "id": "47ee752a",
   "metadata": {},
   "outputs": [
    {
     "data": {
      "text/plain": [
       "Closed      1079273\n",
       "Active       630607\n",
       "Sold           6527\n",
       "Bad debt         21\n",
       "Name: CREDIT_ACTIVE, dtype: int64"
      ]
     },
     "execution_count": 268,
     "metadata": {},
     "output_type": "execute_result"
    }
   ],
   "source": [
    "bureau_data['CREDIT_ACTIVE'].value_counts()"
   ]
  },
  {
   "cell_type": "code",
   "execution_count": 269,
   "id": "5268f9dc",
   "metadata": {},
   "outputs": [
    {
     "data": {
      "image/png": "[encoded data removed]",
      "text/plain": [
       "<Figure size 360x360 with 1 Axes>"
      ]
     },
     "metadata": {
      "needs_background": "light"
     },
     "output_type": "display_data"
    }
   ],
   "source": [
    "# Distribution\n",
    "status_dis = bureau_data['CREDIT_ACTIVE'].value_counts().reset_index()\n",
    "status_dis\n",
    "status_dis.columns = ['status', 'amt']   #amount\n",
    "\n",
    "fig, ax = plt.subplots(figsize = (5,5))\n",
    "ax.barh(status_dis.status, status_dis.amt, height = 0.8, color = '#2A3ECF')\n",
    "\n",
    "ax.spines[:].set_visible(False)   \n",
    "    \n",
    "ax.xaxis.tick_top()\n",
    "ax.tick_params(left = False, top = False)\n",
    "ax.invert_yaxis()\n",
    "\n"
   ]
  },
  {
   "cell_type": "markdown",
   "id": "a10b7ce4",
   "metadata": {},
   "source": [
    "#### Comment:\n",
    "- most of the applications in the bureau_data is closed, following by the status of being Active\n",
    "- There are very few loans that are \"Sold\" or considered to be \"Bad debt\""
   ]
  },
  {
   "attachments": {},
   "cell_type": "markdown",
   "id": "abaaf0dc",
   "metadata": {},
   "source": [
    "#### CREDIT_CURRENCY: Recoded currency of the Credit Bureau credit\trecoded"
   ]
  },
  {
   "cell_type": "code",
   "execution_count": 270,
   "id": "d7692169",
   "metadata": {},
   "outputs": [
    {
     "data": {
      "text/plain": [
       "currency 1    1715020\n",
       "currency 2       1224\n",
       "currency 3        174\n",
       "currency 4         10\n",
       "Name: CREDIT_CURRENCY, dtype: int64"
      ]
     },
     "execution_count": 270,
     "metadata": {},
     "output_type": "execute_result"
    }
   ],
   "source": [
    "bureau_data['CREDIT_CURRENCY'].value_counts()"
   ]
  },
  {
   "cell_type": "code",
   "execution_count": 271,
   "id": "a51f62b0",
   "metadata": {},
   "outputs": [
    {
     "data": {
      "image/png": "[encoded data removed]",
      "text/plain": [
       "<Figure size 360x360 with 1 Axes>"
      ]
     },
     "metadata": {
      "needs_background": "light"
     },
     "output_type": "display_data"
    }
   ],
   "source": [
    "\n",
    "currency_dis = bureau_data['CREDIT_CURRENCY'].value_counts().reset_index()\n",
    "currency_dis\n",
    "currency_dis.columns = ['currency', 'amt']   #amount\n",
    "\n",
    "fig, ax = plt.subplots(figsize = (5,5))\n",
    "ax.barh(currency_dis.currency, currency_dis.amt, height = 0.8, color = '#2A3ECF')\n",
    "\n",
    "ax.spines[:].set_visible(False)   \n",
    "    \n",
    "ax.xaxis.tick_top()\n",
    "ax.tick_params(left = False, top = False)\n",
    "ax.invert_yaxis()\n",
    "\n"
   ]
  },
  {
   "cell_type": "markdown",
   "id": "64849e01",
   "metadata": {},
   "source": [
    "#### Comment:\n",
    "- Mostly the first kind of currency: currency 1\n",
    "\n",
    "### DROP \"CREDIT_CURRENCY\""
   ]
  },
  {
   "cell_type": "code",
   "execution_count": 272,
   "id": "ed9eb37b",
   "metadata": {},
   "outputs": [],
   "source": [
    " # 1715020 / (bureau_data.shape[0]) * 100 = 99.9..%\n",
    "    \n",
    "bureau_data = bureau_data.drop(columns = ['CREDIT_CURRENCY'], axis = 1)"
   ]
  },
  {
   "cell_type": "markdown",
   "id": "d4465258",
   "metadata": {},
   "source": [
    "#### 1.2 DAYS_CREDIT\n",
    "DAYS_CREDIT: How many days before current application did client apply for Credit Bureau credit?"
   ]
  },
  {
   "cell_type": "code",
   "execution_count": 273,
   "id": "65d1dd25",
   "metadata": {},
   "outputs": [
    {
     "data": {
      "image/png": "[encoded data removed]",
      "text/plain": [
       "<Figure size 720x216 with 1 Axes>"
      ]
     },
     "metadata": {
      "needs_background": "light"
     },
     "output_type": "display_data"
    }
   ],
   "source": [
    "plt.figure(figsize = (10,3))\n",
    "plt.hist(bureau_data['DAYS_CREDIT'].values, bins = 50, edgecolor = 'black',color = 'blue')\n",
    "plt.title('Length of days before current application that client applied for Credit Bureau Credit')\n",
    "plt.xlabel('Days')\n",
    "plt.ylabel('Number of clients')\n",
    "plt.show()"
   ]
  },
  {
   "cell_type": "markdown",
   "id": "7f52864b",
   "metadata": {},
   "source": [
    "#### Comment:\n",
    "- Most of clients applied for Bureau Credit is less than 500 days before the data of loan application\n"
   ]
  },
  {
   "cell_type": "markdown",
   "id": "be51e455",
   "metadata": {},
   "source": [
    "#### 1.3 CREDIT_DAY_OVERDUE\n",
    "CREDIT_DAY_OVERDUE: Number of days past due on CB credit at the time of application for related loan in our sample"
   ]
  },
  {
   "cell_type": "code",
   "execution_count": 274,
   "id": "54c75865",
   "metadata": {},
   "outputs": [
    {
     "data": {
      "image/png": "[encoded data removed]",
      "text/plain": [
       "<Figure size 720x216 with 1 Axes>"
      ]
     },
     "metadata": {
      "needs_background": "light"
     },
     "output_type": "display_data"
    }
   ],
   "source": [
    "plt.figure(figsize =(10,3))\n",
    "plt.hist(bureau_data['CREDIT_DAY_OVERDUE'].values, bins = 50, edgecolor = 'black', color = 'blue')\n",
    "plt.title('Number of days past due on Bureau Credit at the time of application')\n",
    "plt.xlabel('Days')\n",
    "plt.ylabel('Number of Clients')\n",
    "plt.show()"
   ]
  },
  {
   "cell_type": "markdown",
   "id": "189adf39",
   "metadata": {},
   "source": [
    "#### Comment:\n",
    "- This shows that most of the clients have a low \"days past due (close to 0)\" on Credit Bureau at the time of their application since the histogram is very peaked near 0 \n",
    "\n",
    "#### Let's look further at the respective percentile values as shown below"
   ]
  },
  {
   "cell_type": "code",
   "execution_count": 275,
   "id": "08e55cce",
   "metadata": {
    "scrolled": true
   },
   "outputs": [
    {
     "data": {
      "text/plain": [
       "4217"
      ]
     },
     "execution_count": 275,
     "metadata": {},
     "output_type": "execute_result"
    }
   ],
   "source": [
    "bureau_data[bureau_data['CREDIT_DAY_OVERDUE']>0].shape[0]"
   ]
  },
  {
   "cell_type": "markdown",
   "id": "36dff028",
   "metadata": {},
   "source": [
    "there are total of 4217 (out of 1716428) datapoints where the CREDIT_DAY_OVERDUE value is greater than 0"
   ]
  },
  {
   "cell_type": "code",
   "execution_count": 276,
   "id": "34632842",
   "metadata": {},
   "outputs": [],
   "source": [
    "# from scipy import stats\n",
    "# stats.percentileofscore(bureau_data['CREDIT_DAY_OVERDUE'],13)"
   ]
  },
  {
   "cell_type": "code",
   "execution_count": 277,
   "id": "f7904eb3",
   "metadata": {},
   "outputs": [],
   "source": [
    "#pip install https://pypi.python.org/packages/source/P/PrettyTable/prettytable-0.7.2.tar.bz2"
   ]
  },
  {
   "cell_type": "code",
   "execution_count": 278,
   "id": "3e4ca56c",
   "metadata": {},
   "outputs": [
    {
     "name": "stdout",
     "output_type": "stream",
     "text": [
      "+------------+--------------------------------------+\n",
      "| Percentile | Number of days past due on CB Credit |\n",
      "+------------+--------------------------------------+\n",
      "|     0      |                 0.0                  |\n",
      "|     10     |                 0.0                  |\n",
      "|     20     |                 0.0                  |\n",
      "|     30     |                 0.0                  |\n",
      "|     40     |                 0.0                  |\n",
      "|     50     |                 0.0                  |\n",
      "|     60     |                 0.0                  |\n",
      "|     70     |                 0.0                  |\n",
      "|     80     |                 0.0                  |\n",
      "|     90     |                 0.0                  |\n",
      "|    100     |                2792.0                |\n",
      "+------------+--------------------------------------+\n"
     ]
    }
   ],
   "source": [
    "\n",
    "y = PrettyTable()\n",
    "y.field_names = ['Percentile','Number of days past due on CB Credit']\n",
    "\n",
    "for i in range(0,101,10):\n",
    "    y.add_row([i, np.percentile(bureau_data['CREDIT_DAY_OVERDUE'].values,i)])\n",
    "\n",
    "print(y)"
   ]
  },
  {
   "cell_type": "markdown",
   "id": "46a2c9ca",
   "metadata": {},
   "source": [
    "#### Comment:\n",
    "- There is 0 day past due till the 90th percentile, while the 100th percentile is a value = 2792 (max =2792)\n",
    "\n",
    "Now, let zoom in 99th - 100 percentile"
   ]
  },
  {
   "cell_type": "code",
   "execution_count": 279,
   "id": "20988bd2",
   "metadata": {},
   "outputs": [
    {
     "name": "stdout",
     "output_type": "stream",
     "text": [
      "+------------+-----------------------------------+\n",
      "| Percentile | No. of days past due on CB Credit |\n",
      "+------------+-----------------------------------+\n",
      "|    99.0    |                0.0                |\n",
      "|    99.1    |                0.0                |\n",
      "|    99.2    |                0.0                |\n",
      "|    99.3    |                0.0                |\n",
      "|    99.4    |                0.0                |\n",
      "|    99.5    |                0.0                |\n",
      "|    99.6    |                0.0                |\n",
      "|    99.7    |                0.0                |\n",
      "|    99.8    |                13.0               |\n",
      "|    99.9    |               52.57               |\n",
      "|   100.0    |               2792.0              |\n",
      "+------------+-----------------------------------+\n"
     ]
    }
   ],
   "source": [
    "y_1 = PrettyTable()\n",
    "y_1.field_names = [\"Percentile\", \"No. of days past due on CB Credit\"]\n",
    "\n",
    "for i in np.arange(99,100.1,0.1): \n",
    "    y_1.add_row(np.round([i,np.percentile(bureau_data['CREDIT_DAY_OVERDUE'].values,i)],2))\n",
    "print(y_1)"
   ]
  },
  {
   "cell_type": "markdown",
   "id": "e3cc4dbb",
   "metadata": {},
   "source": [
    "#### Comment:\n",
    "We can see from here that only the Top 0.3 percentile of values over here are non-zeroes."
   ]
  },
  {
   "cell_type": "markdown",
   "id": "1d0bd3d4",
   "metadata": {},
   "source": [
    "### 1.4 CREDIT_TYPE\n",
    "\n",
    "CREDIT_TYPE: Type of Credit Bureau credit (Car, cash,...)"
   ]
  },
  {
   "cell_type": "code",
   "execution_count": 280,
   "id": "276e6703",
   "metadata": {},
   "outputs": [
    {
     "data": {
      "text/plain": [
       "Consumer credit                                 1251615\n",
       "Credit card                                      402195\n",
       "Car loan                                          27690\n",
       "Mortgage                                          18391\n",
       "Microloan                                         12413\n",
       "Loan for business development                      1975\n",
       "Another type of loan                               1017\n",
       "Unknown type of loan                                555\n",
       "Loan for working capital replenishment              469\n",
       "Cash loan (non-earmarked)                            56\n",
       "Real estate loan                                     27\n",
       "Loan for the purchase of equipment                   19\n",
       "Loan for purchase of shares (margin lending)          4\n",
       "Mobile operator loan                                  1\n",
       "Interbank credit                                      1\n",
       "Name: CREDIT_TYPE, dtype: int64"
      ]
     },
     "execution_count": 280,
     "metadata": {},
     "output_type": "execute_result"
    }
   ],
   "source": [
    "bureau_data['CREDIT_TYPE'].value_counts()"
   ]
  },
  {
   "cell_type": "code",
   "execution_count": 281,
   "id": "406bd7cf",
   "metadata": {},
   "outputs": [],
   "source": [
    "# credit_type_counter = Counter()\n",
    "# credit_type_counter\n",
    "# for type in bureau_data['CREDIT_TYPE'].values:\n",
    "#     credit_type_counter.update(type.split(','))"
   ]
  },
  {
   "cell_type": "code",
   "execution_count": 282,
   "id": "711cc7a3",
   "metadata": {},
   "outputs": [
    {
     "data": {
      "image/png": "[encoded data removed]",
      "text/plain": [
       "<Figure size 432x288 with 1 Axes>"
      ]
     },
     "metadata": {
      "needs_background": "light"
     },
     "output_type": "display_data"
    }
   ],
   "source": [
    "type_dict = dict(bureau_data['CREDIT_TYPE'].value_counts())\n",
    "type_dict\n",
    "\n",
    "sorted_type_dict = dict(sorted(type_dict.items(), key = lambda kv :kv[1],reverse = True))\n",
    "ind_2 = np.arange(len(sorted_type_dict))\n",
    "#ind_2 = array([ 0,  1,  2,  3,  4,  5,  6,  7,  8,  9, 10, 11, 12, 13, 14])\n",
    "p1 = plt.bar(ind_2, list(sorted_type_dict.values()), color = 'blue')\n",
    "\n",
    "plt.ylabel('Counts of loans')\n",
    "plt.title('Distribution of Credit_type')\n",
    "plt.xticks(ind_2, list(sorted_type_dict.keys()), rotation = 90)\n",
    "plt.show()"
   ]
  },
  {
   "cell_type": "markdown",
   "id": "27a2e64e",
   "metadata": {},
   "source": [
    "#### Comment:\n",
    "- Consumer Credit and Credit Cards are the mostly registered credit types in the Credit Bureau\n",
    "\n",
    "--> we may assign the 13 remaining as one - Rare"
   ]
  },
  {
   "cell_type": "code",
   "execution_count": 283,
   "id": "9daa468f",
   "metadata": {},
   "outputs": [],
   "source": [
    "# bureau_data['CREDIT_TYPE'] = bureau_data['CREDIT_TYPE'].replace(['Car loan',\n",
    "#               'Mortgage',\n",
    "#               'Microloan',\n",
    "#               'Loan for business development', \n",
    "#               'Another type of loan',\n",
    "#               'Unknown type of loan', \n",
    "#               'Loan for working capital replenishment',\n",
    "#               \"Loan for purchase of shares (margin lending)\",                                                \n",
    "#               'Cash loan (non-earmarked)', \n",
    "#               'Real estate loan',\n",
    "#               \"Loan for the purchase of equipment\", \n",
    "#               \"Interbank credit\", \n",
    "#               \"Mobile operator loan\"], 'Rare')"
   ]
  },
  {
   "cell_type": "markdown",
   "id": "abadb987",
   "metadata": {},
   "source": [
    "### 1.5 CREDIT_ACTIVE vs DAYS_CREDIT\n",
    "\n",
    "CREDIT_ACTIVE: Status of the Credit Bureau (CB) reported credits\n",
    "DAYS_CREDIT: How many days before current application did client apply for Credit Bureau credit"
   ]
  },
  {
   "cell_type": "code",
   "execution_count": 284,
   "id": "d928cfe7",
   "metadata": {},
   "outputs": [
    {
     "data": {
      "text/plain": [
       "Closed      1079273\n",
       "Active       630607\n",
       "Sold           6527\n",
       "Bad debt         21\n",
       "Name: CREDIT_ACTIVE, dtype: int64"
      ]
     },
     "execution_count": 284,
     "metadata": {},
     "output_type": "execute_result"
    }
   ],
   "source": [
    "bureau_data['CREDIT_ACTIVE'].value_counts()"
   ]
  },
  {
   "cell_type": "code",
   "execution_count": 285,
   "id": "d23554a1",
   "metadata": {},
   "outputs": [
    {
     "data": {
      "text/plain": [
       "<seaborn.axisgrid.FacetGrid at 0x7fcfe3784a60>"
      ]
     },
     "execution_count": 285,
     "metadata": {},
     "output_type": "execute_result"
    },
    {
     "data": {
      "image/png": "[encoded data removed]",
      "text/plain": [
       "<Figure size 352.8x504 with 1 Axes>"
      ]
     },
     "metadata": {
      "needs_background": "light"
     },
     "output_type": "display_data"
    }
   ],
   "source": [
    "sns.catplot(x = 'CREDIT_ACTIVE', y = 'DAYS_CREDIT', data = bureau_data, color = 'yellow', kind = 'box', height = 7, aspect =.7)\n"
   ]
  },
  {
   "cell_type": "markdown",
   "id": "63f1a1b8",
   "metadata": {},
   "source": [
    "#### Comment:\n",
    "- When the Credit Status is Active, it means that the corresponding \"DAYS_CREDIT\" i.e number of days before application, the median value is approximately 500 days"
   ]
  },
  {
   "cell_type": "markdown",
   "id": "4e12e987",
   "metadata": {},
   "source": [
    "# B - Feature Engineering on Bureau data and Bureau_Balance data"
   ]
  },
  {
   "cell_type": "markdown",
   "id": "ee55016c",
   "metadata": {},
   "source": [
    "### BUILD HELPER COLUMNS"
   ]
  },
  {
   "cell_type": "markdown",
   "id": "6f3683da",
   "metadata": {},
   "source": [
    "#### First, merge with application_train['TARGET']"
   ]
  },
  {
   "cell_type": "code",
   "execution_count": 330,
   "id": "7f0f92c4",
   "metadata": {},
   "outputs": [
    {
     "name": "stdout",
     "output_type": "stream",
     "text": [
      "Memmory usage of dataframe is 286.23 MB\n",
      "Memory usage after optimization is 285.05 MB\n",
      "Decreased by 0.4%\n",
      "Number of data points :  307511\n",
      "Number of features :  122\n"
     ]
    },
    {
     "data": {
      "text/html": [
       "<div>\n",
       "<style scoped>\n",
       "    .dataframe tbody tr th:only-of-type {\n",
       "        vertical-align: middle;\n",
       "    }\n",
       "\n",
       "    .dataframe tbody tr th {\n",
       "        vertical-align: top;\n",
       "    }\n",
       "\n",
       "    .dataframe thead th {\n",
       "        text-align: right;\n",
       "    }\n",
       "</style>\n",
       "<table border=\"1\" class=\"dataframe\">\n",
       "  <thead>\n",
       "    <tr style=\"text-align: right;\">\n",
       "      <th></th>\n",
       "      <th>SK_ID_CURR</th>\n",
       "      <th>TARGET</th>\n",
       "      <th>NAME_CONTRACT_TYPE</th>\n",
       "      <th>CODE_GENDER</th>\n",
       "      <th>FLAG_OWN_CAR</th>\n",
       "      <th>FLAG_OWN_REALTY</th>\n",
       "      <th>CNT_CHILDREN</th>\n",
       "      <th>AMT_INCOME_TOTAL</th>\n",
       "      <th>AMT_CREDIT</th>\n",
       "      <th>AMT_ANNUITY</th>\n",
       "      <th>...</th>\n",
       "      <th>FLAG_DOCUMENT_18</th>\n",
       "      <th>FLAG_DOCUMENT_19</th>\n",
       "      <th>FLAG_DOCUMENT_20</th>\n",
       "      <th>FLAG_DOCUMENT_21</th>\n",
       "      <th>AMT_REQ_CREDIT_BUREAU_HOUR</th>\n",
       "      <th>AMT_REQ_CREDIT_BUREAU_DAY</th>\n",
       "      <th>AMT_REQ_CREDIT_BUREAU_WEEK</th>\n",
       "      <th>AMT_REQ_CREDIT_BUREAU_MON</th>\n",
       "      <th>AMT_REQ_CREDIT_BUREAU_QRT</th>\n",
       "      <th>AMT_REQ_CREDIT_BUREAU_YEAR</th>\n",
       "    </tr>\n",
       "  </thead>\n",
       "  <tbody>\n",
       "    <tr>\n",
       "      <th>0</th>\n",
       "      <td>100002</td>\n",
       "      <td>1</td>\n",
       "      <td>Cash loans</td>\n",
       "      <td>M</td>\n",
       "      <td>N</td>\n",
       "      <td>Y</td>\n",
       "      <td>0</td>\n",
       "      <td>202500.0</td>\n",
       "      <td>406597.5</td>\n",
       "      <td>24700.5</td>\n",
       "      <td>...</td>\n",
       "      <td>0</td>\n",
       "      <td>0</td>\n",
       "      <td>0</td>\n",
       "      <td>0</td>\n",
       "      <td>0.0</td>\n",
       "      <td>0.0</td>\n",
       "      <td>0.0</td>\n",
       "      <td>0.0</td>\n",
       "      <td>0.0</td>\n",
       "      <td>1.0</td>\n",
       "    </tr>\n",
       "    <tr>\n",
       "      <th>1</th>\n",
       "      <td>100003</td>\n",
       "      <td>0</td>\n",
       "      <td>Cash loans</td>\n",
       "      <td>F</td>\n",
       "      <td>N</td>\n",
       "      <td>N</td>\n",
       "      <td>0</td>\n",
       "      <td>270000.0</td>\n",
       "      <td>1293502.5</td>\n",
       "      <td>35698.5</td>\n",
       "      <td>...</td>\n",
       "      <td>0</td>\n",
       "      <td>0</td>\n",
       "      <td>0</td>\n",
       "      <td>0</td>\n",
       "      <td>0.0</td>\n",
       "      <td>0.0</td>\n",
       "      <td>0.0</td>\n",
       "      <td>0.0</td>\n",
       "      <td>0.0</td>\n",
       "      <td>0.0</td>\n",
       "    </tr>\n",
       "    <tr>\n",
       "      <th>2</th>\n",
       "      <td>100004</td>\n",
       "      <td>0</td>\n",
       "      <td>Revolving loans</td>\n",
       "      <td>M</td>\n",
       "      <td>Y</td>\n",
       "      <td>Y</td>\n",
       "      <td>0</td>\n",
       "      <td>67500.0</td>\n",
       "      <td>135000.0</td>\n",
       "      <td>6750.0</td>\n",
       "      <td>...</td>\n",
       "      <td>0</td>\n",
       "      <td>0</td>\n",
       "      <td>0</td>\n",
       "      <td>0</td>\n",
       "      <td>0.0</td>\n",
       "      <td>0.0</td>\n",
       "      <td>0.0</td>\n",
       "      <td>0.0</td>\n",
       "      <td>0.0</td>\n",
       "      <td>0.0</td>\n",
       "    </tr>\n",
       "    <tr>\n",
       "      <th>3</th>\n",
       "      <td>100006</td>\n",
       "      <td>0</td>\n",
       "      <td>Cash loans</td>\n",
       "      <td>F</td>\n",
       "      <td>N</td>\n",
       "      <td>Y</td>\n",
       "      <td>0</td>\n",
       "      <td>135000.0</td>\n",
       "      <td>312682.5</td>\n",
       "      <td>29686.5</td>\n",
       "      <td>...</td>\n",
       "      <td>0</td>\n",
       "      <td>0</td>\n",
       "      <td>0</td>\n",
       "      <td>0</td>\n",
       "      <td>NaN</td>\n",
       "      <td>NaN</td>\n",
       "      <td>NaN</td>\n",
       "      <td>NaN</td>\n",
       "      <td>NaN</td>\n",
       "      <td>NaN</td>\n",
       "    </tr>\n",
       "    <tr>\n",
       "      <th>4</th>\n",
       "      <td>100007</td>\n",
       "      <td>0</td>\n",
       "      <td>Cash loans</td>\n",
       "      <td>M</td>\n",
       "      <td>N</td>\n",
       "      <td>Y</td>\n",
       "      <td>0</td>\n",
       "      <td>121500.0</td>\n",
       "      <td>513000.0</td>\n",
       "      <td>21865.5</td>\n",
       "      <td>...</td>\n",
       "      <td>0</td>\n",
       "      <td>0</td>\n",
       "      <td>0</td>\n",
       "      <td>0</td>\n",
       "      <td>0.0</td>\n",
       "      <td>0.0</td>\n",
       "      <td>0.0</td>\n",
       "      <td>0.0</td>\n",
       "      <td>0.0</td>\n",
       "      <td>0.0</td>\n",
       "    </tr>\n",
       "  </tbody>\n",
       "</table>\n",
       "<p>5 rows × 122 columns</p>\n",
       "</div>"
      ],
      "text/plain": [
       "   SK_ID_CURR  TARGET NAME_CONTRACT_TYPE CODE_GENDER FLAG_OWN_CAR  \\\n",
       "0      100002       1         Cash loans           M            N   \n",
       "1      100003       0         Cash loans           F            N   \n",
       "2      100004       0    Revolving loans           M            Y   \n",
       "3      100006       0         Cash loans           F            N   \n",
       "4      100007       0         Cash loans           M            N   \n",
       "\n",
       "  FLAG_OWN_REALTY  CNT_CHILDREN  AMT_INCOME_TOTAL  AMT_CREDIT  AMT_ANNUITY  \\\n",
       "0               Y             0          202500.0    406597.5      24700.5   \n",
       "1               N             0          270000.0   1293502.5      35698.5   \n",
       "2               Y             0           67500.0    135000.0       6750.0   \n",
       "3               Y             0          135000.0    312682.5      29686.5   \n",
       "4               Y             0          121500.0    513000.0      21865.5   \n",
       "\n",
       "   ...  FLAG_DOCUMENT_18 FLAG_DOCUMENT_19 FLAG_DOCUMENT_20 FLAG_DOCUMENT_21  \\\n",
       "0  ...                 0                0                0                0   \n",
       "1  ...                 0                0                0                0   \n",
       "2  ...                 0                0                0                0   \n",
       "3  ...                 0                0                0                0   \n",
       "4  ...                 0                0                0                0   \n",
       "\n",
       "  AMT_REQ_CREDIT_BUREAU_HOUR AMT_REQ_CREDIT_BUREAU_DAY  \\\n",
       "0                        0.0                       0.0   \n",
       "1                        0.0                       0.0   \n",
       "2                        0.0                       0.0   \n",
       "3                        NaN                       NaN   \n",
       "4                        0.0                       0.0   \n",
       "\n",
       "   AMT_REQ_CREDIT_BUREAU_WEEK  AMT_REQ_CREDIT_BUREAU_MON  \\\n",
       "0                         0.0                        0.0   \n",
       "1                         0.0                        0.0   \n",
       "2                         0.0                        0.0   \n",
       "3                         NaN                        NaN   \n",
       "4                         0.0                        0.0   \n",
       "\n",
       "   AMT_REQ_CREDIT_BUREAU_QRT  AMT_REQ_CREDIT_BUREAU_YEAR  \n",
       "0                        0.0                         1.0  \n",
       "1                        0.0                         0.0  \n",
       "2                        0.0                         0.0  \n",
       "3                        NaN                         NaN  \n",
       "4                        0.0                         0.0  \n",
       "\n",
       "[5 rows x 122 columns]"
      ]
     },
     "execution_count": 330,
     "metadata": {},
     "output_type": "execute_result"
    }
   ],
   "source": [
    "train_data = reduce_memory_usage(pd.read_csv('application_train.csv'))\n",
    "print('Number of data points : ', train_data.shape[0])\n",
    "print('Number of features : ', train_data.shape[1])\n",
    "train_data.head()"
   ]
  },
  {
   "cell_type": "code",
   "execution_count": 331,
   "id": "39909211",
   "metadata": {},
   "outputs": [
    {
     "data": {
      "text/html": [
       "<div>\n",
       "<style scoped>\n",
       "    .dataframe tbody tr th:only-of-type {\n",
       "        vertical-align: middle;\n",
       "    }\n",
       "\n",
       "    .dataframe tbody tr th {\n",
       "        vertical-align: top;\n",
       "    }\n",
       "\n",
       "    .dataframe thead th {\n",
       "        text-align: right;\n",
       "    }\n",
       "</style>\n",
       "<table border=\"1\" class=\"dataframe\">\n",
       "  <thead>\n",
       "    <tr style=\"text-align: right;\">\n",
       "      <th></th>\n",
       "      <th>SK_ID_CURR</th>\n",
       "      <th>TARGET</th>\n",
       "      <th>SK_ID_BUREAU</th>\n",
       "      <th>CREDIT_ACTIVE</th>\n",
       "      <th>DAYS_CREDIT</th>\n",
       "      <th>CREDIT_DAY_OVERDUE</th>\n",
       "      <th>DAYS_CREDIT_ENDDATE</th>\n",
       "      <th>DAYS_ENDDATE_FACT</th>\n",
       "      <th>AMT_CREDIT_MAX_OVERDUE</th>\n",
       "      <th>CNT_CREDIT_PROLONG</th>\n",
       "      <th>AMT_CREDIT_SUM</th>\n",
       "      <th>AMT_CREDIT_SUM_DEBT</th>\n",
       "      <th>AMT_CREDIT_SUM_LIMIT</th>\n",
       "      <th>AMT_CREDIT_SUM_OVERDUE</th>\n",
       "      <th>CREDIT_TYPE</th>\n",
       "      <th>DAYS_CREDIT_UPDATE</th>\n",
       "      <th>AMT_ANNUITY</th>\n",
       "    </tr>\n",
       "  </thead>\n",
       "  <tbody>\n",
       "    <tr>\n",
       "      <th>0</th>\n",
       "      <td>100002</td>\n",
       "      <td>1</td>\n",
       "      <td>6158904.0</td>\n",
       "      <td>Closed</td>\n",
       "      <td>-1125.0</td>\n",
       "      <td>0.0</td>\n",
       "      <td>-1038.0</td>\n",
       "      <td>-1038.0</td>\n",
       "      <td>NaN</td>\n",
       "      <td>0.0</td>\n",
       "      <td>40761.0</td>\n",
       "      <td>NaN</td>\n",
       "      <td>NaN</td>\n",
       "      <td>0.0</td>\n",
       "      <td>Credit card</td>\n",
       "      <td>-1038.0</td>\n",
       "      <td>0.0</td>\n",
       "    </tr>\n",
       "    <tr>\n",
       "      <th>1</th>\n",
       "      <td>100002</td>\n",
       "      <td>1</td>\n",
       "      <td>6158905.0</td>\n",
       "      <td>Closed</td>\n",
       "      <td>-476.0</td>\n",
       "      <td>0.0</td>\n",
       "      <td>NaN</td>\n",
       "      <td>-48.0</td>\n",
       "      <td>NaN</td>\n",
       "      <td>0.0</td>\n",
       "      <td>0.0</td>\n",
       "      <td>0.0</td>\n",
       "      <td>NaN</td>\n",
       "      <td>0.0</td>\n",
       "      <td>Credit card</td>\n",
       "      <td>-47.0</td>\n",
       "      <td>NaN</td>\n",
       "    </tr>\n",
       "    <tr>\n",
       "      <th>2</th>\n",
       "      <td>100002</td>\n",
       "      <td>1</td>\n",
       "      <td>6158906.0</td>\n",
       "      <td>Closed</td>\n",
       "      <td>-1437.0</td>\n",
       "      <td>0.0</td>\n",
       "      <td>-1072.0</td>\n",
       "      <td>-1185.0</td>\n",
       "      <td>0.000</td>\n",
       "      <td>0.0</td>\n",
       "      <td>135000.0</td>\n",
       "      <td>0.0</td>\n",
       "      <td>0.0</td>\n",
       "      <td>0.0</td>\n",
       "      <td>Consumer credit</td>\n",
       "      <td>-1185.0</td>\n",
       "      <td>0.0</td>\n",
       "    </tr>\n",
       "    <tr>\n",
       "      <th>3</th>\n",
       "      <td>100002</td>\n",
       "      <td>1</td>\n",
       "      <td>6158907.0</td>\n",
       "      <td>Closed</td>\n",
       "      <td>-1121.0</td>\n",
       "      <td>0.0</td>\n",
       "      <td>-911.0</td>\n",
       "      <td>-911.0</td>\n",
       "      <td>3321.000</td>\n",
       "      <td>0.0</td>\n",
       "      <td>19071.0</td>\n",
       "      <td>NaN</td>\n",
       "      <td>NaN</td>\n",
       "      <td>0.0</td>\n",
       "      <td>Consumer credit</td>\n",
       "      <td>-906.0</td>\n",
       "      <td>0.0</td>\n",
       "    </tr>\n",
       "    <tr>\n",
       "      <th>4</th>\n",
       "      <td>100002</td>\n",
       "      <td>1</td>\n",
       "      <td>6158908.0</td>\n",
       "      <td>Closed</td>\n",
       "      <td>-645.0</td>\n",
       "      <td>0.0</td>\n",
       "      <td>85.0</td>\n",
       "      <td>-36.0</td>\n",
       "      <td>5043.645</td>\n",
       "      <td>0.0</td>\n",
       "      <td>120735.0</td>\n",
       "      <td>0.0</td>\n",
       "      <td>0.0</td>\n",
       "      <td>0.0</td>\n",
       "      <td>Consumer credit</td>\n",
       "      <td>-34.0</td>\n",
       "      <td>0.0</td>\n",
       "    </tr>\n",
       "  </tbody>\n",
       "</table>\n",
       "</div>"
      ],
      "text/plain": [
       "   SK_ID_CURR  TARGET  SK_ID_BUREAU CREDIT_ACTIVE  DAYS_CREDIT  \\\n",
       "0      100002       1     6158904.0        Closed      -1125.0   \n",
       "1      100002       1     6158905.0        Closed       -476.0   \n",
       "2      100002       1     6158906.0        Closed      -1437.0   \n",
       "3      100002       1     6158907.0        Closed      -1121.0   \n",
       "4      100002       1     6158908.0        Closed       -645.0   \n",
       "\n",
       "   CREDIT_DAY_OVERDUE  DAYS_CREDIT_ENDDATE  DAYS_ENDDATE_FACT  \\\n",
       "0                 0.0              -1038.0            -1038.0   \n",
       "1                 0.0                  NaN              -48.0   \n",
       "2                 0.0              -1072.0            -1185.0   \n",
       "3                 0.0               -911.0             -911.0   \n",
       "4                 0.0                 85.0              -36.0   \n",
       "\n",
       "   AMT_CREDIT_MAX_OVERDUE  CNT_CREDIT_PROLONG  AMT_CREDIT_SUM  \\\n",
       "0                     NaN                 0.0         40761.0   \n",
       "1                     NaN                 0.0             0.0   \n",
       "2                   0.000                 0.0        135000.0   \n",
       "3                3321.000                 0.0         19071.0   \n",
       "4                5043.645                 0.0        120735.0   \n",
       "\n",
       "   AMT_CREDIT_SUM_DEBT  AMT_CREDIT_SUM_LIMIT  AMT_CREDIT_SUM_OVERDUE  \\\n",
       "0                  NaN                   NaN                     0.0   \n",
       "1                  0.0                   NaN                     0.0   \n",
       "2                  0.0                   0.0                     0.0   \n",
       "3                  NaN                   NaN                     0.0   \n",
       "4                  0.0                   0.0                     0.0   \n",
       "\n",
       "       CREDIT_TYPE  DAYS_CREDIT_UPDATE  AMT_ANNUITY  \n",
       "0      Credit card             -1038.0          0.0  \n",
       "1      Credit card               -47.0          NaN  \n",
       "2  Consumer credit             -1185.0          0.0  \n",
       "3  Consumer credit              -906.0          0.0  \n",
       "4  Consumer credit               -34.0          0.0  "
      ]
     },
     "execution_count": 331,
     "metadata": {},
     "output_type": "execute_result"
    }
   ],
   "source": [
    "bureau_merge_train = pd.merge(train_data[['SK_ID_CURR','TARGET']], bureau_data, how = 'left', on = ['SK_ID_CURR'])\n",
    "bureau_merge_train.head()"
   ]
  },
  {
   "cell_type": "code",
   "execution_count": 332,
   "id": "88f584c4",
   "metadata": {},
   "outputs": [
    {
     "data": {
      "text/plain": [
       "(1509345, 17)"
      ]
     },
     "execution_count": 332,
     "metadata": {},
     "output_type": "execute_result"
    }
   ],
   "source": [
    "bureau_merge_train.shape"
   ]
  },
  {
   "cell_type": "code",
   "execution_count": 293,
   "id": "a263b06b",
   "metadata": {},
   "outputs": [
    {
     "data": {
      "text/plain": [
       "66582"
      ]
     },
     "execution_count": 293,
     "metadata": {},
     "output_type": "execute_result"
    }
   ],
   "source": [
    "(bureau_data['AMT_CREDIT_SUM'] == 0).sum()"
   ]
  },
  {
   "cell_type": "code",
   "execution_count": 299,
   "id": "44a47cfc",
   "metadata": {},
   "outputs": [
    {
     "data": {
      "text/html": [
       "<div>\n",
       "<style scoped>\n",
       "    .dataframe tbody tr th:only-of-type {\n",
       "        vertical-align: middle;\n",
       "    }\n",
       "\n",
       "    .dataframe tbody tr th {\n",
       "        vertical-align: top;\n",
       "    }\n",
       "\n",
       "    .dataframe thead th {\n",
       "        text-align: right;\n",
       "    }\n",
       "</style>\n",
       "<table border=\"1\" class=\"dataframe\">\n",
       "  <thead>\n",
       "    <tr style=\"text-align: right;\">\n",
       "      <th></th>\n",
       "      <th>SK_ID_CURR</th>\n",
       "      <th>SK_ID_BUREAU</th>\n",
       "      <th>CREDIT_ACTIVE</th>\n",
       "      <th>DAYS_CREDIT</th>\n",
       "      <th>CREDIT_DAY_OVERDUE</th>\n",
       "      <th>DAYS_CREDIT_ENDDATE</th>\n",
       "      <th>DAYS_ENDDATE_FACT</th>\n",
       "      <th>AMT_CREDIT_MAX_OVERDUE</th>\n",
       "      <th>CNT_CREDIT_PROLONG</th>\n",
       "      <th>AMT_CREDIT_SUM</th>\n",
       "      <th>AMT_CREDIT_SUM_DEBT</th>\n",
       "      <th>AMT_CREDIT_SUM_LIMIT</th>\n",
       "      <th>AMT_CREDIT_SUM_OVERDUE</th>\n",
       "      <th>CREDIT_TYPE</th>\n",
       "      <th>DAYS_CREDIT_UPDATE</th>\n",
       "      <th>AMT_ANNUITY</th>\n",
       "    </tr>\n",
       "  </thead>\n",
       "  <tbody>\n",
       "    <tr>\n",
       "      <th>0</th>\n",
       "      <td>215354</td>\n",
       "      <td>5714462</td>\n",
       "      <td>Closed</td>\n",
       "      <td>-497</td>\n",
       "      <td>0</td>\n",
       "      <td>-153.0</td>\n",
       "      <td>-153.0</td>\n",
       "      <td>NaN</td>\n",
       "      <td>0</td>\n",
       "      <td>91323.0</td>\n",
       "      <td>0.00</td>\n",
       "      <td>NaN</td>\n",
       "      <td>0.0</td>\n",
       "      <td>Consumer credit</td>\n",
       "      <td>-131</td>\n",
       "      <td>NaN</td>\n",
       "    </tr>\n",
       "    <tr>\n",
       "      <th>1</th>\n",
       "      <td>215354</td>\n",
       "      <td>5714463</td>\n",
       "      <td>Active</td>\n",
       "      <td>-208</td>\n",
       "      <td>0</td>\n",
       "      <td>1075.0</td>\n",
       "      <td>NaN</td>\n",
       "      <td>NaN</td>\n",
       "      <td>0</td>\n",
       "      <td>225000.0</td>\n",
       "      <td>171342.00</td>\n",
       "      <td>NaN</td>\n",
       "      <td>0.0</td>\n",
       "      <td>Credit card</td>\n",
       "      <td>-20</td>\n",
       "      <td>NaN</td>\n",
       "    </tr>\n",
       "    <tr>\n",
       "      <th>2</th>\n",
       "      <td>215354</td>\n",
       "      <td>5714464</td>\n",
       "      <td>Active</td>\n",
       "      <td>-203</td>\n",
       "      <td>0</td>\n",
       "      <td>528.0</td>\n",
       "      <td>NaN</td>\n",
       "      <td>NaN</td>\n",
       "      <td>0</td>\n",
       "      <td>464323.5</td>\n",
       "      <td>NaN</td>\n",
       "      <td>NaN</td>\n",
       "      <td>0.0</td>\n",
       "      <td>Consumer credit</td>\n",
       "      <td>-16</td>\n",
       "      <td>NaN</td>\n",
       "    </tr>\n",
       "    <tr>\n",
       "      <th>3</th>\n",
       "      <td>215354</td>\n",
       "      <td>5714465</td>\n",
       "      <td>Active</td>\n",
       "      <td>-203</td>\n",
       "      <td>0</td>\n",
       "      <td>NaN</td>\n",
       "      <td>NaN</td>\n",
       "      <td>NaN</td>\n",
       "      <td>0</td>\n",
       "      <td>90000.0</td>\n",
       "      <td>NaN</td>\n",
       "      <td>NaN</td>\n",
       "      <td>0.0</td>\n",
       "      <td>Credit card</td>\n",
       "      <td>-16</td>\n",
       "      <td>NaN</td>\n",
       "    </tr>\n",
       "    <tr>\n",
       "      <th>4</th>\n",
       "      <td>215354</td>\n",
       "      <td>5714466</td>\n",
       "      <td>Active</td>\n",
       "      <td>-629</td>\n",
       "      <td>0</td>\n",
       "      <td>1197.0</td>\n",
       "      <td>NaN</td>\n",
       "      <td>77674.5</td>\n",
       "      <td>0</td>\n",
       "      <td>2700000.0</td>\n",
       "      <td>NaN</td>\n",
       "      <td>NaN</td>\n",
       "      <td>0.0</td>\n",
       "      <td>Consumer credit</td>\n",
       "      <td>-21</td>\n",
       "      <td>NaN</td>\n",
       "    </tr>\n",
       "    <tr>\n",
       "      <th>5</th>\n",
       "      <td>215354</td>\n",
       "      <td>5714467</td>\n",
       "      <td>Active</td>\n",
       "      <td>-273</td>\n",
       "      <td>0</td>\n",
       "      <td>27460.0</td>\n",
       "      <td>NaN</td>\n",
       "      <td>0.0</td>\n",
       "      <td>0</td>\n",
       "      <td>180000.0</td>\n",
       "      <td>71017.38</td>\n",
       "      <td>108982.62</td>\n",
       "      <td>0.0</td>\n",
       "      <td>Credit card</td>\n",
       "      <td>-31</td>\n",
       "      <td>NaN</td>\n",
       "    </tr>\n",
       "    <tr>\n",
       "      <th>6</th>\n",
       "      <td>215354</td>\n",
       "      <td>5714468</td>\n",
       "      <td>Active</td>\n",
       "      <td>-43</td>\n",
       "      <td>0</td>\n",
       "      <td>79.0</td>\n",
       "      <td>NaN</td>\n",
       "      <td>0.0</td>\n",
       "      <td>0</td>\n",
       "      <td>42103.8</td>\n",
       "      <td>42103.80</td>\n",
       "      <td>0.00</td>\n",
       "      <td>0.0</td>\n",
       "      <td>Consumer credit</td>\n",
       "      <td>-22</td>\n",
       "      <td>NaN</td>\n",
       "    </tr>\n",
       "    <tr>\n",
       "      <th>225157</th>\n",
       "      <td>215354</td>\n",
       "      <td>5714458</td>\n",
       "      <td>Closed</td>\n",
       "      <td>-1872</td>\n",
       "      <td>0</td>\n",
       "      <td>-776.0</td>\n",
       "      <td>-1203.0</td>\n",
       "      <td>NaN</td>\n",
       "      <td>0</td>\n",
       "      <td>494550.0</td>\n",
       "      <td>0.00</td>\n",
       "      <td>0.00</td>\n",
       "      <td>0.0</td>\n",
       "      <td>Consumer credit</td>\n",
       "      <td>-696</td>\n",
       "      <td>NaN</td>\n",
       "    </tr>\n",
       "    <tr>\n",
       "      <th>225158</th>\n",
       "      <td>215354</td>\n",
       "      <td>5714459</td>\n",
       "      <td>Closed</td>\n",
       "      <td>-1734</td>\n",
       "      <td>0</td>\n",
       "      <td>-638.0</td>\n",
       "      <td>-1336.0</td>\n",
       "      <td>NaN</td>\n",
       "      <td>0</td>\n",
       "      <td>1084032.0</td>\n",
       "      <td>0.00</td>\n",
       "      <td>NaN</td>\n",
       "      <td>0.0</td>\n",
       "      <td>Car loan</td>\n",
       "      <td>-1336</td>\n",
       "      <td>NaN</td>\n",
       "    </tr>\n",
       "    <tr>\n",
       "      <th>225159</th>\n",
       "      <td>215354</td>\n",
       "      <td>5714460</td>\n",
       "      <td>Closed</td>\n",
       "      <td>-1333</td>\n",
       "      <td>0</td>\n",
       "      <td>-1089.0</td>\n",
       "      <td>-987.0</td>\n",
       "      <td>NaN</td>\n",
       "      <td>0</td>\n",
       "      <td>102150.0</td>\n",
       "      <td>NaN</td>\n",
       "      <td>NaN</td>\n",
       "      <td>0.0</td>\n",
       "      <td>Consumer credit</td>\n",
       "      <td>-984</td>\n",
       "      <td>NaN</td>\n",
       "    </tr>\n",
       "    <tr>\n",
       "      <th>225160</th>\n",
       "      <td>215354</td>\n",
       "      <td>5714461</td>\n",
       "      <td>Closed</td>\n",
       "      <td>-1011</td>\n",
       "      <td>0</td>\n",
       "      <td>-830.0</td>\n",
       "      <td>-770.0</td>\n",
       "      <td>NaN</td>\n",
       "      <td>0</td>\n",
       "      <td>500463.0</td>\n",
       "      <td>NaN</td>\n",
       "      <td>NaN</td>\n",
       "      <td>0.0</td>\n",
       "      <td>Consumer credit</td>\n",
       "      <td>-767</td>\n",
       "      <td>NaN</td>\n",
       "    </tr>\n",
       "  </tbody>\n",
       "</table>\n",
       "</div>"
      ],
      "text/plain": [
       "        SK_ID_CURR  SK_ID_BUREAU CREDIT_ACTIVE  DAYS_CREDIT  \\\n",
       "0           215354       5714462        Closed         -497   \n",
       "1           215354       5714463        Active         -208   \n",
       "2           215354       5714464        Active         -203   \n",
       "3           215354       5714465        Active         -203   \n",
       "4           215354       5714466        Active         -629   \n",
       "5           215354       5714467        Active         -273   \n",
       "6           215354       5714468        Active          -43   \n",
       "225157      215354       5714458        Closed        -1872   \n",
       "225158      215354       5714459        Closed        -1734   \n",
       "225159      215354       5714460        Closed        -1333   \n",
       "225160      215354       5714461        Closed        -1011   \n",
       "\n",
       "        CREDIT_DAY_OVERDUE  DAYS_CREDIT_ENDDATE  DAYS_ENDDATE_FACT  \\\n",
       "0                        0               -153.0             -153.0   \n",
       "1                        0               1075.0                NaN   \n",
       "2                        0                528.0                NaN   \n",
       "3                        0                  NaN                NaN   \n",
       "4                        0               1197.0                NaN   \n",
       "5                        0              27460.0                NaN   \n",
       "6                        0                 79.0                NaN   \n",
       "225157                   0               -776.0            -1203.0   \n",
       "225158                   0               -638.0            -1336.0   \n",
       "225159                   0              -1089.0             -987.0   \n",
       "225160                   0               -830.0             -770.0   \n",
       "\n",
       "        AMT_CREDIT_MAX_OVERDUE  CNT_CREDIT_PROLONG  AMT_CREDIT_SUM  \\\n",
       "0                          NaN                   0         91323.0   \n",
       "1                          NaN                   0        225000.0   \n",
       "2                          NaN                   0        464323.5   \n",
       "3                          NaN                   0         90000.0   \n",
       "4                      77674.5                   0       2700000.0   \n",
       "5                          0.0                   0        180000.0   \n",
       "6                          0.0                   0         42103.8   \n",
       "225157                     NaN                   0        494550.0   \n",
       "225158                     NaN                   0       1084032.0   \n",
       "225159                     NaN                   0        102150.0   \n",
       "225160                     NaN                   0        500463.0   \n",
       "\n",
       "        AMT_CREDIT_SUM_DEBT  AMT_CREDIT_SUM_LIMIT  AMT_CREDIT_SUM_OVERDUE  \\\n",
       "0                      0.00                   NaN                     0.0   \n",
       "1                 171342.00                   NaN                     0.0   \n",
       "2                       NaN                   NaN                     0.0   \n",
       "3                       NaN                   NaN                     0.0   \n",
       "4                       NaN                   NaN                     0.0   \n",
       "5                  71017.38             108982.62                     0.0   \n",
       "6                  42103.80                  0.00                     0.0   \n",
       "225157                 0.00                  0.00                     0.0   \n",
       "225158                 0.00                   NaN                     0.0   \n",
       "225159                  NaN                   NaN                     0.0   \n",
       "225160                  NaN                   NaN                     0.0   \n",
       "\n",
       "            CREDIT_TYPE  DAYS_CREDIT_UPDATE  AMT_ANNUITY  \n",
       "0       Consumer credit                -131          NaN  \n",
       "1           Credit card                 -20          NaN  \n",
       "2       Consumer credit                 -16          NaN  \n",
       "3           Credit card                 -16          NaN  \n",
       "4       Consumer credit                 -21          NaN  \n",
       "5           Credit card                 -31          NaN  \n",
       "6       Consumer credit                 -22          NaN  \n",
       "225157  Consumer credit                -696          NaN  \n",
       "225158         Car loan               -1336          NaN  \n",
       "225159  Consumer credit                -984          NaN  \n",
       "225160  Consumer credit                -767          NaN  "
      ]
     },
     "execution_count": 299,
     "metadata": {},
     "output_type": "execute_result"
    }
   ],
   "source": [
    "bureau_data[bureau_data['SK_ID_CURR']==215354]"
   ]
  },
  {
   "cell_type": "code",
   "execution_count": 333,
   "id": "64393c51",
   "metadata": {
    "scrolled": true
   },
   "outputs": [
    {
     "data": {
      "text/html": [
       "<div>\n",
       "<style scoped>\n",
       "    .dataframe tbody tr th:only-of-type {\n",
       "        vertical-align: middle;\n",
       "    }\n",
       "\n",
       "    .dataframe tbody tr th {\n",
       "        vertical-align: top;\n",
       "    }\n",
       "\n",
       "    .dataframe thead th {\n",
       "        text-align: right;\n",
       "    }\n",
       "</style>\n",
       "<table border=\"1\" class=\"dataframe\">\n",
       "  <thead>\n",
       "    <tr style=\"text-align: right;\">\n",
       "      <th></th>\n",
       "      <th>SK_ID_CURR</th>\n",
       "      <th>TARGET</th>\n",
       "      <th>SK_ID_BUREAU</th>\n",
       "      <th>CREDIT_ACTIVE</th>\n",
       "      <th>DAYS_CREDIT</th>\n",
       "      <th>CREDIT_DAY_OVERDUE</th>\n",
       "      <th>DAYS_CREDIT_ENDDATE</th>\n",
       "      <th>DAYS_ENDDATE_FACT</th>\n",
       "      <th>AMT_CREDIT_MAX_OVERDUE</th>\n",
       "      <th>CNT_CREDIT_PROLONG</th>\n",
       "      <th>AMT_CREDIT_SUM</th>\n",
       "      <th>AMT_CREDIT_SUM_DEBT</th>\n",
       "      <th>AMT_CREDIT_SUM_LIMIT</th>\n",
       "      <th>AMT_CREDIT_SUM_OVERDUE</th>\n",
       "      <th>CREDIT_TYPE</th>\n",
       "      <th>DAYS_CREDIT_UPDATE</th>\n",
       "      <th>AMT_ANNUITY</th>\n",
       "    </tr>\n",
       "  </thead>\n",
       "  <tbody>\n",
       "    <tr>\n",
       "      <th>0</th>\n",
       "      <td>100002</td>\n",
       "      <td>1</td>\n",
       "      <td>6158904.0</td>\n",
       "      <td>Closed</td>\n",
       "      <td>-1125.0</td>\n",
       "      <td>0.0</td>\n",
       "      <td>-1038.0</td>\n",
       "      <td>-1038.0</td>\n",
       "      <td>NaN</td>\n",
       "      <td>0.0</td>\n",
       "      <td>40761.0</td>\n",
       "      <td>NaN</td>\n",
       "      <td>NaN</td>\n",
       "      <td>0.0</td>\n",
       "      <td>Credit card</td>\n",
       "      <td>-1038.0</td>\n",
       "      <td>0.0</td>\n",
       "    </tr>\n",
       "    <tr>\n",
       "      <th>1</th>\n",
       "      <td>100002</td>\n",
       "      <td>1</td>\n",
       "      <td>6158905.0</td>\n",
       "      <td>Closed</td>\n",
       "      <td>-476.0</td>\n",
       "      <td>0.0</td>\n",
       "      <td>NaN</td>\n",
       "      <td>-48.0</td>\n",
       "      <td>NaN</td>\n",
       "      <td>0.0</td>\n",
       "      <td>0.0</td>\n",
       "      <td>0.0</td>\n",
       "      <td>NaN</td>\n",
       "      <td>0.0</td>\n",
       "      <td>Credit card</td>\n",
       "      <td>-47.0</td>\n",
       "      <td>NaN</td>\n",
       "    </tr>\n",
       "    <tr>\n",
       "      <th>2</th>\n",
       "      <td>100002</td>\n",
       "      <td>1</td>\n",
       "      <td>6158906.0</td>\n",
       "      <td>Closed</td>\n",
       "      <td>-1437.0</td>\n",
       "      <td>0.0</td>\n",
       "      <td>-1072.0</td>\n",
       "      <td>-1185.0</td>\n",
       "      <td>0.000</td>\n",
       "      <td>0.0</td>\n",
       "      <td>135000.0</td>\n",
       "      <td>0.0</td>\n",
       "      <td>0.0</td>\n",
       "      <td>0.0</td>\n",
       "      <td>Consumer credit</td>\n",
       "      <td>-1185.0</td>\n",
       "      <td>0.0</td>\n",
       "    </tr>\n",
       "    <tr>\n",
       "      <th>3</th>\n",
       "      <td>100002</td>\n",
       "      <td>1</td>\n",
       "      <td>6158907.0</td>\n",
       "      <td>Closed</td>\n",
       "      <td>-1121.0</td>\n",
       "      <td>0.0</td>\n",
       "      <td>-911.0</td>\n",
       "      <td>-911.0</td>\n",
       "      <td>3321.000</td>\n",
       "      <td>0.0</td>\n",
       "      <td>19071.0</td>\n",
       "      <td>NaN</td>\n",
       "      <td>NaN</td>\n",
       "      <td>0.0</td>\n",
       "      <td>Consumer credit</td>\n",
       "      <td>-906.0</td>\n",
       "      <td>0.0</td>\n",
       "    </tr>\n",
       "    <tr>\n",
       "      <th>4</th>\n",
       "      <td>100002</td>\n",
       "      <td>1</td>\n",
       "      <td>6158908.0</td>\n",
       "      <td>Closed</td>\n",
       "      <td>-645.0</td>\n",
       "      <td>0.0</td>\n",
       "      <td>85.0</td>\n",
       "      <td>-36.0</td>\n",
       "      <td>5043.645</td>\n",
       "      <td>0.0</td>\n",
       "      <td>120735.0</td>\n",
       "      <td>0.0</td>\n",
       "      <td>0.0</td>\n",
       "      <td>0.0</td>\n",
       "      <td>Consumer credit</td>\n",
       "      <td>-34.0</td>\n",
       "      <td>0.0</td>\n",
       "    </tr>\n",
       "    <tr>\n",
       "      <th>...</th>\n",
       "      <td>...</td>\n",
       "      <td>...</td>\n",
       "      <td>...</td>\n",
       "      <td>...</td>\n",
       "      <td>...</td>\n",
       "      <td>...</td>\n",
       "      <td>...</td>\n",
       "      <td>...</td>\n",
       "      <td>...</td>\n",
       "      <td>...</td>\n",
       "      <td>...</td>\n",
       "      <td>...</td>\n",
       "      <td>...</td>\n",
       "      <td>...</td>\n",
       "      <td>...</td>\n",
       "      <td>...</td>\n",
       "      <td>...</td>\n",
       "    </tr>\n",
       "    <tr>\n",
       "      <th>1509334</th>\n",
       "      <td>456255</td>\n",
       "      <td>0</td>\n",
       "      <td>5126327.0</td>\n",
       "      <td>Closed</td>\n",
       "      <td>-1022.0</td>\n",
       "      <td>0.0</td>\n",
       "      <td>-959.0</td>\n",
       "      <td>-958.0</td>\n",
       "      <td>NaN</td>\n",
       "      <td>0.0</td>\n",
       "      <td>22995.0</td>\n",
       "      <td>0.0</td>\n",
       "      <td>0.0</td>\n",
       "      <td>0.0</td>\n",
       "      <td>Consumer credit</td>\n",
       "      <td>-890.0</td>\n",
       "      <td>0.0</td>\n",
       "    </tr>\n",
       "    <tr>\n",
       "      <th>1509335</th>\n",
       "      <td>456255</td>\n",
       "      <td>0</td>\n",
       "      <td>5126328.0</td>\n",
       "      <td>Closed</td>\n",
       "      <td>-970.0</td>\n",
       "      <td>0.0</td>\n",
       "      <td>-621.0</td>\n",
       "      <td>-712.0</td>\n",
       "      <td>NaN</td>\n",
       "      <td>0.0</td>\n",
       "      <td>27472.5</td>\n",
       "      <td>0.0</td>\n",
       "      <td>0.0</td>\n",
       "      <td>0.0</td>\n",
       "      <td>Consumer credit</td>\n",
       "      <td>-700.0</td>\n",
       "      <td>NaN</td>\n",
       "    </tr>\n",
       "    <tr>\n",
       "      <th>1509336</th>\n",
       "      <td>456255</td>\n",
       "      <td>0</td>\n",
       "      <td>5126329.0</td>\n",
       "      <td>Active</td>\n",
       "      <td>-573.0</td>\n",
       "      <td>0.0</td>\n",
       "      <td>523.0</td>\n",
       "      <td>NaN</td>\n",
       "      <td>NaN</td>\n",
       "      <td>0.0</td>\n",
       "      <td>553500.0</td>\n",
       "      <td>324171.0</td>\n",
       "      <td>0.0</td>\n",
       "      <td>0.0</td>\n",
       "      <td>Consumer credit</td>\n",
       "      <td>-19.0</td>\n",
       "      <td>0.0</td>\n",
       "    </tr>\n",
       "    <tr>\n",
       "      <th>1509337</th>\n",
       "      <td>456255</td>\n",
       "      <td>0</td>\n",
       "      <td>5126330.0</td>\n",
       "      <td>Closed</td>\n",
       "      <td>-1021.0</td>\n",
       "      <td>0.0</td>\n",
       "      <td>-959.0</td>\n",
       "      <td>-959.0</td>\n",
       "      <td>NaN</td>\n",
       "      <td>0.0</td>\n",
       "      <td>22995.0</td>\n",
       "      <td>0.0</td>\n",
       "      <td>NaN</td>\n",
       "      <td>0.0</td>\n",
       "      <td>Consumer credit</td>\n",
       "      <td>-953.0</td>\n",
       "      <td>3244.5</td>\n",
       "    </tr>\n",
       "    <tr>\n",
       "      <th>1509338</th>\n",
       "      <td>456255</td>\n",
       "      <td>0</td>\n",
       "      <td>5126331.0</td>\n",
       "      <td>Active</td>\n",
       "      <td>-1020.0</td>\n",
       "      <td>0.0</td>\n",
       "      <td>806.0</td>\n",
       "      <td>NaN</td>\n",
       "      <td>NaN</td>\n",
       "      <td>0.0</td>\n",
       "      <td>810000.0</td>\n",
       "      <td>595102.5</td>\n",
       "      <td>NaN</td>\n",
       "      <td>0.0</td>\n",
       "      <td>Consumer credit</td>\n",
       "      <td>-8.0</td>\n",
       "      <td>0.0</td>\n",
       "    </tr>\n",
       "  </tbody>\n",
       "</table>\n",
       "<p>1015459 rows × 17 columns</p>\n",
       "</div>"
      ],
      "text/plain": [
       "         SK_ID_CURR  TARGET  SK_ID_BUREAU CREDIT_ACTIVE  DAYS_CREDIT  \\\n",
       "0            100002       1     6158904.0        Closed      -1125.0   \n",
       "1            100002       1     6158905.0        Closed       -476.0   \n",
       "2            100002       1     6158906.0        Closed      -1437.0   \n",
       "3            100002       1     6158907.0        Closed      -1121.0   \n",
       "4            100002       1     6158908.0        Closed       -645.0   \n",
       "...             ...     ...           ...           ...          ...   \n",
       "1509334      456255       0     5126327.0        Closed      -1022.0   \n",
       "1509335      456255       0     5126328.0        Closed       -970.0   \n",
       "1509336      456255       0     5126329.0        Active       -573.0   \n",
       "1509337      456255       0     5126330.0        Closed      -1021.0   \n",
       "1509338      456255       0     5126331.0        Active      -1020.0   \n",
       "\n",
       "         CREDIT_DAY_OVERDUE  DAYS_CREDIT_ENDDATE  DAYS_ENDDATE_FACT  \\\n",
       "0                       0.0              -1038.0            -1038.0   \n",
       "1                       0.0                  NaN              -48.0   \n",
       "2                       0.0              -1072.0            -1185.0   \n",
       "3                       0.0               -911.0             -911.0   \n",
       "4                       0.0                 85.0              -36.0   \n",
       "...                     ...                  ...                ...   \n",
       "1509334                 0.0               -959.0             -958.0   \n",
       "1509335                 0.0               -621.0             -712.0   \n",
       "1509336                 0.0                523.0                NaN   \n",
       "1509337                 0.0               -959.0             -959.0   \n",
       "1509338                 0.0                806.0                NaN   \n",
       "\n",
       "         AMT_CREDIT_MAX_OVERDUE  CNT_CREDIT_PROLONG  AMT_CREDIT_SUM  \\\n",
       "0                           NaN                 0.0         40761.0   \n",
       "1                           NaN                 0.0             0.0   \n",
       "2                         0.000                 0.0        135000.0   \n",
       "3                      3321.000                 0.0         19071.0   \n",
       "4                      5043.645                 0.0        120735.0   \n",
       "...                         ...                 ...             ...   \n",
       "1509334                     NaN                 0.0         22995.0   \n",
       "1509335                     NaN                 0.0         27472.5   \n",
       "1509336                     NaN                 0.0        553500.0   \n",
       "1509337                     NaN                 0.0         22995.0   \n",
       "1509338                     NaN                 0.0        810000.0   \n",
       "\n",
       "         AMT_CREDIT_SUM_DEBT  AMT_CREDIT_SUM_LIMIT  AMT_CREDIT_SUM_OVERDUE  \\\n",
       "0                        NaN                   NaN                     0.0   \n",
       "1                        0.0                   NaN                     0.0   \n",
       "2                        0.0                   0.0                     0.0   \n",
       "3                        NaN                   NaN                     0.0   \n",
       "4                        0.0                   0.0                     0.0   \n",
       "...                      ...                   ...                     ...   \n",
       "1509334                  0.0                   0.0                     0.0   \n",
       "1509335                  0.0                   0.0                     0.0   \n",
       "1509336             324171.0                   0.0                     0.0   \n",
       "1509337                  0.0                   NaN                     0.0   \n",
       "1509338             595102.5                   NaN                     0.0   \n",
       "\n",
       "             CREDIT_TYPE  DAYS_CREDIT_UPDATE  AMT_ANNUITY  \n",
       "0            Credit card             -1038.0          0.0  \n",
       "1            Credit card               -47.0          NaN  \n",
       "2        Consumer credit             -1185.0          0.0  \n",
       "3        Consumer credit              -906.0          0.0  \n",
       "4        Consumer credit               -34.0          0.0  \n",
       "...                  ...                 ...          ...  \n",
       "1509334  Consumer credit              -890.0          0.0  \n",
       "1509335  Consumer credit              -700.0          NaN  \n",
       "1509336  Consumer credit               -19.0          0.0  \n",
       "1509337  Consumer credit              -953.0       3244.5  \n",
       "1509338  Consumer credit                -8.0          0.0  \n",
       "\n",
       "[1015459 rows x 17 columns]"
      ]
     },
     "execution_count": 333,
     "metadata": {},
     "output_type": "execute_result"
    }
   ],
   "source": [
    "groupby_SK_ID_CURR = bureau_merge_train.groupby(by=['SK_ID_CURR'])\n",
    "groupby_SK_ID_CURR.head()"
   ]
  },
  {
   "cell_type": "markdown",
   "id": "ec26e527",
   "metadata": {},
   "source": [
    "### number of loan types & number of past loans"
   ]
  },
  {
   "cell_type": "code",
   "execution_count": 337,
   "id": "eeef6342",
   "metadata": {},
   "outputs": [
    {
     "data": {
      "text/html": [
       "<div>\n",
       "<style scoped>\n",
       "    .dataframe tbody tr th:only-of-type {\n",
       "        vertical-align: middle;\n",
       "    }\n",
       "\n",
       "    .dataframe tbody tr th {\n",
       "        vertical-align: top;\n",
       "    }\n",
       "\n",
       "    .dataframe thead th {\n",
       "        text-align: right;\n",
       "    }\n",
       "</style>\n",
       "<table border=\"1\" class=\"dataframe\">\n",
       "  <thead>\n",
       "    <tr style=\"text-align: right;\">\n",
       "      <th></th>\n",
       "      <th>SK_ID_CURR</th>\n",
       "      <th>target_x</th>\n",
       "      <th>number_of_loan_types</th>\n",
       "      <th>target_y</th>\n",
       "      <th>number_of_past_loans</th>\n",
       "    </tr>\n",
       "  </thead>\n",
       "  <tbody>\n",
       "    <tr>\n",
       "      <th>0</th>\n",
       "      <td>100002</td>\n",
       "      <td>1</td>\n",
       "      <td>2</td>\n",
       "      <td>1</td>\n",
       "      <td>8</td>\n",
       "    </tr>\n",
       "    <tr>\n",
       "      <th>1</th>\n",
       "      <td>100003</td>\n",
       "      <td>0</td>\n",
       "      <td>2</td>\n",
       "      <td>0</td>\n",
       "      <td>4</td>\n",
       "    </tr>\n",
       "    <tr>\n",
       "      <th>2</th>\n",
       "      <td>100004</td>\n",
       "      <td>0</td>\n",
       "      <td>1</td>\n",
       "      <td>0</td>\n",
       "      <td>2</td>\n",
       "    </tr>\n",
       "    <tr>\n",
       "      <th>3</th>\n",
       "      <td>100006</td>\n",
       "      <td>0</td>\n",
       "      <td>0</td>\n",
       "      <td>0</td>\n",
       "      <td>0</td>\n",
       "    </tr>\n",
       "    <tr>\n",
       "      <th>4</th>\n",
       "      <td>100007</td>\n",
       "      <td>0</td>\n",
       "      <td>1</td>\n",
       "      <td>0</td>\n",
       "      <td>1</td>\n",
       "    </tr>\n",
       "  </tbody>\n",
       "</table>\n",
       "</div>"
      ],
      "text/plain": [
       "   SK_ID_CURR  target_x  number_of_loan_types  target_y  number_of_past_loans\n",
       "0      100002         1                     2         1                     8\n",
       "1      100003         0                     2         0                     4\n",
       "2      100004         0                     1         0                     2\n",
       "3      100006         0                     0         0                     0\n",
       "4      100007         0                     1         0                     1"
      ]
     },
     "execution_count": 337,
     "metadata": {},
     "output_type": "execute_result"
    }
   ],
   "source": [
    "df1 = bureau_merge_train[['SK_ID_CURR','DAYS_CREDIT','TARGET']].groupby(['SK_ID_CURR','TARGET'])['DAYS_CREDIT'].count().reset_index()\n",
    "df1.columns = ['SK_ID_CURR', 'target','number_of_past_loans']\n",
    "df2 = bureau_merge_train[['SK_ID_CURR', 'CREDIT_TYPE','TARGET']].groupby(['SK_ID_CURR','TARGET'])['CREDIT_TYPE'].nunique().reset_index()\n",
    "df2.columns = ['SK_ID_CURR','target', 'number_of_loan_types']\n",
    "\n",
    "\n",
    "df3 = df2.merge(df1, on=['SK_ID_CURR'], how='left')\n",
    "df3.head()"
   ]
  },
  {
   "cell_type": "code",
   "execution_count": 338,
   "id": "775c607f",
   "metadata": {},
   "outputs": [
    {
     "data": {
      "text/html": [
       "<div>\n",
       "<style scoped>\n",
       "    .dataframe tbody tr th:only-of-type {\n",
       "        vertical-align: middle;\n",
       "    }\n",
       "\n",
       "    .dataframe tbody tr th {\n",
       "        vertical-align: top;\n",
       "    }\n",
       "\n",
       "    .dataframe thead th {\n",
       "        text-align: right;\n",
       "    }\n",
       "</style>\n",
       "<table border=\"1\" class=\"dataframe\">\n",
       "  <thead>\n",
       "    <tr style=\"text-align: right;\">\n",
       "      <th></th>\n",
       "      <th>SK_ID_CURR</th>\n",
       "      <th>target</th>\n",
       "      <th>number_of_past_loans</th>\n",
       "    </tr>\n",
       "  </thead>\n",
       "  <tbody>\n",
       "    <tr>\n",
       "      <th>0</th>\n",
       "      <td>100002</td>\n",
       "      <td>1</td>\n",
       "      <td>8</td>\n",
       "    </tr>\n",
       "    <tr>\n",
       "      <th>1</th>\n",
       "      <td>100003</td>\n",
       "      <td>0</td>\n",
       "      <td>4</td>\n",
       "    </tr>\n",
       "    <tr>\n",
       "      <th>2</th>\n",
       "      <td>100004</td>\n",
       "      <td>0</td>\n",
       "      <td>2</td>\n",
       "    </tr>\n",
       "    <tr>\n",
       "      <th>3</th>\n",
       "      <td>100006</td>\n",
       "      <td>0</td>\n",
       "      <td>0</td>\n",
       "    </tr>\n",
       "    <tr>\n",
       "      <th>4</th>\n",
       "      <td>100007</td>\n",
       "      <td>0</td>\n",
       "      <td>1</td>\n",
       "    </tr>\n",
       "  </tbody>\n",
       "</table>\n",
       "</div>"
      ],
      "text/plain": [
       "   SK_ID_CURR  target  number_of_past_loans\n",
       "0      100002       1                     8\n",
       "1      100003       0                     4\n",
       "2      100004       0                     2\n",
       "3      100006       0                     0\n",
       "4      100007       0                     1"
      ]
     },
     "execution_count": 338,
     "metadata": {},
     "output_type": "execute_result"
    }
   ],
   "source": [
    "df1.head() "
   ]
  },
  {
   "cell_type": "code",
   "execution_count": 341,
   "id": "edb9b525",
   "metadata": {
    "scrolled": true
   },
   "outputs": [
    {
     "data": {
      "text/plain": [
       "[Text(0.5, 1.0, 'Defaultets')]"
      ]
     },
     "execution_count": 341,
     "metadata": {},
     "output_type": "execute_result"
    },
    {
     "data": {
      "image/png": "[encoded data removed]",
      "text/plain": [
       "<Figure size 936x360 with 2 Axes>"
      ]
     },
     "metadata": {
      "needs_background": "light"
     },
     "output_type": "display_data"
    }
   ],
   "source": [
    "fig, ax = plt.subplots(1,2, figsize = (13,5))\n",
    "sns.histplot(df1[df1['target'] == 0]['number_of_past_loans'], ax = ax[0], bins = 10).set(title = 'Non Defaultets')\n",
    "sns.histplot(df1[df1['target'] == 1]['number_of_past_loans'], ax = ax[1], bins = 10).set(title = 'Defaultets')\n",
    "\n"
   ]
  },
  {
   "cell_type": "markdown",
   "id": "51e5db97",
   "metadata": {},
   "source": [
    "#### Comment:\n",
    "- defaulters seem to be clearly to take more loans"
   ]
  },
  {
   "cell_type": "code",
   "execution_count": 347,
   "id": "002898b5",
   "metadata": {},
   "outputs": [
    {
     "data": {
      "text/html": [
       "<div>\n",
       "<style scoped>\n",
       "    .dataframe tbody tr th:only-of-type {\n",
       "        vertical-align: middle;\n",
       "    }\n",
       "\n",
       "    .dataframe tbody tr th {\n",
       "        vertical-align: top;\n",
       "    }\n",
       "\n",
       "    .dataframe thead th {\n",
       "        text-align: right;\n",
       "    }\n",
       "</style>\n",
       "<table border=\"1\" class=\"dataframe\">\n",
       "  <thead>\n",
       "    <tr style=\"text-align: right;\">\n",
       "      <th></th>\n",
       "      <th>SK_ID_CURR</th>\n",
       "      <th>target</th>\n",
       "      <th>number_of_loan_types</th>\n",
       "    </tr>\n",
       "  </thead>\n",
       "  <tbody>\n",
       "    <tr>\n",
       "      <th>0</th>\n",
       "      <td>100002</td>\n",
       "      <td>1</td>\n",
       "      <td>2</td>\n",
       "    </tr>\n",
       "    <tr>\n",
       "      <th>1</th>\n",
       "      <td>100003</td>\n",
       "      <td>0</td>\n",
       "      <td>2</td>\n",
       "    </tr>\n",
       "    <tr>\n",
       "      <th>2</th>\n",
       "      <td>100004</td>\n",
       "      <td>0</td>\n",
       "      <td>1</td>\n",
       "    </tr>\n",
       "    <tr>\n",
       "      <th>3</th>\n",
       "      <td>100006</td>\n",
       "      <td>0</td>\n",
       "      <td>0</td>\n",
       "    </tr>\n",
       "    <tr>\n",
       "      <th>4</th>\n",
       "      <td>100007</td>\n",
       "      <td>0</td>\n",
       "      <td>1</td>\n",
       "    </tr>\n",
       "  </tbody>\n",
       "</table>\n",
       "</div>"
      ],
      "text/plain": [
       "   SK_ID_CURR  target  number_of_loan_types\n",
       "0      100002       1                     2\n",
       "1      100003       0                     2\n",
       "2      100004       0                     1\n",
       "3      100006       0                     0\n",
       "4      100007       0                     1"
      ]
     },
     "execution_count": 347,
     "metadata": {},
     "output_type": "execute_result"
    }
   ],
   "source": [
    "df2.head()"
   ]
  },
  {
   "cell_type": "code",
   "execution_count": 350,
   "id": "42239579",
   "metadata": {},
   "outputs": [
    {
     "data": {
      "text/plain": [
       "[Text(0.5, 1.0, 'Defaultets')]"
      ]
     },
     "execution_count": 350,
     "metadata": {},
     "output_type": "execute_result"
    },
    {
     "data": {
      "image/png": "[encoded data removed]",
      "text/plain": [
       "<Figure size 936x360 with 2 Axes>"
      ]
     },
     "metadata": {
      "needs_background": "light"
     },
     "output_type": "display_data"
    }
   ],
   "source": [
    "fig, ax = plt.subplots(1,2, figsize = (13,5))\n",
    "sns.histplot(df2[df2['target'] == 0]['number_of_loan_types'], ax = ax[0], bins = 10).set(title = 'Non Defaultets')\n",
    "sns.histplot(df2[df2['target'] == 1]['number_of_loan_types'], ax = ax[1], bins = 10).set(title = 'Defaultets')\n",
    "\n",
    "\n"
   ]
  },
  {
   "cell_type": "markdown",
   "id": "8a63259e",
   "metadata": {},
   "source": [
    "#### Comment: with alike distribution based on credit types, implying that, this factor did not affect TARGET"
   ]
  },
  {
   "cell_type": "markdown",
   "id": "fac5f619",
   "metadata": {},
   "source": [
    "### Active loan per customer"
   ]
  },
  {
   "cell_type": "code",
   "execution_count": 354,
   "id": "5bfae101",
   "metadata": {},
   "outputs": [],
   "source": [
    "def check(status):\n",
    "    if status == 'Closed':\n",
    "        y = 0\n",
    "    else:\n",
    "        y = 1\n",
    "    return y"
   ]
  },
  {
   "cell_type": "code",
   "execution_count": 352,
   "id": "79feb925",
   "metadata": {},
   "outputs": [
    {
     "data": {
      "text/plain": [
       "Closed      917733\n",
       "Active      541919\n",
       "Sold          5653\n",
       "Bad debt        20\n",
       "Name: CREDIT_ACTIVE, dtype: int64"
      ]
     },
     "execution_count": 352,
     "metadata": {},
     "output_type": "execute_result"
    }
   ],
   "source": [
    "bureau_merge_train['CREDIT_ACTIVE'].value_counts()"
   ]
  },
  {
   "cell_type": "code",
   "execution_count": 360,
   "id": "dc205fe3",
   "metadata": {},
   "outputs": [
    {
     "data": {
      "text/html": [
       "<div>\n",
       "<style scoped>\n",
       "    .dataframe tbody tr th:only-of-type {\n",
       "        vertical-align: middle;\n",
       "    }\n",
       "\n",
       "    .dataframe tbody tr th {\n",
       "        vertical-align: top;\n",
       "    }\n",
       "\n",
       "    .dataframe thead th {\n",
       "        text-align: right;\n",
       "    }\n",
       "</style>\n",
       "<table border=\"1\" class=\"dataframe\">\n",
       "  <thead>\n",
       "    <tr style=\"text-align: right;\">\n",
       "      <th></th>\n",
       "      <th>SK_ID_CURR</th>\n",
       "      <th>TARGET</th>\n",
       "      <th>PERC_ACTIVE_LOANS</th>\n",
       "    </tr>\n",
       "  </thead>\n",
       "  <tbody>\n",
       "    <tr>\n",
       "      <th>0</th>\n",
       "      <td>100002</td>\n",
       "      <td>1</td>\n",
       "      <td>0.25</td>\n",
       "    </tr>\n",
       "    <tr>\n",
       "      <th>1</th>\n",
       "      <td>100003</td>\n",
       "      <td>0</td>\n",
       "      <td>0.25</td>\n",
       "    </tr>\n",
       "    <tr>\n",
       "      <th>2</th>\n",
       "      <td>100004</td>\n",
       "      <td>0</td>\n",
       "      <td>0.00</td>\n",
       "    </tr>\n",
       "    <tr>\n",
       "      <th>3</th>\n",
       "      <td>100006</td>\n",
       "      <td>0</td>\n",
       "      <td>1.00</td>\n",
       "    </tr>\n",
       "    <tr>\n",
       "      <th>4</th>\n",
       "      <td>100007</td>\n",
       "      <td>0</td>\n",
       "      <td>0.00</td>\n",
       "    </tr>\n",
       "  </tbody>\n",
       "</table>\n",
       "</div>"
      ],
      "text/plain": [
       "   SK_ID_CURR  TARGET  PERC_ACTIVE_LOANS\n",
       "0      100002       1               0.25\n",
       "1      100003       0               0.25\n",
       "2      100004       0               0.00\n",
       "3      100006       0               1.00\n",
       "4      100007       0               0.00"
      ]
     },
     "execution_count": 360,
     "metadata": {},
     "output_type": "execute_result"
    }
   ],
   "source": [
    "bureau_merge_train['CREDIT_ACTIVE_BINARY'] = bureau_merge_train.apply(lambda x: check(x.CREDIT_ACTIVE), axis = 1)\n",
    "\n",
    "perc_active_loans = bureau_merge_train.groupby(by = ['SK_ID_CURR', 'TARGET'])['CREDIT_ACTIVE_BINARY'].mean().reset_index()\n",
    "perc_active_loans.columns = ['SK_ID_CURR', 'TARGET','PERC_ACTIVE_LOANS']\n",
    "perc_active_loans.head()"
   ]
  },
  {
   "cell_type": "code",
   "execution_count": 362,
   "id": "b05ec8b2",
   "metadata": {},
   "outputs": [
    {
     "data": {
      "text/plain": [
       "[Text(0.5, 1.0, 'Defaultets')]"
      ]
     },
     "execution_count": 362,
     "metadata": {},
     "output_type": "execute_result"
    },
    {
     "data": {
      "image/png": "[encoded data removed]",
      "text/plain": [
       "<Figure size 936x360 with 2 Axes>"
      ]
     },
     "metadata": {
      "needs_background": "light"
     },
     "output_type": "display_data"
    }
   ],
   "source": [
    "fig, ax = plt.subplots(1,2, figsize = (13,5))\n",
    "sns.histplot(perc_active_loans[perc_active_loans['TARGET'] == 0]['PERC_ACTIVE_LOANS'], ax = ax[0], bins = 10).set(title = 'Non Defaultets')\n",
    "sns.histplot(perc_active_loans[perc_active_loans['TARGET'] == 1]['PERC_ACTIVE_LOANS'], ax = ax[1], bins = 10).set(title = 'Defaultets')\n",
    "\n"
   ]
  },
  {
   "cell_type": "markdown",
   "id": "9a82772c",
   "metadata": {},
   "source": [
    "#### Comment:\n",
    "- We see the different points at 0.2, 0.5 between target of 0 and 1\n"
   ]
  },
  {
   "cell_type": "code",
   "execution_count": 381,
   "id": "6fecef8d",
   "metadata": {},
   "outputs": [
    {
     "data": {
      "text/plain": [
       "<Figure size 720x576 with 0 Axes>"
      ]
     },
     "metadata": {},
     "output_type": "display_data"
    },
    {
     "data": {
      "image/png": "[encoded data removed]",
      "text/plain": [
       "<Figure size 360x360 with 1 Axes>"
      ]
     },
     "metadata": {
      "needs_background": "light"
     },
     "output_type": "display_data"
    }
   ],
   "source": [
    "plt.figure(figsize=(10,8))\n",
    "sns.displot(perc_active_loans.PERC_ACTIVE_LOANS)\n",
    "plt.show()"
   ]
  },
  {
   "cell_type": "markdown",
   "id": "a28237ea",
   "metadata": {},
   "source": [
    "#### The percentage of loans per customer (enddate of the loans are < 0 or > 0)\n",
    "- DAY_CREDIT_ENDDATE > 0: The due is not met yet (future) --> good\n",
    "- DAY_CREDIT_ENDDATE < 0: overdue --> bad"
   ]
  },
  {
   "cell_type": "code",
   "execution_count": 375,
   "id": "385e6c04",
   "metadata": {},
   "outputs": [],
   "source": [
    "def check1(x):\n",
    "    if x < 0:\n",
    "        y = 0\n",
    "    else: y = 1\n",
    "    return y"
   ]
  },
  {
   "cell_type": "code",
   "execution_count": 376,
   "id": "1c6def70",
   "metadata": {},
   "outputs": [
    {
     "data": {
      "text/html": [
       "<div>\n",
       "<style scoped>\n",
       "    .dataframe tbody tr th:only-of-type {\n",
       "        vertical-align: middle;\n",
       "    }\n",
       "\n",
       "    .dataframe tbody tr th {\n",
       "        vertical-align: top;\n",
       "    }\n",
       "\n",
       "    .dataframe thead th {\n",
       "        text-align: right;\n",
       "    }\n",
       "</style>\n",
       "<table border=\"1\" class=\"dataframe\">\n",
       "  <thead>\n",
       "    <tr style=\"text-align: right;\">\n",
       "      <th></th>\n",
       "      <th>SK_ID_CURR</th>\n",
       "      <th>TARGET</th>\n",
       "      <th>BUREAU_CREDIT_ENDDATE_PERCENTAGE</th>\n",
       "    </tr>\n",
       "  </thead>\n",
       "  <tbody>\n",
       "    <tr>\n",
       "      <th>0</th>\n",
       "      <td>100002</td>\n",
       "      <td>1</td>\n",
       "      <td>0.625</td>\n",
       "    </tr>\n",
       "    <tr>\n",
       "      <th>1</th>\n",
       "      <td>100003</td>\n",
       "      <td>0</td>\n",
       "      <td>0.250</td>\n",
       "    </tr>\n",
       "    <tr>\n",
       "      <th>2</th>\n",
       "      <td>100004</td>\n",
       "      <td>0</td>\n",
       "      <td>0.000</td>\n",
       "    </tr>\n",
       "    <tr>\n",
       "      <th>3</th>\n",
       "      <td>100006</td>\n",
       "      <td>0</td>\n",
       "      <td>1.000</td>\n",
       "    </tr>\n",
       "    <tr>\n",
       "      <th>4</th>\n",
       "      <td>100007</td>\n",
       "      <td>0</td>\n",
       "      <td>0.000</td>\n",
       "    </tr>\n",
       "  </tbody>\n",
       "</table>\n",
       "</div>"
      ],
      "text/plain": [
       "   SK_ID_CURR  TARGET  BUREAU_CREDIT_ENDDATE_PERCENTAGE\n",
       "0      100002       1                             0.625\n",
       "1      100003       0                             0.250\n",
       "2      100004       0                             0.000\n",
       "3      100006       0                             1.000\n",
       "4      100007       0                             0.000"
      ]
     },
     "execution_count": 376,
     "metadata": {},
     "output_type": "execute_result"
    }
   ],
   "source": [
    "bureau_merge_train['BUREAU_CREDIT_ENDDATE_BINARY'] = bureau_merge_train['DAYS_CREDIT_ENDDATE']\n",
    "bureau_merge_train['BUREAU_CREDIT_ENDDATE_BINARY'] = bureau_merge_train.apply(lambda x: check1(x.DAYS_CREDIT_ENDDATE),axis = 1)\n",
    "df4 = bureau_merge_train.groupby(by = ['SK_ID_CURR', 'TARGET'])['BUREAU_CREDIT_ENDDATE_BINARY'].mean().reset_index()\n",
    "df4.columns = ['SK_ID_CURR', 'TARGET','BUREAU_CREDIT_ENDDATE_PERCENTAGE']\n",
    "df4.head()"
   ]
  },
  {
   "cell_type": "code",
   "execution_count": 377,
   "id": "e0929658",
   "metadata": {},
   "outputs": [
    {
     "data": {
      "text/plain": [
       "[Text(0.5, 1.0, 'Defaultets')]"
      ]
     },
     "execution_count": 377,
     "metadata": {},
     "output_type": "execute_result"
    },
    {
     "data": {
      "image/png": "[encoded data removed]",
      "text/plain": [
       "<Figure size 936x360 with 2 Axes>"
      ]
     },
     "metadata": {
      "needs_background": "light"
     },
     "output_type": "display_data"
    }
   ],
   "source": [
    "fig, ax = plt.subplots(1,2, figsize = (13,5))\n",
    "sns.histplot(df4[df4['TARGET'] == 0]['BUREAU_CREDIT_ENDDATE_PERCENTAGE'], ax = ax[0], bins = 10).set(title = 'Non Defaultets')\n",
    "sns.histplot(df4[df4['TARGET'] == 1]['BUREAU_CREDIT_ENDDATE_PERCENTAGE'], ax = ax[1], bins = 10).set(title = 'Defaultets')\n",
    "\n",
    "\n"
   ]
  },
  {
   "cell_type": "code",
   "execution_count": 378,
   "id": "b40291cf",
   "metadata": {},
   "outputs": [
    {
     "data": {
      "text/html": [
       "<div>\n",
       "<style scoped>\n",
       "    .dataframe tbody tr th:only-of-type {\n",
       "        vertical-align: middle;\n",
       "    }\n",
       "\n",
       "    .dataframe tbody tr th {\n",
       "        vertical-align: top;\n",
       "    }\n",
       "\n",
       "    .dataframe thead th {\n",
       "        text-align: right;\n",
       "    }\n",
       "</style>\n",
       "<table border=\"1\" class=\"dataframe\">\n",
       "  <thead>\n",
       "    <tr style=\"text-align: right;\">\n",
       "      <th></th>\n",
       "      <th>SK_ID_CURR</th>\n",
       "      <th>TARGET</th>\n",
       "      <th>BUREAU_CREDIT_ENDDATE_PERCENTAGE</th>\n",
       "    </tr>\n",
       "  </thead>\n",
       "  <tbody>\n",
       "    <tr>\n",
       "      <th>0</th>\n",
       "      <td>100002</td>\n",
       "      <td>1</td>\n",
       "      <td>0.625</td>\n",
       "    </tr>\n",
       "  </tbody>\n",
       "</table>\n",
       "</div>"
      ],
      "text/plain": [
       "   SK_ID_CURR  TARGET  BUREAU_CREDIT_ENDDATE_PERCENTAGE\n",
       "0      100002       1                             0.625"
      ]
     },
     "execution_count": 378,
     "metadata": {},
     "output_type": "execute_result"
    }
   ],
   "source": [
    "df4[df4['SK_ID_CURR'] == 100002]"
   ]
  },
  {
   "cell_type": "code",
   "execution_count": 379,
   "id": "076b3848",
   "metadata": {},
   "outputs": [
    {
     "data": {
      "text/html": [
       "<div>\n",
       "<style scoped>\n",
       "    .dataframe tbody tr th:only-of-type {\n",
       "        vertical-align: middle;\n",
       "    }\n",
       "\n",
       "    .dataframe tbody tr th {\n",
       "        vertical-align: top;\n",
       "    }\n",
       "\n",
       "    .dataframe thead th {\n",
       "        text-align: right;\n",
       "    }\n",
       "</style>\n",
       "<table border=\"1\" class=\"dataframe\">\n",
       "  <thead>\n",
       "    <tr style=\"text-align: right;\">\n",
       "      <th></th>\n",
       "      <th>SK_ID_CURR</th>\n",
       "      <th>TARGET</th>\n",
       "      <th>BUREAU_CREDIT_ENDDATE_PERCENTAGE</th>\n",
       "    </tr>\n",
       "  </thead>\n",
       "  <tbody>\n",
       "    <tr>\n",
       "      <th>1</th>\n",
       "      <td>100003</td>\n",
       "      <td>0</td>\n",
       "      <td>0.25</td>\n",
       "    </tr>\n",
       "  </tbody>\n",
       "</table>\n",
       "</div>"
      ],
      "text/plain": [
       "   SK_ID_CURR  TARGET  BUREAU_CREDIT_ENDDATE_PERCENTAGE\n",
       "1      100003       0                              0.25"
      ]
     },
     "execution_count": 379,
     "metadata": {},
     "output_type": "execute_result"
    }
   ],
   "source": [
    "df4[df4['SK_ID_CURR'] == 100003]"
   ]
  },
  {
   "cell_type": "code",
   "execution_count": 383,
   "id": "e077e0fd",
   "metadata": {},
   "outputs": [
    {
     "data": {
      "text/plain": [
       "<Figure size 720x576 with 0 Axes>"
      ]
     },
     "metadata": {},
     "output_type": "display_data"
    },
    {
     "data": {
      "image/png": "[encoded data removed]",
      "text/plain": [
       "<Figure size 360x360 with 1 Axes>"
      ]
     },
     "metadata": {
      "needs_background": "light"
     },
     "output_type": "display_data"
    }
   ],
   "source": [
    "plt.figure(figsize=(10,8))\n",
    "sns.displot(df4.BUREAU_CREDIT_ENDDATE_PERCENTAGE)\n",
    "plt.show()"
   ]
  },
  {
   "cell_type": "markdown",
   "id": "98c1a2fa",
   "metadata": {},
   "source": [
    "#### Comment:\n",
    "- distribution of percentage is mostly at 0, 0.5, 1"
   ]
  },
  {
   "cell_type": "markdown",
   "id": "6109c599",
   "metadata": {},
   "source": [
    "### Ratio of Total Debt to Total Credit of each customer"
   ]
  },
  {
   "cell_type": "code",
   "execution_count": 403,
   "id": "df464fe2",
   "metadata": {},
   "outputs": [
    {
     "data": {
      "text/html": [
       "<div>\n",
       "<style scoped>\n",
       "    .dataframe tbody tr th:only-of-type {\n",
       "        vertical-align: middle;\n",
       "    }\n",
       "\n",
       "    .dataframe tbody tr th {\n",
       "        vertical-align: top;\n",
       "    }\n",
       "\n",
       "    .dataframe thead th {\n",
       "        text-align: right;\n",
       "    }\n",
       "</style>\n",
       "<table border=\"1\" class=\"dataframe\">\n",
       "  <thead>\n",
       "    <tr style=\"text-align: right;\">\n",
       "      <th></th>\n",
       "      <th>SK_ID_CURR</th>\n",
       "      <th>TARGET</th>\n",
       "      <th>DEBT_TO_CREDIT</th>\n",
       "    </tr>\n",
       "  </thead>\n",
       "  <tbody>\n",
       "    <tr>\n",
       "      <th>0</th>\n",
       "      <td>100002</td>\n",
       "      <td>1</td>\n",
       "      <td>0.284122</td>\n",
       "    </tr>\n",
       "    <tr>\n",
       "      <th>1</th>\n",
       "      <td>100003</td>\n",
       "      <td>0</td>\n",
       "      <td>0.000000</td>\n",
       "    </tr>\n",
       "    <tr>\n",
       "      <th>2</th>\n",
       "      <td>100004</td>\n",
       "      <td>0</td>\n",
       "      <td>0.000000</td>\n",
       "    </tr>\n",
       "    <tr>\n",
       "      <th>3</th>\n",
       "      <td>100006</td>\n",
       "      <td>0</td>\n",
       "      <td>NaN</td>\n",
       "    </tr>\n",
       "    <tr>\n",
       "      <th>4</th>\n",
       "      <td>100007</td>\n",
       "      <td>0</td>\n",
       "      <td>0.000000</td>\n",
       "    </tr>\n",
       "    <tr>\n",
       "      <th>...</th>\n",
       "      <td>...</td>\n",
       "      <td>...</td>\n",
       "      <td>...</td>\n",
       "    </tr>\n",
       "    <tr>\n",
       "      <th>307506</th>\n",
       "      <td>456251</td>\n",
       "      <td>0</td>\n",
       "      <td>NaN</td>\n",
       "    </tr>\n",
       "    <tr>\n",
       "      <th>307507</th>\n",
       "      <td>456252</td>\n",
       "      <td>0</td>\n",
       "      <td>NaN</td>\n",
       "    </tr>\n",
       "    <tr>\n",
       "      <th>307508</th>\n",
       "      <td>456253</td>\n",
       "      <td>0</td>\n",
       "      <td>0.453493</td>\n",
       "    </tr>\n",
       "    <tr>\n",
       "      <th>307509</th>\n",
       "      <td>456254</td>\n",
       "      <td>1</td>\n",
       "      <td>0.000000</td>\n",
       "    </tr>\n",
       "    <tr>\n",
       "      <th>307510</th>\n",
       "      <td>456255</td>\n",
       "      <td>0</td>\n",
       "      <td>0.403721</td>\n",
       "    </tr>\n",
       "  </tbody>\n",
       "</table>\n",
       "<p>307511 rows × 3 columns</p>\n",
       "</div>"
      ],
      "text/plain": [
       "        SK_ID_CURR  TARGET  DEBT_TO_CREDIT\n",
       "0           100002       1        0.284122\n",
       "1           100003       0        0.000000\n",
       "2           100004       0        0.000000\n",
       "3           100006       0             NaN\n",
       "4           100007       0        0.000000\n",
       "...            ...     ...             ...\n",
       "307506      456251       0             NaN\n",
       "307507      456252       0             NaN\n",
       "307508      456253       0        0.453493\n",
       "307509      456254       1        0.000000\n",
       "307510      456255       0        0.403721\n",
       "\n",
       "[307511 rows x 3 columns]"
      ]
     },
     "execution_count": 403,
     "metadata": {},
     "output_type": "execute_result"
    }
   ],
   "source": [
    "debt_to_credit2 = bureau_merge_train[['SK_ID_CURR', 'AMT_CREDIT_SUM']].groupby(by = ['SK_ID_CURR'])['AMT_CREDIT_SUM'].sum().reset_index().rename( index = str, columns = { 'AMT_CREDIT_SUM': 'TOTAL_CUSTOMER_CREDIT'})\n",
    "\n",
    "debt_to_credit1 = bureau_merge_train[['SK_ID_CURR', 'AMT_CREDIT_SUM_DEBT']].groupby(by = ['SK_ID_CURR'])['AMT_CREDIT_SUM_DEBT'].sum().reset_index().rename( index = str, columns = { 'AMT_CREDIT_SUM_DEBT': 'TOTAL_CUSTOMER_DEBT'})\n",
    "\n",
    "bureau_merge_train = bureau_merge_train.merge(debt_to_credit1, on = ['SK_ID_CURR'], how = 'left')\n",
    "bureau_merge_train = bureau_merge_train.merge(debt_to_credit2, on = ['SK_ID_CURR'], how = 'left')\n",
    "del debt_to_credit1, debt_to_credit2\n",
    "\n",
    "\n",
    "bureau_merge_train['DEBT_TO_CREDIT'] = bureau_merge_train['TOTAL_CUSTOMER_DEBT']/bureau_merge_train['TOTAL_CUSTOMER_CREDIT']\n",
    "\n",
    "del bureau_merge_train['TOTAL_CUSTOMER_DEBT'], bureau_merge_train['TOTAL_CUSTOMER_CREDIT']\n",
    "\n",
    "debt_to_credit = bureau_merge_train.groupby(by = ['SK_ID_CURR','TARGET'])['DEBT_TO_CREDIT'].mean().reset_index().rename(index=str)\n",
    "debt_to_credit"
   ]
  },
  {
   "cell_type": "code",
   "execution_count": 401,
   "id": "5494f0c7",
   "metadata": {
    "scrolled": true
   },
   "outputs": [
    {
     "data": {
      "text/plain": [
       "[Text(0.5, 1.0, 'Defaultets')]"
      ]
     },
     "execution_count": 401,
     "metadata": {},
     "output_type": "execute_result"
    },
    {
     "data": {
      "image/png": "[encoded data removed]",
      "text/plain": [
       "<Figure size 936x360 with 2 Axes>"
      ]
     },
     "metadata": {
      "needs_background": "light"
     },
     "output_type": "display_data"
    }
   ],
   "source": [
    "fig, ax = plt.subplots(1,2, figsize = (13,5))\n",
    "sns.histplot(debt_to_credit[debt_to_credit['TARGET'] == 0]['DEBT_TO_CREDIT'], ax = ax[0], bins = 10).set(title = 'Non Defaultets')\n",
    "sns.histplot(debt_to_credit[debt_to_credit['TARGET'] == 1]['DEBT_TO_CREDIT'], ax = ax[1], bins = 10).set(title = 'Defaultets')\n",
    "\n"
   ]
  },
  {
   "cell_type": "markdown",
   "id": "8f17901d",
   "metadata": {},
   "source": [
    "#### Comment:\n",
    "- we see that the ratio of debt to credit of non defaulter is mostly 0, while defaulters share other distribution for bigger value (it means they still have debts)"
   ]
  },
  {
   "cell_type": "markdown",
   "id": "5f73dce9",
   "metadata": {},
   "source": [
    "### Number of Loans Prolonged (gia han)"
   ]
  },
  {
   "cell_type": "code",
   "execution_count": 406,
   "id": "bbe2edfb",
   "metadata": {},
   "outputs": [
    {
     "data": {
      "text/html": [
       "<div>\n",
       "<style scoped>\n",
       "    .dataframe tbody tr th:only-of-type {\n",
       "        vertical-align: middle;\n",
       "    }\n",
       "\n",
       "    .dataframe tbody tr th {\n",
       "        vertical-align: top;\n",
       "    }\n",
       "\n",
       "    .dataframe thead th {\n",
       "        text-align: right;\n",
       "    }\n",
       "</style>\n",
       "<table border=\"1\" class=\"dataframe\">\n",
       "  <thead>\n",
       "    <tr style=\"text-align: right;\">\n",
       "      <th></th>\n",
       "      <th>SK_ID_CURR</th>\n",
       "      <th>AVG_CREDITDAYS_PROLONGED</th>\n",
       "    </tr>\n",
       "  </thead>\n",
       "  <tbody>\n",
       "    <tr>\n",
       "      <th>0</th>\n",
       "      <td>100002</td>\n",
       "      <td>0.000000</td>\n",
       "    </tr>\n",
       "    <tr>\n",
       "      <th>1</th>\n",
       "      <td>100003</td>\n",
       "      <td>0.000000</td>\n",
       "    </tr>\n",
       "    <tr>\n",
       "      <th>2</th>\n",
       "      <td>100004</td>\n",
       "      <td>0.000000</td>\n",
       "    </tr>\n",
       "    <tr>\n",
       "      <th>3</th>\n",
       "      <td>100006</td>\n",
       "      <td>NaN</td>\n",
       "    </tr>\n",
       "    <tr>\n",
       "      <th>4</th>\n",
       "      <td>100007</td>\n",
       "      <td>0.000000</td>\n",
       "    </tr>\n",
       "    <tr>\n",
       "      <th>...</th>\n",
       "      <td>...</td>\n",
       "      <td>...</td>\n",
       "    </tr>\n",
       "    <tr>\n",
       "      <th>307506</th>\n",
       "      <td>456251</td>\n",
       "      <td>NaN</td>\n",
       "    </tr>\n",
       "    <tr>\n",
       "      <th>307507</th>\n",
       "      <td>456252</td>\n",
       "      <td>NaN</td>\n",
       "    </tr>\n",
       "    <tr>\n",
       "      <th>307508</th>\n",
       "      <td>456253</td>\n",
       "      <td>0.000000</td>\n",
       "    </tr>\n",
       "    <tr>\n",
       "      <th>307509</th>\n",
       "      <td>456254</td>\n",
       "      <td>0.000000</td>\n",
       "    </tr>\n",
       "    <tr>\n",
       "      <th>307510</th>\n",
       "      <td>456255</td>\n",
       "      <td>0.090909</td>\n",
       "    </tr>\n",
       "  </tbody>\n",
       "</table>\n",
       "<p>307511 rows × 2 columns</p>\n",
       "</div>"
      ],
      "text/plain": [
       "        SK_ID_CURR  AVG_CREDITDAYS_PROLONGED\n",
       "0           100002                  0.000000\n",
       "1           100003                  0.000000\n",
       "2           100004                  0.000000\n",
       "3           100006                       NaN\n",
       "4           100007                  0.000000\n",
       "...            ...                       ...\n",
       "307506      456251                       NaN\n",
       "307507      456252                       NaN\n",
       "307508      456253                  0.000000\n",
       "307509      456254                  0.000000\n",
       "307510      456255                  0.090909\n",
       "\n",
       "[307511 rows x 2 columns]"
      ]
     },
     "execution_count": 406,
     "metadata": {},
     "output_type": "execute_result"
    }
   ],
   "source": [
    "loan_prolong = bureau_merge_train[['SK_ID_CURR', 'CNT_CREDIT_PROLONG']].groupby(by = ['SK_ID_CURR'])['CNT_CREDIT_PROLONG'].mean().reset_index().rename( index = str, columns = { 'CNT_CREDIT_PROLONG': 'AVG_CREDITDAYS_PROLONGED'})\n",
    "loan_prolong"
   ]
  },
  {
   "cell_type": "code",
   "execution_count": 407,
   "id": "b22b20b4",
   "metadata": {},
   "outputs": [
    {
     "data": {
      "text/plain": [
       "<Figure size 576x432 with 0 Axes>"
      ]
     },
     "metadata": {},
     "output_type": "display_data"
    },
    {
     "data": {
      "image/png": "[encoded data removed]",
      "text/plain": [
       "<Figure size 360x360 with 1 Axes>"
      ]
     },
     "metadata": {
      "needs_background": "light"
     },
     "output_type": "display_data"
    }
   ],
   "source": [
    "plt.figure(figsize=(8,6))\n",
    "sns.displot(loan_prolong.AVG_CREDITDAYS_PROLONGED)\n",
    "plt.show()"
   ]
  },
  {
   "cell_type": "markdown",
   "id": "8c31c789",
   "metadata": {},
   "source": [
    "## 2. Bureau_Blance"
   ]
  },
  {
   "cell_type": "code",
   "execution_count": 286,
   "id": "60a5cc3e",
   "metadata": {},
   "outputs": [
    {
     "data": {
      "text/html": [
       "<div>\n",
       "<style scoped>\n",
       "    .dataframe tbody tr th:only-of-type {\n",
       "        vertical-align: middle;\n",
       "    }\n",
       "\n",
       "    .dataframe tbody tr th {\n",
       "        vertical-align: top;\n",
       "    }\n",
       "\n",
       "    .dataframe thead th {\n",
       "        text-align: right;\n",
       "    }\n",
       "</style>\n",
       "<table border=\"1\" class=\"dataframe\">\n",
       "  <thead>\n",
       "    <tr style=\"text-align: right;\">\n",
       "      <th></th>\n",
       "      <th>SK_ID_BUREAU</th>\n",
       "      <th>MONTHS_BALANCE</th>\n",
       "      <th>STATUS</th>\n",
       "    </tr>\n",
       "  </thead>\n",
       "  <tbody>\n",
       "    <tr>\n",
       "      <th>0</th>\n",
       "      <td>5715448</td>\n",
       "      <td>0</td>\n",
       "      <td>C</td>\n",
       "    </tr>\n",
       "    <tr>\n",
       "      <th>1</th>\n",
       "      <td>5715448</td>\n",
       "      <td>-1</td>\n",
       "      <td>C</td>\n",
       "    </tr>\n",
       "    <tr>\n",
       "      <th>2</th>\n",
       "      <td>5715448</td>\n",
       "      <td>-2</td>\n",
       "      <td>C</td>\n",
       "    </tr>\n",
       "    <tr>\n",
       "      <th>3</th>\n",
       "      <td>5715448</td>\n",
       "      <td>-3</td>\n",
       "      <td>C</td>\n",
       "    </tr>\n",
       "    <tr>\n",
       "      <th>4</th>\n",
       "      <td>5715448</td>\n",
       "      <td>-4</td>\n",
       "      <td>C</td>\n",
       "    </tr>\n",
       "  </tbody>\n",
       "</table>\n",
       "</div>"
      ],
      "text/plain": [
       "   SK_ID_BUREAU  MONTHS_BALANCE STATUS\n",
       "0       5715448               0      C\n",
       "1       5715448              -1      C\n",
       "2       5715448              -2      C\n",
       "3       5715448              -3      C\n",
       "4       5715448              -4      C"
      ]
     },
     "execution_count": 286,
     "metadata": {},
     "output_type": "execute_result"
    }
   ],
   "source": [
    "bureau_balance.head()"
   ]
  },
  {
   "cell_type": "code",
   "execution_count": 287,
   "id": "1b8cbb18",
   "metadata": {},
   "outputs": [
    {
     "data": {
      "text/plain": [
       "(27299925, 3)"
      ]
     },
     "execution_count": 287,
     "metadata": {},
     "output_type": "execute_result"
    }
   ],
   "source": [
    "bureau_balance.shape"
   ]
  },
  {
   "cell_type": "code",
   "execution_count": 288,
   "id": "bbb899d2",
   "metadata": {},
   "outputs": [
    {
     "data": {
      "text/plain": [
       "Index(['SK_ID_BUREAU', 'MONTHS_BALANCE', 'STATUS'], dtype='object')"
      ]
     },
     "execution_count": 288,
     "metadata": {},
     "output_type": "execute_result"
    }
   ],
   "source": [
    "bureau_balance.columns"
   ]
  },
  {
   "attachments": {},
   "cell_type": "markdown",
   "id": "59bbf338",
   "metadata": {},
   "source": [
    "### 2.1 Status\n",
    "Status of Credit Bureau loan during the month (active, closed, DPD0-30,Ö [C means closed, X means status unknown, 0 means no DPD, 1 means maximal did during month between 1-30, 2 means DPD 31-60,Ö 5 means DPD 120+ or sold or written off ] )\t"
   ]
  },
  {
   "cell_type": "code",
   "execution_count": 289,
   "id": "3349682e",
   "metadata": {},
   "outputs": [
    {
     "data": {
      "text/plain": [
       "C    13646993\n",
       "0     7499507\n",
       "X     5810482\n",
       "1      242347\n",
       "5       62406\n",
       "2       23419\n",
       "3        8924\n",
       "4        5847\n",
       "Name: STATUS, dtype: int64"
      ]
     },
     "execution_count": 289,
     "metadata": {},
     "output_type": "execute_result"
    }
   ],
   "source": [
    "bureau_balance['STATUS'].value_counts()"
   ]
  },
  {
   "cell_type": "code",
   "execution_count": 290,
   "id": "f853ba71",
   "metadata": {
    "scrolled": true
   },
   "outputs": [
    {
     "data": {
      "image/png": "[encoded data removed]",
      "text/plain": [
       "<Figure size 432x288 with 1 Axes>"
      ]
     },
     "metadata": {
      "needs_background": "light"
     },
     "output_type": "display_data"
    }
   ],
   "source": [
    "status_dict = dict(bureau_balance['STATUS'].value_counts())\n",
    "status_dict\n",
    "\n",
    "sorted_status_dict = dict(sorted(status_dict.items(), key = lambda kv :kv[1],reverse = True))\n",
    "ind_2 = np.arange(len(sorted_status_dict))\n",
    "\n",
    "p1 = plt.bar(ind_2, list(sorted_status_dict.values()), color = 'blue')\n",
    "\n",
    "plt.ylabel('Counts of loans')\n",
    "plt.title('Distribution of Status in the Bureau')\n",
    "plt.xticks(ind_2, list(sorted_status_dict.keys()), rotation = 90)\n",
    "plt.show()"
   ]
  },
  {
   "cell_type": "markdown",
   "id": "b4a06ebe",
   "metadata": {},
   "source": [
    "#### Comment:\n",
    "- Most of the loans are closed in the Credit Bureau, which is followed by clients with 0 DPD and then by applicants whose status is unknown\n",
    "- We can conclude that there are very few annuity defaulters in the data"
   ]
  },
  {
   "cell_type": "code",
   "execution_count": null,
   "id": "79163db9",
   "metadata": {},
   "outputs": [],
   "source": []
  },
  {
   "cell_type": "code",
   "execution_count": null,
   "id": "372f575e",
   "metadata": {},
   "outputs": [],
   "source": []
  },
  {
   "cell_type": "code",
   "execution_count": null,
   "id": "6cd76f37",
   "metadata": {},
   "outputs": [],
   "source": []
  },
  {
   "cell_type": "code",
   "execution_count": null,
   "id": "5a60345b",
   "metadata": {},
   "outputs": [],
   "source": []
  },
  {
   "cell_type": "code",
   "execution_count": null,
   "id": "7441cffe",
   "metadata": {},
   "outputs": [],
   "source": []
  },
  {
   "cell_type": "code",
   "execution_count": null,
   "id": "ef36fe1e",
   "metadata": {},
   "outputs": [],
   "source": []
  },
  {
   "cell_type": "code",
   "execution_count": null,
   "id": "b54fbeec",
   "metadata": {},
   "outputs": [],
   "source": []
  },
  {
   "cell_type": "code",
   "execution_count": null,
   "id": "bff3d3bb",
   "metadata": {},
   "outputs": [],
   "source": []
  },
  {
   "cell_type": "code",
   "execution_count": null,
   "id": "d3f572c7",
   "metadata": {},
   "outputs": [],
   "source": []
  },
  {
   "cell_type": "code",
   "execution_count": null,
   "id": "3e65df27",
   "metadata": {},
   "outputs": [],
   "source": []
  },
  {
   "cell_type": "code",
   "execution_count": null,
   "id": "4d866f28",
   "metadata": {},
   "outputs": [],
   "source": []
  },
  {
   "cell_type": "code",
   "execution_count": null,
   "id": "8b346056",
   "metadata": {},
   "outputs": [],
   "source": []
  },
  {
   "cell_type": "code",
   "execution_count": null,
   "id": "06822634",
   "metadata": {},
   "outputs": [],
   "source": []
  }
 ],
 "metadata": {
  "kernelspec": {
   "display_name": "Python 3 (ipykernel)",
   "language": "python",
   "name": "python3"
  },
  "language_info": {
   "codemirror_mode": {
    "name": "ipython",
    "version": 3
   },
   "file_extension": ".py",
   "mimetype": "text/x-python",
   "name": "python",
   "nbconvert_exporter": "python",
   "pygments_lexer": "ipython3",
   "version": "3.9.7"
  }
 },
 "nbformat": 4,
 "nbformat_minor": 5
}
